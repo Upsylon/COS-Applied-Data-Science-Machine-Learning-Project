{
 "cells": [
  {
   "cell_type": "markdown",
   "metadata": {},
   "source": [
    "# Capstone Project - Guess the Game!  \n",
    "By Grandadam Patrik"
   ]
  },
  {
   "cell_type": "code",
   "execution_count": 2,
   "metadata": {},
   "outputs": [],
   "source": [
    "from datetime import datetime\n",
    "from datetime import date\n",
    "%matplotlib inline\n",
    "import matplotlib\n",
    "import matplotlib.pyplot as plt\n",
    "import seaborn as sns\n",
    "import time\n",
    "import pandas as pd\n",
    "import numpy as np\n",
    "import berserk\n",
    "import chess\n",
    "import chess.variant\n",
    "import chess.svg\n",
    "import sys\n",
    "import os\n",
    "from itertools import chain\n",
    "import random\n",
    "from sklearn.decomposition import PCA\n",
    "from sklearn.preprocessing import StandardScaler\n",
    "import matplotlib.patheffects as path_effects\n",
    "import warnings"
   ]
  },
  {
   "cell_type": "code",
   "execution_count": 3,
   "metadata": {},
   "outputs": [],
   "source": [
    "#session = berserk.TokenSession('eKHJ25gapbL9xpQq')\n",
    "# client = berserk.Client(session=session)\n",
    "client = berserk.Client()"
   ]
  },
  {
   "cell_type": "code",
   "execution_count": 4,
   "metadata": {},
   "outputs": [
    {
     "data": {
      "text/plain": [
       "['bullet',\n",
       " 'blitz',\n",
       " 'rapid',\n",
       " 'classical',\n",
       " 'ultraBullet',\n",
       " 'crazyhouse',\n",
       " 'chess960',\n",
       " 'kingOfTheHill',\n",
       " 'threeCheck',\n",
       " 'antichess',\n",
       " 'atomic',\n",
       " 'horde',\n",
       " 'racingKings']"
      ]
     },
     "execution_count": 4,
     "metadata": {},
     "output_type": "execute_result"
    }
   ],
   "source": [
    "variants = client.users.get_all_top_10()\n",
    "variants = list(variants)\n",
    "variants"
   ]
  },
  {
   "cell_type": "code",
   "execution_count": 5,
   "metadata": {},
   "outputs": [],
   "source": [
    "# removing variants not of interest\n",
    "variants.remove('rapid')\n",
    "variants.remove('classical')\n",
    "variants.remove('bullet')\n",
    "variants.remove('ultraBullet')"
   ]
  },
  {
   "cell_type": "code",
   "execution_count": 6,
   "metadata": {},
   "outputs": [
    {
     "data": {
      "text/plain": [
       "['blitz',\n",
       " 'crazyhouse',\n",
       " 'chess960',\n",
       " 'kingOfTheHill',\n",
       " 'threeCheck',\n",
       " 'antichess',\n",
       " 'atomic',\n",
       " 'horde',\n",
       " 'racingKings']"
      ]
     },
     "execution_count": 6,
     "metadata": {},
     "output_type": "execute_result"
    }
   ],
   "source": [
    "variants"
   ]
  },
  {
   "cell_type": "markdown",
   "metadata": {},
   "source": [
    "### Creating the base of games to be analyzed"
   ]
  },
  {
   "cell_type": "code",
   "execution_count": 7,
   "metadata": {},
   "outputs": [],
   "source": [
    "# Creating a dictionnary of tournaments from which we are going to extract the games \n",
    "# key = variant\n",
    "# value = id of the tournament (that will be used to extract the games)\n",
    "tournaments = {\n",
    "    'blitz': 'ifQ9TCih', \n",
    "    'crazyhouse': 'KRJmUfvH', ##\n",
    "    'chess960': 'WKJDu74q',\n",
    "    'kingOfTheHill': 'nUayLau9',\n",
    "    'threeCheck': 'RKVWFUcH',\n",
    "    'antichess': 'B78NA5ij', \n",
    "    'atomic': 'hPWUVAAC', \n",
    "    'horde': 'cTfMulCY',\n",
    "    'racingKings': 'gDpG4byN'\n",
    "}"
   ]
  },
  {
   "cell_type": "raw",
   "metadata": {},
   "source": [
    "# looping over the list of tournaments and saving the files locally\n",
    "for key in tournaments:\n",
    "    games = list(client.tournaments.export_games(tournaments[key]))\n",
    "    np.savez(key+'.npz', games = games)"
   ]
  },
  {
   "cell_type": "code",
   "execution_count": 8,
   "metadata": {},
   "outputs": [],
   "source": [
    "saved_games = []\n",
    "for key in tournaments:\n",
    "    with np.load(os.path.join(key+'.npz'), allow_pickle=True) as npz_file:\n",
    "        saved_games.append(dict(npz_file.items())['games'].tolist())"
   ]
  },
  {
   "cell_type": "code",
   "execution_count": 9,
   "metadata": {},
   "outputs": [
    {
     "name": "stdout",
     "output_type": "stream",
     "text": [
      "42490 games in the variant blitz (code of tournament: ifQ9TCih )\n",
      "7164 games in the variant crazyhouse (code of tournament: OwBEn5yb )\n",
      "17366 games in the variant chess960 (code of tournament: WKJDu74q )\n",
      "6621 games in the variant kingOfTheHill (code of tournament: nUayLau9 )\n",
      "14355 games in the variant threeCheck (code of tournament: RKVWFUcH )\n",
      "14500 games in the variant antichess (code of tournament: B78NA5ij )\n",
      "16675 games in the variant atomic (code of tournament: hPWUVAAC )\n",
      "7690 games in the variant horde (code of tournament: cTfMulCY )\n",
      "7539 games in the variant racingKings (code of tournament: gDpG4byN )\n"
     ]
    }
   ],
   "source": [
    "for i in np.arange(0, len(saved_games)):\n",
    "    print(len(saved_games[i]), \"games in the variant\", list(tournaments.keys())[i], \"(code of tournament:\", list(tournaments.values())[i], \")\")"
   ]
  },
  {
   "cell_type": "code",
   "execution_count": 10,
   "metadata": {},
   "outputs": [
    {
     "name": "stdout",
     "output_type": "stream",
     "text": [
      "variant: blitz ; replaced games: [0, 128, 137, 144, 157, 244, 278, 310, 418, 434, 584, 645, 702, 706, 803, 885, 886, 926, 1089, 1106, 1143, 1238, 1248, 1292, 1351, 1358, 1427, 1456, 1495, 1569, 1575, 1578, 1618, 1622, 1624, 1668, 1723, 1816, 1899, 1918, 1977, 1986, 2038, 2064, 2085, 2122, 2201, 2249, 2282, 2295, 2366, 2391, 2459, 2493, 2609, 2668, 2687, 2740, 2814, 2933, 2981, 3003, 3026, 3045, 3119, 3139, 3314, 3329, 3337, 3381, 3387, 3411, 3467, 3473, 3551, 3576, 3582, 3662, 3699, 3701, 3770, 3805, 3854, 4021, 4028, 4101, 4109, 4113, 4120, 4126, 4240, 4515, 4523, 4605, 4614, 4617, 4633, 4787, 4911, 244, 278, 706, 3337, 4605] ; new games: 104\n",
      "variant: crazyhouse ; replaced games: [8, 12, 14, 39, 62, 86, 93, 114, 166, 220, 248, 290, 373, 460, 491, 520, 530, 532, 549, 555, 626, 655, 712, 717, 727, 728, 767, 770, 784, 792, 924, 933, 1023, 1024, 1106, 1135, 1140, 1143, 1221, 1262, 1287, 1292, 1310, 1355, 1375, 1554, 1635, 1712, 1774, 1782, 1800, 1805, 1954, 2032, 2053, 2096, 2108, 2128, 2147, 2197, 2312, 2313, 2356, 2379, 2414, 2428, 2454, 2488, 2496, 2518, 2560, 2573, 2609, 2633, 2658, 2722, 2728, 2734, 2746, 2752, 2756, 2774, 2785, 2800, 2828, 2872, 2889, 2906, 2924, 2926, 2935, 2944, 2978, 3062, 3098, 3099, 3188, 3245, 3259, 3294, 3306, 3317, 3334, 3409, 3413, 3417, 3429, 3456, 3475, 3546, 3556, 3613, 3673, 3739, 3759, 3808, 3818, 3826, 3884, 3958, 3984, 3987, 4008, 4014, 4020, 4025, 4071, 4075, 4131, 4143, 4154, 4220, 4261, 4280, 4380, 4408, 4421, 4442, 4462, 4465, 4505, 4549, 4586, 4591, 4649, 4655, 4701, 4721, 4730, 4748, 4762, 4791, 4794, 4813, 4859, 4864, 4885, 4914, 4964, 4966, 2053] ; new games: 161\n",
      "variant: chess960 ; replaced games: [41, 46, 72, 231, 286, 296, 357, 407, 533, 543, 551, 556, 557, 567, 617, 695, 699, 746, 800, 831, 870, 908, 913, 930, 944, 953, 961, 1068, 1089, 1100, 1128, 1191, 1258, 1297, 1314, 1431, 1535, 1547, 1596, 1630, 1659, 1765, 1793, 1835, 1852, 1861, 1897, 2000, 2038, 2046, 2060, 2091, 2107, 2149, 2158, 2167, 2178, 2232, 2236, 2255, 2391, 2417, 2500, 2501, 2528, 2539, 2559, 2600, 2602, 2615, 2622, 2644, 2702, 2718, 2764, 2782, 2808, 2814, 2825, 2946, 2948, 2958, 3071, 3103, 3121, 3148, 3222, 3241, 3455, 3472, 3478, 3494, 3515, 3524, 3530, 3644, 3672, 3692, 3697, 3749, 3775, 3778, 3802, 3808, 3841, 3947, 3987, 3997, 4007, 4023, 4036, 4068, 4132, 4195, 4292, 4312, 4338, 4340, 4373, 4422, 4424, 4431, 4432, 4448, 4475, 4614, 4620, 4644, 4686, 4726, 4771, 4807, 4815, 4820, 4851, 4901, 4909, 4953, 2158] ; new games: 139\n",
      "variant: kingOfTheHill ; replaced games: [17, 58, 62, 131, 135, 149, 150, 154, 216, 252, 283, 308, 338, 388, 400, 450, 483, 495, 634, 666, 689, 712, 740, 785, 801, 806, 823, 838, 895, 906, 935, 960, 977, 1002, 1047, 1051, 1053, 1058, 1099, 1124, 1156, 1172, 1187, 1318, 1331, 1385, 1404, 1444, 1447, 1476, 1510, 1543, 1567, 1607, 1620, 1670, 1804, 1919, 1924, 1930, 1963, 1969, 1973, 1975, 1989, 1990, 2012, 2066, 2117, 2147, 2221, 2252, 2288, 2310, 2338, 2355, 2404, 2422, 2435, 2504, 2510, 2592, 2680, 2705, 2706, 2738, 2764, 2780, 2791, 2833, 2889, 2909, 2941, 2952, 2977, 3007, 3039, 3166, 3193, 3232, 3234, 3237, 3261, 3266, 3270, 3391, 3405, 3437, 3459, 3530, 3550, 3584, 3682, 3820, 3825, 3827, 3841, 3874, 3875, 3922, 4018, 4027, 4033, 4045, 4046, 4052, 4085, 4099, 4129, 4219, 4252, 4258, 4271, 4315, 4326, 4328, 4339, 4357, 4365, 4421, 4439, 4479, 4492, 4549, 4551, 4566, 4570, 4623, 4624, 4634, 4653, 4656, 4669, 4681, 4701, 4731, 4734, 4755, 4767, 4840, 4916, 4936, 4937, 4940, 4957, 4961, 4963, 4983, 4984, 4988, 4996, 17, 1318, 1804, 2310, 2510] ; new games: 176\n",
      "variant: threeCheck ; replaced games: [6, 13, 15, 40, 201, 278, 283, 312, 339, 340, 341, 342, 407, 426, 446, 528, 561, 645, 703, 705, 715, 735, 757, 778, 852, 962, 976, 979, 1028, 1124, 1145, 1155, 1211, 1234, 1237, 1276, 1345, 1353, 1501, 1535, 1654, 1670, 1715, 1727, 1781, 1813, 1870, 1876, 1921, 1938, 1958, 2049, 2094, 2095, 2191, 2221, 2227, 2228, 2265, 2482, 2575, 2584, 2624, 2691, 2721, 2722, 2738, 2739, 2748, 2749, 2753, 2772, 2806, 2847, 2852, 2886, 2889, 3032, 3033, 3090, 3133, 3135, 3149, 3240, 3361, 3382, 3456, 3572, 3591, 3592, 3596, 3634, 3676, 3701, 3821, 3831, 3936, 4006, 4089, 4147, 4158, 4236, 4248, 4406, 4410, 4495, 4570, 4635, 4724, 4787, 4812, 4828, 4901, 4902, 4910, 4913, 4921, 1028, 4089] ; new games: 119\n",
      "variant: antichess ; replaced games: [16, 104, 131, 164, 196, 251, 371, 431, 442, 446, 450, 467, 574, 579, 603, 613, 634, 663, 670, 672, 706, 722, 744, 885, 956, 970, 1003, 1069, 1077, 1078, 1093, 1122, 1158, 1166, 1167, 1197, 1198, 1203, 1295, 1298, 1308, 1313, 1384, 1386, 1466, 1484, 1537, 1582, 1636, 1694, 1813, 1839, 1851, 1916, 1938, 1939, 1966, 1970, 1972, 1996, 1997, 1998, 2015, 2072, 2079, 2186, 2197, 2221, 2225, 2361, 2370, 2391, 2413, 2476, 2489, 2552, 2554, 2558, 2578, 2590, 2669, 2730, 2754, 2763, 2817, 2822, 2834, 2835, 2859, 2878, 2933, 2938, 3014, 3082, 3115, 3167, 3210, 3330, 3334, 3345, 3350, 3359, 3383, 3444, 3491, 3537, 3598, 3689, 3700, 3706, 3734, 3759, 3772, 3856, 3877, 3926, 3961, 4064, 4118, 4155, 4180, 4188, 4200, 4330, 4386, 4394, 4470, 4494, 4499, 4531, 4572, 4605, 4616, 4628, 4658, 4682, 4689, 4745, 4768, 4778, 4795, 4799, 4829, 4832, 4847, 4859, 4882, 4907, 4909, 4955, 196, 663, 1093, 2669, 3491, 3700] ; new games: 156\n",
      "variant: atomic ; replaced games: [12, 16, 51, 55, 95, 98, 101, 115, 119, 320, 324, 349, 370, 402, 469, 525, 540, 574, 675, 719, 723, 732, 741, 746, 754, 783, 836, 962, 969, 975, 1048, 1093, 1178, 1209, 1266, 1271, 1272, 1289, 1394, 1395, 1472, 1539, 1548, 1577, 1670, 1769, 1808, 1827, 1837, 1855, 1890, 1970, 1983, 2098, 2099, 2176, 2219, 2231, 2295, 2297, 2302, 2357, 2388, 2496, 2549, 2590, 2618, 2648, 2698, 2749, 2803, 2813, 2831, 2916, 2930, 2961, 3058, 3059, 3084, 3174, 3204, 3207, 3230, 3237, 3275, 3377, 3392, 3399, 3430, 3455, 3456, 3463, 3535, 3639, 3674, 3708, 3737, 3763, 3819, 3820, 3824, 3897, 3966, 3983, 4005, 4059, 4078, 4130, 4167, 4234, 4260, 4284, 4292, 4332, 4339, 4388, 4427, 4472, 4585, 4636, 4649, 4658, 4694, 4831, 4866, 4958, 101, 746, 2813, 4694, 4866] ; new games: 131\n",
      "variant: horde ; replaced games: [39, 64, 95, 97, 101, 117, 124, 125, 161, 208, 224, 239, 266, 328, 339, 354, 369, 390, 425, 459, 471, 491, 557, 560, 564, 611, 632, 653, 657, 684, 697, 771, 816, 820, 1010, 1026, 1027, 1032, 1063, 1069, 1110, 1138, 1191, 1201, 1226, 1228, 1302, 1338, 1397, 1408, 1409, 1412, 1419, 1423, 1428, 1432, 1453, 1467, 1498, 1553, 1599, 1605, 1620, 1671, 1692, 1695, 1720, 1735, 1764, 1771, 1827, 1844, 1854, 1861, 1863, 1887, 1925, 1964, 1966, 1986, 2065, 2072, 2081, 2099, 2123, 2126, 2144, 2163, 2181, 2212, 2237, 2278, 2279, 2325, 2327, 2346, 2363, 2374, 2401, 2425, 2440, 2464, 2476, 2518, 2520, 2530, 2553, 2565, 2589, 2598, 2615, 2627, 2661, 2672, 2751, 2776, 2834, 2867, 2898, 2955, 2993, 2996, 3000, 3010, 3011, 3020, 3036, 3048, 3051, 3077, 3084, 3089, 3095, 3115, 3142, 3150, 3178, 3198, 3212, 3218, 3230, 3250, 3269, 3279, 3287, 3288, 3289, 3303, 3398, 3482, 3495, 3496, 3513, 3552, 3556, 3573, 3612, 3647, 3669, 3673, 3677, 3699, 3702, 3725, 3728, 3737, 3744, 3745, 3754, 3765, 3778, 3801, 3805, 3824, 3850, 3858, 3902, 3931, 3970, 3986, 3998, 4006, 4018, 4068, 4205, 4264, 4271, 4320, 4340, 4377, 4406, 4407, 4424, 4439, 4511, 4562, 4565, 4569, 4586, 4592, 4624, 4641, 4644, 4647, 4668, 4676, 4692, 4719, 4724, 4727, 4766, 4784, 4811, 4860, 4863, 4866, 4931, 4952, 4953, 39, 97, 125, 369, 1302, 1925, 2278, 2346, 2661, 4727, 2346, 4727] ; new games: 231\n",
      "variant: racingKings ; replaced games: [4, 5, 10, 19, 26, 28, 41, 65, 114, 118, 136, 179, 183, 192, 214, 225, 229, 233, 256, 260, 269, 270, 281, 289, 300, 309, 315, 326, 337, 383, 394, 409, 422, 427, 432, 455, 461, 472, 479, 499, 514, 517, 523, 527, 532, 538, 551, 584, 592, 595, 611, 621, 638, 656, 661, 675, 712, 713, 717, 721, 735, 736, 743, 748, 749, 758, 760, 784, 789, 803, 813, 814, 820, 827, 844, 848, 854, 862, 870, 872, 879, 886, 887, 897, 902, 915, 928, 931, 934, 938, 943, 950, 951, 956, 967, 976, 978, 981, 1002, 1007, 1011, 1042, 1045, 1047, 1052, 1063, 1064, 1066, 1068, 1071, 1073, 1096, 1114, 1126, 1131, 1146, 1157, 1166, 1173, 1188, 1207, 1210, 1214, 1257, 1273, 1285, 1287, 1306, 1308, 1313, 1328, 1347, 1367, 1380, 1382, 1395, 1402, 1439, 1442, 1459, 1467, 1469, 1497, 1513, 1530, 1563, 1581, 1586, 1602, 1608, 1616, 1626, 1628, 1657, 1658, 1665, 1716, 1719, 1729, 1735, 1737, 1740, 1744, 1759, 1781, 1787, 1790, 1804, 1806, 1809, 1811, 1822, 1836, 1852, 1864, 1866, 1871, 1886, 1913, 1918, 1920, 1927, 1944, 1955, 1962, 1975, 1999, 2013, 2017, 2029, 2065, 2067, 2080, 2081, 2082, 2089, 2103, 2120, 2127, 2138, 2144, 2151, 2156, 2164, 2171, 2177, 2178, 2182, 2188, 2201, 2206, 2230, 2231, 2234, 2249, 2257, 2260, 2273, 2278, 2304, 2306, 2312, 2316, 2326, 2343, 2353, 2371, 2374, 2378, 2400, 2424, 2444, 2445, 2446, 2463, 2474, 2476, 2479, 2497, 2504, 2505, 2511, 2519, 2523, 2541, 2585, 2599, 2641, 2667, 2677, 2683, 2692, 2696, 2697, 2709, 2714, 2718, 2724, 2756, 2760, 2769, 2788, 2802, 2810, 2817, 2829, 2833, 2834, 2837, 2845, 2873, 2876, 2885, 2923, 2954, 2960, 2961, 2963, 2978, 2988, 2995, 2998, 3011, 3021, 3050, 3065, 3091, 3099, 3110, 3121, 3130, 3142, 3148, 3150, 3158, 3161, 3192, 3198, 3203, 3208, 3211, 3225, 3245, 3262, 3273, 3276, 3282, 3284, 3297, 3320, 3333, 3335, 3366, 3368, 3371, 3383, 3392, 3402, 3406, 3415, 3424, 3438, 3460, 3468, 3472, 3482, 3497, 3498, 3501, 3509, 3517, 3559, 3560, 3563, 3576, 3587, 3591, 3595, 3599, 3623, 3625, 3636, 3649, 3653, 3662, 3667, 3681, 3690, 3695, 3698, 3724, 3729, 3730, 3736, 3746, 3759, 3770, 3789, 3797, 3808, 3834, 3894, 3900, 3908, 3912, 3916, 3920, 3928, 3937, 3950, 3953, 3965, 3970, 3976, 3978, 3979, 3994, 4000, 4001, 4006, 4007, 4056, 4065, 4066, 4077, 4100, 4112, 4114, 4119, 4122, 4135, 4146, 4169, 4180, 4181, 4182, 4185, 4188, 4201, 4205, 4206, 4223, 4226, 4240, 4259, 4269, 4289, 4295, 4298, 4301, 4313, 4314, 4339, 4349, 4359, 4370, 4386, 4398, 4400, 4405, 4417, 4419, 4440, 4444, 4449, 4474, 4486, 4504, 4531, 4533, 4544, 4545, 4554, 4570, 4575, 4577, 4582, 4599, 4605, 4608, 4629, 4639, 4673, 4680, 4681, 4711, 4716, 4718, 4726, 4749, 4754, 4755, 4770, 4792, 4800, 4852, 4855, 4869, 4918, 4933, 4935, 4949, 4990, 584, 675, 981, 1047, 1146, 1207, 1306, 1657, 2353, 3121, 3273, 3366, 3368, 3383, 3587, 3649, 3729, 3759, 4301, 4359, 4405, 4417, 4449, 4504, 4599, 4718, 1047] ; new games: 490\n"
     ]
    }
   ],
   "source": [
    "# Selecting 5000 random games from each variant\n",
    "# Challenge: there are some games that are \"aborted\" (one of both players did not make any move)\n",
    "# We want to exclude these games and replace them only by games that have indeed been played.\n",
    "\n",
    "random_games = []\n",
    "random.seed(0)\n",
    "\n",
    "# looping over each variant and picking games\n",
    "for i in range(len(saved_games)):\n",
    "    random_extract = random.sample(saved_games[i][1000:], 5000) # taking randomly 500 different games (from a first subset) \n",
    "    \n",
    "    new_games = []\n",
    "    removed_index = []\n",
    "    k=0\n",
    "    \n",
    "    # checking that the games select have indeed at least 1 move by each player and replacing them if not the case\n",
    "    for loop in range(10): # doing the procedure multiple times to ensure that the replaced games have more than 1 move as well\n",
    "        for j in range(len(random_extract)):\n",
    "            if len(random_extract[j]['moves'].split(' ')) < 2:\n",
    "                random_extract[j] = saved_games[i][k] # replacing the game that has been aborted by a new game       \n",
    "                k += 1 \n",
    "                new_games.append(k)\n",
    "                removed_index.append(j)\n",
    "    random_games.append(random_extract) # appending the random games to our output\n",
    "    print('variant:', variants[i], '; replaced games:', removed_index, '; new games:', max(new_games))"
   ]
  },
  {
   "cell_type": "code",
   "execution_count": 11,
   "metadata": {},
   "outputs": [
    {
     "name": "stdout",
     "output_type": "stream",
     "text": [
      "45000\n"
     ]
    }
   ],
   "source": [
    "all_games = list(chain.from_iterable(random_games))\n",
    "print(len(all_games)) # 1000 games * 9 variants = 9000 games"
   ]
  },
  {
   "cell_type": "code",
   "execution_count": 12,
   "metadata": {},
   "outputs": [],
   "source": [
    "# definition of a function to convert the list of dictionnaries into single list with:  \n",
    "# inputs: the keys representing the \"path\" in the dictionnaries. Ex: players --> white --> user --> id\n",
    "# output: the list of the key of interest\n",
    "\n",
    "def convert_to_list(keys, data=all_games):\n",
    "    \n",
    "    def extract_info(level, data=all_games):\n",
    "        output = []\n",
    "        for i in np.arange(0,len(data)):\n",
    "            try:\n",
    "                output.append(data[i][level])\n",
    "            except:\n",
    "                output.append(None) # show \"None\" if the key is not included in the dictionnary\n",
    "        return output\n",
    "    \n",
    "    if len(keys) == 1:\n",
    "        list_output = extract_info(keys[0], data)\n",
    "    elif len(keys) == 2:\n",
    "        first_level = extract_info(keys[0], data)\n",
    "        list_output = extract_info(keys[1], first_level)\n",
    "    elif len(keys) == 3:\n",
    "        first_level = extract_info(keys[0], data)\n",
    "        second_level = extract_info(keys[1], first_level)\n",
    "        list_output = extract_info(keys[2], second_level)\n",
    "    elif len(keys) == 4:\n",
    "        first_level = extract_info(keys[0], data)\n",
    "        second_level = extract_info(keys[1], first_level)\n",
    "        third_level = extract_info(keys[2], second_level)\n",
    "        list_output = extract_info(keys[3], third_level)\n",
    "    return list_output"
   ]
  },
  {
   "cell_type": "code",
   "execution_count": 13,
   "metadata": {},
   "outputs": [],
   "source": [
    "game_id = convert_to_list(['id'], all_games)\n",
    "variant = convert_to_list(['perf'], all_games)\n",
    "speed = convert_to_list(['speed'], all_games)\n",
    "status = convert_to_list(['status'], all_games)\n",
    "initial_fen = convert_to_list(['initialFen'], all_games)\n",
    "white_id = convert_to_list(['players', 'white', 'user', 'id'], all_games)\n",
    "white_title = convert_to_list(['players', 'white', 'user', 'title'], all_games)\n",
    "white_rating = convert_to_list(['players', 'white', 'rating'], all_games)\n",
    "black_id = convert_to_list(['players', 'black', 'user', 'id'], all_games)\n",
    "black_title = convert_to_list(['players', 'black', 'user', 'title'], all_games)\n",
    "black_rating = convert_to_list(['players', 'black', 'rating'], all_games)\n",
    "winner = convert_to_list(['winner'], all_games)\n",
    "moves = convert_to_list(['moves'], all_games)"
   ]
  },
  {
   "cell_type": "code",
   "execution_count": 14,
   "metadata": {},
   "outputs": [],
   "source": [
    "# extracting position after N moves\n",
    "N = 10\n",
    "first_moves = []\n",
    "for i in range(len(moves)):\n",
    "    moves[i] = moves[i].split(' ') # convert moves to a list of moves to be readable by the chess package\n",
    "    first_moves.append(moves[i][:(N*2)]) # N \"moves\" = N movements for white and N for black = N*2 movements"
   ]
  },
  {
   "cell_type": "code",
   "execution_count": 15,
   "metadata": {},
   "outputs": [],
   "source": [
    "nb_moves = []\n",
    "pos_N = []\n",
    "for game in range(len(first_moves)):  \n",
    "    nb_moves.append(len(first_moves[game])//2) ## number of moves (if only white has played the move N, the move is considered to be played)\n",
    "    if len(first_moves[game]) < N*2-1: \n",
    "        pos_N.append(False) # check if 10 moves have been played\n",
    "    else:\n",
    "        pos_N.append(True) "
   ]
  },
  {
   "cell_type": "code",
   "execution_count": 16,
   "metadata": {},
   "outputs": [],
   "source": [
    "# check if the game has indeed been played (at least each player have played)\n",
    "game_played = []\n",
    "for game in range(len(first_moves)):  \n",
    "    if len(first_moves[game]) < 2:\n",
    "        game_played.append(False)\n",
    "    else:\n",
    "        game_played.append(True)"
   ]
  },
  {
   "cell_type": "code",
   "execution_count": 17,
   "metadata": {},
   "outputs": [
    {
     "data": {
      "text/plain": [
       "0"
      ]
     },
     "execution_count": 17,
     "metadata": {},
     "output_type": "execute_result"
    }
   ],
   "source": [
    "game_played.count(False) # Should be 0: no game with less than 1 move"
   ]
  },
  {
   "cell_type": "code",
   "execution_count": 18,
   "metadata": {},
   "outputs": [],
   "source": [
    "position = [] # creating empty list to store the position after N moves\n",
    "\n",
    "# iterating over the games (represented as sequences of moves)\n",
    "for game in range(len(first_moves)):    \n",
    "   \n",
    "    # initialization of the chess board for each variant\n",
    "    if variant[game] == 'blitz':\n",
    "        board = chess.Board()   \n",
    "    elif variant[game] == 'crazyhouse':   \n",
    "        board = chess.variant.CrazyhouseBoard()\n",
    "    elif variant[game] == 'chess960':\n",
    "        board = chess.Board(initial_fen[game])\n",
    "    elif variant[game] == 'kingOfTheHill':\n",
    "        board = chess.variant.KingOfTheHillBoard()\n",
    "    elif variant[game] == 'threeCheck':\n",
    "        board = chess.variant.ThreeCheckBoard()\n",
    "    elif variant[game] == 'antichess':\n",
    "        board = chess.variant.AntichessBoard()\n",
    "    elif variant[game] == 'atomic':\n",
    "        board = chess.variant.AtomicBoard()\n",
    "    elif variant[game] == 'horde':\n",
    "        board = chess.variant.HordeBoard()\n",
    "    elif variant[game] == 'racingKings':\n",
    "        board = chess.variant.RacingKingsBoard()\n",
    "    \n",
    "    # playing the moves on the board\n",
    "    for move in first_moves[game]:     # iterating over each move of each game\n",
    "        try:\n",
    "            board.push_san(move)    # moving the pieces of the board\n",
    "        except:\n",
    "            pass\n",
    "    position.append(board.board_fen())  # getting the FEN of the positions"
   ]
  },
  {
   "cell_type": "code",
   "execution_count": 19,
   "metadata": {},
   "outputs": [],
   "source": [
    "df = pd.DataFrame({\n",
    "    'game_id': game_id,\n",
    "    'variant': variant,\n",
    "   # 'speed': speed,\n",
    "   # 'white_id': white_id,\n",
    "   # 'white_rating': white_rating,\n",
    "   # 'black_id': black_id,\n",
    "   # 'black_rating': black_rating,\n",
    "   # 'winner': winner,\n",
    "    'first_moves': first_moves,\n",
    "    'nb_moves': nb_moves, \n",
    "    'moves_played_is_N': pos_N,\n",
    "    'game_played': game_played,\n",
    "    'position': position\n",
    "})"
   ]
  },
  {
   "cell_type": "code",
   "execution_count": 20,
   "metadata": {},
   "outputs": [],
   "source": [
    "# a function to check the piece standing on each square of the board\n",
    "# input = chess board ; output = df of shape (1,64)\n",
    "def board_to_df(board):   \n",
    "    squares_dict = {}\n",
    "    for square, square_nb in zip(chess.SQUARE_NAMES, chess.SQUARES): # loop over all squares\n",
    "        try:\n",
    "            squares_dict[f\"{square}\"] = board.piece_at(square_nb).symbol() # check if a piece stands on the square\n",
    "        except:\n",
    "            squares_dict[f\"{square}\"] = \"Empty\"\n",
    "    squares_df = pd.DataFrame(squares_dict, index=[0])\n",
    "    return squares_df"
   ]
  },
  {
   "cell_type": "code",
   "execution_count": 21,
   "metadata": {},
   "outputs": [],
   "source": [
    "# creating a DF containing, for each game, all squares of the board\n",
    "squares = pd.DataFrame()\n",
    "for position in df['position']: # loop over all positions\n",
    "    board_pos = chess.Board(position) # creating Board object\n",
    "    squares = squares.append(board_to_df(board_pos)) # getting the position "
   ]
  },
  {
   "cell_type": "code",
   "execution_count": 22,
   "metadata": {},
   "outputs": [],
   "source": [
    "# appending the squares to the original DF\n",
    "squares.reset_index(drop=True, inplace=True)\n",
    "df.reset_index(drop=True, inplace=True)\n",
    "df = df.join(squares)"
   ]
  },
  {
   "cell_type": "markdown",
   "metadata": {},
   "source": [
    "We start by creating a function for the encoding:  "
   ]
  },
  {
   "cell_type": "code",
   "execution_count": 23,
   "metadata": {},
   "outputs": [],
   "source": [
    "def encode_square(square, df=df):\n",
    "    \n",
    "    encoded_square = pd.DataFrame()\n",
    "    \n",
    "    # creating new columns with the name of the square + the suffix \"_white\". 1 if a White piece stands on the square, 0 otherwise\n",
    "    encoded_square[(square + \"_white\")] = (((df[square]) == 'Q') | ((df[square]) == 'K') | ((df[square]) == 'R') | ((df[square]) == 'N') | ((df[square]) == 'B') | ((df[square]) == 'P')).astype(int)\n",
    "    \n",
    "    suffix = [\"_q\", \"_k\", \"_r\", \"_b\", \"_n\", \"_p\"] # creating the suffix for the encoding that correspond to each pieces\n",
    "\n",
    "    # creating new columns with the name of the square + the suffix for the considered pieces. 1 if the corresponding piece is standing on the square, 0 otherwise\n",
    "    for i in range(len(suffix)):\n",
    "        encoded_square[(square + suffix[i])] = (((df[square]) == suffix[i][-1].upper()) | ((df[square]) == suffix[i][-1])).astype(int)\n",
    "    \n",
    "    return encoded_square"
   ]
  },
  {
   "cell_type": "code",
   "execution_count": 24,
   "metadata": {},
   "outputs": [
    {
     "data": {
      "text/html": [
       "<div>\n",
       "<style scoped>\n",
       "    .dataframe tbody tr th:only-of-type {\n",
       "        vertical-align: middle;\n",
       "    }\n",
       "\n",
       "    .dataframe tbody tr th {\n",
       "        vertical-align: top;\n",
       "    }\n",
       "\n",
       "    .dataframe thead th {\n",
       "        text-align: right;\n",
       "    }\n",
       "</style>\n",
       "<table border=\"1\" class=\"dataframe\">\n",
       "  <thead>\n",
       "    <tr style=\"text-align: right;\">\n",
       "      <th></th>\n",
       "      <th>e5</th>\n",
       "      <th>e5_white</th>\n",
       "      <th>e5_q</th>\n",
       "      <th>e5_k</th>\n",
       "      <th>e5_r</th>\n",
       "      <th>e5_b</th>\n",
       "      <th>e5_n</th>\n",
       "      <th>e5_p</th>\n",
       "    </tr>\n",
       "  </thead>\n",
       "  <tbody>\n",
       "    <tr>\n",
       "      <th>0</th>\n",
       "      <td>N</td>\n",
       "      <td>1</td>\n",
       "      <td>0</td>\n",
       "      <td>0</td>\n",
       "      <td>0</td>\n",
       "      <td>0</td>\n",
       "      <td>1</td>\n",
       "      <td>0</td>\n",
       "    </tr>\n",
       "    <tr>\n",
       "      <th>1</th>\n",
       "      <td>Empty</td>\n",
       "      <td>0</td>\n",
       "      <td>0</td>\n",
       "      <td>0</td>\n",
       "      <td>0</td>\n",
       "      <td>0</td>\n",
       "      <td>0</td>\n",
       "      <td>0</td>\n",
       "    </tr>\n",
       "    <tr>\n",
       "      <th>2</th>\n",
       "      <td>p</td>\n",
       "      <td>0</td>\n",
       "      <td>0</td>\n",
       "      <td>0</td>\n",
       "      <td>0</td>\n",
       "      <td>0</td>\n",
       "      <td>0</td>\n",
       "      <td>1</td>\n",
       "    </tr>\n",
       "    <tr>\n",
       "      <th>3</th>\n",
       "      <td>Empty</td>\n",
       "      <td>0</td>\n",
       "      <td>0</td>\n",
       "      <td>0</td>\n",
       "      <td>0</td>\n",
       "      <td>0</td>\n",
       "      <td>0</td>\n",
       "      <td>0</td>\n",
       "    </tr>\n",
       "    <tr>\n",
       "      <th>4</th>\n",
       "      <td>p</td>\n",
       "      <td>0</td>\n",
       "      <td>0</td>\n",
       "      <td>0</td>\n",
       "      <td>0</td>\n",
       "      <td>0</td>\n",
       "      <td>0</td>\n",
       "      <td>1</td>\n",
       "    </tr>\n",
       "    <tr>\n",
       "      <th>5</th>\n",
       "      <td>p</td>\n",
       "      <td>0</td>\n",
       "      <td>0</td>\n",
       "      <td>0</td>\n",
       "      <td>0</td>\n",
       "      <td>0</td>\n",
       "      <td>0</td>\n",
       "      <td>1</td>\n",
       "    </tr>\n",
       "    <tr>\n",
       "      <th>6</th>\n",
       "      <td>Empty</td>\n",
       "      <td>0</td>\n",
       "      <td>0</td>\n",
       "      <td>0</td>\n",
       "      <td>0</td>\n",
       "      <td>0</td>\n",
       "      <td>0</td>\n",
       "      <td>0</td>\n",
       "    </tr>\n",
       "    <tr>\n",
       "      <th>7</th>\n",
       "      <td>Empty</td>\n",
       "      <td>0</td>\n",
       "      <td>0</td>\n",
       "      <td>0</td>\n",
       "      <td>0</td>\n",
       "      <td>0</td>\n",
       "      <td>0</td>\n",
       "      <td>0</td>\n",
       "    </tr>\n",
       "    <tr>\n",
       "      <th>8</th>\n",
       "      <td>Empty</td>\n",
       "      <td>0</td>\n",
       "      <td>0</td>\n",
       "      <td>0</td>\n",
       "      <td>0</td>\n",
       "      <td>0</td>\n",
       "      <td>0</td>\n",
       "      <td>0</td>\n",
       "    </tr>\n",
       "    <tr>\n",
       "      <th>9</th>\n",
       "      <td>p</td>\n",
       "      <td>0</td>\n",
       "      <td>0</td>\n",
       "      <td>0</td>\n",
       "      <td>0</td>\n",
       "      <td>0</td>\n",
       "      <td>0</td>\n",
       "      <td>1</td>\n",
       "    </tr>\n",
       "  </tbody>\n",
       "</table>\n",
       "</div>"
      ],
      "text/plain": [
       "      e5  e5_white  e5_q  e5_k  e5_r  e5_b  e5_n  e5_p\n",
       "0      N         1     0     0     0     0     1     0\n",
       "1  Empty         0     0     0     0     0     0     0\n",
       "2      p         0     0     0     0     0     0     1\n",
       "3  Empty         0     0     0     0     0     0     0\n",
       "4      p         0     0     0     0     0     0     1\n",
       "5      p         0     0     0     0     0     0     1\n",
       "6  Empty         0     0     0     0     0     0     0\n",
       "7  Empty         0     0     0     0     0     0     0\n",
       "8  Empty         0     0     0     0     0     0     0\n",
       "9      p         0     0     0     0     0     0     1"
      ]
     },
     "execution_count": 24,
     "metadata": {},
     "output_type": "execute_result"
    }
   ],
   "source": [
    "pd.DataFrame(df['e5']).join(encode_square('e5')).head(10)"
   ]
  },
  {
   "cell_type": "code",
   "execution_count": 25,
   "metadata": {},
   "outputs": [],
   "source": [
    "def encode_board(df):\n",
    "    encoded_board = pd.DataFrame()\n",
    "    for sq in chess.SQUARE_NAMES:\n",
    "        encoded_square = encode_square(sq)\n",
    "        encoded_board =  pd.concat([encoded_board, encoded_square], axis=1)\n",
    "    return encoded_board"
   ]
  },
  {
   "cell_type": "code",
   "execution_count": 26,
   "metadata": {},
   "outputs": [
    {
     "data": {
      "text/html": [
       "<div>\n",
       "<style scoped>\n",
       "    .dataframe tbody tr th:only-of-type {\n",
       "        vertical-align: middle;\n",
       "    }\n",
       "\n",
       "    .dataframe tbody tr th {\n",
       "        vertical-align: top;\n",
       "    }\n",
       "\n",
       "    .dataframe thead th {\n",
       "        text-align: right;\n",
       "    }\n",
       "</style>\n",
       "<table border=\"1\" class=\"dataframe\">\n",
       "  <thead>\n",
       "    <tr style=\"text-align: right;\">\n",
       "      <th></th>\n",
       "      <th>a1_white</th>\n",
       "      <th>a1_q</th>\n",
       "      <th>a1_k</th>\n",
       "      <th>a1_r</th>\n",
       "      <th>a1_b</th>\n",
       "      <th>a1_n</th>\n",
       "      <th>a1_p</th>\n",
       "      <th>b1_white</th>\n",
       "      <th>b1_q</th>\n",
       "      <th>b1_k</th>\n",
       "      <th>...</th>\n",
       "      <th>g8_b</th>\n",
       "      <th>g8_n</th>\n",
       "      <th>g8_p</th>\n",
       "      <th>h8_white</th>\n",
       "      <th>h8_q</th>\n",
       "      <th>h8_k</th>\n",
       "      <th>h8_r</th>\n",
       "      <th>h8_b</th>\n",
       "      <th>h8_n</th>\n",
       "      <th>h8_p</th>\n",
       "    </tr>\n",
       "  </thead>\n",
       "  <tbody>\n",
       "    <tr>\n",
       "      <th>0</th>\n",
       "      <td>1</td>\n",
       "      <td>0</td>\n",
       "      <td>0</td>\n",
       "      <td>1</td>\n",
       "      <td>0</td>\n",
       "      <td>0</td>\n",
       "      <td>0</td>\n",
       "      <td>0</td>\n",
       "      <td>0</td>\n",
       "      <td>0</td>\n",
       "      <td>...</td>\n",
       "      <td>0</td>\n",
       "      <td>0</td>\n",
       "      <td>0</td>\n",
       "      <td>0</td>\n",
       "      <td>0</td>\n",
       "      <td>0</td>\n",
       "      <td>0</td>\n",
       "      <td>0</td>\n",
       "      <td>0</td>\n",
       "      <td>0</td>\n",
       "    </tr>\n",
       "    <tr>\n",
       "      <th>1</th>\n",
       "      <td>1</td>\n",
       "      <td>0</td>\n",
       "      <td>0</td>\n",
       "      <td>1</td>\n",
       "      <td>0</td>\n",
       "      <td>0</td>\n",
       "      <td>0</td>\n",
       "      <td>0</td>\n",
       "      <td>0</td>\n",
       "      <td>0</td>\n",
       "      <td>...</td>\n",
       "      <td>0</td>\n",
       "      <td>0</td>\n",
       "      <td>0</td>\n",
       "      <td>0</td>\n",
       "      <td>0</td>\n",
       "      <td>0</td>\n",
       "      <td>0</td>\n",
       "      <td>0</td>\n",
       "      <td>0</td>\n",
       "      <td>0</td>\n",
       "    </tr>\n",
       "    <tr>\n",
       "      <th>2</th>\n",
       "      <td>1</td>\n",
       "      <td>0</td>\n",
       "      <td>0</td>\n",
       "      <td>1</td>\n",
       "      <td>0</td>\n",
       "      <td>0</td>\n",
       "      <td>0</td>\n",
       "      <td>1</td>\n",
       "      <td>0</td>\n",
       "      <td>0</td>\n",
       "      <td>...</td>\n",
       "      <td>0</td>\n",
       "      <td>0</td>\n",
       "      <td>0</td>\n",
       "      <td>0</td>\n",
       "      <td>0</td>\n",
       "      <td>0</td>\n",
       "      <td>0</td>\n",
       "      <td>0</td>\n",
       "      <td>0</td>\n",
       "      <td>0</td>\n",
       "    </tr>\n",
       "    <tr>\n",
       "      <th>3</th>\n",
       "      <td>1</td>\n",
       "      <td>0</td>\n",
       "      <td>0</td>\n",
       "      <td>1</td>\n",
       "      <td>0</td>\n",
       "      <td>0</td>\n",
       "      <td>0</td>\n",
       "      <td>0</td>\n",
       "      <td>0</td>\n",
       "      <td>0</td>\n",
       "      <td>...</td>\n",
       "      <td>0</td>\n",
       "      <td>0</td>\n",
       "      <td>0</td>\n",
       "      <td>0</td>\n",
       "      <td>0</td>\n",
       "      <td>0</td>\n",
       "      <td>0</td>\n",
       "      <td>0</td>\n",
       "      <td>0</td>\n",
       "      <td>0</td>\n",
       "    </tr>\n",
       "    <tr>\n",
       "      <th>4</th>\n",
       "      <td>1</td>\n",
       "      <td>0</td>\n",
       "      <td>0</td>\n",
       "      <td>1</td>\n",
       "      <td>0</td>\n",
       "      <td>0</td>\n",
       "      <td>0</td>\n",
       "      <td>0</td>\n",
       "      <td>0</td>\n",
       "      <td>0</td>\n",
       "      <td>...</td>\n",
       "      <td>0</td>\n",
       "      <td>0</td>\n",
       "      <td>0</td>\n",
       "      <td>0</td>\n",
       "      <td>0</td>\n",
       "      <td>0</td>\n",
       "      <td>0</td>\n",
       "      <td>0</td>\n",
       "      <td>0</td>\n",
       "      <td>0</td>\n",
       "    </tr>\n",
       "  </tbody>\n",
       "</table>\n",
       "<p>5 rows × 448 columns</p>\n",
       "</div>"
      ],
      "text/plain": [
       "   a1_white  a1_q  a1_k  a1_r  a1_b  a1_n  a1_p  b1_white  b1_q  b1_k  ...  \\\n",
       "0         1     0     0     1     0     0     0         0     0     0  ...   \n",
       "1         1     0     0     1     0     0     0         0     0     0  ...   \n",
       "2         1     0     0     1     0     0     0         1     0     0  ...   \n",
       "3         1     0     0     1     0     0     0         0     0     0  ...   \n",
       "4         1     0     0     1     0     0     0         0     0     0  ...   \n",
       "\n",
       "   g8_b  g8_n  g8_p  h8_white  h8_q  h8_k  h8_r  h8_b  h8_n  h8_p  \n",
       "0     0     0     0         0     0     0     0     0     0     0  \n",
       "1     0     0     0         0     0     0     0     0     0     0  \n",
       "2     0     0     0         0     0     0     0     0     0     0  \n",
       "3     0     0     0         0     0     0     0     0     0     0  \n",
       "4     0     0     0         0     0     0     0     0     0     0  \n",
       "\n",
       "[5 rows x 448 columns]"
      ]
     },
     "execution_count": 26,
     "metadata": {},
     "output_type": "execute_result"
    }
   ],
   "source": [
    "encode_board(df).head()"
   ]
  },
  {
   "cell_type": "code",
   "execution_count": 27,
   "metadata": {},
   "outputs": [],
   "source": [
    "def encode_df(df):\n",
    "    df_encoded = pd.concat([df, encode_board(df)], axis=1)\n",
    "    # df_encoded = df_encoded.drop(chess.SQUARE_NAMES, axis = 1) \n",
    "    return df_encoded"
   ]
  },
  {
   "cell_type": "code",
   "execution_count": 28,
   "metadata": {},
   "outputs": [
    {
     "data": {
      "text/plain": [
       "(45000, 519)"
      ]
     },
     "execution_count": 28,
     "metadata": {},
     "output_type": "execute_result"
    }
   ],
   "source": [
    "df = encode_df(df)\n",
    "df.shape"
   ]
  },
  {
   "cell_type": "code",
   "execution_count": 29,
   "metadata": {},
   "outputs": [
    {
     "data": {
      "text/plain": [
       "0"
      ]
     },
     "execution_count": 29,
     "metadata": {},
     "output_type": "execute_result"
    }
   ],
   "source": [
    "df.isnull().sum().sum() # check no missing data"
   ]
  },
  {
   "cell_type": "code",
   "execution_count": 30,
   "metadata": {},
   "outputs": [
    {
     "data": {
      "text/plain": [
       "0"
      ]
     },
     "execution_count": 30,
     "metadata": {},
     "output_type": "execute_result"
    }
   ],
   "source": [
    "df[['game_id']].duplicated().sum() # check that no duplicates"
   ]
  },
  {
   "cell_type": "code",
   "execution_count": 31,
   "metadata": {},
   "outputs": [
    {
     "data": {
      "text/plain": [
       "racingKings      5000\n",
       "kingOfTheHill    5000\n",
       "blitz            5000\n",
       "threeCheck       5000\n",
       "crazyhouse       5000\n",
       "chess960         5000\n",
       "atomic           5000\n",
       "antichess        5000\n",
       "horde            5000\n",
       "Name: variant, dtype: int64"
      ]
     },
     "execution_count": 31,
     "metadata": {},
     "output_type": "execute_result"
    }
   ],
   "source": [
    "df['variant'].value_counts() # check the number of games per variant"
   ]
  },
  {
   "cell_type": "markdown",
   "metadata": {},
   "source": [
    "# Feature engineering & Exploratory Data Analysis (EDA) <a class=\"anchor\" id=\"EDA\"></a>"
   ]
  },
  {
   "cell_type": "code",
   "execution_count": 32,
   "metadata": {},
   "outputs": [],
   "source": [
    "# squares of interest that will be needed in the analysis\n",
    "white_first_row = ['a1', 'b1', 'c1', 'd1', 'e1', 'f1', 'g1', 'h1']\n",
    "black_first_row = ['a8', 'b8', 'c8', 'd8', 'e8', 'f8', 'g8', 'h8']\n",
    "center = ['d4', 'd5', 'e4', 'e5']\n",
    "ext_center = ['c4', 'c5', 'f4', 'f5']\n",
    "third_row_c_f = ['c3', 'c6', 'd3', 'd6', 'e3', 'e6', 'f3', 'f6']\n",
    "b_g_col = ['b3','b4', 'b5', 'b6', 'g3','g4', 'g5', 'g6']\n",
    "knight_squares = ['c3', 'd2', 'e2', 'f3', 'c6', 'd7', 'e7', 'f6']\n",
    "castle_squares = ['g1', 'c1', 'g8', 'c8']"
   ]
  },
  {
   "cell_type": "markdown",
   "metadata": {},
   "source": [
    "We then create the features of interest that will be analyzed. These features result from an iterative process and are the summary of the features that will be included in the model (except specified otherwise later).  \n",
    "Features that have been tested but that did not show a promising output are therefore not presented here.  "
   ]
  },
  {
   "cell_type": "code",
   "execution_count": 33,
   "metadata": {},
   "outputs": [],
   "source": [
    "# counting the material on the board\n",
    "df['nb_R'] = (df[chess.SQUARE_NAMES] == 'R').sum(axis=1)\n",
    "df['nb_r'] = (df[chess.SQUARE_NAMES] == 'r').sum(axis=1)\n",
    "df['nb_N'] = (df[chess.SQUARE_NAMES] == 'N').sum(axis=1)\n",
    "df['nb_n'] = (df[chess.SQUARE_NAMES] == 'n').sum(axis=1)\n",
    "df['nb_B'] = (df[chess.SQUARE_NAMES] == 'B').sum(axis=1)\n",
    "df['nb_b'] = (df[chess.SQUARE_NAMES] == 'b').sum(axis=1)\n",
    "df['nb_Q'] = (df[chess.SQUARE_NAMES] == 'Q').sum(axis=1)\n",
    "df['nb_q'] = (df[chess.SQUARE_NAMES] == 'q').sum(axis=1)\n",
    "df['nb_K'] = (df[chess.SQUARE_NAMES] == 'K').sum(axis=1)\n",
    "df['nb_k'] = (df[chess.SQUARE_NAMES] == 'k').sum(axis=1)\n",
    "df['nb_P'] = (df[chess.SQUARE_NAMES] == 'P').sum(axis=1)\n",
    "df['nb_p'] = (df[chess.SQUARE_NAMES] == 'p').sum(axis=1)\n",
    "\n",
    "# counting the number of captures that have occured in the games\n",
    "def count_captures(list_moves):\n",
    "    count = \"\".join(list_moves).count('x')\n",
    "    return count\n",
    "df['nb_captures'] = df['first_moves'].apply(count_captures)\n",
    "\n",
    "# counting the total \"weight\" of the pieces of each player\n",
    "# using the \"usual\" weights in chess: queen = 9, rook = 5, bishop/knight = 3, pawn = 1\n",
    "df['white_weight'] = df['nb_Q']*9 + df['nb_R']*5 + df['nb_N']*3 + df['nb_B']*3 + df['nb_P'] * 1\n",
    "df['black_weight'] = df['nb_q']*9 + df['nb_r']*5 + df['nb_n']*3 + df['nb_b']*3 + df['nb_p'] * 1\n",
    "df['diff_weight'] = df['white_weight'] - df['black_weight']\n",
    "\n",
    "# counting the number of Kings on their first row\n",
    "df['w_king_1st_row'] = ((df[white_first_row] == 'K')).sum(axis=1)\n",
    "df['b_king_1st_row'] = ((df[black_first_row] == 'k')).sum(axis=1)\n",
    "\n",
    "# counting the pieces on their first row\n",
    "df['w_nb_pieces_1st_row'] = ((df[white_first_row] == 'K') | (df[white_first_row] == 'Q') | (df[white_first_row] == 'R') | (df[white_first_row] == 'B') | (df[white_first_row] == 'N') | (df[white_first_row] == 'P')).sum(axis=1)\n",
    "df['b_nb_pieces_1st_row'] = ((df[black_first_row] == 'k') | (df[black_first_row] == 'q') | (df[black_first_row] == 'r') | (df[black_first_row] == 'b') | (df[black_first_row] == 'n') | (df[black_first_row] == 'p')).sum(axis=1)\n",
    "\n",
    "# creating new features to be inspected: total number of pieces standing on the given squares\n",
    "sq = [center, ext_center, third_row_c_f, b_g_col]\n",
    "sq_names =  [\"center\", \"ext_center\", \"third_row_c_f\", \"b_g_col\"]\n",
    "\n",
    "for square, square_names in zip(sq, sq_names):\n",
    "    df['nb_pieces_'+square_names] = ((df[square] == 'K') | (df[square] == 'Q') | (df[square] == 'R') | (df[square] == 'B') | (df[square] == 'N') | (df[square] == 'k') | (df[square] == 'q') | (df[square] == 'r') | (df[square] == 'b') | (df[square] == 'n') ).sum(axis=1)\n",
    "    df['nb_pawns_'+square_names] = ((df[square] == 'P') | (df[square] == 'p')).sum(axis=1)\n",
    "\n",
    "# counting the knights on typical \"knight squares\"\n",
    "df['knight_squares'] = ((df[knight_squares] == 'N') | (df[knight_squares] == 'n')).sum(axis=1)\n",
    "\n",
    "df['king_castle_squares'] = ((df[castle_squares] == 'K') |  (df[castle_squares] == 'k')).sum(axis=1)\n",
    "\n",
    "# counting the number of checks that have been given in the games\n",
    "def count_checks(list_moves):\n",
    "    count = \"\".join(list_moves).count('+')\n",
    "    return count\n",
    "df['nb_checks'] = df['first_moves'].apply(count_checks)"
   ]
  },
  {
   "cell_type": "markdown",
   "metadata": {},
   "source": [
    "We include these features to a new dataframe that contains all engineered features."
   ]
  },
  {
   "cell_type": "code",
   "execution_count": 34,
   "metadata": {},
   "outputs": [],
   "source": [
    "df_feat_eng = df[['variant', 'nb_moves', \n",
    "           'nb_K', 'nb_Q', 'nb_R', 'nb_B', 'nb_N', 'nb_P',\n",
    "           'nb_k', 'nb_q', 'nb_r', 'nb_b', 'nb_n', 'nb_p',          \n",
    "           'nb_captures', 'w_king_1st_row', 'b_king_1st_row', 'w_nb_pieces_1st_row', 'b_nb_pieces_1st_row',\n",
    "           'nb_pawns_center', 'nb_pawns_ext_center', 'nb_pawns_third_row_c_f', 'nb_pawns_b_g_col',\n",
    "           'nb_pieces_center', 'nb_pieces_ext_center', 'nb_pieces_third_row_c_f', 'nb_pieces_b_g_col',\n",
    "           'knight_squares', 'king_castle_squares', 'nb_checks']]"
   ]
  },
  {
   "cell_type": "code",
   "execution_count": 35,
   "metadata": {},
   "outputs": [],
   "source": [
    "df=df.drop(['white_weight', 'black_weight', 'diff_weight'], axis=1)"
   ]
  },
  {
   "cell_type": "markdown",
   "metadata": {},
   "source": [
    "## \"Engineered\" dataframe <a class=\"anchor\" id=\"engdf\"></a>"
   ]
  },
  {
   "cell_type": "code",
   "execution_count": 36,
   "metadata": {},
   "outputs": [],
   "source": [
    "df_feat_eng.to_pickle('datasets/df_feat_eng_5000')"
   ]
  },
  {
   "cell_type": "code",
   "execution_count": 37,
   "metadata": {},
   "outputs": [],
   "source": [
    "X_eng = df_feat_eng.drop('variant', axis=1)\n",
    "y_eng = df_feat_eng['variant']"
   ]
  },
  {
   "cell_type": "markdown",
   "metadata": {},
   "source": [
    "## \"Augmented\" dataframe <a class=\"anchor\" id=\"augdf\"></a>"
   ]
  },
  {
   "cell_type": "code",
   "execution_count": 38,
   "metadata": {},
   "outputs": [],
   "source": [
    "df_feat_aug = pd.concat([df['variant'], encode_board(df)], axis=1)"
   ]
  },
  {
   "cell_type": "code",
   "execution_count": 39,
   "metadata": {},
   "outputs": [
    {
     "data": {
      "text/html": [
       "<div>\n",
       "<style scoped>\n",
       "    .dataframe tbody tr th:only-of-type {\n",
       "        vertical-align: middle;\n",
       "    }\n",
       "\n",
       "    .dataframe tbody tr th {\n",
       "        vertical-align: top;\n",
       "    }\n",
       "\n",
       "    .dataframe thead th {\n",
       "        text-align: right;\n",
       "    }\n",
       "</style>\n",
       "<table border=\"1\" class=\"dataframe\">\n",
       "  <thead>\n",
       "    <tr style=\"text-align: right;\">\n",
       "      <th></th>\n",
       "      <th>variant</th>\n",
       "      <th>a1_white</th>\n",
       "      <th>a1_q</th>\n",
       "      <th>a1_k</th>\n",
       "      <th>a1_r</th>\n",
       "      <th>a1_b</th>\n",
       "      <th>a1_n</th>\n",
       "      <th>a1_p</th>\n",
       "      <th>b1_white</th>\n",
       "      <th>b1_q</th>\n",
       "      <th>...</th>\n",
       "      <th>g8_b</th>\n",
       "      <th>g8_n</th>\n",
       "      <th>g8_p</th>\n",
       "      <th>h8_white</th>\n",
       "      <th>h8_q</th>\n",
       "      <th>h8_k</th>\n",
       "      <th>h8_r</th>\n",
       "      <th>h8_b</th>\n",
       "      <th>h8_n</th>\n",
       "      <th>h8_p</th>\n",
       "    </tr>\n",
       "  </thead>\n",
       "  <tbody>\n",
       "    <tr>\n",
       "      <th>0</th>\n",
       "      <td>blitz</td>\n",
       "      <td>1</td>\n",
       "      <td>0</td>\n",
       "      <td>0</td>\n",
       "      <td>1</td>\n",
       "      <td>0</td>\n",
       "      <td>0</td>\n",
       "      <td>0</td>\n",
       "      <td>0</td>\n",
       "      <td>0</td>\n",
       "      <td>...</td>\n",
       "      <td>0</td>\n",
       "      <td>0</td>\n",
       "      <td>0</td>\n",
       "      <td>0</td>\n",
       "      <td>0</td>\n",
       "      <td>0</td>\n",
       "      <td>0</td>\n",
       "      <td>0</td>\n",
       "      <td>0</td>\n",
       "      <td>0</td>\n",
       "    </tr>\n",
       "    <tr>\n",
       "      <th>1</th>\n",
       "      <td>blitz</td>\n",
       "      <td>1</td>\n",
       "      <td>0</td>\n",
       "      <td>0</td>\n",
       "      <td>1</td>\n",
       "      <td>0</td>\n",
       "      <td>0</td>\n",
       "      <td>0</td>\n",
       "      <td>0</td>\n",
       "      <td>0</td>\n",
       "      <td>...</td>\n",
       "      <td>0</td>\n",
       "      <td>0</td>\n",
       "      <td>0</td>\n",
       "      <td>0</td>\n",
       "      <td>0</td>\n",
       "      <td>0</td>\n",
       "      <td>0</td>\n",
       "      <td>0</td>\n",
       "      <td>0</td>\n",
       "      <td>0</td>\n",
       "    </tr>\n",
       "    <tr>\n",
       "      <th>2</th>\n",
       "      <td>blitz</td>\n",
       "      <td>1</td>\n",
       "      <td>0</td>\n",
       "      <td>0</td>\n",
       "      <td>1</td>\n",
       "      <td>0</td>\n",
       "      <td>0</td>\n",
       "      <td>0</td>\n",
       "      <td>1</td>\n",
       "      <td>0</td>\n",
       "      <td>...</td>\n",
       "      <td>0</td>\n",
       "      <td>0</td>\n",
       "      <td>0</td>\n",
       "      <td>0</td>\n",
       "      <td>0</td>\n",
       "      <td>0</td>\n",
       "      <td>0</td>\n",
       "      <td>0</td>\n",
       "      <td>0</td>\n",
       "      <td>0</td>\n",
       "    </tr>\n",
       "    <tr>\n",
       "      <th>3</th>\n",
       "      <td>blitz</td>\n",
       "      <td>1</td>\n",
       "      <td>0</td>\n",
       "      <td>0</td>\n",
       "      <td>1</td>\n",
       "      <td>0</td>\n",
       "      <td>0</td>\n",
       "      <td>0</td>\n",
       "      <td>0</td>\n",
       "      <td>0</td>\n",
       "      <td>...</td>\n",
       "      <td>0</td>\n",
       "      <td>0</td>\n",
       "      <td>0</td>\n",
       "      <td>0</td>\n",
       "      <td>0</td>\n",
       "      <td>0</td>\n",
       "      <td>0</td>\n",
       "      <td>0</td>\n",
       "      <td>0</td>\n",
       "      <td>0</td>\n",
       "    </tr>\n",
       "    <tr>\n",
       "      <th>4</th>\n",
       "      <td>blitz</td>\n",
       "      <td>1</td>\n",
       "      <td>0</td>\n",
       "      <td>0</td>\n",
       "      <td>1</td>\n",
       "      <td>0</td>\n",
       "      <td>0</td>\n",
       "      <td>0</td>\n",
       "      <td>0</td>\n",
       "      <td>0</td>\n",
       "      <td>...</td>\n",
       "      <td>0</td>\n",
       "      <td>0</td>\n",
       "      <td>0</td>\n",
       "      <td>0</td>\n",
       "      <td>0</td>\n",
       "      <td>0</td>\n",
       "      <td>0</td>\n",
       "      <td>0</td>\n",
       "      <td>0</td>\n",
       "      <td>0</td>\n",
       "    </tr>\n",
       "  </tbody>\n",
       "</table>\n",
       "<p>5 rows × 449 columns</p>\n",
       "</div>"
      ],
      "text/plain": [
       "  variant  a1_white  a1_q  a1_k  a1_r  a1_b  a1_n  a1_p  b1_white  b1_q  ...  \\\n",
       "0   blitz         1     0     0     1     0     0     0         0     0  ...   \n",
       "1   blitz         1     0     0     1     0     0     0         0     0  ...   \n",
       "2   blitz         1     0     0     1     0     0     0         1     0  ...   \n",
       "3   blitz         1     0     0     1     0     0     0         0     0  ...   \n",
       "4   blitz         1     0     0     1     0     0     0         0     0  ...   \n",
       "\n",
       "   g8_b  g8_n  g8_p  h8_white  h8_q  h8_k  h8_r  h8_b  h8_n  h8_p  \n",
       "0     0     0     0         0     0     0     0     0     0     0  \n",
       "1     0     0     0         0     0     0     0     0     0     0  \n",
       "2     0     0     0         0     0     0     0     0     0     0  \n",
       "3     0     0     0         0     0     0     0     0     0     0  \n",
       "4     0     0     0         0     0     0     0     0     0     0  \n",
       "\n",
       "[5 rows x 449 columns]"
      ]
     },
     "execution_count": 39,
     "metadata": {},
     "output_type": "execute_result"
    }
   ],
   "source": [
    "df_feat_aug.head()"
   ]
  },
  {
   "cell_type": "code",
   "execution_count": 40,
   "metadata": {},
   "outputs": [],
   "source": [
    "df_feat_aug.to_pickle('datasets/df_feat_aug_5000')"
   ]
  },
  {
   "cell_type": "code",
   "execution_count": 41,
   "metadata": {},
   "outputs": [],
   "source": [
    "X_aug = df_feat_aug.drop('variant', axis=1)\n",
    "y_aug = df_feat_aug['variant']"
   ]
  },
  {
   "cell_type": "markdown",
   "metadata": {},
   "source": [
    "## \"Full\" dataframe <a class=\"anchor\" id=\"fulldf\"></a>"
   ]
  },
  {
   "cell_type": "code",
   "execution_count": 42,
   "metadata": {},
   "outputs": [],
   "source": [
    "full_df=pd.concat([df_feat_eng, df_feat_aug.drop('variant', axis=1)], axis=1)"
   ]
  },
  {
   "cell_type": "code",
   "execution_count": 43,
   "metadata": {},
   "outputs": [],
   "source": [
    "full_df.to_pickle('datasets/full_df_5000')"
   ]
  },
  {
   "cell_type": "code",
   "execution_count": 44,
   "metadata": {},
   "outputs": [
    {
     "data": {
      "text/html": [
       "<div>\n",
       "<style scoped>\n",
       "    .dataframe tbody tr th:only-of-type {\n",
       "        vertical-align: middle;\n",
       "    }\n",
       "\n",
       "    .dataframe tbody tr th {\n",
       "        vertical-align: top;\n",
       "    }\n",
       "\n",
       "    .dataframe thead th {\n",
       "        text-align: right;\n",
       "    }\n",
       "</style>\n",
       "<table border=\"1\" class=\"dataframe\">\n",
       "  <thead>\n",
       "    <tr style=\"text-align: right;\">\n",
       "      <th></th>\n",
       "      <th>variant</th>\n",
       "      <th>nb_moves</th>\n",
       "      <th>nb_K</th>\n",
       "      <th>nb_Q</th>\n",
       "      <th>nb_R</th>\n",
       "      <th>nb_B</th>\n",
       "      <th>nb_N</th>\n",
       "      <th>nb_P</th>\n",
       "      <th>nb_k</th>\n",
       "      <th>nb_q</th>\n",
       "      <th>...</th>\n",
       "      <th>g8_b</th>\n",
       "      <th>g8_n</th>\n",
       "      <th>g8_p</th>\n",
       "      <th>h8_white</th>\n",
       "      <th>h8_q</th>\n",
       "      <th>h8_k</th>\n",
       "      <th>h8_r</th>\n",
       "      <th>h8_b</th>\n",
       "      <th>h8_n</th>\n",
       "      <th>h8_p</th>\n",
       "    </tr>\n",
       "  </thead>\n",
       "  <tbody>\n",
       "    <tr>\n",
       "      <th>0</th>\n",
       "      <td>blitz</td>\n",
       "      <td>10</td>\n",
       "      <td>1</td>\n",
       "      <td>1</td>\n",
       "      <td>2</td>\n",
       "      <td>2</td>\n",
       "      <td>2</td>\n",
       "      <td>8</td>\n",
       "      <td>1</td>\n",
       "      <td>1</td>\n",
       "      <td>...</td>\n",
       "      <td>0</td>\n",
       "      <td>0</td>\n",
       "      <td>0</td>\n",
       "      <td>0</td>\n",
       "      <td>0</td>\n",
       "      <td>0</td>\n",
       "      <td>0</td>\n",
       "      <td>0</td>\n",
       "      <td>0</td>\n",
       "      <td>0</td>\n",
       "    </tr>\n",
       "    <tr>\n",
       "      <th>1</th>\n",
       "      <td>blitz</td>\n",
       "      <td>10</td>\n",
       "      <td>1</td>\n",
       "      <td>1</td>\n",
       "      <td>2</td>\n",
       "      <td>2</td>\n",
       "      <td>1</td>\n",
       "      <td>8</td>\n",
       "      <td>1</td>\n",
       "      <td>1</td>\n",
       "      <td>...</td>\n",
       "      <td>0</td>\n",
       "      <td>0</td>\n",
       "      <td>0</td>\n",
       "      <td>0</td>\n",
       "      <td>0</td>\n",
       "      <td>0</td>\n",
       "      <td>0</td>\n",
       "      <td>0</td>\n",
       "      <td>0</td>\n",
       "      <td>0</td>\n",
       "    </tr>\n",
       "    <tr>\n",
       "      <th>2</th>\n",
       "      <td>blitz</td>\n",
       "      <td>10</td>\n",
       "      <td>1</td>\n",
       "      <td>1</td>\n",
       "      <td>2</td>\n",
       "      <td>2</td>\n",
       "      <td>2</td>\n",
       "      <td>7</td>\n",
       "      <td>1</td>\n",
       "      <td>1</td>\n",
       "      <td>...</td>\n",
       "      <td>0</td>\n",
       "      <td>0</td>\n",
       "      <td>0</td>\n",
       "      <td>0</td>\n",
       "      <td>0</td>\n",
       "      <td>0</td>\n",
       "      <td>0</td>\n",
       "      <td>0</td>\n",
       "      <td>0</td>\n",
       "      <td>0</td>\n",
       "    </tr>\n",
       "    <tr>\n",
       "      <th>3</th>\n",
       "      <td>blitz</td>\n",
       "      <td>10</td>\n",
       "      <td>1</td>\n",
       "      <td>1</td>\n",
       "      <td>2</td>\n",
       "      <td>2</td>\n",
       "      <td>2</td>\n",
       "      <td>7</td>\n",
       "      <td>1</td>\n",
       "      <td>1</td>\n",
       "      <td>...</td>\n",
       "      <td>0</td>\n",
       "      <td>0</td>\n",
       "      <td>0</td>\n",
       "      <td>0</td>\n",
       "      <td>0</td>\n",
       "      <td>0</td>\n",
       "      <td>0</td>\n",
       "      <td>0</td>\n",
       "      <td>0</td>\n",
       "      <td>0</td>\n",
       "    </tr>\n",
       "    <tr>\n",
       "      <th>4</th>\n",
       "      <td>blitz</td>\n",
       "      <td>10</td>\n",
       "      <td>1</td>\n",
       "      <td>1</td>\n",
       "      <td>2</td>\n",
       "      <td>2</td>\n",
       "      <td>2</td>\n",
       "      <td>7</td>\n",
       "      <td>1</td>\n",
       "      <td>1</td>\n",
       "      <td>...</td>\n",
       "      <td>0</td>\n",
       "      <td>0</td>\n",
       "      <td>0</td>\n",
       "      <td>0</td>\n",
       "      <td>0</td>\n",
       "      <td>0</td>\n",
       "      <td>0</td>\n",
       "      <td>0</td>\n",
       "      <td>0</td>\n",
       "      <td>0</td>\n",
       "    </tr>\n",
       "  </tbody>\n",
       "</table>\n",
       "<p>5 rows × 478 columns</p>\n",
       "</div>"
      ],
      "text/plain": [
       "  variant  nb_moves  nb_K  nb_Q  nb_R  nb_B  nb_N  nb_P  nb_k  nb_q  ...  \\\n",
       "0   blitz        10     1     1     2     2     2     8     1     1  ...   \n",
       "1   blitz        10     1     1     2     2     1     8     1     1  ...   \n",
       "2   blitz        10     1     1     2     2     2     7     1     1  ...   \n",
       "3   blitz        10     1     1     2     2     2     7     1     1  ...   \n",
       "4   blitz        10     1     1     2     2     2     7     1     1  ...   \n",
       "\n",
       "   g8_b  g8_n  g8_p  h8_white  h8_q  h8_k  h8_r  h8_b  h8_n  h8_p  \n",
       "0     0     0     0         0     0     0     0     0     0     0  \n",
       "1     0     0     0         0     0     0     0     0     0     0  \n",
       "2     0     0     0         0     0     0     0     0     0     0  \n",
       "3     0     0     0         0     0     0     0     0     0     0  \n",
       "4     0     0     0         0     0     0     0     0     0     0  \n",
       "\n",
       "[5 rows x 478 columns]"
      ]
     },
     "execution_count": 44,
     "metadata": {},
     "output_type": "execute_result"
    }
   ],
   "source": [
    "full_df.head()"
   ]
  }
 ],
 "metadata": {
  "kernelspec": {
   "display_name": "Python 3",
   "language": "python",
   "name": "python3"
  },
  "language_info": {
   "codemirror_mode": {
    "name": "ipython",
    "version": 3
   },
   "file_extension": ".py",
   "mimetype": "text/x-python",
   "name": "python",
   "nbconvert_exporter": "python",
   "pygments_lexer": "ipython3",
   "version": "3.6.9"
  }
 },
 "nbformat": 4,
 "nbformat_minor": 4
}
