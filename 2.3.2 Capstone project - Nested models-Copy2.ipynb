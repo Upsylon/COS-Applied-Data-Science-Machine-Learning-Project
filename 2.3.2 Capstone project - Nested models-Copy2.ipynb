{
 "cells": [
  {
   "cell_type": "markdown",
   "metadata": {},
   "source": [
    "# Summary of the methodology and outcomes:  \n",
    "\n",
    "### Outcomes\n",
    "\n",
    "With new groups of variants, the nested strategy still underperforms relative to the SVM ran on the full dataset.  \n",
    "\n",
    "---"
   ]
  },
  {
   "cell_type": "markdown",
   "metadata": {},
   "source": [
    "# Nested Models"
   ]
  },
  {
   "cell_type": "code",
   "execution_count": 1,
   "metadata": {},
   "outputs": [],
   "source": [
    "import pandas as pd\n",
    "import numpy as np\n",
    "import time\n",
    "import matplotlib.pyplot as plt\n",
    "import graphviz\n",
    "from sklearn.model_selection import train_test_split\n",
    "from sklearn.decomposition import PCA\n",
    "from sklearn.cluster import KMeans\n",
    "from sklearn.neighbors import NearestNeighbors\n",
    "from sklearn.neighbors import KNeighborsClassifier\n",
    "from sklearn.preprocessing import StandardScaler\n",
    "from sklearn.pipeline import Pipeline\n",
    "from sklearn.tree import DecisionTreeClassifier\n",
    "from sklearn.tree import export_graphviz\n",
    "from sklearn.linear_model import LogisticRegression\n",
    "from sklearn.ensemble import RandomForestClassifier\n",
    "from sklearn.svm import SVC\n",
    "from sklearn.neural_network import MLPClassifier\n",
    "from sklearn.model_selection import GridSearchCV\n",
    "from sklearn.model_selection import KFold\n",
    "from sklearn.model_selection import cross_validate\n",
    "from sklearn.metrics import classification_report\n",
    "from sklearn.metrics import confusion_matrix\n",
    "from sklearn.metrics import accuracy_score"
   ]
  },
  {
   "cell_type": "code",
   "execution_count": 2,
   "metadata": {},
   "outputs": [],
   "source": [
    "# loading both sets\n",
    "full_df = pd.read_pickle('datasets/full_df')\n",
    "df_feat_eng = pd.read_pickle('datasets/df_feat_eng')"
   ]
  },
  {
   "cell_type": "code",
   "execution_count": 3,
   "metadata": {},
   "outputs": [],
   "source": [
    "variants = ['antichess', 'atomic', 'blitz', 'chess960', 'crazyhouse', 'horde', 'kingOfTheHill', 'racingKings', 'threeCheck']\n",
    "var_grps = ['easy_grp', 'middle_grp', 'hard_grp']\n",
    "\n",
    "easy_grp = ['horde', 'racingKings', 'atomic']\n",
    "middle_grp = ['crazyhouse', 'antichess']\n",
    "hard_grp = [e for e in variants if e not in [item for sublist in [easy_grp, middle_grp] for item in sublist]] # the remaining variants"
   ]
  },
  {
   "cell_type": "code",
   "execution_count": 4,
   "metadata": {},
   "outputs": [],
   "source": [
    "df_feat_eng.loc[df_feat_eng['variant'].isin(easy_grp), 'var_grp'] = 'easy_grp'\n",
    "df_feat_eng.loc[df_feat_eng['variant'].isin(middle_grp), 'var_grp'] = 'middle_grp'\n",
    "df_feat_eng.loc[df_feat_eng['variant'].isin(hard_grp), 'var_grp'] = 'hard_grp'"
   ]
  },
  {
   "cell_type": "code",
   "execution_count": 5,
   "metadata": {},
   "outputs": [
    {
     "data": {
      "text/plain": [
       "hard_grp      4000\n",
       "easy_grp      3000\n",
       "middle_grp    2000\n",
       "Name: var_grp, dtype: int64"
      ]
     },
     "execution_count": 5,
     "metadata": {},
     "output_type": "execute_result"
    }
   ],
   "source": [
    "df_feat_eng['var_grp'].value_counts()"
   ]
  },
  {
   "cell_type": "markdown",
   "metadata": {},
   "source": [
    "# Creating Train/Validation/Test set"
   ]
  },
  {
   "cell_type": "code",
   "execution_count": 6,
   "metadata": {},
   "outputs": [],
   "source": [
    "X_tr, X_te, y_tr, y_te = train_test_split(\n",
    "     df_feat_eng.drop(['var_grp'], axis=1), df_feat_eng['var_grp'], test_size=1/10, random_state=0, stratify =  df_feat_eng['variant'])\n",
    "\n",
    "# X_tr, X_va, y_tr, y_va = train_test_split(\n",
    "#    X_tr, y_tr, test_size=1/4, random_state=1, stratify = y_tr)\n",
    "\n",
    "# cross validation strategy\n",
    "kfold = KFold(\n",
    "    n_splits=5, \n",
    "    random_state=0) "
   ]
  },
  {
   "cell_type": "code",
   "execution_count": 7,
   "metadata": {},
   "outputs": [
    {
     "name": "stdout",
     "output_type": "stream",
     "text": [
      "Shape X_tr: (8100, 30) \n",
      "Shape X_te: (900, 30) \n",
      "Shape y_tr: (8100,) \n",
      "Shape y_te: (900,)\n"
     ]
    }
   ],
   "source": [
    "print(\"Shape X_tr:\" , X_tr.shape, \n",
    "      \"\\nShape X_te:\", X_te.shape,      \n",
    "      \"\\nShape y_tr:\" , y_tr.shape, \n",
    "      \"\\nShape y_te:\" , y_te.shape)"
   ]
  },
  {
   "cell_type": "code",
   "execution_count": 8,
   "metadata": {},
   "outputs": [
    {
     "data": {
      "text/plain": [
       "hard_grp      3600\n",
       "easy_grp      2700\n",
       "middle_grp    1800\n",
       "Name: var_grp, dtype: int64"
      ]
     },
     "execution_count": 8,
     "metadata": {},
     "output_type": "execute_result"
    }
   ],
   "source": [
    "y_tr.value_counts()"
   ]
  },
  {
   "cell_type": "code",
   "execution_count": 9,
   "metadata": {},
   "outputs": [
    {
     "data": {
      "text/plain": [
       "hard_grp      400\n",
       "easy_grp      300\n",
       "middle_grp    200\n",
       "Name: var_grp, dtype: int64"
      ]
     },
     "execution_count": 9,
     "metadata": {},
     "output_type": "execute_result"
    }
   ],
   "source": [
    "y_te.value_counts()"
   ]
  },
  {
   "cell_type": "markdown",
   "metadata": {},
   "source": [
    "We do not use the variant as dependent variable, but the group of variant. We therefore drop the variant for the moment, but save it as we will have to use it later."
   ]
  },
  {
   "cell_type": "code",
   "execution_count": 10,
   "metadata": {},
   "outputs": [],
   "source": [
    "tr_variant = X_tr['variant']\n",
    "X_tr = X_tr.drop(['variant'],axis=1)"
   ]
  },
  {
   "cell_type": "code",
   "execution_count": 11,
   "metadata": {},
   "outputs": [],
   "source": [
    "te_variant = X_te['variant']\n",
    "X_te = X_te.drop(['variant'],axis=1)"
   ]
  },
  {
   "cell_type": "code",
   "execution_count": 12,
   "metadata": {},
   "outputs": [
    {
     "data": {
      "text/html": [
       "<div>\n",
       "<style scoped>\n",
       "    .dataframe tbody tr th:only-of-type {\n",
       "        vertical-align: middle;\n",
       "    }\n",
       "\n",
       "    .dataframe tbody tr th {\n",
       "        vertical-align: top;\n",
       "    }\n",
       "\n",
       "    .dataframe thead th {\n",
       "        text-align: right;\n",
       "    }\n",
       "</style>\n",
       "<table border=\"1\" class=\"dataframe\">\n",
       "  <thead>\n",
       "    <tr style=\"text-align: right;\">\n",
       "      <th></th>\n",
       "      <th>nb_moves</th>\n",
       "      <th>nb_K</th>\n",
       "      <th>nb_Q</th>\n",
       "      <th>nb_R</th>\n",
       "      <th>nb_B</th>\n",
       "      <th>nb_N</th>\n",
       "      <th>nb_P</th>\n",
       "      <th>nb_k</th>\n",
       "      <th>nb_q</th>\n",
       "      <th>nb_r</th>\n",
       "      <th>...</th>\n",
       "      <th>nb_pawns_ext_center</th>\n",
       "      <th>nb_pawns_third_row_c_f</th>\n",
       "      <th>nb_pawns_b_g_col</th>\n",
       "      <th>nb_pieces_center</th>\n",
       "      <th>nb_pieces_ext_center</th>\n",
       "      <th>nb_pieces_third_row_c_f</th>\n",
       "      <th>nb_pieces_b_g_col</th>\n",
       "      <th>knight_squares</th>\n",
       "      <th>king_castle_squares</th>\n",
       "      <th>nb_checks</th>\n",
       "    </tr>\n",
       "  </thead>\n",
       "  <tbody>\n",
       "    <tr>\n",
       "      <th>1743</th>\n",
       "      <td>10</td>\n",
       "      <td>1</td>\n",
       "      <td>1</td>\n",
       "      <td>2</td>\n",
       "      <td>2</td>\n",
       "      <td>1</td>\n",
       "      <td>7</td>\n",
       "      <td>1</td>\n",
       "      <td>1</td>\n",
       "      <td>2</td>\n",
       "      <td>...</td>\n",
       "      <td>0</td>\n",
       "      <td>2</td>\n",
       "      <td>0</td>\n",
       "      <td>1</td>\n",
       "      <td>0</td>\n",
       "      <td>2</td>\n",
       "      <td>1</td>\n",
       "      <td>1</td>\n",
       "      <td>0</td>\n",
       "      <td>1</td>\n",
       "    </tr>\n",
       "    <tr>\n",
       "      <th>7772</th>\n",
       "      <td>10</td>\n",
       "      <td>0</td>\n",
       "      <td>0</td>\n",
       "      <td>0</td>\n",
       "      <td>0</td>\n",
       "      <td>0</td>\n",
       "      <td>32</td>\n",
       "      <td>1</td>\n",
       "      <td>1</td>\n",
       "      <td>2</td>\n",
       "      <td>...</td>\n",
       "      <td>4</td>\n",
       "      <td>3</td>\n",
       "      <td>6</td>\n",
       "      <td>0</td>\n",
       "      <td>0</td>\n",
       "      <td>0</td>\n",
       "      <td>0</td>\n",
       "      <td>1</td>\n",
       "      <td>0</td>\n",
       "      <td>0</td>\n",
       "    </tr>\n",
       "    <tr>\n",
       "      <th>8400</th>\n",
       "      <td>10</td>\n",
       "      <td>1</td>\n",
       "      <td>1</td>\n",
       "      <td>1</td>\n",
       "      <td>0</td>\n",
       "      <td>2</td>\n",
       "      <td>0</td>\n",
       "      <td>1</td>\n",
       "      <td>0</td>\n",
       "      <td>1</td>\n",
       "      <td>...</td>\n",
       "      <td>0</td>\n",
       "      <td>0</td>\n",
       "      <td>0</td>\n",
       "      <td>0</td>\n",
       "      <td>0</td>\n",
       "      <td>0</td>\n",
       "      <td>1</td>\n",
       "      <td>1</td>\n",
       "      <td>0</td>\n",
       "      <td>0</td>\n",
       "    </tr>\n",
       "    <tr>\n",
       "      <th>2760</th>\n",
       "      <td>10</td>\n",
       "      <td>1</td>\n",
       "      <td>1</td>\n",
       "      <td>2</td>\n",
       "      <td>1</td>\n",
       "      <td>2</td>\n",
       "      <td>7</td>\n",
       "      <td>1</td>\n",
       "      <td>1</td>\n",
       "      <td>2</td>\n",
       "      <td>...</td>\n",
       "      <td>0</td>\n",
       "      <td>3</td>\n",
       "      <td>2</td>\n",
       "      <td>0</td>\n",
       "      <td>2</td>\n",
       "      <td>1</td>\n",
       "      <td>0</td>\n",
       "      <td>1</td>\n",
       "      <td>0</td>\n",
       "      <td>0</td>\n",
       "    </tr>\n",
       "    <tr>\n",
       "      <th>7741</th>\n",
       "      <td>10</td>\n",
       "      <td>0</td>\n",
       "      <td>0</td>\n",
       "      <td>0</td>\n",
       "      <td>0</td>\n",
       "      <td>0</td>\n",
       "      <td>32</td>\n",
       "      <td>1</td>\n",
       "      <td>1</td>\n",
       "      <td>2</td>\n",
       "      <td>...</td>\n",
       "      <td>3</td>\n",
       "      <td>2</td>\n",
       "      <td>6</td>\n",
       "      <td>0</td>\n",
       "      <td>0</td>\n",
       "      <td>1</td>\n",
       "      <td>0</td>\n",
       "      <td>0</td>\n",
       "      <td>0</td>\n",
       "      <td>0</td>\n",
       "    </tr>\n",
       "  </tbody>\n",
       "</table>\n",
       "<p>5 rows × 29 columns</p>\n",
       "</div>"
      ],
      "text/plain": [
       "      nb_moves  nb_K  nb_Q  nb_R  nb_B  nb_N  nb_P  nb_k  nb_q  nb_r  ...  \\\n",
       "1743        10     1     1     2     2     1     7     1     1     2  ...   \n",
       "7772        10     0     0     0     0     0    32     1     1     2  ...   \n",
       "8400        10     1     1     1     0     2     0     1     0     1  ...   \n",
       "2760        10     1     1     2     1     2     7     1     1     2  ...   \n",
       "7741        10     0     0     0     0     0    32     1     1     2  ...   \n",
       "\n",
       "      nb_pawns_ext_center  nb_pawns_third_row_c_f  nb_pawns_b_g_col  \\\n",
       "1743                    0                       2                 0   \n",
       "7772                    4                       3                 6   \n",
       "8400                    0                       0                 0   \n",
       "2760                    0                       3                 2   \n",
       "7741                    3                       2                 6   \n",
       "\n",
       "      nb_pieces_center  nb_pieces_ext_center  nb_pieces_third_row_c_f  \\\n",
       "1743                 1                     0                        2   \n",
       "7772                 0                     0                        0   \n",
       "8400                 0                     0                        0   \n",
       "2760                 0                     2                        1   \n",
       "7741                 0                     0                        1   \n",
       "\n",
       "      nb_pieces_b_g_col  knight_squares  king_castle_squares  nb_checks  \n",
       "1743                  1               1                    0          1  \n",
       "7772                  0               1                    0          0  \n",
       "8400                  1               1                    0          0  \n",
       "2760                  0               1                    0          0  \n",
       "7741                  0               0                    0          0  \n",
       "\n",
       "[5 rows x 29 columns]"
      ]
     },
     "execution_count": 12,
     "metadata": {},
     "output_type": "execute_result"
    }
   ],
   "source": [
    "X_tr.head()"
   ]
  },
  {
   "cell_type": "markdown",
   "metadata": {},
   "source": [
    "# Modelling"
   ]
  },
  {
   "cell_type": "markdown",
   "metadata": {},
   "source": [
    "# Simple Decision Tree"
   ]
  },
  {
   "cell_type": "code",
   "execution_count": 13,
   "metadata": {},
   "outputs": [],
   "source": [
    "# model \n",
    "model = DecisionTreeClassifier()\n",
    "\n",
    "# grid search\n",
    "grid = {\n",
    "    'criterion': ['gini','entropy'], \n",
    "    'max_depth': [2,5,8,10,12,15,20,50,100,150]\n",
    "}\n",
    "\n",
    "# grid-search + CV\n",
    "dt_cv = GridSearchCV(\n",
    "    model, \n",
    "    grid, \n",
    "    cv=kfold,    \n",
    "    verbose = 1,\n",
    "    n_jobs = -1,\n",
    "    return_train_score=True)"
   ]
  },
  {
   "cell_type": "code",
   "execution_count": 14,
   "metadata": {},
   "outputs": [
    {
     "name": "stdout",
     "output_type": "stream",
     "text": [
      "Fitting 5 folds for each of 20 candidates, totalling 100 fits\n"
     ]
    },
    {
     "name": "stderr",
     "output_type": "stream",
     "text": [
      "[Parallel(n_jobs=-1)]: Using backend LokyBackend with 8 concurrent workers.\n",
      "[Parallel(n_jobs=-1)]: Done  34 tasks      | elapsed:    3.6s\n",
      "[Parallel(n_jobs=-1)]: Done 100 out of 100 | elapsed:    5.0s finished\n"
     ]
    }
   ],
   "source": [
    "start_time = time.time()\n",
    "dt_cv.fit(X_tr, y_tr)\n",
    "dt_tune_time = time.time() - start_time"
   ]
  },
  {
   "cell_type": "markdown",
   "metadata": {},
   "source": [
    "Next, we look at the best parameters that lead to the best accuracy."
   ]
  },
  {
   "cell_type": "code",
   "execution_count": 15,
   "metadata": {},
   "outputs": [
    {
     "data": {
      "text/html": [
       "<div>\n",
       "<style scoped>\n",
       "    .dataframe tbody tr th:only-of-type {\n",
       "        vertical-align: middle;\n",
       "    }\n",
       "\n",
       "    .dataframe tbody tr th {\n",
       "        vertical-align: top;\n",
       "    }\n",
       "\n",
       "    .dataframe thead th {\n",
       "        text-align: right;\n",
       "    }\n",
       "</style>\n",
       "<table border=\"1\" class=\"dataframe\">\n",
       "  <thead>\n",
       "    <tr style=\"text-align: right;\">\n",
       "      <th></th>\n",
       "      <th>param_criterion</th>\n",
       "      <th>param_max_depth</th>\n",
       "      <th>mean_test_score</th>\n",
       "      <th>std_test_score</th>\n",
       "    </tr>\n",
       "  </thead>\n",
       "  <tbody>\n",
       "    <tr>\n",
       "      <th>14</th>\n",
       "      <td>entropy</td>\n",
       "      <td>12</td>\n",
       "      <td>0.870000</td>\n",
       "      <td>0.003612</td>\n",
       "    </tr>\n",
       "    <tr>\n",
       "      <th>5</th>\n",
       "      <td>gini</td>\n",
       "      <td>15</td>\n",
       "      <td>0.866914</td>\n",
       "      <td>0.003089</td>\n",
       "    </tr>\n",
       "    <tr>\n",
       "      <th>13</th>\n",
       "      <td>entropy</td>\n",
       "      <td>10</td>\n",
       "      <td>0.865679</td>\n",
       "      <td>0.008873</td>\n",
       "    </tr>\n",
       "    <tr>\n",
       "      <th>15</th>\n",
       "      <td>entropy</td>\n",
       "      <td>15</td>\n",
       "      <td>0.862963</td>\n",
       "      <td>0.006160</td>\n",
       "    </tr>\n",
       "    <tr>\n",
       "      <th>4</th>\n",
       "      <td>gini</td>\n",
       "      <td>12</td>\n",
       "      <td>0.860370</td>\n",
       "      <td>0.005021</td>\n",
       "    </tr>\n",
       "    <tr>\n",
       "      <th>6</th>\n",
       "      <td>gini</td>\n",
       "      <td>20</td>\n",
       "      <td>0.859259</td>\n",
       "      <td>0.007016</td>\n",
       "    </tr>\n",
       "    <tr>\n",
       "      <th>3</th>\n",
       "      <td>gini</td>\n",
       "      <td>10</td>\n",
       "      <td>0.856790</td>\n",
       "      <td>0.009999</td>\n",
       "    </tr>\n",
       "    <tr>\n",
       "      <th>16</th>\n",
       "      <td>entropy</td>\n",
       "      <td>20</td>\n",
       "      <td>0.855926</td>\n",
       "      <td>0.002088</td>\n",
       "    </tr>\n",
       "    <tr>\n",
       "      <th>12</th>\n",
       "      <td>entropy</td>\n",
       "      <td>8</td>\n",
       "      <td>0.848148</td>\n",
       "      <td>0.003724</td>\n",
       "    </tr>\n",
       "    <tr>\n",
       "      <th>17</th>\n",
       "      <td>entropy</td>\n",
       "      <td>50</td>\n",
       "      <td>0.846173</td>\n",
       "      <td>0.003912</td>\n",
       "    </tr>\n",
       "  </tbody>\n",
       "</table>\n",
       "</div>"
      ],
      "text/plain": [
       "   param_criterion param_max_depth  mean_test_score  std_test_score\n",
       "14         entropy              12         0.870000        0.003612\n",
       "5             gini              15         0.866914        0.003089\n",
       "13         entropy              10         0.865679        0.008873\n",
       "15         entropy              15         0.862963        0.006160\n",
       "4             gini              12         0.860370        0.005021\n",
       "6             gini              20         0.859259        0.007016\n",
       "3             gini              10         0.856790        0.009999\n",
       "16         entropy              20         0.855926        0.002088\n",
       "12         entropy               8         0.848148        0.003724\n",
       "17         entropy              50         0.846173        0.003912"
      ]
     },
     "metadata": {},
     "output_type": "display_data"
    },
    {
     "name": "stdout",
     "output_type": "stream",
     "text": [
      "We can expect an accuracy close to 87.0% on the testing set with the following parameters: \n",
      "{'criterion': 'entropy', 'max_depth': 12}. \n",
      "The tuning time is 5.0 sec.\n"
     ]
    }
   ],
   "source": [
    "# Collect results in a DataFrame\n",
    "cv_results = pd.DataFrame(dt_cv.cv_results_)\n",
    "\n",
    "# getting the columns of interest:\n",
    "cols = []\n",
    "for i in range(len(grid.keys())):\n",
    "    cols.append('param_'+list(grid.keys())[i]) \n",
    "cols.append('mean_test_score')\n",
    "cols.append('std_test_score')\n",
    "\n",
    "# printing the results\n",
    "display(cv_results[cols].sort_values('mean_test_score', ascending=False).head(10))\n",
    "print(\"We can expect an accuracy close to {:.1f}% on the testing set with the following parameters: \\n{}. \\nThe tuning time is {} sec.\".format(max(cv_results['mean_test_score']*100), dt_cv.best_params_, round(dt_tune_time, 1)))"
   ]
  },
  {
   "cell_type": "code",
   "execution_count": 16,
   "metadata": {},
   "outputs": [],
   "source": [
    "dt = DecisionTreeClassifier(\n",
    "    **dt_cv.best_params_, random_state=0)"
   ]
  },
  {
   "cell_type": "code",
   "execution_count": 17,
   "metadata": {},
   "outputs": [],
   "source": [
    "start_time = time.time()\n",
    "dt.fit(X_tr, y_tr)\n",
    "dt_train_time = time.time() - start_time"
   ]
  },
  {
   "cell_type": "code",
   "execution_count": 18,
   "metadata": {},
   "outputs": [
    {
     "name": "stdout",
     "output_type": "stream",
     "text": [
      "Accuracy on Testing Set: accuracy: 89.4%.\n"
     ]
    }
   ],
   "source": [
    "dt_accuracy = dt.score(X_te, y_te)\n",
    "print('Accuracy on Testing Set: accuracy: {:.1f}%.'.format(dt_accuracy*100))"
   ]
  },
  {
   "cell_type": "code",
   "execution_count": 19,
   "metadata": {},
   "outputs": [
    {
     "data": {
      "text/html": [
       "<div>\n",
       "<style scoped>\n",
       "    .dataframe tbody tr th:only-of-type {\n",
       "        vertical-align: middle;\n",
       "    }\n",
       "\n",
       "    .dataframe tbody tr th {\n",
       "        vertical-align: top;\n",
       "    }\n",
       "\n",
       "    .dataframe thead th {\n",
       "        text-align: right;\n",
       "    }\n",
       "</style>\n",
       "<table border=\"1\" class=\"dataframe\">\n",
       "  <thead>\n",
       "    <tr style=\"text-align: right;\">\n",
       "      <th></th>\n",
       "      <th>easy_grp</th>\n",
       "      <th>middle_grp</th>\n",
       "      <th>hard_grp</th>\n",
       "    </tr>\n",
       "  </thead>\n",
       "  <tbody>\n",
       "    <tr>\n",
       "      <th>easy_grp</th>\n",
       "      <td>0.980</td>\n",
       "      <td>0.011</td>\n",
       "      <td>0.006</td>\n",
       "    </tr>\n",
       "    <tr>\n",
       "      <th>middle_grp</th>\n",
       "      <td>0.037</td>\n",
       "      <td>0.840</td>\n",
       "      <td>0.394</td>\n",
       "    </tr>\n",
       "    <tr>\n",
       "      <th>hard_grp</th>\n",
       "      <td>0.000</td>\n",
       "      <td>0.038</td>\n",
       "      <td>0.890</td>\n",
       "    </tr>\n",
       "  </tbody>\n",
       "</table>\n",
       "</div>"
      ],
      "text/plain": [
       "            easy_grp  middle_grp  hard_grp\n",
       "easy_grp       0.980       0.011     0.006\n",
       "middle_grp     0.037       0.840     0.394\n",
       "hard_grp       0.000       0.038     0.890"
      ]
     },
     "execution_count": 19,
     "metadata": {},
     "output_type": "execute_result"
    }
   ],
   "source": [
    "dt_conf=pd.DataFrame(confusion_matrix(dt.predict(X_te), y_te), index= var_grps, columns=var_grps)\n",
    "round(dt_conf / dt_conf.astype(np.float).sum(axis=1),3)"
   ]
  },
  {
   "cell_type": "code",
   "execution_count": 20,
   "metadata": {},
   "outputs": [
    {
     "data": {
      "text/html": [
       "<div>\n",
       "<style scoped>\n",
       "    .dataframe tbody tr th:only-of-type {\n",
       "        vertical-align: middle;\n",
       "    }\n",
       "\n",
       "    .dataframe tbody tr th {\n",
       "        vertical-align: top;\n",
       "    }\n",
       "\n",
       "    .dataframe thead th {\n",
       "        text-align: right;\n",
       "    }\n",
       "</style>\n",
       "<table border=\"1\" class=\"dataframe\">\n",
       "  <thead>\n",
       "    <tr style=\"text-align: right;\">\n",
       "      <th></th>\n",
       "      <th>f1-score</th>\n",
       "      <th>precision</th>\n",
       "      <th>recall</th>\n",
       "      <th>support</th>\n",
       "    </tr>\n",
       "  </thead>\n",
       "  <tbody>\n",
       "    <tr>\n",
       "      <th>easy_grp</th>\n",
       "      <td>0.971</td>\n",
       "      <td>0.963</td>\n",
       "      <td>0.980</td>\n",
       "      <td>295.0</td>\n",
       "    </tr>\n",
       "    <tr>\n",
       "      <th>hard_grp</th>\n",
       "      <td>0.889</td>\n",
       "      <td>0.945</td>\n",
       "      <td>0.840</td>\n",
       "      <td>450.0</td>\n",
       "    </tr>\n",
       "    <tr>\n",
       "      <th>middle_grp</th>\n",
       "      <td>0.777</td>\n",
       "      <td>0.690</td>\n",
       "      <td>0.890</td>\n",
       "      <td>155.0</td>\n",
       "    </tr>\n",
       "    <tr>\n",
       "      <th>micro avg</th>\n",
       "      <td>0.894</td>\n",
       "      <td>0.894</td>\n",
       "      <td>0.894</td>\n",
       "      <td>900.0</td>\n",
       "    </tr>\n",
       "    <tr>\n",
       "      <th>macro avg</th>\n",
       "      <td>0.879</td>\n",
       "      <td>0.866</td>\n",
       "      <td>0.903</td>\n",
       "      <td>900.0</td>\n",
       "    </tr>\n",
       "    <tr>\n",
       "      <th>weighted avg</th>\n",
       "      <td>0.897</td>\n",
       "      <td>0.907</td>\n",
       "      <td>0.894</td>\n",
       "      <td>900.0</td>\n",
       "    </tr>\n",
       "  </tbody>\n",
       "</table>\n",
       "</div>"
      ],
      "text/plain": [
       "              f1-score  precision  recall  support\n",
       "easy_grp         0.971      0.963   0.980    295.0\n",
       "hard_grp         0.889      0.945   0.840    450.0\n",
       "middle_grp       0.777      0.690   0.890    155.0\n",
       "micro avg        0.894      0.894   0.894    900.0\n",
       "macro avg        0.879      0.866   0.903    900.0\n",
       "weighted avg     0.897      0.907   0.894    900.0"
      ]
     },
     "execution_count": 20,
     "metadata": {},
     "output_type": "execute_result"
    }
   ],
   "source": [
    "dt_metrics=pd.DataFrame(classification_report(dt.predict(X_te), y_te, output_dict=True)).T.round(3)\n",
    "dt_metrics"
   ]
  },
  {
   "cell_type": "markdown",
   "metadata": {},
   "source": [
    "# Logistic Regression"
   ]
  },
  {
   "cell_type": "code",
   "execution_count": 21,
   "metadata": {},
   "outputs": [],
   "source": [
    "# Define our steps\n",
    "model = LogisticRegression()\n",
    "\n",
    "# grid \n",
    "grid = {\n",
    "    'C': np.logspace(-3, 4, 8),\n",
    "}\n",
    "\n",
    "# Grid search\n",
    "log_cv = GridSearchCV(\n",
    "    model, \n",
    "    grid, \n",
    "    cv=kfold,    \n",
    "    verbose = 1,\n",
    "    n_jobs = -1,\n",
    "    return_train_score=True)"
   ]
  },
  {
   "cell_type": "code",
   "execution_count": 22,
   "metadata": {},
   "outputs": [
    {
     "name": "stdout",
     "output_type": "stream",
     "text": [
      "Fitting 5 folds for each of 8 candidates, totalling 40 fits\n"
     ]
    },
    {
     "name": "stderr",
     "output_type": "stream",
     "text": [
      "[Parallel(n_jobs=-1)]: Using backend LokyBackend with 8 concurrent workers.\n",
      "[Parallel(n_jobs=-1)]: Done  40 out of  40 | elapsed:    7.9s finished\n",
      "/opt/anaconda3/envs/exts-ml/lib/python3.6/site-packages/sklearn/linear_model/logistic.py:433: FutureWarning: Default solver will be changed to 'lbfgs' in 0.22. Specify a solver to silence this warning.\n",
      "  FutureWarning)\n",
      "/opt/anaconda3/envs/exts-ml/lib/python3.6/site-packages/sklearn/linear_model/logistic.py:460: FutureWarning: Default multi_class will be changed to 'auto' in 0.22. Specify the multi_class option to silence this warning.\n",
      "  \"this warning.\", FutureWarning)\n"
     ]
    }
   ],
   "source": [
    "start_time = time.time()\n",
    "log_cv.fit(X_tr, y_tr)\n",
    "logistic_tune_time = time.time() - start_time"
   ]
  },
  {
   "cell_type": "code",
   "execution_count": 23,
   "metadata": {},
   "outputs": [
    {
     "data": {
      "text/html": [
       "<div>\n",
       "<style scoped>\n",
       "    .dataframe tbody tr th:only-of-type {\n",
       "        vertical-align: middle;\n",
       "    }\n",
       "\n",
       "    .dataframe tbody tr th {\n",
       "        vertical-align: top;\n",
       "    }\n",
       "\n",
       "    .dataframe thead th {\n",
       "        text-align: right;\n",
       "    }\n",
       "</style>\n",
       "<table border=\"1\" class=\"dataframe\">\n",
       "  <thead>\n",
       "    <tr style=\"text-align: right;\">\n",
       "      <th></th>\n",
       "      <th>param_C</th>\n",
       "      <th>mean_test_score</th>\n",
       "      <th>std_test_score</th>\n",
       "    </tr>\n",
       "  </thead>\n",
       "  <tbody>\n",
       "    <tr>\n",
       "      <th>7</th>\n",
       "      <td>10000</td>\n",
       "      <td>0.879630</td>\n",
       "      <td>0.004781</td>\n",
       "    </tr>\n",
       "    <tr>\n",
       "      <th>6</th>\n",
       "      <td>1000</td>\n",
       "      <td>0.879259</td>\n",
       "      <td>0.004695</td>\n",
       "    </tr>\n",
       "    <tr>\n",
       "      <th>5</th>\n",
       "      <td>100</td>\n",
       "      <td>0.878025</td>\n",
       "      <td>0.005488</td>\n",
       "    </tr>\n",
       "    <tr>\n",
       "      <th>4</th>\n",
       "      <td>10</td>\n",
       "      <td>0.874321</td>\n",
       "      <td>0.003954</td>\n",
       "    </tr>\n",
       "    <tr>\n",
       "      <th>3</th>\n",
       "      <td>1</td>\n",
       "      <td>0.862346</td>\n",
       "      <td>0.003745</td>\n",
       "    </tr>\n",
       "    <tr>\n",
       "      <th>2</th>\n",
       "      <td>0.1</td>\n",
       "      <td>0.835679</td>\n",
       "      <td>0.005887</td>\n",
       "    </tr>\n",
       "    <tr>\n",
       "      <th>1</th>\n",
       "      <td>0.01</td>\n",
       "      <td>0.801852</td>\n",
       "      <td>0.005223</td>\n",
       "    </tr>\n",
       "    <tr>\n",
       "      <th>0</th>\n",
       "      <td>0.001</td>\n",
       "      <td>0.765926</td>\n",
       "      <td>0.010997</td>\n",
       "    </tr>\n",
       "  </tbody>\n",
       "</table>\n",
       "</div>"
      ],
      "text/plain": [
       "  param_C  mean_test_score  std_test_score\n",
       "7   10000         0.879630        0.004781\n",
       "6    1000         0.879259        0.004695\n",
       "5     100         0.878025        0.005488\n",
       "4      10         0.874321        0.003954\n",
       "3       1         0.862346        0.003745\n",
       "2     0.1         0.835679        0.005887\n",
       "1    0.01         0.801852        0.005223\n",
       "0   0.001         0.765926        0.010997"
      ]
     },
     "metadata": {},
     "output_type": "display_data"
    },
    {
     "name": "stdout",
     "output_type": "stream",
     "text": [
      "We can expect an accuracy close to 88.0% on the testing set with the following parameters: \n",
      "{'C': 10000.0}. \n",
      "The tuning time is 9.2 sec.\n"
     ]
    }
   ],
   "source": [
    "# Collect results in a DataFrame\n",
    "cv_results = pd.DataFrame(log_cv.cv_results_)\n",
    "\n",
    "# getting the columns of interest:\n",
    "cols = []\n",
    "for i in range(len(grid.keys())):\n",
    "    cols.append('param_'+list(grid.keys())[i]) \n",
    "cols.append('mean_test_score')\n",
    "cols.append('std_test_score')\n",
    "\n",
    "# printing the results\n",
    "display(cv_results[cols].sort_values('mean_test_score', ascending=False).head(10))\n",
    "print(\"We can expect an accuracy close to {:.1f}% on the testing set with the following parameters: \\n{}. \\nThe tuning time is {} sec.\".format(max(cv_results['mean_test_score']*100), log_cv.best_params_, round(logistic_tune_time, 1)))"
   ]
  },
  {
   "cell_type": "code",
   "execution_count": 24,
   "metadata": {},
   "outputs": [],
   "source": [
    "logistic = LogisticRegression(\n",
    "    **log_cv.best_params_, random_state=0)"
   ]
  },
  {
   "cell_type": "code",
   "execution_count": 25,
   "metadata": {},
   "outputs": [
    {
     "name": "stderr",
     "output_type": "stream",
     "text": [
      "/opt/anaconda3/envs/exts-ml/lib/python3.6/site-packages/sklearn/linear_model/logistic.py:433: FutureWarning: Default solver will be changed to 'lbfgs' in 0.22. Specify a solver to silence this warning.\n",
      "  FutureWarning)\n",
      "/opt/anaconda3/envs/exts-ml/lib/python3.6/site-packages/sklearn/linear_model/logistic.py:460: FutureWarning: Default multi_class will be changed to 'auto' in 0.22. Specify the multi_class option to silence this warning.\n",
      "  \"this warning.\", FutureWarning)\n"
     ]
    }
   ],
   "source": [
    "start_time = time.time()\n",
    "logistic.fit(X_tr, y_tr)\n",
    "logistic_train_time = time.time() - start_time"
   ]
  },
  {
   "cell_type": "code",
   "execution_count": 26,
   "metadata": {},
   "outputs": [
    {
     "name": "stdout",
     "output_type": "stream",
     "text": [
      "Accuracy on Testing Set: accuracy: 89.0%.\n"
     ]
    }
   ],
   "source": [
    "logistic_accuracy = logistic.score(X_te, y_te)\n",
    "print('Accuracy on Testing Set: accuracy: {:.1f}%.'.format(logistic_accuracy*100))"
   ]
  },
  {
   "cell_type": "code",
   "execution_count": 27,
   "metadata": {},
   "outputs": [
    {
     "data": {
      "text/html": [
       "<div>\n",
       "<style scoped>\n",
       "    .dataframe tbody tr th:only-of-type {\n",
       "        vertical-align: middle;\n",
       "    }\n",
       "\n",
       "    .dataframe tbody tr th {\n",
       "        vertical-align: top;\n",
       "    }\n",
       "\n",
       "    .dataframe thead th {\n",
       "        text-align: right;\n",
       "    }\n",
       "</style>\n",
       "<table border=\"1\" class=\"dataframe\">\n",
       "  <thead>\n",
       "    <tr style=\"text-align: right;\">\n",
       "      <th></th>\n",
       "      <th>easy_grp</th>\n",
       "      <th>middle_grp</th>\n",
       "      <th>hard_grp</th>\n",
       "    </tr>\n",
       "  </thead>\n",
       "  <tbody>\n",
       "    <tr>\n",
       "      <th>easy_grp</th>\n",
       "      <td>1.000</td>\n",
       "      <td>0.000</td>\n",
       "      <td>0.000</td>\n",
       "    </tr>\n",
       "    <tr>\n",
       "      <th>middle_grp</th>\n",
       "      <td>0.024</td>\n",
       "      <td>0.832</td>\n",
       "      <td>0.448</td>\n",
       "    </tr>\n",
       "    <tr>\n",
       "      <th>hard_grp</th>\n",
       "      <td>0.000</td>\n",
       "      <td>0.051</td>\n",
       "      <td>0.851</td>\n",
       "    </tr>\n",
       "  </tbody>\n",
       "</table>\n",
       "</div>"
      ],
      "text/plain": [
       "            easy_grp  middle_grp  hard_grp\n",
       "easy_grp       1.000       0.000     0.000\n",
       "middle_grp     0.024       0.832     0.448\n",
       "hard_grp       0.000       0.051     0.851"
      ]
     },
     "execution_count": 27,
     "metadata": {},
     "output_type": "execute_result"
    }
   ],
   "source": [
    "logistic_conf=pd.DataFrame(confusion_matrix(logistic.predict(X_te), y_te), index=var_grps, columns=var_grps)/100\n",
    "round(logistic_conf / logistic_conf.astype(np.float).sum(axis=1),3)"
   ]
  },
  {
   "cell_type": "code",
   "execution_count": 28,
   "metadata": {},
   "outputs": [
    {
     "data": {
      "text/html": [
       "<div>\n",
       "<style scoped>\n",
       "    .dataframe tbody tr th:only-of-type {\n",
       "        vertical-align: middle;\n",
       "    }\n",
       "\n",
       "    .dataframe tbody tr th {\n",
       "        vertical-align: top;\n",
       "    }\n",
       "\n",
       "    .dataframe thead th {\n",
       "        text-align: right;\n",
       "    }\n",
       "</style>\n",
       "<table border=\"1\" class=\"dataframe\">\n",
       "  <thead>\n",
       "    <tr style=\"text-align: right;\">\n",
       "      <th></th>\n",
       "      <th>f1-score</th>\n",
       "      <th>precision</th>\n",
       "      <th>recall</th>\n",
       "      <th>support</th>\n",
       "    </tr>\n",
       "  </thead>\n",
       "  <tbody>\n",
       "    <tr>\n",
       "      <th>easy_grp</th>\n",
       "      <td>0.988</td>\n",
       "      <td>0.977</td>\n",
       "      <td>1.000</td>\n",
       "      <td>293.0</td>\n",
       "    </tr>\n",
       "    <tr>\n",
       "      <th>hard_grp</th>\n",
       "      <td>0.884</td>\n",
       "      <td>0.942</td>\n",
       "      <td>0.832</td>\n",
       "      <td>453.0</td>\n",
       "    </tr>\n",
       "    <tr>\n",
       "      <th>middle_grp</th>\n",
       "      <td>0.740</td>\n",
       "      <td>0.655</td>\n",
       "      <td>0.851</td>\n",
       "      <td>154.0</td>\n",
       "    </tr>\n",
       "    <tr>\n",
       "      <th>micro avg</th>\n",
       "      <td>0.890</td>\n",
       "      <td>0.890</td>\n",
       "      <td>0.890</td>\n",
       "      <td>900.0</td>\n",
       "    </tr>\n",
       "    <tr>\n",
       "      <th>macro avg</th>\n",
       "      <td>0.871</td>\n",
       "      <td>0.858</td>\n",
       "      <td>0.894</td>\n",
       "      <td>900.0</td>\n",
       "    </tr>\n",
       "    <tr>\n",
       "      <th>weighted avg</th>\n",
       "      <td>0.893</td>\n",
       "      <td>0.904</td>\n",
       "      <td>0.890</td>\n",
       "      <td>900.0</td>\n",
       "    </tr>\n",
       "  </tbody>\n",
       "</table>\n",
       "</div>"
      ],
      "text/plain": [
       "              f1-score  precision  recall  support\n",
       "easy_grp         0.988      0.977   1.000    293.0\n",
       "hard_grp         0.884      0.942   0.832    453.0\n",
       "middle_grp       0.740      0.655   0.851    154.0\n",
       "micro avg        0.890      0.890   0.890    900.0\n",
       "macro avg        0.871      0.858   0.894    900.0\n",
       "weighted avg     0.893      0.904   0.890    900.0"
      ]
     },
     "execution_count": 28,
     "metadata": {},
     "output_type": "execute_result"
    }
   ],
   "source": [
    "logistic_metrics=pd.DataFrame(classification_report(logistic.predict(X_te), y_te, output_dict=True)).T.round(3)\n",
    "logistic_metrics"
   ]
  },
  {
   "cell_type": "markdown",
   "metadata": {},
   "source": [
    "# Random Forest"
   ]
  },
  {
   "cell_type": "code",
   "execution_count": 29,
   "metadata": {},
   "outputs": [],
   "source": [
    "# Define our steps\n",
    "model = RandomForestClassifier()\n",
    "\n",
    "# grid \n",
    "grid = {'n_estimators': [20,100,500,750,1000],\n",
    "               'max_depth': [5,10,20,50,75,100]\n",
    "       } \n",
    "\n",
    "# Grid search\n",
    "rf_cv = GridSearchCV(\n",
    "    model, \n",
    "    grid, \n",
    "    cv=kfold,    \n",
    "    verbose = 1,\n",
    "    n_jobs = -1)"
   ]
  },
  {
   "cell_type": "code",
   "execution_count": 30,
   "metadata": {},
   "outputs": [
    {
     "name": "stdout",
     "output_type": "stream",
     "text": [
      "Fitting 5 folds for each of 30 candidates, totalling 150 fits\n"
     ]
    },
    {
     "name": "stderr",
     "output_type": "stream",
     "text": [
      "[Parallel(n_jobs=-1)]: Using backend LokyBackend with 8 concurrent workers.\n",
      "[Parallel(n_jobs=-1)]: Done  46 tasks      | elapsed:   28.0s\n",
      "[Parallel(n_jobs=-1)]: Done 150 out of 150 | elapsed:  2.5min finished\n"
     ]
    }
   ],
   "source": [
    "start_time = time.time()\n",
    "rf_cv.fit(X_tr, y_tr)\n",
    "rf_tune_time = time.time() - start_time"
   ]
  },
  {
   "cell_type": "code",
   "execution_count": 31,
   "metadata": {},
   "outputs": [
    {
     "name": "stderr",
     "output_type": "stream",
     "text": [
      "/opt/anaconda3/envs/exts-ml/lib/python3.6/site-packages/sklearn/utils/deprecation.py:125: FutureWarning: You are accessing a training score ('split0_train_score'), which will not be available by default any more in 0.21. If you need training scores, please set return_train_score=True\n",
      "  warnings.warn(*warn_args, **warn_kwargs)\n",
      "/opt/anaconda3/envs/exts-ml/lib/python3.6/site-packages/sklearn/utils/deprecation.py:125: FutureWarning: You are accessing a training score ('split1_train_score'), which will not be available by default any more in 0.21. If you need training scores, please set return_train_score=True\n",
      "  warnings.warn(*warn_args, **warn_kwargs)\n",
      "/opt/anaconda3/envs/exts-ml/lib/python3.6/site-packages/sklearn/utils/deprecation.py:125: FutureWarning: You are accessing a training score ('split2_train_score'), which will not be available by default any more in 0.21. If you need training scores, please set return_train_score=True\n",
      "  warnings.warn(*warn_args, **warn_kwargs)\n",
      "/opt/anaconda3/envs/exts-ml/lib/python3.6/site-packages/sklearn/utils/deprecation.py:125: FutureWarning: You are accessing a training score ('split3_train_score'), which will not be available by default any more in 0.21. If you need training scores, please set return_train_score=True\n",
      "  warnings.warn(*warn_args, **warn_kwargs)\n",
      "/opt/anaconda3/envs/exts-ml/lib/python3.6/site-packages/sklearn/utils/deprecation.py:125: FutureWarning: You are accessing a training score ('split4_train_score'), which will not be available by default any more in 0.21. If you need training scores, please set return_train_score=True\n",
      "  warnings.warn(*warn_args, **warn_kwargs)\n",
      "/opt/anaconda3/envs/exts-ml/lib/python3.6/site-packages/sklearn/utils/deprecation.py:125: FutureWarning: You are accessing a training score ('mean_train_score'), which will not be available by default any more in 0.21. If you need training scores, please set return_train_score=True\n",
      "  warnings.warn(*warn_args, **warn_kwargs)\n",
      "/opt/anaconda3/envs/exts-ml/lib/python3.6/site-packages/sklearn/utils/deprecation.py:125: FutureWarning: You are accessing a training score ('std_train_score'), which will not be available by default any more in 0.21. If you need training scores, please set return_train_score=True\n",
      "  warnings.warn(*warn_args, **warn_kwargs)\n"
     ]
    },
    {
     "data": {
      "text/html": [
       "<div>\n",
       "<style scoped>\n",
       "    .dataframe tbody tr th:only-of-type {\n",
       "        vertical-align: middle;\n",
       "    }\n",
       "\n",
       "    .dataframe tbody tr th {\n",
       "        vertical-align: top;\n",
       "    }\n",
       "\n",
       "    .dataframe thead th {\n",
       "        text-align: right;\n",
       "    }\n",
       "</style>\n",
       "<table border=\"1\" class=\"dataframe\">\n",
       "  <thead>\n",
       "    <tr style=\"text-align: right;\">\n",
       "      <th></th>\n",
       "      <th>param_n_estimators</th>\n",
       "      <th>param_max_depth</th>\n",
       "      <th>mean_test_score</th>\n",
       "      <th>std_test_score</th>\n",
       "    </tr>\n",
       "  </thead>\n",
       "  <tbody>\n",
       "    <tr>\n",
       "      <th>28</th>\n",
       "      <td>750</td>\n",
       "      <td>100</td>\n",
       "      <td>0.899753</td>\n",
       "      <td>0.006947</td>\n",
       "    </tr>\n",
       "    <tr>\n",
       "      <th>19</th>\n",
       "      <td>1000</td>\n",
       "      <td>50</td>\n",
       "      <td>0.898395</td>\n",
       "      <td>0.006990</td>\n",
       "    </tr>\n",
       "    <tr>\n",
       "      <th>23</th>\n",
       "      <td>750</td>\n",
       "      <td>75</td>\n",
       "      <td>0.898148</td>\n",
       "      <td>0.007510</td>\n",
       "    </tr>\n",
       "    <tr>\n",
       "      <th>22</th>\n",
       "      <td>500</td>\n",
       "      <td>75</td>\n",
       "      <td>0.898148</td>\n",
       "      <td>0.005946</td>\n",
       "    </tr>\n",
       "    <tr>\n",
       "      <th>27</th>\n",
       "      <td>500</td>\n",
       "      <td>100</td>\n",
       "      <td>0.897778</td>\n",
       "      <td>0.007131</td>\n",
       "    </tr>\n",
       "    <tr>\n",
       "      <th>18</th>\n",
       "      <td>750</td>\n",
       "      <td>50</td>\n",
       "      <td>0.897654</td>\n",
       "      <td>0.007360</td>\n",
       "    </tr>\n",
       "    <tr>\n",
       "      <th>24</th>\n",
       "      <td>1000</td>\n",
       "      <td>75</td>\n",
       "      <td>0.896543</td>\n",
       "      <td>0.005612</td>\n",
       "    </tr>\n",
       "    <tr>\n",
       "      <th>29</th>\n",
       "      <td>1000</td>\n",
       "      <td>100</td>\n",
       "      <td>0.896420</td>\n",
       "      <td>0.007684</td>\n",
       "    </tr>\n",
       "    <tr>\n",
       "      <th>26</th>\n",
       "      <td>100</td>\n",
       "      <td>100</td>\n",
       "      <td>0.896173</td>\n",
       "      <td>0.006239</td>\n",
       "    </tr>\n",
       "    <tr>\n",
       "      <th>16</th>\n",
       "      <td>100</td>\n",
       "      <td>50</td>\n",
       "      <td>0.896049</td>\n",
       "      <td>0.006143</td>\n",
       "    </tr>\n",
       "  </tbody>\n",
       "</table>\n",
       "</div>"
      ],
      "text/plain": [
       "   param_n_estimators param_max_depth  mean_test_score  std_test_score\n",
       "28                750             100         0.899753        0.006947\n",
       "19               1000              50         0.898395        0.006990\n",
       "23                750              75         0.898148        0.007510\n",
       "22                500              75         0.898148        0.005946\n",
       "27                500             100         0.897778        0.007131\n",
       "18                750              50         0.897654        0.007360\n",
       "24               1000              75         0.896543        0.005612\n",
       "29               1000             100         0.896420        0.007684\n",
       "26                100             100         0.896173        0.006239\n",
       "16                100              50         0.896049        0.006143"
      ]
     },
     "metadata": {},
     "output_type": "display_data"
    },
    {
     "name": "stdout",
     "output_type": "stream",
     "text": [
      "We can expect an accuracy close to 90.0% on the testing set with the following parameters: \n",
      "{'max_depth': 100, 'n_estimators': 750}. \n",
      "The tuning time is 154.6 sec.\n"
     ]
    }
   ],
   "source": [
    "# Collect results in a DataFrame\n",
    "cv_results = pd.DataFrame(rf_cv.cv_results_)\n",
    "\n",
    "# getting the columns of interest:\n",
    "cols = []\n",
    "for i in range(len(grid.keys())):\n",
    "    cols.append('param_'+list(grid.keys())[i]) \n",
    "cols.append('mean_test_score')\n",
    "cols.append('std_test_score')\n",
    "\n",
    "# printing the results\n",
    "display(cv_results[cols].sort_values('mean_test_score', ascending=False).head(10))\n",
    "print(\"We can expect an accuracy close to {:.1f}% on the testing set with the following parameters: \\n{}. \\nThe tuning time is {} sec.\".format(max(cv_results['mean_test_score']*100), rf_cv.best_params_, round(rf_tune_time, 1)))"
   ]
  },
  {
   "cell_type": "code",
   "execution_count": 32,
   "metadata": {},
   "outputs": [],
   "source": [
    "rf = RandomForestClassifier(\n",
    "    **rf_cv.best_params_, random_state=0)"
   ]
  },
  {
   "cell_type": "code",
   "execution_count": 33,
   "metadata": {},
   "outputs": [],
   "source": [
    "start_time = time.time()\n",
    "rf.fit(X_tr, y_tr)\n",
    "rf_train_time = time.time() - start_time"
   ]
  },
  {
   "cell_type": "code",
   "execution_count": 34,
   "metadata": {},
   "outputs": [
    {
     "name": "stdout",
     "output_type": "stream",
     "text": [
      "Accuracy on Testing Set: accuracy: 90.6%.\n"
     ]
    }
   ],
   "source": [
    "rf_accuracy = rf.score(X_te, y_te)\n",
    "print('Accuracy on Testing Set: accuracy: {:.1f}%.'.format(rf_accuracy*100))"
   ]
  },
  {
   "cell_type": "code",
   "execution_count": 35,
   "metadata": {},
   "outputs": [
    {
     "data": {
      "text/html": [
       "<div>\n",
       "<style scoped>\n",
       "    .dataframe tbody tr th:only-of-type {\n",
       "        vertical-align: middle;\n",
       "    }\n",
       "\n",
       "    .dataframe tbody tr th {\n",
       "        vertical-align: top;\n",
       "    }\n",
       "\n",
       "    .dataframe thead th {\n",
       "        text-align: right;\n",
       "    }\n",
       "</style>\n",
       "<table border=\"1\" class=\"dataframe\">\n",
       "  <thead>\n",
       "    <tr style=\"text-align: right;\">\n",
       "      <th></th>\n",
       "      <th>easy_grp</th>\n",
       "      <th>middle_grp</th>\n",
       "      <th>hard_grp</th>\n",
       "    </tr>\n",
       "  </thead>\n",
       "  <tbody>\n",
       "    <tr>\n",
       "      <th>easy_grp</th>\n",
       "      <td>0.997</td>\n",
       "      <td>0.000</td>\n",
       "      <td>0.007</td>\n",
       "    </tr>\n",
       "    <tr>\n",
       "      <th>middle_grp</th>\n",
       "      <td>0.042</td>\n",
       "      <td>0.842</td>\n",
       "      <td>0.409</td>\n",
       "    </tr>\n",
       "    <tr>\n",
       "      <th>hard_grp</th>\n",
       "      <td>0.000</td>\n",
       "      <td>0.024</td>\n",
       "      <td>0.926</td>\n",
       "    </tr>\n",
       "  </tbody>\n",
       "</table>\n",
       "</div>"
      ],
      "text/plain": [
       "            easy_grp  middle_grp  hard_grp\n",
       "easy_grp       0.997       0.000     0.007\n",
       "middle_grp     0.042       0.842     0.409\n",
       "hard_grp       0.000       0.024     0.926"
      ]
     },
     "execution_count": 35,
     "metadata": {},
     "output_type": "execute_result"
    }
   ],
   "source": [
    "rf_conf=pd.DataFrame(confusion_matrix(rf.predict(X_te), y_te), index=var_grps, columns=var_grps)/100\n",
    "round(rf_conf / rf_conf.astype(np.float).sum(axis=1),3)"
   ]
  },
  {
   "cell_type": "code",
   "execution_count": 36,
   "metadata": {},
   "outputs": [
    {
     "data": {
      "text/html": [
       "<div>\n",
       "<style scoped>\n",
       "    .dataframe tbody tr th:only-of-type {\n",
       "        vertical-align: middle;\n",
       "    }\n",
       "\n",
       "    .dataframe tbody tr th {\n",
       "        vertical-align: top;\n",
       "    }\n",
       "\n",
       "    .dataframe thead th {\n",
       "        text-align: right;\n",
       "    }\n",
       "</style>\n",
       "<table border=\"1\" class=\"dataframe\">\n",
       "  <thead>\n",
       "    <tr style=\"text-align: right;\">\n",
       "      <th></th>\n",
       "      <th>f1-score</th>\n",
       "      <th>precision</th>\n",
       "      <th>recall</th>\n",
       "      <th>support</th>\n",
       "    </tr>\n",
       "  </thead>\n",
       "  <tbody>\n",
       "    <tr>\n",
       "      <th>easy_grp</th>\n",
       "      <td>0.978</td>\n",
       "      <td>0.960</td>\n",
       "      <td>0.997</td>\n",
       "      <td>289.0</td>\n",
       "    </tr>\n",
       "    <tr>\n",
       "      <th>hard_grp</th>\n",
       "      <td>0.903</td>\n",
       "      <td>0.972</td>\n",
       "      <td>0.842</td>\n",
       "      <td>462.0</td>\n",
       "    </tr>\n",
       "    <tr>\n",
       "      <th>middle_grp</th>\n",
       "      <td>0.791</td>\n",
       "      <td>0.690</td>\n",
       "      <td>0.926</td>\n",
       "      <td>149.0</td>\n",
       "    </tr>\n",
       "    <tr>\n",
       "      <th>micro avg</th>\n",
       "      <td>0.906</td>\n",
       "      <td>0.906</td>\n",
       "      <td>0.906</td>\n",
       "      <td>900.0</td>\n",
       "    </tr>\n",
       "    <tr>\n",
       "      <th>macro avg</th>\n",
       "      <td>0.890</td>\n",
       "      <td>0.874</td>\n",
       "      <td>0.922</td>\n",
       "      <td>900.0</td>\n",
       "    </tr>\n",
       "    <tr>\n",
       "      <th>weighted avg</th>\n",
       "      <td>0.908</td>\n",
       "      <td>0.922</td>\n",
       "      <td>0.906</td>\n",
       "      <td>900.0</td>\n",
       "    </tr>\n",
       "  </tbody>\n",
       "</table>\n",
       "</div>"
      ],
      "text/plain": [
       "              f1-score  precision  recall  support\n",
       "easy_grp         0.978      0.960   0.997    289.0\n",
       "hard_grp         0.903      0.972   0.842    462.0\n",
       "middle_grp       0.791      0.690   0.926    149.0\n",
       "micro avg        0.906      0.906   0.906    900.0\n",
       "macro avg        0.890      0.874   0.922    900.0\n",
       "weighted avg     0.908      0.922   0.906    900.0"
      ]
     },
     "execution_count": 36,
     "metadata": {},
     "output_type": "execute_result"
    }
   ],
   "source": [
    "rf_metrics=pd.DataFrame(classification_report(rf.predict(X_te), y_te, output_dict=True)).T.round(3)\n",
    "rf_metrics"
   ]
  },
  {
   "cell_type": "markdown",
   "metadata": {},
   "source": [
    "# SVM"
   ]
  },
  {
   "cell_type": "code",
   "execution_count": 37,
   "metadata": {},
   "outputs": [],
   "source": [
    "# Define our steps\n",
    "model = SVC()\n",
    "\n",
    "# grid \n",
    "grid = {'C': np.logspace(-0,5,5), # others sets of param were tested, higher C generally performed better\n",
    "               'kernel': ['sigmoid', 'rbf'], # computational performance of linear kernel too bad to be considered as a good candidate\n",
    "              'gamma': np.logspace(-5,0,5) # others sets of parameters were tested, lower gammas generally performed better\n",
    "       }  \n",
    "\n",
    "# Grid search\n",
    "svm_cv = GridSearchCV(\n",
    "    model, \n",
    "    grid, \n",
    "    cv=kfold,    \n",
    "    verbose = 1,\n",
    "    n_jobs = -1)"
   ]
  },
  {
   "cell_type": "code",
   "execution_count": 38,
   "metadata": {},
   "outputs": [
    {
     "name": "stdout",
     "output_type": "stream",
     "text": [
      "Fitting 5 folds for each of 50 candidates, totalling 250 fits\n"
     ]
    },
    {
     "name": "stderr",
     "output_type": "stream",
     "text": [
      "[Parallel(n_jobs=-1)]: Using backend LokyBackend with 8 concurrent workers.\n",
      "[Parallel(n_jobs=-1)]: Done  34 tasks      | elapsed:   51.2s\n",
      "[Parallel(n_jobs=-1)]: Done 184 tasks      | elapsed:  5.5min\n",
      "[Parallel(n_jobs=-1)]: Done 250 out of 250 | elapsed:  9.0min finished\n"
     ]
    }
   ],
   "source": [
    "start_time = time.time()\n",
    "svm_cv.fit(X_tr, y_tr)\n",
    "svm_tune_time = time.time() - start_time"
   ]
  },
  {
   "cell_type": "code",
   "execution_count": 39,
   "metadata": {},
   "outputs": [
    {
     "name": "stderr",
     "output_type": "stream",
     "text": [
      "/opt/anaconda3/envs/exts-ml/lib/python3.6/site-packages/sklearn/utils/deprecation.py:125: FutureWarning: You are accessing a training score ('split0_train_score'), which will not be available by default any more in 0.21. If you need training scores, please set return_train_score=True\n",
      "  warnings.warn(*warn_args, **warn_kwargs)\n",
      "/opt/anaconda3/envs/exts-ml/lib/python3.6/site-packages/sklearn/utils/deprecation.py:125: FutureWarning: You are accessing a training score ('split1_train_score'), which will not be available by default any more in 0.21. If you need training scores, please set return_train_score=True\n",
      "  warnings.warn(*warn_args, **warn_kwargs)\n",
      "/opt/anaconda3/envs/exts-ml/lib/python3.6/site-packages/sklearn/utils/deprecation.py:125: FutureWarning: You are accessing a training score ('split2_train_score'), which will not be available by default any more in 0.21. If you need training scores, please set return_train_score=True\n",
      "  warnings.warn(*warn_args, **warn_kwargs)\n",
      "/opt/anaconda3/envs/exts-ml/lib/python3.6/site-packages/sklearn/utils/deprecation.py:125: FutureWarning: You are accessing a training score ('split3_train_score'), which will not be available by default any more in 0.21. If you need training scores, please set return_train_score=True\n",
      "  warnings.warn(*warn_args, **warn_kwargs)\n",
      "/opt/anaconda3/envs/exts-ml/lib/python3.6/site-packages/sklearn/utils/deprecation.py:125: FutureWarning: You are accessing a training score ('split4_train_score'), which will not be available by default any more in 0.21. If you need training scores, please set return_train_score=True\n",
      "  warnings.warn(*warn_args, **warn_kwargs)\n",
      "/opt/anaconda3/envs/exts-ml/lib/python3.6/site-packages/sklearn/utils/deprecation.py:125: FutureWarning: You are accessing a training score ('mean_train_score'), which will not be available by default any more in 0.21. If you need training scores, please set return_train_score=True\n",
      "  warnings.warn(*warn_args, **warn_kwargs)\n",
      "/opt/anaconda3/envs/exts-ml/lib/python3.6/site-packages/sklearn/utils/deprecation.py:125: FutureWarning: You are accessing a training score ('std_train_score'), which will not be available by default any more in 0.21. If you need training scores, please set return_train_score=True\n",
      "  warnings.warn(*warn_args, **warn_kwargs)\n"
     ]
    },
    {
     "data": {
      "text/html": [
       "<div>\n",
       "<style scoped>\n",
       "    .dataframe tbody tr th:only-of-type {\n",
       "        vertical-align: middle;\n",
       "    }\n",
       "\n",
       "    .dataframe tbody tr th {\n",
       "        vertical-align: top;\n",
       "    }\n",
       "\n",
       "    .dataframe thead th {\n",
       "        text-align: right;\n",
       "    }\n",
       "</style>\n",
       "<table border=\"1\" class=\"dataframe\">\n",
       "  <thead>\n",
       "    <tr style=\"text-align: right;\">\n",
       "      <th></th>\n",
       "      <th>param_C</th>\n",
       "      <th>param_kernel</th>\n",
       "      <th>param_gamma</th>\n",
       "      <th>mean_test_score</th>\n",
       "      <th>std_test_score</th>\n",
       "    </tr>\n",
       "  </thead>\n",
       "  <tbody>\n",
       "    <tr>\n",
       "      <th>25</th>\n",
       "      <td>316.228</td>\n",
       "      <td>rbf</td>\n",
       "      <td>0.00316228</td>\n",
       "      <td>0.944568</td>\n",
       "      <td>0.004835</td>\n",
       "    </tr>\n",
       "    <tr>\n",
       "      <th>43</th>\n",
       "      <td>100000</td>\n",
       "      <td>rbf</td>\n",
       "      <td>0.000177828</td>\n",
       "      <td>0.944321</td>\n",
       "      <td>0.003522</td>\n",
       "    </tr>\n",
       "    <tr>\n",
       "      <th>33</th>\n",
       "      <td>5623.41</td>\n",
       "      <td>rbf</td>\n",
       "      <td>0.000177828</td>\n",
       "      <td>0.943580</td>\n",
       "      <td>0.005679</td>\n",
       "    </tr>\n",
       "    <tr>\n",
       "      <th>35</th>\n",
       "      <td>5623.41</td>\n",
       "      <td>rbf</td>\n",
       "      <td>0.00316228</td>\n",
       "      <td>0.940247</td>\n",
       "      <td>0.002826</td>\n",
       "    </tr>\n",
       "    <tr>\n",
       "      <th>41</th>\n",
       "      <td>100000</td>\n",
       "      <td>rbf</td>\n",
       "      <td>1e-05</td>\n",
       "      <td>0.936420</td>\n",
       "      <td>0.004701</td>\n",
       "    </tr>\n",
       "    <tr>\n",
       "      <th>40</th>\n",
       "      <td>100000</td>\n",
       "      <td>sigmoid</td>\n",
       "      <td>1e-05</td>\n",
       "      <td>0.930494</td>\n",
       "      <td>0.002989</td>\n",
       "    </tr>\n",
       "    <tr>\n",
       "      <th>17</th>\n",
       "      <td>17.7828</td>\n",
       "      <td>rbf</td>\n",
       "      <td>0.0562341</td>\n",
       "      <td>0.930247</td>\n",
       "      <td>0.001746</td>\n",
       "    </tr>\n",
       "    <tr>\n",
       "      <th>15</th>\n",
       "      <td>17.7828</td>\n",
       "      <td>rbf</td>\n",
       "      <td>0.00316228</td>\n",
       "      <td>0.930123</td>\n",
       "      <td>0.004543</td>\n",
       "    </tr>\n",
       "    <tr>\n",
       "      <th>7</th>\n",
       "      <td>1</td>\n",
       "      <td>rbf</td>\n",
       "      <td>0.0562341</td>\n",
       "      <td>0.928765</td>\n",
       "      <td>0.003675</td>\n",
       "    </tr>\n",
       "    <tr>\n",
       "      <th>23</th>\n",
       "      <td>316.228</td>\n",
       "      <td>rbf</td>\n",
       "      <td>0.000177828</td>\n",
       "      <td>0.925802</td>\n",
       "      <td>0.003501</td>\n",
       "    </tr>\n",
       "  </tbody>\n",
       "</table>\n",
       "</div>"
      ],
      "text/plain": [
       "    param_C param_kernel  param_gamma  mean_test_score  std_test_score\n",
       "25  316.228          rbf   0.00316228         0.944568        0.004835\n",
       "43   100000          rbf  0.000177828         0.944321        0.003522\n",
       "33  5623.41          rbf  0.000177828         0.943580        0.005679\n",
       "35  5623.41          rbf   0.00316228         0.940247        0.002826\n",
       "41   100000          rbf        1e-05         0.936420        0.004701\n",
       "40   100000      sigmoid        1e-05         0.930494        0.002989\n",
       "17  17.7828          rbf    0.0562341         0.930247        0.001746\n",
       "15  17.7828          rbf   0.00316228         0.930123        0.004543\n",
       "7         1          rbf    0.0562341         0.928765        0.003675\n",
       "23  316.228          rbf  0.000177828         0.925802        0.003501"
      ]
     },
     "metadata": {},
     "output_type": "display_data"
    },
    {
     "name": "stdout",
     "output_type": "stream",
     "text": [
      "We can expect an accuracy close to 94.5% on the testing set with the following parameters: \n",
      "{'C': 316.22776601683796, 'gamma': 0.0031622776601683794, 'kernel': 'rbf'}. \n",
      "The tuning time is 543.2 sec.\n"
     ]
    }
   ],
   "source": [
    "# Collect results in a DataFrame\n",
    "cv_results = pd.DataFrame(svm_cv.cv_results_)\n",
    "\n",
    "# getting the columns of interest:\n",
    "cols = []\n",
    "for i in range(len(grid.keys())):\n",
    "    cols.append('param_'+list(grid.keys())[i]) \n",
    "cols.append('mean_test_score')\n",
    "cols.append('std_test_score')\n",
    "\n",
    "# printing the results\n",
    "display(cv_results[cols].sort_values('mean_test_score', ascending=False).head(10))\n",
    "print(\"We can expect an accuracy close to {:.1f}% on the testing set with the following parameters: \\n{}. \\nThe tuning time is {} sec.\".format(max(cv_results['mean_test_score']*100), svm_cv.best_params_, round(svm_tune_time, 1)))"
   ]
  },
  {
   "cell_type": "code",
   "execution_count": 40,
   "metadata": {},
   "outputs": [],
   "source": [
    "svm = SVC(\n",
    "    **svm_cv.best_params_, random_state=0, probability=True\n",
    ")"
   ]
  },
  {
   "cell_type": "code",
   "execution_count": 41,
   "metadata": {},
   "outputs": [],
   "source": [
    "start_time = time.time()\n",
    "svm.fit(X_tr, y_tr)\n",
    "svm_train_time = time.time() - start_time"
   ]
  },
  {
   "cell_type": "code",
   "execution_count": 42,
   "metadata": {},
   "outputs": [
    {
     "name": "stdout",
     "output_type": "stream",
     "text": [
      "Accuracy on Testing Set: accuracy: 95.4%.\n"
     ]
    }
   ],
   "source": [
    "svm_accuracy = svm.score(X_te, y_te)\n",
    "print('Accuracy on Testing Set: accuracy: {:.1f}%.'.format(svm_accuracy*100))"
   ]
  },
  {
   "cell_type": "code",
   "execution_count": 43,
   "metadata": {},
   "outputs": [
    {
     "data": {
      "text/html": [
       "<div>\n",
       "<style scoped>\n",
       "    .dataframe tbody tr th:only-of-type {\n",
       "        vertical-align: middle;\n",
       "    }\n",
       "\n",
       "    .dataframe tbody tr th {\n",
       "        vertical-align: top;\n",
       "    }\n",
       "\n",
       "    .dataframe thead th {\n",
       "        text-align: right;\n",
       "    }\n",
       "</style>\n",
       "<table border=\"1\" class=\"dataframe\">\n",
       "  <thead>\n",
       "    <tr style=\"text-align: right;\">\n",
       "      <th></th>\n",
       "      <th>easy_grp</th>\n",
       "      <th>middle_grp</th>\n",
       "      <th>hard_grp</th>\n",
       "    </tr>\n",
       "  </thead>\n",
       "  <tbody>\n",
       "    <tr>\n",
       "      <th>easy_grp</th>\n",
       "      <td>1.000</td>\n",
       "      <td>0.000</td>\n",
       "      <td>0.000</td>\n",
       "    </tr>\n",
       "    <tr>\n",
       "      <th>middle_grp</th>\n",
       "      <td>0.003</td>\n",
       "      <td>0.929</td>\n",
       "      <td>0.159</td>\n",
       "    </tr>\n",
       "    <tr>\n",
       "      <th>hard_grp</th>\n",
       "      <td>0.007</td>\n",
       "      <td>0.021</td>\n",
       "      <td>0.940</td>\n",
       "    </tr>\n",
       "  </tbody>\n",
       "</table>\n",
       "</div>"
      ],
      "text/plain": [
       "            easy_grp  middle_grp  hard_grp\n",
       "easy_grp       1.000       0.000     0.000\n",
       "middle_grp     0.003       0.929     0.159\n",
       "hard_grp       0.007       0.021     0.940"
      ]
     },
     "execution_count": 43,
     "metadata": {},
     "output_type": "execute_result"
    }
   ],
   "source": [
    "svm_conf=pd.DataFrame(confusion_matrix(svm.predict(X_te), y_te), index=var_grps, columns=var_grps)/100\n",
    "round(svm_conf / svm_conf.astype(np.float).sum(axis=1),3)"
   ]
  },
  {
   "cell_type": "code",
   "execution_count": 44,
   "metadata": {},
   "outputs": [
    {
     "data": {
      "text/html": [
       "<div>\n",
       "<style scoped>\n",
       "    .dataframe tbody tr th:only-of-type {\n",
       "        vertical-align: middle;\n",
       "    }\n",
       "\n",
       "    .dataframe tbody tr th {\n",
       "        vertical-align: top;\n",
       "    }\n",
       "\n",
       "    .dataframe thead th {\n",
       "        text-align: right;\n",
       "    }\n",
       "</style>\n",
       "<table border=\"1\" class=\"dataframe\">\n",
       "  <thead>\n",
       "    <tr style=\"text-align: right;\">\n",
       "      <th></th>\n",
       "      <th>f1-score</th>\n",
       "      <th>precision</th>\n",
       "      <th>recall</th>\n",
       "      <th>support</th>\n",
       "    </tr>\n",
       "  </thead>\n",
       "  <tbody>\n",
       "    <tr>\n",
       "      <th>easy_grp</th>\n",
       "      <td>0.995</td>\n",
       "      <td>0.990</td>\n",
       "      <td>1.000</td>\n",
       "      <td>297.0</td>\n",
       "    </tr>\n",
       "    <tr>\n",
       "      <th>hard_grp</th>\n",
       "      <td>0.952</td>\n",
       "      <td>0.978</td>\n",
       "      <td>0.929</td>\n",
       "      <td>421.0</td>\n",
       "    </tr>\n",
       "    <tr>\n",
       "      <th>middle_grp</th>\n",
       "      <td>0.895</td>\n",
       "      <td>0.855</td>\n",
       "      <td>0.940</td>\n",
       "      <td>182.0</td>\n",
       "    </tr>\n",
       "    <tr>\n",
       "      <th>micro avg</th>\n",
       "      <td>0.954</td>\n",
       "      <td>0.954</td>\n",
       "      <td>0.954</td>\n",
       "      <td>900.0</td>\n",
       "    </tr>\n",
       "    <tr>\n",
       "      <th>macro avg</th>\n",
       "      <td>0.948</td>\n",
       "      <td>0.941</td>\n",
       "      <td>0.956</td>\n",
       "      <td>900.0</td>\n",
       "    </tr>\n",
       "    <tr>\n",
       "      <th>weighted avg</th>\n",
       "      <td>0.955</td>\n",
       "      <td>0.957</td>\n",
       "      <td>0.954</td>\n",
       "      <td>900.0</td>\n",
       "    </tr>\n",
       "  </tbody>\n",
       "</table>\n",
       "</div>"
      ],
      "text/plain": [
       "              f1-score  precision  recall  support\n",
       "easy_grp         0.995      0.990   1.000    297.0\n",
       "hard_grp         0.952      0.978   0.929    421.0\n",
       "middle_grp       0.895      0.855   0.940    182.0\n",
       "micro avg        0.954      0.954   0.954    900.0\n",
       "macro avg        0.948      0.941   0.956    900.0\n",
       "weighted avg     0.955      0.957   0.954    900.0"
      ]
     },
     "execution_count": 44,
     "metadata": {},
     "output_type": "execute_result"
    }
   ],
   "source": [
    "svm_metrics=pd.DataFrame(classification_report(svm.predict(X_te), y_te, output_dict=True)).T.round(3)\n",
    "svm_metrics"
   ]
  },
  {
   "cell_type": "markdown",
   "metadata": {},
   "source": [
    "# Neural Network with Sklearn"
   ]
  },
  {
   "cell_type": "code",
   "execution_count": 45,
   "metadata": {},
   "outputs": [],
   "source": [
    "# Define our steps\n",
    "model = MLPClassifier()\n",
    "\n",
    "# grid \n",
    "grid = {'hidden_layer_sizes': [5,10,15,20,50,100],\n",
    "        'alpha': np.logspace(-5,5,5),\n",
    "        'solver': ['adam', 'sgd'],\n",
    "        'activation': ['logistic', 'relu'],\n",
    "        'early_stopping': [True]\n",
    "       }  \n",
    "\n",
    "# Grid search\n",
    "nnet_cv = GridSearchCV(\n",
    "    model, \n",
    "    grid, \n",
    "    cv=kfold,    \n",
    "    verbose = 1,\n",
    "    n_jobs = -1)"
   ]
  },
  {
   "cell_type": "code",
   "execution_count": 46,
   "metadata": {},
   "outputs": [
    {
     "name": "stdout",
     "output_type": "stream",
     "text": [
      "Fitting 5 folds for each of 120 candidates, totalling 600 fits\n"
     ]
    },
    {
     "name": "stderr",
     "output_type": "stream",
     "text": [
      "[Parallel(n_jobs=-1)]: Using backend LokyBackend with 8 concurrent workers.\n",
      "[Parallel(n_jobs=-1)]: Done  34 tasks      | elapsed:   18.3s\n",
      "[Parallel(n_jobs=-1)]: Done 184 tasks      | elapsed:  4.6min\n",
      "[Parallel(n_jobs=-1)]: Done 434 tasks      | elapsed:  6.8min\n",
      "[Parallel(n_jobs=-1)]: Done 600 out of 600 | elapsed:  7.6min finished\n"
     ]
    }
   ],
   "source": [
    "start_time = time.time()\n",
    "nnet_cv.fit(X_tr, y_tr)\n",
    "nnet_tune_time = time.time() - start_time"
   ]
  },
  {
   "cell_type": "code",
   "execution_count": 47,
   "metadata": {},
   "outputs": [
    {
     "name": "stderr",
     "output_type": "stream",
     "text": [
      "/opt/anaconda3/envs/exts-ml/lib/python3.6/site-packages/sklearn/utils/deprecation.py:125: FutureWarning: You are accessing a training score ('split0_train_score'), which will not be available by default any more in 0.21. If you need training scores, please set return_train_score=True\n",
      "  warnings.warn(*warn_args, **warn_kwargs)\n",
      "/opt/anaconda3/envs/exts-ml/lib/python3.6/site-packages/sklearn/utils/deprecation.py:125: FutureWarning: You are accessing a training score ('split1_train_score'), which will not be available by default any more in 0.21. If you need training scores, please set return_train_score=True\n",
      "  warnings.warn(*warn_args, **warn_kwargs)\n",
      "/opt/anaconda3/envs/exts-ml/lib/python3.6/site-packages/sklearn/utils/deprecation.py:125: FutureWarning: You are accessing a training score ('split2_train_score'), which will not be available by default any more in 0.21. If you need training scores, please set return_train_score=True\n",
      "  warnings.warn(*warn_args, **warn_kwargs)\n",
      "/opt/anaconda3/envs/exts-ml/lib/python3.6/site-packages/sklearn/utils/deprecation.py:125: FutureWarning: You are accessing a training score ('split3_train_score'), which will not be available by default any more in 0.21. If you need training scores, please set return_train_score=True\n",
      "  warnings.warn(*warn_args, **warn_kwargs)\n",
      "/opt/anaconda3/envs/exts-ml/lib/python3.6/site-packages/sklearn/utils/deprecation.py:125: FutureWarning: You are accessing a training score ('split4_train_score'), which will not be available by default any more in 0.21. If you need training scores, please set return_train_score=True\n",
      "  warnings.warn(*warn_args, **warn_kwargs)\n",
      "/opt/anaconda3/envs/exts-ml/lib/python3.6/site-packages/sklearn/utils/deprecation.py:125: FutureWarning: You are accessing a training score ('mean_train_score'), which will not be available by default any more in 0.21. If you need training scores, please set return_train_score=True\n",
      "  warnings.warn(*warn_args, **warn_kwargs)\n",
      "/opt/anaconda3/envs/exts-ml/lib/python3.6/site-packages/sklearn/utils/deprecation.py:125: FutureWarning: You are accessing a training score ('std_train_score'), which will not be available by default any more in 0.21. If you need training scores, please set return_train_score=True\n",
      "  warnings.warn(*warn_args, **warn_kwargs)\n"
     ]
    },
    {
     "data": {
      "text/html": [
       "<div>\n",
       "<style scoped>\n",
       "    .dataframe tbody tr th:only-of-type {\n",
       "        vertical-align: middle;\n",
       "    }\n",
       "\n",
       "    .dataframe tbody tr th {\n",
       "        vertical-align: top;\n",
       "    }\n",
       "\n",
       "    .dataframe thead th {\n",
       "        text-align: right;\n",
       "    }\n",
       "</style>\n",
       "<table border=\"1\" class=\"dataframe\">\n",
       "  <thead>\n",
       "    <tr style=\"text-align: right;\">\n",
       "      <th></th>\n",
       "      <th>param_hidden_layer_sizes</th>\n",
       "      <th>param_alpha</th>\n",
       "      <th>param_solver</th>\n",
       "      <th>param_activation</th>\n",
       "      <th>param_early_stopping</th>\n",
       "      <th>mean_test_score</th>\n",
       "      <th>std_test_score</th>\n",
       "    </tr>\n",
       "  </thead>\n",
       "  <tbody>\n",
       "    <tr>\n",
       "      <th>70</th>\n",
       "      <td>100</td>\n",
       "      <td>1e-05</td>\n",
       "      <td>adam</td>\n",
       "      <td>relu</td>\n",
       "      <td>True</td>\n",
       "      <td>0.891481</td>\n",
       "      <td>0.012459</td>\n",
       "    </tr>\n",
       "    <tr>\n",
       "      <th>22</th>\n",
       "      <td>100</td>\n",
       "      <td>0.00316228</td>\n",
       "      <td>adam</td>\n",
       "      <td>logistic</td>\n",
       "      <td>True</td>\n",
       "      <td>0.883086</td>\n",
       "      <td>0.013289</td>\n",
       "    </tr>\n",
       "    <tr>\n",
       "      <th>82</th>\n",
       "      <td>100</td>\n",
       "      <td>0.00316228</td>\n",
       "      <td>adam</td>\n",
       "      <td>relu</td>\n",
       "      <td>True</td>\n",
       "      <td>0.882222</td>\n",
       "      <td>0.013033</td>\n",
       "    </tr>\n",
       "    <tr>\n",
       "      <th>80</th>\n",
       "      <td>50</td>\n",
       "      <td>0.00316228</td>\n",
       "      <td>adam</td>\n",
       "      <td>relu</td>\n",
       "      <td>True</td>\n",
       "      <td>0.880123</td>\n",
       "      <td>0.022364</td>\n",
       "    </tr>\n",
       "    <tr>\n",
       "      <th>94</th>\n",
       "      <td>100</td>\n",
       "      <td>1</td>\n",
       "      <td>adam</td>\n",
       "      <td>relu</td>\n",
       "      <td>True</td>\n",
       "      <td>0.879012</td>\n",
       "      <td>0.007114</td>\n",
       "    </tr>\n",
       "    <tr>\n",
       "      <th>10</th>\n",
       "      <td>100</td>\n",
       "      <td>1e-05</td>\n",
       "      <td>adam</td>\n",
       "      <td>logistic</td>\n",
       "      <td>True</td>\n",
       "      <td>0.878519</td>\n",
       "      <td>0.023797</td>\n",
       "    </tr>\n",
       "    <tr>\n",
       "      <th>8</th>\n",
       "      <td>50</td>\n",
       "      <td>1e-05</td>\n",
       "      <td>adam</td>\n",
       "      <td>logistic</td>\n",
       "      <td>True</td>\n",
       "      <td>0.872222</td>\n",
       "      <td>0.017912</td>\n",
       "    </tr>\n",
       "    <tr>\n",
       "      <th>92</th>\n",
       "      <td>50</td>\n",
       "      <td>1</td>\n",
       "      <td>adam</td>\n",
       "      <td>relu</td>\n",
       "      <td>True</td>\n",
       "      <td>0.871605</td>\n",
       "      <td>0.015699</td>\n",
       "    </tr>\n",
       "    <tr>\n",
       "      <th>68</th>\n",
       "      <td>50</td>\n",
       "      <td>1e-05</td>\n",
       "      <td>adam</td>\n",
       "      <td>relu</td>\n",
       "      <td>True</td>\n",
       "      <td>0.868889</td>\n",
       "      <td>0.008778</td>\n",
       "    </tr>\n",
       "    <tr>\n",
       "      <th>20</th>\n",
       "      <td>50</td>\n",
       "      <td>0.00316228</td>\n",
       "      <td>adam</td>\n",
       "      <td>logistic</td>\n",
       "      <td>True</td>\n",
       "      <td>0.864815</td>\n",
       "      <td>0.013095</td>\n",
       "    </tr>\n",
       "  </tbody>\n",
       "</table>\n",
       "</div>"
      ],
      "text/plain": [
       "   param_hidden_layer_sizes param_alpha param_solver param_activation  \\\n",
       "70                      100       1e-05         adam             relu   \n",
       "22                      100  0.00316228         adam         logistic   \n",
       "82                      100  0.00316228         adam             relu   \n",
       "80                       50  0.00316228         adam             relu   \n",
       "94                      100           1         adam             relu   \n",
       "10                      100       1e-05         adam         logistic   \n",
       "8                        50       1e-05         adam         logistic   \n",
       "92                       50           1         adam             relu   \n",
       "68                       50       1e-05         adam             relu   \n",
       "20                       50  0.00316228         adam         logistic   \n",
       "\n",
       "   param_early_stopping  mean_test_score  std_test_score  \n",
       "70                 True         0.891481        0.012459  \n",
       "22                 True         0.883086        0.013289  \n",
       "82                 True         0.882222        0.013033  \n",
       "80                 True         0.880123        0.022364  \n",
       "94                 True         0.879012        0.007114  \n",
       "10                 True         0.878519        0.023797  \n",
       "8                  True         0.872222        0.017912  \n",
       "92                 True         0.871605        0.015699  \n",
       "68                 True         0.868889        0.008778  \n",
       "20                 True         0.864815        0.013095  "
      ]
     },
     "metadata": {},
     "output_type": "display_data"
    },
    {
     "name": "stdout",
     "output_type": "stream",
     "text": [
      "We can expect an accuracy close to 89.1% on the testing set with the following parameters: \n",
      "{'activation': 'relu', 'alpha': 1e-05, 'early_stopping': True, 'hidden_layer_sizes': 100, 'solver': 'adam'}. \n",
      "The tuning time is 462.5 sec.\n"
     ]
    }
   ],
   "source": [
    "# Collect results in a DataFrame\n",
    "cv_results = pd.DataFrame(nnet_cv.cv_results_)\n",
    "\n",
    "# getting the columns of interest:\n",
    "cols = []\n",
    "for i in range(len(grid.keys())):\n",
    "    cols.append('param_'+list(grid.keys())[i]) \n",
    "cols.append('mean_test_score')\n",
    "cols.append('std_test_score')\n",
    "\n",
    "# printing the results\n",
    "display(cv_results[cols].sort_values('mean_test_score', ascending=False).head(10))\n",
    "print(\"We can expect an accuracy close to {:.1f}% on the testing set with the following parameters: \\n{}. \\nThe tuning time is {} sec.\".format(max(cv_results['mean_test_score']*100), nnet_cv.best_params_, round(nnet_tune_time, 1)))"
   ]
  },
  {
   "cell_type": "code",
   "execution_count": 48,
   "metadata": {},
   "outputs": [],
   "source": [
    "nnet = MLPClassifier(\n",
    "    **nnet_cv.best_params_, random_state=0)"
   ]
  },
  {
   "cell_type": "code",
   "execution_count": 49,
   "metadata": {},
   "outputs": [],
   "source": [
    "start_time = time.time()\n",
    "nnet.fit(X_tr, y_tr)\n",
    "nnet_train_time = time.time() - start_time"
   ]
  },
  {
   "cell_type": "code",
   "execution_count": 50,
   "metadata": {},
   "outputs": [
    {
     "name": "stdout",
     "output_type": "stream",
     "text": [
      "Accuracy on Testing Set: accuracy: 92.3%.\n"
     ]
    }
   ],
   "source": [
    "nnet_accuracy = nnet.score(X_te, y_te)\n",
    "print('Accuracy on Testing Set: accuracy: {:.1f}%.'.format(nnet_accuracy*100))"
   ]
  },
  {
   "cell_type": "code",
   "execution_count": 51,
   "metadata": {},
   "outputs": [
    {
     "data": {
      "text/html": [
       "<div>\n",
       "<style scoped>\n",
       "    .dataframe tbody tr th:only-of-type {\n",
       "        vertical-align: middle;\n",
       "    }\n",
       "\n",
       "    .dataframe tbody tr th {\n",
       "        vertical-align: top;\n",
       "    }\n",
       "\n",
       "    .dataframe thead th {\n",
       "        text-align: right;\n",
       "    }\n",
       "</style>\n",
       "<table border=\"1\" class=\"dataframe\">\n",
       "  <thead>\n",
       "    <tr style=\"text-align: right;\">\n",
       "      <th></th>\n",
       "      <th>easy_grp</th>\n",
       "      <th>middle_grp</th>\n",
       "      <th>hard_grp</th>\n",
       "    </tr>\n",
       "  </thead>\n",
       "  <tbody>\n",
       "    <tr>\n",
       "      <th>easy_grp</th>\n",
       "      <td>0.993</td>\n",
       "      <td>0.005</td>\n",
       "      <td>0.000</td>\n",
       "    </tr>\n",
       "    <tr>\n",
       "      <th>middle_grp</th>\n",
       "      <td>0.020</td>\n",
       "      <td>0.895</td>\n",
       "      <td>0.205</td>\n",
       "    </tr>\n",
       "    <tr>\n",
       "      <th>hard_grp</th>\n",
       "      <td>0.007</td>\n",
       "      <td>0.050</td>\n",
       "      <td>0.876</td>\n",
       "    </tr>\n",
       "  </tbody>\n",
       "</table>\n",
       "</div>"
      ],
      "text/plain": [
       "            easy_grp  middle_grp  hard_grp\n",
       "easy_grp       0.993       0.005     0.000\n",
       "middle_grp     0.020       0.895     0.205\n",
       "hard_grp       0.007       0.050     0.876"
      ]
     },
     "execution_count": 51,
     "metadata": {},
     "output_type": "execute_result"
    }
   ],
   "source": [
    "nnet_conf=pd.DataFrame(confusion_matrix(nnet.predict(X_te), y_te), index=var_grps, columns=var_grps)/100\n",
    "round(nnet_conf / nnet_conf.astype(np.float).sum(axis=1),3)"
   ]
  },
  {
   "cell_type": "code",
   "execution_count": 52,
   "metadata": {},
   "outputs": [
    {
     "data": {
      "text/html": [
       "<div>\n",
       "<style scoped>\n",
       "    .dataframe tbody tr th:only-of-type {\n",
       "        vertical-align: middle;\n",
       "    }\n",
       "\n",
       "    .dataframe tbody tr th {\n",
       "        vertical-align: top;\n",
       "    }\n",
       "\n",
       "    .dataframe thead th {\n",
       "        text-align: right;\n",
       "    }\n",
       "</style>\n",
       "<table border=\"1\" class=\"dataframe\">\n",
       "  <thead>\n",
       "    <tr style=\"text-align: right;\">\n",
       "      <th></th>\n",
       "      <th>f1-score</th>\n",
       "      <th>precision</th>\n",
       "      <th>recall</th>\n",
       "      <th>support</th>\n",
       "    </tr>\n",
       "  </thead>\n",
       "  <tbody>\n",
       "    <tr>\n",
       "      <th>easy_grp</th>\n",
       "      <td>0.983</td>\n",
       "      <td>0.973</td>\n",
       "      <td>0.993</td>\n",
       "      <td>294.0</td>\n",
       "    </tr>\n",
       "    <tr>\n",
       "      <th>hard_grp</th>\n",
       "      <td>0.918</td>\n",
       "      <td>0.942</td>\n",
       "      <td>0.895</td>\n",
       "      <td>421.0</td>\n",
       "    </tr>\n",
       "    <tr>\n",
       "      <th>middle_grp</th>\n",
       "      <td>0.842</td>\n",
       "      <td>0.810</td>\n",
       "      <td>0.876</td>\n",
       "      <td>185.0</td>\n",
       "    </tr>\n",
       "    <tr>\n",
       "      <th>micro avg</th>\n",
       "      <td>0.923</td>\n",
       "      <td>0.923</td>\n",
       "      <td>0.923</td>\n",
       "      <td>900.0</td>\n",
       "    </tr>\n",
       "    <tr>\n",
       "      <th>macro avg</th>\n",
       "      <td>0.914</td>\n",
       "      <td>0.909</td>\n",
       "      <td>0.921</td>\n",
       "      <td>900.0</td>\n",
       "    </tr>\n",
       "    <tr>\n",
       "      <th>weighted avg</th>\n",
       "      <td>0.924</td>\n",
       "      <td>0.925</td>\n",
       "      <td>0.923</td>\n",
       "      <td>900.0</td>\n",
       "    </tr>\n",
       "  </tbody>\n",
       "</table>\n",
       "</div>"
      ],
      "text/plain": [
       "              f1-score  precision  recall  support\n",
       "easy_grp         0.983      0.973   0.993    294.0\n",
       "hard_grp         0.918      0.942   0.895    421.0\n",
       "middle_grp       0.842      0.810   0.876    185.0\n",
       "micro avg        0.923      0.923   0.923    900.0\n",
       "macro avg        0.914      0.909   0.921    900.0\n",
       "weighted avg     0.924      0.925   0.923    900.0"
      ]
     },
     "execution_count": 52,
     "metadata": {},
     "output_type": "execute_result"
    }
   ],
   "source": [
    "nnet_metrics=pd.DataFrame(classification_report(nnet.predict(X_te), y_te, output_dict=True)).T.round(3)\n",
    "nnet_metrics"
   ]
  },
  {
   "cell_type": "markdown",
   "metadata": {},
   "source": [
    "# Intermediary results"
   ]
  },
  {
   "cell_type": "code",
   "execution_count": 53,
   "metadata": {},
   "outputs": [],
   "source": [
    "dt_scores_avg=list(dt_metrics.loc['weighted avg',:])[:3]\n",
    "#dt_scores_blitz=list(dt_metrics.loc['blitz',:])\n",
    "logistic_scores_avg=list(logistic_metrics.loc['weighted avg',:])[:3]\n",
    "#logistic_scores_blitz=list(logistic_metrics.loc['blitz',:])\n",
    "rf_scores_avg=list(rf_metrics.loc['weighted avg',:])[:3]\n",
    "#rf_scores_blitz=list(rf_metrics.loc['blitz',:])\n",
    "svm_scores_avg=list(svm_metrics.loc['weighted avg',:])[:3]\n",
    "#svm_scores_blitz=list(svm_metrics.loc['blitz',:])\n",
    "nnet_scores_avg=list(nnet_metrics.loc['weighted avg',:])[:3]\n",
    "#nnet_scores_blitz=list(nnet_metrics.loc['blitz',:])"
   ]
  },
  {
   "cell_type": "code",
   "execution_count": 54,
   "metadata": {},
   "outputs": [
    {
     "data": {
      "text/html": [
       "<div>\n",
       "<style scoped>\n",
       "    .dataframe tbody tr th:only-of-type {\n",
       "        vertical-align: middle;\n",
       "    }\n",
       "\n",
       "    .dataframe tbody tr th {\n",
       "        vertical-align: top;\n",
       "    }\n",
       "\n",
       "    .dataframe thead th {\n",
       "        text-align: right;\n",
       "    }\n",
       "</style>\n",
       "<table border=\"1\" class=\"dataframe\">\n",
       "  <thead>\n",
       "    <tr style=\"text-align: right;\">\n",
       "      <th></th>\n",
       "      <th>Accuracy</th>\n",
       "      <th>Tuning time</th>\n",
       "      <th>Training time</th>\n",
       "      <th>f1_avg</th>\n",
       "      <th>precision_avg</th>\n",
       "      <th>recall_avg</th>\n",
       "    </tr>\n",
       "  </thead>\n",
       "  <tbody>\n",
       "    <tr>\n",
       "      <th>SVM</th>\n",
       "      <td>0.954</td>\n",
       "      <td>543.243</td>\n",
       "      <td>19.242</td>\n",
       "      <td>0.955</td>\n",
       "      <td>0.957</td>\n",
       "      <td>0.954</td>\n",
       "    </tr>\n",
       "    <tr>\n",
       "      <th>NN</th>\n",
       "      <td>0.923</td>\n",
       "      <td>462.544</td>\n",
       "      <td>11.842</td>\n",
       "      <td>0.924</td>\n",
       "      <td>0.925</td>\n",
       "      <td>0.923</td>\n",
       "    </tr>\n",
       "    <tr>\n",
       "      <th>random forest</th>\n",
       "      <td>0.906</td>\n",
       "      <td>154.632</td>\n",
       "      <td>7.613</td>\n",
       "      <td>0.908</td>\n",
       "      <td>0.922</td>\n",
       "      <td>0.906</td>\n",
       "    </tr>\n",
       "    <tr>\n",
       "      <th>decision tree</th>\n",
       "      <td>0.894</td>\n",
       "      <td>5.041</td>\n",
       "      <td>0.044</td>\n",
       "      <td>0.897</td>\n",
       "      <td>0.907</td>\n",
       "      <td>0.894</td>\n",
       "    </tr>\n",
       "    <tr>\n",
       "      <th>logistic</th>\n",
       "      <td>0.890</td>\n",
       "      <td>9.216</td>\n",
       "      <td>1.280</td>\n",
       "      <td>0.893</td>\n",
       "      <td>0.904</td>\n",
       "      <td>0.890</td>\n",
       "    </tr>\n",
       "  </tbody>\n",
       "</table>\n",
       "</div>"
      ],
      "text/plain": [
       "               Accuracy  Tuning time  Training time  f1_avg  precision_avg  \\\n",
       "SVM               0.954      543.243         19.242   0.955          0.957   \n",
       "NN                0.923      462.544         11.842   0.924          0.925   \n",
       "random forest     0.906      154.632          7.613   0.908          0.922   \n",
       "decision tree     0.894        5.041          0.044   0.897          0.907   \n",
       "logistic          0.890        9.216          1.280   0.893          0.904   \n",
       "\n",
       "               recall_avg  \n",
       "SVM                 0.954  \n",
       "NN                  0.923  \n",
       "random forest       0.906  \n",
       "decision tree       0.894  \n",
       "logistic            0.890  "
      ]
     },
     "execution_count": 54,
     "metadata": {},
     "output_type": "execute_result"
    }
   ],
   "source": [
    "results_full=pd.DataFrame({\n",
    "              'decision tree': [dt_accuracy, dt_tune_time, dt_train_time, dt_scores_avg[0], dt_scores_avg[1], dt_scores_avg[2]],\n",
    "              'logistic': [logistic_accuracy, logistic_tune_time, logistic_train_time, logistic_scores_avg[0], logistic_scores_avg[1], logistic_scores_avg[2]],\n",
    "              'random forest': [rf_accuracy, rf_tune_time, rf_train_time, rf_scores_avg[0], rf_scores_avg[1], rf_scores_avg[2]],\n",
    "              'SVM': [svm_accuracy, svm_tune_time, svm_train_time, svm_scores_avg[0], svm_scores_avg[1], svm_scores_avg[2]],\n",
    "              'NN': [nnet_accuracy, nnet_tune_time, nnet_train_time, nnet_scores_avg[0], nnet_scores_avg[1], nnet_scores_avg[2]],\n",
    "}, index = ['Accuracy', 'Tuning time', 'Training time', 'f1_avg', 'precision_avg', 'recall_avg']).round(3).T.sort_values('Accuracy', ascending=False)\n",
    "results_full"
   ]
  },
  {
   "cell_type": "markdown",
   "metadata": {},
   "source": [
    "# 2nd step"
   ]
  },
  {
   "cell_type": "code",
   "execution_count": 55,
   "metadata": {},
   "outputs": [],
   "source": [
    "model_step1 = SVC(\n",
    "    **svm_cv.best_params_, random_state=0)"
   ]
  },
  {
   "cell_type": "code",
   "execution_count": 56,
   "metadata": {},
   "outputs": [
    {
     "data": {
      "text/plain": [
       "SVC(C=316.22776601683796, cache_size=200, class_weight=None, coef0=0.0,\n",
       "  decision_function_shape='ovr', degree=3, gamma=0.0031622776601683794,\n",
       "  kernel='rbf', max_iter=-1, probability=False, random_state=0,\n",
       "  shrinking=True, tol=0.001, verbose=False)"
      ]
     },
     "execution_count": 56,
     "metadata": {},
     "output_type": "execute_result"
    }
   ],
   "source": [
    "model_step1.fit(X_tr, y_tr)"
   ]
  },
  {
   "cell_type": "markdown",
   "metadata": {},
   "source": [
    "As explained above, we create our new dataset of interest by splitting the data accordingly. "
   ]
  },
  {
   "cell_type": "code",
   "execution_count": 57,
   "metadata": {},
   "outputs": [
    {
     "data": {
      "text/html": [
       "<div>\n",
       "<style scoped>\n",
       "    .dataframe tbody tr th:only-of-type {\n",
       "        vertical-align: middle;\n",
       "    }\n",
       "\n",
       "    .dataframe tbody tr th {\n",
       "        vertical-align: top;\n",
       "    }\n",
       "\n",
       "    .dataframe thead th {\n",
       "        text-align: right;\n",
       "    }\n",
       "</style>\n",
       "<table border=\"1\" class=\"dataframe\">\n",
       "  <thead>\n",
       "    <tr style=\"text-align: right;\">\n",
       "      <th></th>\n",
       "      <th>nb_moves</th>\n",
       "      <th>nb_K</th>\n",
       "      <th>nb_Q</th>\n",
       "      <th>nb_R</th>\n",
       "      <th>nb_B</th>\n",
       "      <th>nb_N</th>\n",
       "      <th>nb_P</th>\n",
       "      <th>nb_k</th>\n",
       "      <th>nb_q</th>\n",
       "      <th>nb_r</th>\n",
       "      <th>...</th>\n",
       "      <th>nb_pawns_third_row_c_f</th>\n",
       "      <th>nb_pawns_b_g_col</th>\n",
       "      <th>nb_pieces_center</th>\n",
       "      <th>nb_pieces_ext_center</th>\n",
       "      <th>nb_pieces_third_row_c_f</th>\n",
       "      <th>nb_pieces_b_g_col</th>\n",
       "      <th>knight_squares</th>\n",
       "      <th>king_castle_squares</th>\n",
       "      <th>nb_checks</th>\n",
       "      <th>var_grp</th>\n",
       "    </tr>\n",
       "  </thead>\n",
       "  <tbody>\n",
       "    <tr>\n",
       "      <th>1743</th>\n",
       "      <td>10</td>\n",
       "      <td>1</td>\n",
       "      <td>1</td>\n",
       "      <td>2</td>\n",
       "      <td>2</td>\n",
       "      <td>1</td>\n",
       "      <td>7</td>\n",
       "      <td>1</td>\n",
       "      <td>1</td>\n",
       "      <td>2</td>\n",
       "      <td>...</td>\n",
       "      <td>2</td>\n",
       "      <td>0</td>\n",
       "      <td>1</td>\n",
       "      <td>0</td>\n",
       "      <td>2</td>\n",
       "      <td>1</td>\n",
       "      <td>1</td>\n",
       "      <td>0</td>\n",
       "      <td>1</td>\n",
       "      <td>middle_grp</td>\n",
       "    </tr>\n",
       "    <tr>\n",
       "      <th>7772</th>\n",
       "      <td>10</td>\n",
       "      <td>0</td>\n",
       "      <td>0</td>\n",
       "      <td>0</td>\n",
       "      <td>0</td>\n",
       "      <td>0</td>\n",
       "      <td>32</td>\n",
       "      <td>1</td>\n",
       "      <td>1</td>\n",
       "      <td>2</td>\n",
       "      <td>...</td>\n",
       "      <td>3</td>\n",
       "      <td>6</td>\n",
       "      <td>0</td>\n",
       "      <td>0</td>\n",
       "      <td>0</td>\n",
       "      <td>0</td>\n",
       "      <td>1</td>\n",
       "      <td>0</td>\n",
       "      <td>0</td>\n",
       "      <td>easy_grp</td>\n",
       "    </tr>\n",
       "    <tr>\n",
       "      <th>8400</th>\n",
       "      <td>10</td>\n",
       "      <td>1</td>\n",
       "      <td>1</td>\n",
       "      <td>1</td>\n",
       "      <td>0</td>\n",
       "      <td>2</td>\n",
       "      <td>0</td>\n",
       "      <td>1</td>\n",
       "      <td>0</td>\n",
       "      <td>1</td>\n",
       "      <td>...</td>\n",
       "      <td>0</td>\n",
       "      <td>0</td>\n",
       "      <td>0</td>\n",
       "      <td>0</td>\n",
       "      <td>0</td>\n",
       "      <td>1</td>\n",
       "      <td>1</td>\n",
       "      <td>0</td>\n",
       "      <td>0</td>\n",
       "      <td>easy_grp</td>\n",
       "    </tr>\n",
       "    <tr>\n",
       "      <th>2760</th>\n",
       "      <td>10</td>\n",
       "      <td>1</td>\n",
       "      <td>1</td>\n",
       "      <td>2</td>\n",
       "      <td>1</td>\n",
       "      <td>2</td>\n",
       "      <td>7</td>\n",
       "      <td>1</td>\n",
       "      <td>1</td>\n",
       "      <td>2</td>\n",
       "      <td>...</td>\n",
       "      <td>3</td>\n",
       "      <td>2</td>\n",
       "      <td>0</td>\n",
       "      <td>2</td>\n",
       "      <td>1</td>\n",
       "      <td>0</td>\n",
       "      <td>1</td>\n",
       "      <td>0</td>\n",
       "      <td>0</td>\n",
       "      <td>hard_grp</td>\n",
       "    </tr>\n",
       "    <tr>\n",
       "      <th>7741</th>\n",
       "      <td>10</td>\n",
       "      <td>0</td>\n",
       "      <td>0</td>\n",
       "      <td>0</td>\n",
       "      <td>0</td>\n",
       "      <td>0</td>\n",
       "      <td>32</td>\n",
       "      <td>1</td>\n",
       "      <td>1</td>\n",
       "      <td>2</td>\n",
       "      <td>...</td>\n",
       "      <td>2</td>\n",
       "      <td>6</td>\n",
       "      <td>0</td>\n",
       "      <td>0</td>\n",
       "      <td>1</td>\n",
       "      <td>0</td>\n",
       "      <td>0</td>\n",
       "      <td>0</td>\n",
       "      <td>0</td>\n",
       "      <td>easy_grp</td>\n",
       "    </tr>\n",
       "  </tbody>\n",
       "</table>\n",
       "<p>5 rows × 30 columns</p>\n",
       "</div>"
      ],
      "text/plain": [
       "      nb_moves  nb_K  nb_Q  nb_R  nb_B  nb_N  nb_P  nb_k  nb_q  nb_r  ...  \\\n",
       "1743        10     1     1     2     2     1     7     1     1     2  ...   \n",
       "7772        10     0     0     0     0     0    32     1     1     2  ...   \n",
       "8400        10     1     1     1     0     2     0     1     0     1  ...   \n",
       "2760        10     1     1     2     1     2     7     1     1     2  ...   \n",
       "7741        10     0     0     0     0     0    32     1     1     2  ...   \n",
       "\n",
       "      nb_pawns_third_row_c_f  nb_pawns_b_g_col  nb_pieces_center  \\\n",
       "1743                       2                 0                 1   \n",
       "7772                       3                 6                 0   \n",
       "8400                       0                 0                 0   \n",
       "2760                       3                 2                 0   \n",
       "7741                       2                 6                 0   \n",
       "\n",
       "      nb_pieces_ext_center  nb_pieces_third_row_c_f  nb_pieces_b_g_col  \\\n",
       "1743                     0                        2                  1   \n",
       "7772                     0                        0                  0   \n",
       "8400                     0                        0                  1   \n",
       "2760                     2                        1                  0   \n",
       "7741                     0                        1                  0   \n",
       "\n",
       "      knight_squares  king_castle_squares  nb_checks     var_grp  \n",
       "1743               1                    0          1  middle_grp  \n",
       "7772               1                    0          0    easy_grp  \n",
       "8400               1                    0          0    easy_grp  \n",
       "2760               1                    0          0    hard_grp  \n",
       "7741               0                    0          0    easy_grp  \n",
       "\n",
       "[5 rows x 30 columns]"
      ]
     },
     "execution_count": 57,
     "metadata": {},
     "output_type": "execute_result"
    }
   ],
   "source": [
    "X_tr['var_grp'] = y_tr\n",
    "X_tr.head()"
   ]
  },
  {
   "cell_type": "code",
   "execution_count": 58,
   "metadata": {},
   "outputs": [
    {
     "data": {
      "text/plain": [
       "1743     crazyhouse\n",
       "7772          horde\n",
       "8400    racingKings\n",
       "2760       chess960\n",
       "7741          horde\n",
       "Name: variant, dtype: object"
      ]
     },
     "execution_count": 58,
     "metadata": {},
     "output_type": "execute_result"
    }
   ],
   "source": [
    "y_tr = tr_variant\n",
    "y_tr.head()"
   ]
  },
  {
   "cell_type": "code",
   "execution_count": 59,
   "metadata": {},
   "outputs": [
    {
     "data": {
      "text/html": [
       "<div>\n",
       "<style scoped>\n",
       "    .dataframe tbody tr th:only-of-type {\n",
       "        vertical-align: middle;\n",
       "    }\n",
       "\n",
       "    .dataframe tbody tr th {\n",
       "        vertical-align: top;\n",
       "    }\n",
       "\n",
       "    .dataframe thead th {\n",
       "        text-align: right;\n",
       "    }\n",
       "</style>\n",
       "<table border=\"1\" class=\"dataframe\">\n",
       "  <thead>\n",
       "    <tr style=\"text-align: right;\">\n",
       "      <th></th>\n",
       "      <th>nb_moves</th>\n",
       "      <th>nb_K</th>\n",
       "      <th>nb_Q</th>\n",
       "      <th>nb_R</th>\n",
       "      <th>nb_B</th>\n",
       "      <th>nb_N</th>\n",
       "      <th>nb_P</th>\n",
       "      <th>nb_k</th>\n",
       "      <th>nb_q</th>\n",
       "      <th>nb_r</th>\n",
       "      <th>...</th>\n",
       "      <th>nb_pawns_third_row_c_f</th>\n",
       "      <th>nb_pawns_b_g_col</th>\n",
       "      <th>nb_pieces_center</th>\n",
       "      <th>nb_pieces_ext_center</th>\n",
       "      <th>nb_pieces_third_row_c_f</th>\n",
       "      <th>nb_pieces_b_g_col</th>\n",
       "      <th>knight_squares</th>\n",
       "      <th>king_castle_squares</th>\n",
       "      <th>nb_checks</th>\n",
       "      <th>var_grp</th>\n",
       "    </tr>\n",
       "  </thead>\n",
       "  <tbody>\n",
       "    <tr>\n",
       "      <th>3035</th>\n",
       "      <td>10</td>\n",
       "      <td>1</td>\n",
       "      <td>1</td>\n",
       "      <td>2</td>\n",
       "      <td>1</td>\n",
       "      <td>1</td>\n",
       "      <td>8</td>\n",
       "      <td>1</td>\n",
       "      <td>1</td>\n",
       "      <td>2</td>\n",
       "      <td>...</td>\n",
       "      <td>2</td>\n",
       "      <td>0</td>\n",
       "      <td>0</td>\n",
       "      <td>0</td>\n",
       "      <td>1</td>\n",
       "      <td>1</td>\n",
       "      <td>1</td>\n",
       "      <td>0</td>\n",
       "      <td>0</td>\n",
       "      <td>hard_grp</td>\n",
       "    </tr>\n",
       "    <tr>\n",
       "      <th>8710</th>\n",
       "      <td>10</td>\n",
       "      <td>1</td>\n",
       "      <td>1</td>\n",
       "      <td>1</td>\n",
       "      <td>1</td>\n",
       "      <td>1</td>\n",
       "      <td>0</td>\n",
       "      <td>1</td>\n",
       "      <td>0</td>\n",
       "      <td>2</td>\n",
       "      <td>...</td>\n",
       "      <td>0</td>\n",
       "      <td>0</td>\n",
       "      <td>0</td>\n",
       "      <td>0</td>\n",
       "      <td>1</td>\n",
       "      <td>1</td>\n",
       "      <td>2</td>\n",
       "      <td>0</td>\n",
       "      <td>0</td>\n",
       "      <td>easy_grp</td>\n",
       "    </tr>\n",
       "    <tr>\n",
       "      <th>3382</th>\n",
       "      <td>10</td>\n",
       "      <td>1</td>\n",
       "      <td>1</td>\n",
       "      <td>2</td>\n",
       "      <td>2</td>\n",
       "      <td>2</td>\n",
       "      <td>7</td>\n",
       "      <td>1</td>\n",
       "      <td>1</td>\n",
       "      <td>2</td>\n",
       "      <td>...</td>\n",
       "      <td>2</td>\n",
       "      <td>0</td>\n",
       "      <td>0</td>\n",
       "      <td>1</td>\n",
       "      <td>2</td>\n",
       "      <td>2</td>\n",
       "      <td>2</td>\n",
       "      <td>0</td>\n",
       "      <td>0</td>\n",
       "      <td>hard_grp</td>\n",
       "    </tr>\n",
       "    <tr>\n",
       "      <th>236</th>\n",
       "      <td>10</td>\n",
       "      <td>1</td>\n",
       "      <td>0</td>\n",
       "      <td>2</td>\n",
       "      <td>2</td>\n",
       "      <td>2</td>\n",
       "      <td>5</td>\n",
       "      <td>1</td>\n",
       "      <td>0</td>\n",
       "      <td>2</td>\n",
       "      <td>...</td>\n",
       "      <td>1</td>\n",
       "      <td>0</td>\n",
       "      <td>0</td>\n",
       "      <td>1</td>\n",
       "      <td>4</td>\n",
       "      <td>1</td>\n",
       "      <td>4</td>\n",
       "      <td>1</td>\n",
       "      <td>1</td>\n",
       "      <td>hard_grp</td>\n",
       "    </tr>\n",
       "    <tr>\n",
       "      <th>620</th>\n",
       "      <td>10</td>\n",
       "      <td>1</td>\n",
       "      <td>1</td>\n",
       "      <td>2</td>\n",
       "      <td>2</td>\n",
       "      <td>2</td>\n",
       "      <td>8</td>\n",
       "      <td>1</td>\n",
       "      <td>1</td>\n",
       "      <td>2</td>\n",
       "      <td>...</td>\n",
       "      <td>3</td>\n",
       "      <td>2</td>\n",
       "      <td>0</td>\n",
       "      <td>0</td>\n",
       "      <td>2</td>\n",
       "      <td>2</td>\n",
       "      <td>3</td>\n",
       "      <td>0</td>\n",
       "      <td>0</td>\n",
       "      <td>hard_grp</td>\n",
       "    </tr>\n",
       "  </tbody>\n",
       "</table>\n",
       "<p>5 rows × 30 columns</p>\n",
       "</div>"
      ],
      "text/plain": [
       "      nb_moves  nb_K  nb_Q  nb_R  nb_B  nb_N  nb_P  nb_k  nb_q  nb_r  ...  \\\n",
       "3035        10     1     1     2     1     1     8     1     1     2  ...   \n",
       "8710        10     1     1     1     1     1     0     1     0     2  ...   \n",
       "3382        10     1     1     2     2     2     7     1     1     2  ...   \n",
       "236         10     1     0     2     2     2     5     1     0     2  ...   \n",
       "620         10     1     1     2     2     2     8     1     1     2  ...   \n",
       "\n",
       "      nb_pawns_third_row_c_f  nb_pawns_b_g_col  nb_pieces_center  \\\n",
       "3035                       2                 0                 0   \n",
       "8710                       0                 0                 0   \n",
       "3382                       2                 0                 0   \n",
       "236                        1                 0                 0   \n",
       "620                        3                 2                 0   \n",
       "\n",
       "      nb_pieces_ext_center  nb_pieces_third_row_c_f  nb_pieces_b_g_col  \\\n",
       "3035                     0                        1                  1   \n",
       "8710                     0                        1                  1   \n",
       "3382                     1                        2                  2   \n",
       "236                      1                        4                  1   \n",
       "620                      0                        2                  2   \n",
       "\n",
       "      knight_squares  king_castle_squares  nb_checks   var_grp  \n",
       "3035               1                    0          0  hard_grp  \n",
       "8710               2                    0          0  easy_grp  \n",
       "3382               2                    0          0  hard_grp  \n",
       "236                4                    1          1  hard_grp  \n",
       "620                3                    0          0  hard_grp  \n",
       "\n",
       "[5 rows x 30 columns]"
      ]
     },
     "execution_count": 59,
     "metadata": {},
     "output_type": "execute_result"
    }
   ],
   "source": [
    "X_te['var_grp'] = logistic.predict(X_te)\n",
    "X_te.head()"
   ]
  },
  {
   "cell_type": "code",
   "execution_count": 60,
   "metadata": {},
   "outputs": [
    {
     "data": {
      "text/plain": [
       "3035    kingOfTheHill\n",
       "8710      racingKings\n",
       "3382    kingOfTheHill\n",
       "236             blitz\n",
       "620             blitz\n",
       "Name: variant, dtype: object"
      ]
     },
     "execution_count": 60,
     "metadata": {},
     "output_type": "execute_result"
    }
   ],
   "source": [
    "y_te = te_variant\n",
    "y_te.head()"
   ]
  },
  {
   "cell_type": "code",
   "execution_count": 61,
   "metadata": {},
   "outputs": [],
   "source": [
    "X_tr_easy = X_tr[X_tr['var_grp'] == 'easy_grp']\n",
    "X_tr_middle = X_tr[X_tr['var_grp'] == 'middle_grp']\n",
    "X_tr_hard = X_tr[X_tr['var_grp'] == 'hard_grp']"
   ]
  },
  {
   "cell_type": "code",
   "execution_count": 62,
   "metadata": {},
   "outputs": [
    {
     "data": {
      "text/html": [
       "<div>\n",
       "<style scoped>\n",
       "    .dataframe tbody tr th:only-of-type {\n",
       "        vertical-align: middle;\n",
       "    }\n",
       "\n",
       "    .dataframe tbody tr th {\n",
       "        vertical-align: top;\n",
       "    }\n",
       "\n",
       "    .dataframe thead th {\n",
       "        text-align: right;\n",
       "    }\n",
       "</style>\n",
       "<table border=\"1\" class=\"dataframe\">\n",
       "  <thead>\n",
       "    <tr style=\"text-align: right;\">\n",
       "      <th></th>\n",
       "      <th>nb_moves</th>\n",
       "      <th>nb_K</th>\n",
       "      <th>nb_Q</th>\n",
       "      <th>nb_R</th>\n",
       "      <th>nb_B</th>\n",
       "      <th>nb_N</th>\n",
       "      <th>nb_P</th>\n",
       "      <th>nb_k</th>\n",
       "      <th>nb_q</th>\n",
       "      <th>nb_r</th>\n",
       "      <th>...</th>\n",
       "      <th>nb_pawns_third_row_c_f</th>\n",
       "      <th>nb_pawns_b_g_col</th>\n",
       "      <th>nb_pieces_center</th>\n",
       "      <th>nb_pieces_ext_center</th>\n",
       "      <th>nb_pieces_third_row_c_f</th>\n",
       "      <th>nb_pieces_b_g_col</th>\n",
       "      <th>knight_squares</th>\n",
       "      <th>king_castle_squares</th>\n",
       "      <th>nb_checks</th>\n",
       "      <th>var_grp</th>\n",
       "    </tr>\n",
       "  </thead>\n",
       "  <tbody>\n",
       "    <tr>\n",
       "      <th>7772</th>\n",
       "      <td>10</td>\n",
       "      <td>0</td>\n",
       "      <td>0</td>\n",
       "      <td>0</td>\n",
       "      <td>0</td>\n",
       "      <td>0</td>\n",
       "      <td>32</td>\n",
       "      <td>1</td>\n",
       "      <td>1</td>\n",
       "      <td>2</td>\n",
       "      <td>...</td>\n",
       "      <td>3</td>\n",
       "      <td>6</td>\n",
       "      <td>0</td>\n",
       "      <td>0</td>\n",
       "      <td>0</td>\n",
       "      <td>0</td>\n",
       "      <td>1</td>\n",
       "      <td>0</td>\n",
       "      <td>0</td>\n",
       "      <td>easy_grp</td>\n",
       "    </tr>\n",
       "    <tr>\n",
       "      <th>8400</th>\n",
       "      <td>10</td>\n",
       "      <td>1</td>\n",
       "      <td>1</td>\n",
       "      <td>1</td>\n",
       "      <td>0</td>\n",
       "      <td>2</td>\n",
       "      <td>0</td>\n",
       "      <td>1</td>\n",
       "      <td>0</td>\n",
       "      <td>1</td>\n",
       "      <td>...</td>\n",
       "      <td>0</td>\n",
       "      <td>0</td>\n",
       "      <td>0</td>\n",
       "      <td>0</td>\n",
       "      <td>0</td>\n",
       "      <td>1</td>\n",
       "      <td>1</td>\n",
       "      <td>0</td>\n",
       "      <td>0</td>\n",
       "      <td>easy_grp</td>\n",
       "    </tr>\n",
       "    <tr>\n",
       "      <th>7741</th>\n",
       "      <td>10</td>\n",
       "      <td>0</td>\n",
       "      <td>0</td>\n",
       "      <td>0</td>\n",
       "      <td>0</td>\n",
       "      <td>0</td>\n",
       "      <td>32</td>\n",
       "      <td>1</td>\n",
       "      <td>1</td>\n",
       "      <td>2</td>\n",
       "      <td>...</td>\n",
       "      <td>2</td>\n",
       "      <td>6</td>\n",
       "      <td>0</td>\n",
       "      <td>0</td>\n",
       "      <td>1</td>\n",
       "      <td>0</td>\n",
       "      <td>0</td>\n",
       "      <td>0</td>\n",
       "      <td>0</td>\n",
       "      <td>easy_grp</td>\n",
       "    </tr>\n",
       "    <tr>\n",
       "      <th>6502</th>\n",
       "      <td>10</td>\n",
       "      <td>1</td>\n",
       "      <td>0</td>\n",
       "      <td>2</td>\n",
       "      <td>1</td>\n",
       "      <td>2</td>\n",
       "      <td>7</td>\n",
       "      <td>1</td>\n",
       "      <td>0</td>\n",
       "      <td>2</td>\n",
       "      <td>...</td>\n",
       "      <td>3</td>\n",
       "      <td>1</td>\n",
       "      <td>0</td>\n",
       "      <td>1</td>\n",
       "      <td>1</td>\n",
       "      <td>0</td>\n",
       "      <td>1</td>\n",
       "      <td>0</td>\n",
       "      <td>1</td>\n",
       "      <td>easy_grp</td>\n",
       "    </tr>\n",
       "    <tr>\n",
       "      <th>7470</th>\n",
       "      <td>10</td>\n",
       "      <td>0</td>\n",
       "      <td>0</td>\n",
       "      <td>0</td>\n",
       "      <td>0</td>\n",
       "      <td>0</td>\n",
       "      <td>30</td>\n",
       "      <td>1</td>\n",
       "      <td>1</td>\n",
       "      <td>2</td>\n",
       "      <td>...</td>\n",
       "      <td>5</td>\n",
       "      <td>7</td>\n",
       "      <td>0</td>\n",
       "      <td>0</td>\n",
       "      <td>0</td>\n",
       "      <td>0</td>\n",
       "      <td>1</td>\n",
       "      <td>0</td>\n",
       "      <td>0</td>\n",
       "      <td>easy_grp</td>\n",
       "    </tr>\n",
       "  </tbody>\n",
       "</table>\n",
       "<p>5 rows × 30 columns</p>\n",
       "</div>"
      ],
      "text/plain": [
       "      nb_moves  nb_K  nb_Q  nb_R  nb_B  nb_N  nb_P  nb_k  nb_q  nb_r  ...  \\\n",
       "7772        10     0     0     0     0     0    32     1     1     2  ...   \n",
       "8400        10     1     1     1     0     2     0     1     0     1  ...   \n",
       "7741        10     0     0     0     0     0    32     1     1     2  ...   \n",
       "6502        10     1     0     2     1     2     7     1     0     2  ...   \n",
       "7470        10     0     0     0     0     0    30     1     1     2  ...   \n",
       "\n",
       "      nb_pawns_third_row_c_f  nb_pawns_b_g_col  nb_pieces_center  \\\n",
       "7772                       3                 6                 0   \n",
       "8400                       0                 0                 0   \n",
       "7741                       2                 6                 0   \n",
       "6502                       3                 1                 0   \n",
       "7470                       5                 7                 0   \n",
       "\n",
       "      nb_pieces_ext_center  nb_pieces_third_row_c_f  nb_pieces_b_g_col  \\\n",
       "7772                     0                        0                  0   \n",
       "8400                     0                        0                  1   \n",
       "7741                     0                        1                  0   \n",
       "6502                     1                        1                  0   \n",
       "7470                     0                        0                  0   \n",
       "\n",
       "      knight_squares  king_castle_squares  nb_checks   var_grp  \n",
       "7772               1                    0          0  easy_grp  \n",
       "8400               1                    0          0  easy_grp  \n",
       "7741               0                    0          0  easy_grp  \n",
       "6502               1                    0          1  easy_grp  \n",
       "7470               1                    0          0  easy_grp  \n",
       "\n",
       "[5 rows x 30 columns]"
      ]
     },
     "execution_count": 62,
     "metadata": {},
     "output_type": "execute_result"
    }
   ],
   "source": [
    "X_tr_easy.head()"
   ]
  },
  {
   "cell_type": "code",
   "execution_count": 63,
   "metadata": {},
   "outputs": [],
   "source": [
    "y_tr_easy = y_tr.loc[y_tr.index.isin(X_tr_easy.index)] \n",
    "y_tr_middle = y_tr.loc[y_tr.index.isin(X_tr_middle.index)] \n",
    "y_tr_hard = y_tr.loc[y_tr.index.isin(X_tr_hard.index)] "
   ]
  },
  {
   "cell_type": "code",
   "execution_count": 64,
   "metadata": {},
   "outputs": [],
   "source": [
    "X_tr_easy = X_tr_easy.drop(['var_grp'], axis=1)\n",
    "X_tr_middle = X_tr_middle.drop(['var_grp'], axis=1)\n",
    "X_tr_hard = X_tr_hard.drop(['var_grp'], axis=1)"
   ]
  },
  {
   "cell_type": "code",
   "execution_count": 65,
   "metadata": {},
   "outputs": [
    {
     "data": {
      "text/plain": [
       "atomic         900\n",
       "horde          900\n",
       "racingKings    900\n",
       "Name: variant, dtype: int64"
      ]
     },
     "execution_count": 65,
     "metadata": {},
     "output_type": "execute_result"
    }
   ],
   "source": [
    "y_tr_easy.value_counts()"
   ]
  },
  {
   "cell_type": "code",
   "execution_count": 66,
   "metadata": {},
   "outputs": [
    {
     "data": {
      "text/plain": [
       "crazyhouse    900\n",
       "antichess     900\n",
       "Name: variant, dtype: int64"
      ]
     },
     "execution_count": 66,
     "metadata": {},
     "output_type": "execute_result"
    }
   ],
   "source": [
    "y_tr_middle.value_counts()"
   ]
  },
  {
   "cell_type": "code",
   "execution_count": 67,
   "metadata": {},
   "outputs": [
    {
     "data": {
      "text/plain": [
       "threeCheck       900\n",
       "kingOfTheHill    900\n",
       "blitz            900\n",
       "chess960         900\n",
       "Name: variant, dtype: int64"
      ]
     },
     "execution_count": 67,
     "metadata": {},
     "output_type": "execute_result"
    }
   ],
   "source": [
    "y_tr_hard.value_counts()"
   ]
  },
  {
   "cell_type": "code",
   "execution_count": 68,
   "metadata": {},
   "outputs": [],
   "source": [
    "X_te_easy = X_te[X_te['var_grp'] == 'easy_grp']\n",
    "X_te_middle = X_te[X_te['var_grp'] == 'middle_grp']\n",
    "X_te_hard = X_te[X_te['var_grp'] == 'hard_grp']"
   ]
  },
  {
   "cell_type": "code",
   "execution_count": 69,
   "metadata": {},
   "outputs": [],
   "source": [
    "y_te_easy = y_te.loc[y_te.index.isin(X_te_easy.index)] \n",
    "y_te_middle = y_te.loc[y_te.index.isin(X_te_middle.index)] \n",
    "y_te_hard = y_te.loc[y_te.index.isin(X_te_hard.index)] "
   ]
  },
  {
   "cell_type": "code",
   "execution_count": 70,
   "metadata": {},
   "outputs": [],
   "source": [
    "X_te_easy = X_te_easy.drop(['var_grp'], axis=1)\n",
    "X_te_middle = X_te_middle.drop(['var_grp'], axis=1)\n",
    "X_te_hard = X_te_hard.drop(['var_grp'], axis=1)"
   ]
  },
  {
   "cell_type": "code",
   "execution_count": 71,
   "metadata": {},
   "outputs": [
    {
     "data": {
      "text/plain": [
       "horde          100\n",
       "racingKings    100\n",
       "atomic          93\n",
       "Name: variant, dtype: int64"
      ]
     },
     "execution_count": 71,
     "metadata": {},
     "output_type": "execute_result"
    }
   ],
   "source": [
    "y_te_easy.value_counts()"
   ]
  },
  {
   "cell_type": "code",
   "execution_count": 72,
   "metadata": {},
   "outputs": [
    {
     "data": {
      "text/plain": [
       "antichess        93\n",
       "crazyhouse       38\n",
       "blitz             8\n",
       "kingOfTheHill     7\n",
       "threeCheck        5\n",
       "chess960          3\n",
       "Name: variant, dtype: int64"
      ]
     },
     "execution_count": 72,
     "metadata": {},
     "output_type": "execute_result"
    }
   ],
   "source": [
    "y_te_middle.value_counts()"
   ]
  },
  {
   "cell_type": "code",
   "execution_count": 73,
   "metadata": {},
   "outputs": [
    {
     "data": {
      "text/plain": [
       "chess960         97\n",
       "threeCheck       95\n",
       "kingOfTheHill    93\n",
       "blitz            92\n",
       "crazyhouse       62\n",
       "antichess         7\n",
       "atomic            7\n",
       "Name: variant, dtype: int64"
      ]
     },
     "execution_count": 73,
     "metadata": {},
     "output_type": "execute_result"
    }
   ],
   "source": [
    "y_te_hard.value_counts()"
   ]
  },
  {
   "cell_type": "markdown",
   "metadata": {},
   "source": [
    "We now have our different sets. In the training set, we know to which groups of variants an observation belongs, so we have \"clean\" sets with only the relevant variants. However, we see that for the testing set, we already have some missclassified units. For instance, about half of the crazyhouse games have already been missclassified..."
   ]
  },
  {
   "cell_type": "code",
   "execution_count": 74,
   "metadata": {},
   "outputs": [
    {
     "name": "stdout",
     "output_type": "stream",
     "text": [
      " easy_grp: ['horde', 'racingKings', 'atomic'] \n",
      " middle_grp: ['crazyhouse', 'antichess'] \n",
      " hard_grp: ['blitz', 'chess960', 'kingOfTheHill', 'threeCheck']\n"
     ]
    }
   ],
   "source": [
    "# reminder\n",
    "print(' easy_grp:', easy_grp , '\\n', \n",
    "      'middle_grp:', middle_grp , '\\n',\n",
    "      'hard_grp:' , hard_grp)"
   ]
  },
  {
   "cell_type": "markdown",
   "metadata": {},
   "source": [
    "The next steps consists of fitting the different models on the three subsets."
   ]
  },
  {
   "cell_type": "markdown",
   "metadata": {},
   "source": [
    "# Logistic Regression"
   ]
  },
  {
   "cell_type": "code",
   "execution_count": 75,
   "metadata": {},
   "outputs": [],
   "source": [
    "# Define our steps\n",
    "model = LogisticRegression()\n",
    "\n",
    "# grid \n",
    "grid = {\n",
    "    'C': np.logspace(-3, 4, 8),\n",
    "}\n",
    "\n",
    "# Grid search\n",
    "grid_cv = GridSearchCV(\n",
    "    model, \n",
    "    grid, \n",
    "    cv=kfold,    \n",
    "    verbose = 1,\n",
    "    n_jobs = -1,\n",
    "    return_train_score=True)"
   ]
  },
  {
   "cell_type": "code",
   "execution_count": 76,
   "metadata": {},
   "outputs": [
    {
     "name": "stdout",
     "output_type": "stream",
     "text": [
      "Fitting 5 folds for each of 8 candidates, totalling 40 fits\n"
     ]
    },
    {
     "name": "stderr",
     "output_type": "stream",
     "text": [
      "[Parallel(n_jobs=-1)]: Using backend LokyBackend with 8 concurrent workers.\n",
      "[Parallel(n_jobs=-1)]: Done  40 out of  40 | elapsed:    4.9s finished\n",
      "/opt/anaconda3/envs/exts-ml/lib/python3.6/site-packages/sklearn/linear_model/logistic.py:433: FutureWarning: Default solver will be changed to 'lbfgs' in 0.22. Specify a solver to silence this warning.\n",
      "  FutureWarning)\n",
      "/opt/anaconda3/envs/exts-ml/lib/python3.6/site-packages/sklearn/linear_model/logistic.py:460: FutureWarning: Default multi_class will be changed to 'auto' in 0.22. Specify the multi_class option to silence this warning.\n",
      "  \"this warning.\", FutureWarning)\n"
     ]
    }
   ],
   "source": [
    "start_time = time.time()\n",
    "grid_cv.fit(X_tr_hard, y_tr_hard)\n",
    "logistic_hard_tune_time = time.time() - start_time"
   ]
  },
  {
   "cell_type": "code",
   "execution_count": 77,
   "metadata": {},
   "outputs": [
    {
     "data": {
      "text/html": [
       "<div>\n",
       "<style scoped>\n",
       "    .dataframe tbody tr th:only-of-type {\n",
       "        vertical-align: middle;\n",
       "    }\n",
       "\n",
       "    .dataframe tbody tr th {\n",
       "        vertical-align: top;\n",
       "    }\n",
       "\n",
       "    .dataframe thead th {\n",
       "        text-align: right;\n",
       "    }\n",
       "</style>\n",
       "<table border=\"1\" class=\"dataframe\">\n",
       "  <thead>\n",
       "    <tr style=\"text-align: right;\">\n",
       "      <th></th>\n",
       "      <th>param_C</th>\n",
       "      <th>mean_test_score</th>\n",
       "      <th>std_test_score</th>\n",
       "    </tr>\n",
       "  </thead>\n",
       "  <tbody>\n",
       "    <tr>\n",
       "      <th>6</th>\n",
       "      <td>1000</td>\n",
       "      <td>0.670833</td>\n",
       "      <td>0.014380</td>\n",
       "    </tr>\n",
       "    <tr>\n",
       "      <th>7</th>\n",
       "      <td>10000</td>\n",
       "      <td>0.670278</td>\n",
       "      <td>0.014289</td>\n",
       "    </tr>\n",
       "    <tr>\n",
       "      <th>5</th>\n",
       "      <td>100</td>\n",
       "      <td>0.669722</td>\n",
       "      <td>0.014551</td>\n",
       "    </tr>\n",
       "    <tr>\n",
       "      <th>4</th>\n",
       "      <td>10</td>\n",
       "      <td>0.668333</td>\n",
       "      <td>0.014840</td>\n",
       "    </tr>\n",
       "    <tr>\n",
       "      <th>3</th>\n",
       "      <td>1</td>\n",
       "      <td>0.667222</td>\n",
       "      <td>0.012410</td>\n",
       "    </tr>\n",
       "    <tr>\n",
       "      <th>2</th>\n",
       "      <td>0.1</td>\n",
       "      <td>0.664722</td>\n",
       "      <td>0.010992</td>\n",
       "    </tr>\n",
       "    <tr>\n",
       "      <th>1</th>\n",
       "      <td>0.01</td>\n",
       "      <td>0.649167</td>\n",
       "      <td>0.017493</td>\n",
       "    </tr>\n",
       "    <tr>\n",
       "      <th>0</th>\n",
       "      <td>0.001</td>\n",
       "      <td>0.593889</td>\n",
       "      <td>0.022509</td>\n",
       "    </tr>\n",
       "  </tbody>\n",
       "</table>\n",
       "</div>"
      ],
      "text/plain": [
       "  param_C  mean_test_score  std_test_score\n",
       "6    1000         0.670833        0.014380\n",
       "7   10000         0.670278        0.014289\n",
       "5     100         0.669722        0.014551\n",
       "4      10         0.668333        0.014840\n",
       "3       1         0.667222        0.012410\n",
       "2     0.1         0.664722        0.010992\n",
       "1    0.01         0.649167        0.017493\n",
       "0   0.001         0.593889        0.022509"
      ]
     },
     "metadata": {},
     "output_type": "display_data"
    },
    {
     "name": "stdout",
     "output_type": "stream",
     "text": [
      "We can expect an accuracy close to 67.1% on the testing set with the following parameters: \n",
      "{'C': 1000.0}. \n",
      "The tuning time is 6.1 sec.\n"
     ]
    }
   ],
   "source": [
    "# Collect results in a DataFrame\n",
    "cv_results = pd.DataFrame(grid_cv.cv_results_)\n",
    "\n",
    "# getting the columns of interest:\n",
    "cols = []\n",
    "for i in range(len(grid.keys())):\n",
    "    cols.append('param_'+list(grid.keys())[i]) \n",
    "cols.append('mean_test_score')\n",
    "cols.append('std_test_score')\n",
    "\n",
    "# printing the results\n",
    "display(cv_results[cols].sort_values('mean_test_score', ascending=False).head(10))\n",
    "print(\"We can expect an accuracy close to {:.1f}% on the testing set with the following parameters: \\n{}. \\nThe tuning time is {} sec.\".format(max(cv_results['mean_test_score']*100), grid_cv.best_params_, round(logistic_hard_tune_time, 1)))"
   ]
  },
  {
   "cell_type": "code",
   "execution_count": 78,
   "metadata": {},
   "outputs": [],
   "source": [
    "logistic_hard = LogisticRegression(\n",
    "    **grid_cv.best_params_, random_state=0)"
   ]
  },
  {
   "cell_type": "code",
   "execution_count": 79,
   "metadata": {},
   "outputs": [
    {
     "name": "stderr",
     "output_type": "stream",
     "text": [
      "/opt/anaconda3/envs/exts-ml/lib/python3.6/site-packages/sklearn/linear_model/logistic.py:433: FutureWarning: Default solver will be changed to 'lbfgs' in 0.22. Specify a solver to silence this warning.\n",
      "  FutureWarning)\n",
      "/opt/anaconda3/envs/exts-ml/lib/python3.6/site-packages/sklearn/linear_model/logistic.py:460: FutureWarning: Default multi_class will be changed to 'auto' in 0.22. Specify the multi_class option to silence this warning.\n",
      "  \"this warning.\", FutureWarning)\n"
     ]
    }
   ],
   "source": [
    "start_time = time.time()\n",
    "logistic_hard.fit(X_tr_hard, y_tr_hard)\n",
    "logistic_hard_train_time = time.time() - start_time"
   ]
  },
  {
   "cell_type": "code",
   "execution_count": 80,
   "metadata": {},
   "outputs": [
    {
     "name": "stdout",
     "output_type": "stream",
     "text": [
      "Accuracy on Testing Set: accuracy: 59.2%.\n"
     ]
    }
   ],
   "source": [
    "logistic_hard_accuracy = logistic_hard.score(X_te_hard, y_te_hard)\n",
    "print('Accuracy on Testing Set: accuracy: {:.1f}%.'.format(logistic_hard_accuracy*100))"
   ]
  },
  {
   "cell_type": "code",
   "execution_count": 81,
   "metadata": {},
   "outputs": [
    {
     "data": {
      "text/html": [
       "<div>\n",
       "<style scoped>\n",
       "    .dataframe tbody tr th:only-of-type {\n",
       "        vertical-align: middle;\n",
       "    }\n",
       "\n",
       "    .dataframe tbody tr th {\n",
       "        vertical-align: top;\n",
       "    }\n",
       "\n",
       "    .dataframe thead th {\n",
       "        text-align: right;\n",
       "    }\n",
       "</style>\n",
       "<table border=\"1\" class=\"dataframe\">\n",
       "  <thead>\n",
       "    <tr style=\"text-align: right;\">\n",
       "      <th></th>\n",
       "      <th>antichess</th>\n",
       "      <th>atomic</th>\n",
       "      <th>blitz</th>\n",
       "      <th>chess960</th>\n",
       "      <th>crazyhouse</th>\n",
       "      <th>kingOfTheHill</th>\n",
       "      <th>threeCheck</th>\n",
       "    </tr>\n",
       "  </thead>\n",
       "  <tbody>\n",
       "    <tr>\n",
       "      <th>antichess</th>\n",
       "      <td>0.00</td>\n",
       "      <td>0.00</td>\n",
       "      <td>0.00</td>\n",
       "      <td>0.00</td>\n",
       "      <td>0.00</td>\n",
       "      <td>0.00</td>\n",
       "      <td>0.00</td>\n",
       "    </tr>\n",
       "    <tr>\n",
       "      <th>atomic</th>\n",
       "      <td>0.00</td>\n",
       "      <td>0.00</td>\n",
       "      <td>0.00</td>\n",
       "      <td>0.00</td>\n",
       "      <td>0.00</td>\n",
       "      <td>0.00</td>\n",
       "      <td>0.00</td>\n",
       "    </tr>\n",
       "    <tr>\n",
       "      <th>blitz</th>\n",
       "      <td>0.00</td>\n",
       "      <td>0.00</td>\n",
       "      <td>0.64</td>\n",
       "      <td>0.12</td>\n",
       "      <td>0.11</td>\n",
       "      <td>0.21</td>\n",
       "      <td>0.14</td>\n",
       "    </tr>\n",
       "    <tr>\n",
       "      <th>chess960</th>\n",
       "      <td>0.02</td>\n",
       "      <td>0.01</td>\n",
       "      <td>0.13</td>\n",
       "      <td>0.77</td>\n",
       "      <td>0.44</td>\n",
       "      <td>0.04</td>\n",
       "      <td>0.03</td>\n",
       "    </tr>\n",
       "    <tr>\n",
       "      <th>crazyhouse</th>\n",
       "      <td>0.00</td>\n",
       "      <td>0.00</td>\n",
       "      <td>0.00</td>\n",
       "      <td>0.00</td>\n",
       "      <td>0.00</td>\n",
       "      <td>0.00</td>\n",
       "      <td>0.00</td>\n",
       "    </tr>\n",
       "    <tr>\n",
       "      <th>kingOfTheHill</th>\n",
       "      <td>0.00</td>\n",
       "      <td>0.00</td>\n",
       "      <td>0.10</td>\n",
       "      <td>0.04</td>\n",
       "      <td>0.01</td>\n",
       "      <td>0.60</td>\n",
       "      <td>0.11</td>\n",
       "    </tr>\n",
       "    <tr>\n",
       "      <th>threeCheck</th>\n",
       "      <td>0.05</td>\n",
       "      <td>0.06</td>\n",
       "      <td>0.05</td>\n",
       "      <td>0.04</td>\n",
       "      <td>0.06</td>\n",
       "      <td>0.08</td>\n",
       "      <td>0.67</td>\n",
       "    </tr>\n",
       "  </tbody>\n",
       "</table>\n",
       "</div>"
      ],
      "text/plain": [
       "               antichess  atomic  blitz  chess960  crazyhouse  kingOfTheHill  \\\n",
       "antichess           0.00    0.00   0.00      0.00        0.00           0.00   \n",
       "atomic              0.00    0.00   0.00      0.00        0.00           0.00   \n",
       "blitz               0.00    0.00   0.64      0.12        0.11           0.21   \n",
       "chess960            0.02    0.01   0.13      0.77        0.44           0.04   \n",
       "crazyhouse          0.00    0.00   0.00      0.00        0.00           0.00   \n",
       "kingOfTheHill       0.00    0.00   0.10      0.04        0.01           0.60   \n",
       "threeCheck          0.05    0.06   0.05      0.04        0.06           0.08   \n",
       "\n",
       "               threeCheck  \n",
       "antichess            0.00  \n",
       "atomic               0.00  \n",
       "blitz                0.14  \n",
       "chess960             0.03  \n",
       "crazyhouse           0.00  \n",
       "kingOfTheHill        0.11  \n",
       "threeCheck           0.67  "
      ]
     },
     "execution_count": 81,
     "metadata": {},
     "output_type": "execute_result"
    }
   ],
   "source": [
    "logistic_hard_conf=pd.DataFrame(confusion_matrix(logistic_hard.predict(X_te_hard), y_te_hard), index=sorted(list(set(y_te_hard))), columns=sorted(list(set(y_te_hard))))/100\n",
    "logistic_hard_conf"
   ]
  },
  {
   "cell_type": "code",
   "execution_count": 82,
   "metadata": {},
   "outputs": [
    {
     "name": "stderr",
     "output_type": "stream",
     "text": [
      "/opt/anaconda3/envs/exts-ml/lib/python3.6/site-packages/sklearn/metrics/classification.py:1145: UndefinedMetricWarning: Recall and F-score are ill-defined and being set to 0.0 in labels with no true samples.\n",
      "  'recall', 'true', average, warn_for)\n"
     ]
    },
    {
     "data": {
      "text/html": [
       "<div>\n",
       "<style scoped>\n",
       "    .dataframe tbody tr th:only-of-type {\n",
       "        vertical-align: middle;\n",
       "    }\n",
       "\n",
       "    .dataframe tbody tr th {\n",
       "        vertical-align: top;\n",
       "    }\n",
       "\n",
       "    .dataframe thead th {\n",
       "        text-align: right;\n",
       "    }\n",
       "</style>\n",
       "<table border=\"1\" class=\"dataframe\">\n",
       "  <thead>\n",
       "    <tr style=\"text-align: right;\">\n",
       "      <th></th>\n",
       "      <th>f1-score</th>\n",
       "      <th>precision</th>\n",
       "      <th>recall</th>\n",
       "      <th>support</th>\n",
       "    </tr>\n",
       "  </thead>\n",
       "  <tbody>\n",
       "    <tr>\n",
       "      <th>blitz</th>\n",
       "      <td>0.598</td>\n",
       "      <td>0.696</td>\n",
       "      <td>0.525</td>\n",
       "      <td>122.0</td>\n",
       "    </tr>\n",
       "    <tr>\n",
       "      <th>chess960</th>\n",
       "      <td>0.639</td>\n",
       "      <td>0.794</td>\n",
       "      <td>0.535</td>\n",
       "      <td>144.0</td>\n",
       "    </tr>\n",
       "    <tr>\n",
       "      <th>kingOfTheHill</th>\n",
       "      <td>0.670</td>\n",
       "      <td>0.645</td>\n",
       "      <td>0.698</td>\n",
       "      <td>86.0</td>\n",
       "    </tr>\n",
       "    <tr>\n",
       "      <th>threeCheck</th>\n",
       "      <td>0.684</td>\n",
       "      <td>0.705</td>\n",
       "      <td>0.663</td>\n",
       "      <td>101.0</td>\n",
       "    </tr>\n",
       "    <tr>\n",
       "      <th>weighted avg</th>\n",
       "      <td>0.644</td>\n",
       "      <td>0.719</td>\n",
       "      <td>0.592</td>\n",
       "      <td>453.0</td>\n",
       "    </tr>\n",
       "  </tbody>\n",
       "</table>\n",
       "</div>"
      ],
      "text/plain": [
       "               f1-score  precision  recall  support\n",
       "blitz             0.598      0.696   0.525    122.0\n",
       "chess960          0.639      0.794   0.535    144.0\n",
       "kingOfTheHill     0.670      0.645   0.698     86.0\n",
       "threeCheck        0.684      0.705   0.663    101.0\n",
       "weighted avg      0.644      0.719   0.592    453.0"
      ]
     },
     "execution_count": 82,
     "metadata": {},
     "output_type": "execute_result"
    }
   ],
   "source": [
    "logistic_hard_metrics=pd.DataFrame(classification_report(logistic_hard.predict(X_te_hard), y_te_hard, output_dict=True)).T.round(3)\n",
    "logistic_hard_metrics[(logistic_hard_metrics.index.isin(hard_grp)) | (logistic_hard_metrics.index == 'weighted avg')]"
   ]
  },
  {
   "cell_type": "markdown",
   "metadata": {},
   "source": [
    "# Middle"
   ]
  },
  {
   "cell_type": "code",
   "execution_count": 83,
   "metadata": {},
   "outputs": [],
   "source": [
    "# Define our steps\n",
    "model = LogisticRegression()\n",
    "\n",
    "# grid \n",
    "grid = {\n",
    "    'C': np.logspace(-3, 4, 8),\n",
    "}\n",
    "\n",
    "# Grid search\n",
    "grid_cv = GridSearchCV(\n",
    "    model, \n",
    "    grid, \n",
    "    cv=kfold,    \n",
    "    verbose = 1,\n",
    "    n_jobs = -1,\n",
    "    return_train_score=True)"
   ]
  },
  {
   "cell_type": "code",
   "execution_count": 84,
   "metadata": {},
   "outputs": [
    {
     "name": "stdout",
     "output_type": "stream",
     "text": [
      "Fitting 5 folds for each of 8 candidates, totalling 40 fits\n"
     ]
    },
    {
     "name": "stderr",
     "output_type": "stream",
     "text": [
      "[Parallel(n_jobs=-1)]: Using backend LokyBackend with 8 concurrent workers.\n",
      "[Parallel(n_jobs=-1)]: Done  40 out of  40 | elapsed:    0.6s finished\n",
      "/opt/anaconda3/envs/exts-ml/lib/python3.6/site-packages/sklearn/linear_model/logistic.py:433: FutureWarning: Default solver will be changed to 'lbfgs' in 0.22. Specify a solver to silence this warning.\n",
      "  FutureWarning)\n"
     ]
    }
   ],
   "source": [
    "start_time = time.time()\n",
    "grid_cv.fit(X_tr_middle, y_tr_middle)\n",
    "logistic_middle_tune_time = time.time() - start_time"
   ]
  },
  {
   "cell_type": "code",
   "execution_count": 85,
   "metadata": {},
   "outputs": [
    {
     "data": {
      "text/html": [
       "<div>\n",
       "<style scoped>\n",
       "    .dataframe tbody tr th:only-of-type {\n",
       "        vertical-align: middle;\n",
       "    }\n",
       "\n",
       "    .dataframe tbody tr th {\n",
       "        vertical-align: top;\n",
       "    }\n",
       "\n",
       "    .dataframe thead th {\n",
       "        text-align: right;\n",
       "    }\n",
       "</style>\n",
       "<table border=\"1\" class=\"dataframe\">\n",
       "  <thead>\n",
       "    <tr style=\"text-align: right;\">\n",
       "      <th></th>\n",
       "      <th>param_C</th>\n",
       "      <th>mean_test_score</th>\n",
       "      <th>std_test_score</th>\n",
       "    </tr>\n",
       "  </thead>\n",
       "  <tbody>\n",
       "    <tr>\n",
       "      <th>6</th>\n",
       "      <td>1000</td>\n",
       "      <td>0.991111</td>\n",
       "      <td>0.004779</td>\n",
       "    </tr>\n",
       "    <tr>\n",
       "      <th>7</th>\n",
       "      <td>10000</td>\n",
       "      <td>0.990556</td>\n",
       "      <td>0.004513</td>\n",
       "    </tr>\n",
       "    <tr>\n",
       "      <th>3</th>\n",
       "      <td>1</td>\n",
       "      <td>0.989444</td>\n",
       "      <td>0.003685</td>\n",
       "    </tr>\n",
       "    <tr>\n",
       "      <th>4</th>\n",
       "      <td>10</td>\n",
       "      <td>0.988889</td>\n",
       "      <td>0.006086</td>\n",
       "    </tr>\n",
       "    <tr>\n",
       "      <th>5</th>\n",
       "      <td>100</td>\n",
       "      <td>0.988889</td>\n",
       "      <td>0.006804</td>\n",
       "    </tr>\n",
       "    <tr>\n",
       "      <th>2</th>\n",
       "      <td>0.1</td>\n",
       "      <td>0.987222</td>\n",
       "      <td>0.005720</td>\n",
       "    </tr>\n",
       "    <tr>\n",
       "      <th>1</th>\n",
       "      <td>0.01</td>\n",
       "      <td>0.973889</td>\n",
       "      <td>0.013217</td>\n",
       "    </tr>\n",
       "    <tr>\n",
       "      <th>0</th>\n",
       "      <td>0.001</td>\n",
       "      <td>0.950000</td>\n",
       "      <td>0.010393</td>\n",
       "    </tr>\n",
       "  </tbody>\n",
       "</table>\n",
       "</div>"
      ],
      "text/plain": [
       "  param_C  mean_test_score  std_test_score\n",
       "6    1000         0.991111        0.004779\n",
       "7   10000         0.990556        0.004513\n",
       "3       1         0.989444        0.003685\n",
       "4      10         0.988889        0.006086\n",
       "5     100         0.988889        0.006804\n",
       "2     0.1         0.987222        0.005720\n",
       "1    0.01         0.973889        0.013217\n",
       "0   0.001         0.950000        0.010393"
      ]
     },
     "metadata": {},
     "output_type": "display_data"
    },
    {
     "name": "stdout",
     "output_type": "stream",
     "text": [
      "We can expect an accuracy close to 99.1% on the testing set with the following parameters: \n",
      "{'C': 1000.0}. \n",
      "The tuning time is 0.7 sec.\n"
     ]
    }
   ],
   "source": [
    "# Collect results in a DataFrame\n",
    "cv_results = pd.DataFrame(grid_cv.cv_results_)\n",
    "\n",
    "# getting the columns of interest:\n",
    "cols = []\n",
    "for i in range(len(grid.keys())):\n",
    "    cols.append('param_'+list(grid.keys())[i]) \n",
    "cols.append('mean_test_score')\n",
    "cols.append('std_test_score')\n",
    "\n",
    "# printing the results\n",
    "display(cv_results[cols].sort_values('mean_test_score', ascending=False).head(10))\n",
    "print(\"We can expect an accuracy close to {:.1f}% on the testing set with the following parameters: \\n{}. \\nThe tuning time is {} sec.\".format(max(cv_results['mean_test_score']*100), grid_cv.best_params_, round(logistic_middle_tune_time, 1)))"
   ]
  },
  {
   "cell_type": "code",
   "execution_count": 86,
   "metadata": {},
   "outputs": [],
   "source": [
    "logistic_middle = LogisticRegression(\n",
    "    **grid_cv.best_params_, random_state=0)"
   ]
  },
  {
   "cell_type": "code",
   "execution_count": 87,
   "metadata": {},
   "outputs": [
    {
     "name": "stderr",
     "output_type": "stream",
     "text": [
      "/opt/anaconda3/envs/exts-ml/lib/python3.6/site-packages/sklearn/linear_model/logistic.py:433: FutureWarning: Default solver will be changed to 'lbfgs' in 0.22. Specify a solver to silence this warning.\n",
      "  FutureWarning)\n"
     ]
    }
   ],
   "source": [
    "start_time = time.time()\n",
    "logistic_middle.fit(X_tr_middle, y_tr_middle)\n",
    "logistic_middle_train_time = time.time() - start_time"
   ]
  },
  {
   "cell_type": "code",
   "execution_count": 88,
   "metadata": {},
   "outputs": [
    {
     "name": "stdout",
     "output_type": "stream",
     "text": [
      "Accuracy on Testing Set: accuracy: 83.1%.\n"
     ]
    }
   ],
   "source": [
    "logistic_middle_accuracy = logistic_middle.score(X_te_middle, y_te_middle)\n",
    "print('Accuracy on Testing Set: accuracy: {:.1f}%.'.format(logistic_middle_accuracy*100))"
   ]
  },
  {
   "cell_type": "code",
   "execution_count": 89,
   "metadata": {},
   "outputs": [
    {
     "data": {
      "text/html": [
       "<div>\n",
       "<style scoped>\n",
       "    .dataframe tbody tr th:only-of-type {\n",
       "        vertical-align: middle;\n",
       "    }\n",
       "\n",
       "    .dataframe tbody tr th {\n",
       "        vertical-align: top;\n",
       "    }\n",
       "\n",
       "    .dataframe thead th {\n",
       "        text-align: right;\n",
       "    }\n",
       "</style>\n",
       "<table border=\"1\" class=\"dataframe\">\n",
       "  <thead>\n",
       "    <tr style=\"text-align: right;\">\n",
       "      <th></th>\n",
       "      <th>antichess</th>\n",
       "      <th>blitz</th>\n",
       "      <th>chess960</th>\n",
       "      <th>crazyhouse</th>\n",
       "      <th>kingOfTheHill</th>\n",
       "      <th>threeCheck</th>\n",
       "    </tr>\n",
       "  </thead>\n",
       "  <tbody>\n",
       "    <tr>\n",
       "      <th>antichess</th>\n",
       "      <td>0.90</td>\n",
       "      <td>0.00</td>\n",
       "      <td>0.00</td>\n",
       "      <td>0.00</td>\n",
       "      <td>0.01</td>\n",
       "      <td>0.00</td>\n",
       "    </tr>\n",
       "    <tr>\n",
       "      <th>blitz</th>\n",
       "      <td>0.00</td>\n",
       "      <td>0.00</td>\n",
       "      <td>0.00</td>\n",
       "      <td>0.00</td>\n",
       "      <td>0.00</td>\n",
       "      <td>0.00</td>\n",
       "    </tr>\n",
       "    <tr>\n",
       "      <th>chess960</th>\n",
       "      <td>0.00</td>\n",
       "      <td>0.00</td>\n",
       "      <td>0.00</td>\n",
       "      <td>0.00</td>\n",
       "      <td>0.00</td>\n",
       "      <td>0.00</td>\n",
       "    </tr>\n",
       "    <tr>\n",
       "      <th>crazyhouse</th>\n",
       "      <td>0.03</td>\n",
       "      <td>0.08</td>\n",
       "      <td>0.03</td>\n",
       "      <td>0.38</td>\n",
       "      <td>0.06</td>\n",
       "      <td>0.05</td>\n",
       "    </tr>\n",
       "    <tr>\n",
       "      <th>kingOfTheHill</th>\n",
       "      <td>0.00</td>\n",
       "      <td>0.00</td>\n",
       "      <td>0.00</td>\n",
       "      <td>0.00</td>\n",
       "      <td>0.00</td>\n",
       "      <td>0.00</td>\n",
       "    </tr>\n",
       "    <tr>\n",
       "      <th>threeCheck</th>\n",
       "      <td>0.00</td>\n",
       "      <td>0.00</td>\n",
       "      <td>0.00</td>\n",
       "      <td>0.00</td>\n",
       "      <td>0.00</td>\n",
       "      <td>0.00</td>\n",
       "    </tr>\n",
       "  </tbody>\n",
       "</table>\n",
       "</div>"
      ],
      "text/plain": [
       "               antichess  blitz  chess960  crazyhouse  kingOfTheHill  \\\n",
       "antichess           0.90   0.00      0.00        0.00           0.01   \n",
       "blitz               0.00   0.00      0.00        0.00           0.00   \n",
       "chess960            0.00   0.00      0.00        0.00           0.00   \n",
       "crazyhouse          0.03   0.08      0.03        0.38           0.06   \n",
       "kingOfTheHill       0.00   0.00      0.00        0.00           0.00   \n",
       "threeCheck          0.00   0.00      0.00        0.00           0.00   \n",
       "\n",
       "               threeCheck  \n",
       "antichess            0.00  \n",
       "blitz                0.00  \n",
       "chess960             0.00  \n",
       "crazyhouse           0.05  \n",
       "kingOfTheHill        0.00  \n",
       "threeCheck           0.00  "
      ]
     },
     "execution_count": 89,
     "metadata": {},
     "output_type": "execute_result"
    }
   ],
   "source": [
    "logistic_middle_conf=pd.DataFrame(confusion_matrix(logistic_middle.predict(X_te_middle), y_te_middle), index=sorted(list(set(y_te_middle))), columns=sorted(list(set(y_te_middle))))/100\n",
    "logistic_middle_conf"
   ]
  },
  {
   "cell_type": "code",
   "execution_count": 90,
   "metadata": {},
   "outputs": [
    {
     "name": "stderr",
     "output_type": "stream",
     "text": [
      "/opt/anaconda3/envs/exts-ml/lib/python3.6/site-packages/sklearn/metrics/classification.py:1145: UndefinedMetricWarning: Recall and F-score are ill-defined and being set to 0.0 in labels with no true samples.\n",
      "  'recall', 'true', average, warn_for)\n"
     ]
    },
    {
     "data": {
      "text/html": [
       "<div>\n",
       "<style scoped>\n",
       "    .dataframe tbody tr th:only-of-type {\n",
       "        vertical-align: middle;\n",
       "    }\n",
       "\n",
       "    .dataframe tbody tr th {\n",
       "        vertical-align: top;\n",
       "    }\n",
       "\n",
       "    .dataframe thead th {\n",
       "        text-align: right;\n",
       "    }\n",
       "</style>\n",
       "<table border=\"1\" class=\"dataframe\">\n",
       "  <thead>\n",
       "    <tr style=\"text-align: right;\">\n",
       "      <th></th>\n",
       "      <th>f1-score</th>\n",
       "      <th>precision</th>\n",
       "      <th>recall</th>\n",
       "      <th>support</th>\n",
       "    </tr>\n",
       "  </thead>\n",
       "  <tbody>\n",
       "    <tr>\n",
       "      <th>antichess</th>\n",
       "      <td>0.978</td>\n",
       "      <td>0.968</td>\n",
       "      <td>0.989</td>\n",
       "      <td>91.0</td>\n",
       "    </tr>\n",
       "    <tr>\n",
       "      <th>crazyhouse</th>\n",
       "      <td>0.752</td>\n",
       "      <td>1.000</td>\n",
       "      <td>0.603</td>\n",
       "      <td>63.0</td>\n",
       "    </tr>\n",
       "    <tr>\n",
       "      <th>weighted avg</th>\n",
       "      <td>0.886</td>\n",
       "      <td>0.981</td>\n",
       "      <td>0.831</td>\n",
       "      <td>154.0</td>\n",
       "    </tr>\n",
       "  </tbody>\n",
       "</table>\n",
       "</div>"
      ],
      "text/plain": [
       "              f1-score  precision  recall  support\n",
       "antichess        0.978      0.968   0.989     91.0\n",
       "crazyhouse       0.752      1.000   0.603     63.0\n",
       "weighted avg     0.886      0.981   0.831    154.0"
      ]
     },
     "execution_count": 90,
     "metadata": {},
     "output_type": "execute_result"
    }
   ],
   "source": [
    "logistic_middle_metrics=pd.DataFrame(classification_report(logistic_middle.predict(X_te_middle), y_te_middle, output_dict=True)).T.round(3)\n",
    "logistic_middle_metrics[(logistic_middle_metrics.index.isin(middle_grp)) | (logistic_middle_metrics.index == 'weighted avg')]"
   ]
  },
  {
   "cell_type": "markdown",
   "metadata": {},
   "source": [
    "# Easy"
   ]
  },
  {
   "cell_type": "code",
   "execution_count": 91,
   "metadata": {},
   "outputs": [],
   "source": [
    "# Define our steps\n",
    "model = LogisticRegression()\n",
    "\n",
    "# grid \n",
    "grid = {\n",
    "    'C': np.logspace(-3, 4, 8),\n",
    "}\n",
    "\n",
    "# Grid search\n",
    "grid_cv = GridSearchCV(\n",
    "    model, \n",
    "    grid, \n",
    "    cv=kfold,    \n",
    "    verbose = 1,\n",
    "    n_jobs = -1,\n",
    "    return_train_score=True)"
   ]
  },
  {
   "cell_type": "code",
   "execution_count": 92,
   "metadata": {},
   "outputs": [
    {
     "name": "stdout",
     "output_type": "stream",
     "text": [
      "Fitting 5 folds for each of 8 candidates, totalling 40 fits\n"
     ]
    },
    {
     "name": "stderr",
     "output_type": "stream",
     "text": [
      "[Parallel(n_jobs=-1)]: Using backend LokyBackend with 8 concurrent workers.\n",
      "[Parallel(n_jobs=-1)]: Done  40 out of  40 | elapsed:    0.6s finished\n",
      "/opt/anaconda3/envs/exts-ml/lib/python3.6/site-packages/sklearn/linear_model/logistic.py:433: FutureWarning: Default solver will be changed to 'lbfgs' in 0.22. Specify a solver to silence this warning.\n",
      "  FutureWarning)\n",
      "/opt/anaconda3/envs/exts-ml/lib/python3.6/site-packages/sklearn/linear_model/logistic.py:460: FutureWarning: Default multi_class will be changed to 'auto' in 0.22. Specify the multi_class option to silence this warning.\n",
      "  \"this warning.\", FutureWarning)\n"
     ]
    }
   ],
   "source": [
    "start_time = time.time()\n",
    "grid_cv.fit(X_tr_easy, y_tr_easy)\n",
    "logistic_easy_tune_time = time.time() - start_time"
   ]
  },
  {
   "cell_type": "code",
   "execution_count": 93,
   "metadata": {},
   "outputs": [
    {
     "data": {
      "text/html": [
       "<div>\n",
       "<style scoped>\n",
       "    .dataframe tbody tr th:only-of-type {\n",
       "        vertical-align: middle;\n",
       "    }\n",
       "\n",
       "    .dataframe tbody tr th {\n",
       "        vertical-align: top;\n",
       "    }\n",
       "\n",
       "    .dataframe thead th {\n",
       "        text-align: right;\n",
       "    }\n",
       "</style>\n",
       "<table border=\"1\" class=\"dataframe\">\n",
       "  <thead>\n",
       "    <tr style=\"text-align: right;\">\n",
       "      <th></th>\n",
       "      <th>param_C</th>\n",
       "      <th>mean_test_score</th>\n",
       "      <th>std_test_score</th>\n",
       "    </tr>\n",
       "  </thead>\n",
       "  <tbody>\n",
       "    <tr>\n",
       "      <th>1</th>\n",
       "      <td>0.01</td>\n",
       "      <td>1.00000</td>\n",
       "      <td>0.000000</td>\n",
       "    </tr>\n",
       "    <tr>\n",
       "      <th>2</th>\n",
       "      <td>0.1</td>\n",
       "      <td>1.00000</td>\n",
       "      <td>0.000000</td>\n",
       "    </tr>\n",
       "    <tr>\n",
       "      <th>3</th>\n",
       "      <td>1</td>\n",
       "      <td>1.00000</td>\n",
       "      <td>0.000000</td>\n",
       "    </tr>\n",
       "    <tr>\n",
       "      <th>4</th>\n",
       "      <td>10</td>\n",
       "      <td>1.00000</td>\n",
       "      <td>0.000000</td>\n",
       "    </tr>\n",
       "    <tr>\n",
       "      <th>5</th>\n",
       "      <td>100</td>\n",
       "      <td>1.00000</td>\n",
       "      <td>0.000000</td>\n",
       "    </tr>\n",
       "    <tr>\n",
       "      <th>6</th>\n",
       "      <td>1000</td>\n",
       "      <td>1.00000</td>\n",
       "      <td>0.000000</td>\n",
       "    </tr>\n",
       "    <tr>\n",
       "      <th>7</th>\n",
       "      <td>10000</td>\n",
       "      <td>1.00000</td>\n",
       "      <td>0.000000</td>\n",
       "    </tr>\n",
       "    <tr>\n",
       "      <th>0</th>\n",
       "      <td>0.001</td>\n",
       "      <td>0.99963</td>\n",
       "      <td>0.000741</td>\n",
       "    </tr>\n",
       "  </tbody>\n",
       "</table>\n",
       "</div>"
      ],
      "text/plain": [
       "  param_C  mean_test_score  std_test_score\n",
       "1    0.01          1.00000        0.000000\n",
       "2     0.1          1.00000        0.000000\n",
       "3       1          1.00000        0.000000\n",
       "4      10          1.00000        0.000000\n",
       "5     100          1.00000        0.000000\n",
       "6    1000          1.00000        0.000000\n",
       "7   10000          1.00000        0.000000\n",
       "0   0.001          0.99963        0.000741"
      ]
     },
     "metadata": {},
     "output_type": "display_data"
    },
    {
     "name": "stdout",
     "output_type": "stream",
     "text": [
      "We can expect an accuracy close to 100.0% on the testing set with the following parameters: \n",
      "{'C': 0.01}. \n",
      "The tuning time is 0.6 sec.\n"
     ]
    }
   ],
   "source": [
    "# Collect results in a DataFrame\n",
    "cv_results = pd.DataFrame(grid_cv.cv_results_)\n",
    "\n",
    "# getting the columns of interest:\n",
    "cols = []\n",
    "for i in range(len(grid.keys())):\n",
    "    cols.append('param_'+list(grid.keys())[i]) \n",
    "cols.append('mean_test_score')\n",
    "cols.append('std_test_score')\n",
    "\n",
    "# printing the results\n",
    "display(cv_results[cols].sort_values('mean_test_score', ascending=False).head(10))\n",
    "print(\"We can expect an accuracy close to {:.1f}% on the testing set with the following parameters: \\n{}. \\nThe tuning time is {} sec.\".format(max(cv_results['mean_test_score']*100), grid_cv.best_params_, round(logistic_easy_tune_time, 1)))"
   ]
  },
  {
   "cell_type": "code",
   "execution_count": 94,
   "metadata": {},
   "outputs": [],
   "source": [
    "logistic_easy = LogisticRegression(\n",
    "    **grid_cv.best_params_, random_state=0)"
   ]
  },
  {
   "cell_type": "code",
   "execution_count": 95,
   "metadata": {},
   "outputs": [
    {
     "name": "stderr",
     "output_type": "stream",
     "text": [
      "/opt/anaconda3/envs/exts-ml/lib/python3.6/site-packages/sklearn/linear_model/logistic.py:433: FutureWarning: Default solver will be changed to 'lbfgs' in 0.22. Specify a solver to silence this warning.\n",
      "  FutureWarning)\n",
      "/opt/anaconda3/envs/exts-ml/lib/python3.6/site-packages/sklearn/linear_model/logistic.py:460: FutureWarning: Default multi_class will be changed to 'auto' in 0.22. Specify the multi_class option to silence this warning.\n",
      "  \"this warning.\", FutureWarning)\n"
     ]
    }
   ],
   "source": [
    "start_time = time.time()\n",
    "logistic_easy.fit(X_tr_easy, y_tr_easy)\n",
    "logistic_easy_train_time = time.time() - start_time"
   ]
  },
  {
   "cell_type": "code",
   "execution_count": 96,
   "metadata": {},
   "outputs": [
    {
     "name": "stdout",
     "output_type": "stream",
     "text": [
      "Accuracy on Testing Set: accuracy: 100.0%.\n"
     ]
    }
   ],
   "source": [
    "logistic_easy_accuracy = logistic_easy.score(X_te_easy, y_te_easy)\n",
    "print('Accuracy on Testing Set: accuracy: {:.1f}%.'.format(logistic_easy_accuracy*100))"
   ]
  },
  {
   "cell_type": "code",
   "execution_count": 97,
   "metadata": {},
   "outputs": [
    {
     "data": {
      "text/html": [
       "<div>\n",
       "<style scoped>\n",
       "    .dataframe tbody tr th:only-of-type {\n",
       "        vertical-align: middle;\n",
       "    }\n",
       "\n",
       "    .dataframe tbody tr th {\n",
       "        vertical-align: top;\n",
       "    }\n",
       "\n",
       "    .dataframe thead th {\n",
       "        text-align: right;\n",
       "    }\n",
       "</style>\n",
       "<table border=\"1\" class=\"dataframe\">\n",
       "  <thead>\n",
       "    <tr style=\"text-align: right;\">\n",
       "      <th></th>\n",
       "      <th>atomic</th>\n",
       "      <th>horde</th>\n",
       "      <th>racingKings</th>\n",
       "    </tr>\n",
       "  </thead>\n",
       "  <tbody>\n",
       "    <tr>\n",
       "      <th>atomic</th>\n",
       "      <td>0.93</td>\n",
       "      <td>0.0</td>\n",
       "      <td>0.0</td>\n",
       "    </tr>\n",
       "    <tr>\n",
       "      <th>horde</th>\n",
       "      <td>0.00</td>\n",
       "      <td>1.0</td>\n",
       "      <td>0.0</td>\n",
       "    </tr>\n",
       "    <tr>\n",
       "      <th>racingKings</th>\n",
       "      <td>0.00</td>\n",
       "      <td>0.0</td>\n",
       "      <td>1.0</td>\n",
       "    </tr>\n",
       "  </tbody>\n",
       "</table>\n",
       "</div>"
      ],
      "text/plain": [
       "             atomic  horde  racingKings\n",
       "atomic         0.93    0.0          0.0\n",
       "horde          0.00    1.0          0.0\n",
       "racingKings    0.00    0.0          1.0"
      ]
     },
     "execution_count": 97,
     "metadata": {},
     "output_type": "execute_result"
    }
   ],
   "source": [
    "logistic_easy_conf=pd.DataFrame(confusion_matrix(logistic_easy.predict(X_te_easy), y_te_easy), index=sorted(list(set(y_te_easy))), columns=sorted(list(set(y_te_easy))))/100\n",
    "logistic_easy_conf"
   ]
  },
  {
   "cell_type": "code",
   "execution_count": 98,
   "metadata": {},
   "outputs": [
    {
     "data": {
      "text/html": [
       "<div>\n",
       "<style scoped>\n",
       "    .dataframe tbody tr th:only-of-type {\n",
       "        vertical-align: middle;\n",
       "    }\n",
       "\n",
       "    .dataframe tbody tr th {\n",
       "        vertical-align: top;\n",
       "    }\n",
       "\n",
       "    .dataframe thead th {\n",
       "        text-align: right;\n",
       "    }\n",
       "</style>\n",
       "<table border=\"1\" class=\"dataframe\">\n",
       "  <thead>\n",
       "    <tr style=\"text-align: right;\">\n",
       "      <th></th>\n",
       "      <th>f1-score</th>\n",
       "      <th>precision</th>\n",
       "      <th>recall</th>\n",
       "      <th>support</th>\n",
       "    </tr>\n",
       "  </thead>\n",
       "  <tbody>\n",
       "    <tr>\n",
       "      <th>atomic</th>\n",
       "      <td>1.0</td>\n",
       "      <td>1.0</td>\n",
       "      <td>1.0</td>\n",
       "      <td>93.0</td>\n",
       "    </tr>\n",
       "    <tr>\n",
       "      <th>horde</th>\n",
       "      <td>1.0</td>\n",
       "      <td>1.0</td>\n",
       "      <td>1.0</td>\n",
       "      <td>100.0</td>\n",
       "    </tr>\n",
       "    <tr>\n",
       "      <th>racingKings</th>\n",
       "      <td>1.0</td>\n",
       "      <td>1.0</td>\n",
       "      <td>1.0</td>\n",
       "      <td>100.0</td>\n",
       "    </tr>\n",
       "    <tr>\n",
       "      <th>weighted avg</th>\n",
       "      <td>1.0</td>\n",
       "      <td>1.0</td>\n",
       "      <td>1.0</td>\n",
       "      <td>293.0</td>\n",
       "    </tr>\n",
       "  </tbody>\n",
       "</table>\n",
       "</div>"
      ],
      "text/plain": [
       "              f1-score  precision  recall  support\n",
       "atomic             1.0        1.0     1.0     93.0\n",
       "horde              1.0        1.0     1.0    100.0\n",
       "racingKings        1.0        1.0     1.0    100.0\n",
       "weighted avg       1.0        1.0     1.0    293.0"
      ]
     },
     "execution_count": 98,
     "metadata": {},
     "output_type": "execute_result"
    }
   ],
   "source": [
    "logistic_easy_metrics=pd.DataFrame(classification_report(logistic_easy.predict(X_te_easy), y_te_easy, output_dict=True)).T.round(3)\n",
    "logistic_easy_metrics[(logistic_easy_metrics.index.isin(easy_grp)) | (logistic_easy_metrics.index == 'weighted avg')]"
   ]
  },
  {
   "cell_type": "markdown",
   "metadata": {},
   "source": [
    "# Accuracy logistic"
   ]
  },
  {
   "cell_type": "code",
   "execution_count": 99,
   "metadata": {},
   "outputs": [],
   "source": [
    "y_pred = np.concatenate([logistic_easy.predict(X_te_easy), logistic_middle.predict(X_te_middle), logistic_hard.predict(X_te_hard)])\n",
    "true_y = np.concatenate([y_te_easy, y_te_middle, y_te_hard])"
   ]
  },
  {
   "cell_type": "markdown",
   "metadata": {},
   "source": [
    "We are then ready to calculate our relevant metrics."
   ]
  },
  {
   "cell_type": "code",
   "execution_count": 100,
   "metadata": {},
   "outputs": [
    {
     "data": {
      "text/html": [
       "<div>\n",
       "<style scoped>\n",
       "    .dataframe tbody tr th:only-of-type {\n",
       "        vertical-align: middle;\n",
       "    }\n",
       "\n",
       "    .dataframe tbody tr th {\n",
       "        vertical-align: top;\n",
       "    }\n",
       "\n",
       "    .dataframe thead th {\n",
       "        text-align: right;\n",
       "    }\n",
       "</style>\n",
       "<table border=\"1\" class=\"dataframe\">\n",
       "  <thead>\n",
       "    <tr style=\"text-align: right;\">\n",
       "      <th></th>\n",
       "      <th>antichess</th>\n",
       "      <th>atomic</th>\n",
       "      <th>blitz</th>\n",
       "      <th>chess960</th>\n",
       "      <th>crazyhouse</th>\n",
       "      <th>horde</th>\n",
       "      <th>kingOfTheHill</th>\n",
       "      <th>racingKings</th>\n",
       "      <th>threeCheck</th>\n",
       "    </tr>\n",
       "  </thead>\n",
       "  <tbody>\n",
       "    <tr>\n",
       "      <th>antichess</th>\n",
       "      <td>0.90</td>\n",
       "      <td>0.00</td>\n",
       "      <td>0.00</td>\n",
       "      <td>0.00</td>\n",
       "      <td>0.00</td>\n",
       "      <td>0.0</td>\n",
       "      <td>0.01</td>\n",
       "      <td>0.0</td>\n",
       "      <td>0.00</td>\n",
       "    </tr>\n",
       "    <tr>\n",
       "      <th>atomic</th>\n",
       "      <td>0.00</td>\n",
       "      <td>0.93</td>\n",
       "      <td>0.00</td>\n",
       "      <td>0.00</td>\n",
       "      <td>0.00</td>\n",
       "      <td>0.0</td>\n",
       "      <td>0.00</td>\n",
       "      <td>0.0</td>\n",
       "      <td>0.00</td>\n",
       "    </tr>\n",
       "    <tr>\n",
       "      <th>blitz</th>\n",
       "      <td>0.00</td>\n",
       "      <td>0.00</td>\n",
       "      <td>0.64</td>\n",
       "      <td>0.12</td>\n",
       "      <td>0.11</td>\n",
       "      <td>0.0</td>\n",
       "      <td>0.21</td>\n",
       "      <td>0.0</td>\n",
       "      <td>0.14</td>\n",
       "    </tr>\n",
       "    <tr>\n",
       "      <th>chess960</th>\n",
       "      <td>0.02</td>\n",
       "      <td>0.01</td>\n",
       "      <td>0.13</td>\n",
       "      <td>0.77</td>\n",
       "      <td>0.44</td>\n",
       "      <td>0.0</td>\n",
       "      <td>0.04</td>\n",
       "      <td>0.0</td>\n",
       "      <td>0.03</td>\n",
       "    </tr>\n",
       "    <tr>\n",
       "      <th>crazyhouse</th>\n",
       "      <td>0.03</td>\n",
       "      <td>0.00</td>\n",
       "      <td>0.08</td>\n",
       "      <td>0.03</td>\n",
       "      <td>0.38</td>\n",
       "      <td>0.0</td>\n",
       "      <td>0.06</td>\n",
       "      <td>0.0</td>\n",
       "      <td>0.05</td>\n",
       "    </tr>\n",
       "    <tr>\n",
       "      <th>horde</th>\n",
       "      <td>0.00</td>\n",
       "      <td>0.00</td>\n",
       "      <td>0.00</td>\n",
       "      <td>0.00</td>\n",
       "      <td>0.00</td>\n",
       "      <td>1.0</td>\n",
       "      <td>0.00</td>\n",
       "      <td>0.0</td>\n",
       "      <td>0.00</td>\n",
       "    </tr>\n",
       "    <tr>\n",
       "      <th>kingOfTheHill</th>\n",
       "      <td>0.00</td>\n",
       "      <td>0.00</td>\n",
       "      <td>0.10</td>\n",
       "      <td>0.04</td>\n",
       "      <td>0.01</td>\n",
       "      <td>0.0</td>\n",
       "      <td>0.60</td>\n",
       "      <td>0.0</td>\n",
       "      <td>0.11</td>\n",
       "    </tr>\n",
       "    <tr>\n",
       "      <th>racingKings</th>\n",
       "      <td>0.00</td>\n",
       "      <td>0.00</td>\n",
       "      <td>0.00</td>\n",
       "      <td>0.00</td>\n",
       "      <td>0.00</td>\n",
       "      <td>0.0</td>\n",
       "      <td>0.00</td>\n",
       "      <td>1.0</td>\n",
       "      <td>0.00</td>\n",
       "    </tr>\n",
       "    <tr>\n",
       "      <th>threeCheck</th>\n",
       "      <td>0.05</td>\n",
       "      <td>0.06</td>\n",
       "      <td>0.05</td>\n",
       "      <td>0.04</td>\n",
       "      <td>0.06</td>\n",
       "      <td>0.0</td>\n",
       "      <td>0.08</td>\n",
       "      <td>0.0</td>\n",
       "      <td>0.67</td>\n",
       "    </tr>\n",
       "  </tbody>\n",
       "</table>\n",
       "</div>"
      ],
      "text/plain": [
       "               antichess  atomic  blitz  chess960  crazyhouse  horde  \\\n",
       "antichess           0.90    0.00   0.00      0.00        0.00    0.0   \n",
       "atomic              0.00    0.93   0.00      0.00        0.00    0.0   \n",
       "blitz               0.00    0.00   0.64      0.12        0.11    0.0   \n",
       "chess960            0.02    0.01   0.13      0.77        0.44    0.0   \n",
       "crazyhouse          0.03    0.00   0.08      0.03        0.38    0.0   \n",
       "horde               0.00    0.00   0.00      0.00        0.00    1.0   \n",
       "kingOfTheHill       0.00    0.00   0.10      0.04        0.01    0.0   \n",
       "racingKings         0.00    0.00   0.00      0.00        0.00    0.0   \n",
       "threeCheck          0.05    0.06   0.05      0.04        0.06    0.0   \n",
       "\n",
       "               kingOfTheHill  racingKings  threeCheck  \n",
       "antichess               0.01          0.0        0.00  \n",
       "atomic                  0.00          0.0        0.00  \n",
       "blitz                   0.21          0.0        0.14  \n",
       "chess960                0.04          0.0        0.03  \n",
       "crazyhouse              0.06          0.0        0.05  \n",
       "horde                   0.00          0.0        0.00  \n",
       "kingOfTheHill           0.60          0.0        0.11  \n",
       "racingKings             0.00          1.0        0.00  \n",
       "threeCheck              0.08          0.0        0.67  "
      ]
     },
     "execution_count": 100,
     "metadata": {},
     "output_type": "execute_result"
    }
   ],
   "source": [
    "logistic_nested_conf=pd.DataFrame(confusion_matrix(y_pred, true_y), index=sorted(list(set(variants))), columns=sorted(list(set(variants))))/100\n",
    "logistic_nested_conf"
   ]
  },
  {
   "cell_type": "code",
   "execution_count": 101,
   "metadata": {},
   "outputs": [
    {
     "data": {
      "text/plain": [
       "0.7655555555555555"
      ]
     },
     "execution_count": 101,
     "metadata": {},
     "output_type": "execute_result"
    }
   ],
   "source": [
    "accuracy_score(y_pred, true_y)"
   ]
  },
  {
   "cell_type": "code",
   "execution_count": 102,
   "metadata": {},
   "outputs": [
    {
     "data": {
      "text/html": [
       "<div>\n",
       "<style scoped>\n",
       "    .dataframe tbody tr th:only-of-type {\n",
       "        vertical-align: middle;\n",
       "    }\n",
       "\n",
       "    .dataframe tbody tr th {\n",
       "        vertical-align: top;\n",
       "    }\n",
       "\n",
       "    .dataframe thead th {\n",
       "        text-align: right;\n",
       "    }\n",
       "</style>\n",
       "<table border=\"1\" class=\"dataframe\">\n",
       "  <thead>\n",
       "    <tr style=\"text-align: right;\">\n",
       "      <th></th>\n",
       "      <th>f1-score</th>\n",
       "      <th>precision</th>\n",
       "      <th>recall</th>\n",
       "      <th>support</th>\n",
       "    </tr>\n",
       "  </thead>\n",
       "  <tbody>\n",
       "    <tr>\n",
       "      <th>antichess</th>\n",
       "      <td>0.942</td>\n",
       "      <td>0.900</td>\n",
       "      <td>0.989</td>\n",
       "      <td>91.0</td>\n",
       "    </tr>\n",
       "    <tr>\n",
       "      <th>atomic</th>\n",
       "      <td>0.964</td>\n",
       "      <td>0.930</td>\n",
       "      <td>1.000</td>\n",
       "      <td>93.0</td>\n",
       "    </tr>\n",
       "    <tr>\n",
       "      <th>blitz</th>\n",
       "      <td>0.577</td>\n",
       "      <td>0.640</td>\n",
       "      <td>0.525</td>\n",
       "      <td>122.0</td>\n",
       "    </tr>\n",
       "    <tr>\n",
       "      <th>chess960</th>\n",
       "      <td>0.631</td>\n",
       "      <td>0.770</td>\n",
       "      <td>0.535</td>\n",
       "      <td>144.0</td>\n",
       "    </tr>\n",
       "    <tr>\n",
       "      <th>crazyhouse</th>\n",
       "      <td>0.466</td>\n",
       "      <td>0.380</td>\n",
       "      <td>0.603</td>\n",
       "      <td>63.0</td>\n",
       "    </tr>\n",
       "    <tr>\n",
       "      <th>horde</th>\n",
       "      <td>1.000</td>\n",
       "      <td>1.000</td>\n",
       "      <td>1.000</td>\n",
       "      <td>100.0</td>\n",
       "    </tr>\n",
       "    <tr>\n",
       "      <th>kingOfTheHill</th>\n",
       "      <td>0.645</td>\n",
       "      <td>0.600</td>\n",
       "      <td>0.698</td>\n",
       "      <td>86.0</td>\n",
       "    </tr>\n",
       "    <tr>\n",
       "      <th>racingKings</th>\n",
       "      <td>1.000</td>\n",
       "      <td>1.000</td>\n",
       "      <td>1.000</td>\n",
       "      <td>100.0</td>\n",
       "    </tr>\n",
       "    <tr>\n",
       "      <th>threeCheck</th>\n",
       "      <td>0.667</td>\n",
       "      <td>0.670</td>\n",
       "      <td>0.663</td>\n",
       "      <td>101.0</td>\n",
       "    </tr>\n",
       "    <tr>\n",
       "      <th>micro avg</th>\n",
       "      <td>0.766</td>\n",
       "      <td>0.766</td>\n",
       "      <td>0.766</td>\n",
       "      <td>900.0</td>\n",
       "    </tr>\n",
       "    <tr>\n",
       "      <th>macro avg</th>\n",
       "      <td>0.766</td>\n",
       "      <td>0.766</td>\n",
       "      <td>0.779</td>\n",
       "      <td>900.0</td>\n",
       "    </tr>\n",
       "    <tr>\n",
       "      <th>weighted avg</th>\n",
       "      <td>0.765</td>\n",
       "      <td>0.778</td>\n",
       "      <td>0.766</td>\n",
       "      <td>900.0</td>\n",
       "    </tr>\n",
       "  </tbody>\n",
       "</table>\n",
       "</div>"
      ],
      "text/plain": [
       "               f1-score  precision  recall  support\n",
       "antichess         0.942      0.900   0.989     91.0\n",
       "atomic            0.964      0.930   1.000     93.0\n",
       "blitz             0.577      0.640   0.525    122.0\n",
       "chess960          0.631      0.770   0.535    144.0\n",
       "crazyhouse        0.466      0.380   0.603     63.0\n",
       "horde             1.000      1.000   1.000    100.0\n",
       "kingOfTheHill     0.645      0.600   0.698     86.0\n",
       "racingKings       1.000      1.000   1.000    100.0\n",
       "threeCheck        0.667      0.670   0.663    101.0\n",
       "micro avg         0.766      0.766   0.766    900.0\n",
       "macro avg         0.766      0.766   0.779    900.0\n",
       "weighted avg      0.765      0.778   0.766    900.0"
      ]
     },
     "execution_count": 102,
     "metadata": {},
     "output_type": "execute_result"
    }
   ],
   "source": [
    "logistic_nested_metrics=pd.DataFrame(classification_report(y_pred, true_y, output_dict=True)).T.round(3)\n",
    "logistic_nested_metrics"
   ]
  },
  {
   "cell_type": "markdown",
   "metadata": {},
   "source": [
    "# Going to the point"
   ]
  },
  {
   "cell_type": "markdown",
   "metadata": {},
   "source": [
    "## Logistic"
   ]
  },
  {
   "cell_type": "code",
   "execution_count": 103,
   "metadata": {},
   "outputs": [
    {
     "name": "stdout",
     "output_type": "stream",
     "text": [
      "Fitting 5 folds for each of 8 candidates, totalling 40 fits\n"
     ]
    },
    {
     "name": "stderr",
     "output_type": "stream",
     "text": [
      "[Parallel(n_jobs=-1)]: Using backend LokyBackend with 8 concurrent workers.\n",
      "[Parallel(n_jobs=-1)]: Done  40 out of  40 | elapsed:    0.6s finished\n",
      "/opt/anaconda3/envs/exts-ml/lib/python3.6/site-packages/sklearn/linear_model/logistic.py:433: FutureWarning: Default solver will be changed to 'lbfgs' in 0.22. Specify a solver to silence this warning.\n",
      "  FutureWarning)\n",
      "/opt/anaconda3/envs/exts-ml/lib/python3.6/site-packages/sklearn/linear_model/logistic.py:460: FutureWarning: Default multi_class will be changed to 'auto' in 0.22. Specify the multi_class option to silence this warning.\n",
      "  \"this warning.\", FutureWarning)\n",
      "/opt/anaconda3/envs/exts-ml/lib/python3.6/site-packages/sklearn/linear_model/logistic.py:433: FutureWarning: Default solver will be changed to 'lbfgs' in 0.22. Specify a solver to silence this warning.\n",
      "  FutureWarning)\n",
      "/opt/anaconda3/envs/exts-ml/lib/python3.6/site-packages/sklearn/linear_model/logistic.py:460: FutureWarning: Default multi_class will be changed to 'auto' in 0.22. Specify the multi_class option to silence this warning.\n",
      "  \"this warning.\", FutureWarning)\n",
      "[Parallel(n_jobs=-1)]: Using backend LokyBackend with 8 concurrent workers.\n"
     ]
    },
    {
     "name": "stdout",
     "output_type": "stream",
     "text": [
      "Fitting 5 folds for each of 8 candidates, totalling 40 fits\n"
     ]
    },
    {
     "name": "stderr",
     "output_type": "stream",
     "text": [
      "[Parallel(n_jobs=-1)]: Done  40 out of  40 | elapsed:    0.8s finished\n",
      "/opt/anaconda3/envs/exts-ml/lib/python3.6/site-packages/sklearn/linear_model/logistic.py:433: FutureWarning: Default solver will be changed to 'lbfgs' in 0.22. Specify a solver to silence this warning.\n",
      "  FutureWarning)\n",
      "/opt/anaconda3/envs/exts-ml/lib/python3.6/site-packages/sklearn/linear_model/logistic.py:433: FutureWarning: Default solver will be changed to 'lbfgs' in 0.22. Specify a solver to silence this warning.\n",
      "  FutureWarning)\n",
      "[Parallel(n_jobs=-1)]: Using backend LokyBackend with 8 concurrent workers.\n"
     ]
    },
    {
     "name": "stdout",
     "output_type": "stream",
     "text": [
      "Fitting 5 folds for each of 8 candidates, totalling 40 fits\n"
     ]
    },
    {
     "name": "stderr",
     "output_type": "stream",
     "text": [
      "[Parallel(n_jobs=-1)]: Done  40 out of  40 | elapsed:    9.7s finished\n",
      "/opt/anaconda3/envs/exts-ml/lib/python3.6/site-packages/sklearn/linear_model/logistic.py:433: FutureWarning: Default solver will be changed to 'lbfgs' in 0.22. Specify a solver to silence this warning.\n",
      "  FutureWarning)\n",
      "/opt/anaconda3/envs/exts-ml/lib/python3.6/site-packages/sklearn/linear_model/logistic.py:460: FutureWarning: Default multi_class will be changed to 'auto' in 0.22. Specify the multi_class option to silence this warning.\n",
      "  \"this warning.\", FutureWarning)\n",
      "/opt/anaconda3/envs/exts-ml/lib/python3.6/site-packages/sklearn/linear_model/logistic.py:433: FutureWarning: Default solver will be changed to 'lbfgs' in 0.22. Specify a solver to silence this warning.\n",
      "  FutureWarning)\n",
      "/opt/anaconda3/envs/exts-ml/lib/python3.6/site-packages/sklearn/linear_model/logistic.py:460: FutureWarning: Default multi_class will be changed to 'auto' in 0.22. Specify the multi_class option to silence this warning.\n",
      "  \"this warning.\", FutureWarning)\n"
     ]
    }
   ],
   "source": [
    "# \"Easy model\"\n",
    "model = LogisticRegression()\n",
    "grid = {'C': np.logspace(-3, 4, 8),}\n",
    "log_easy_cv = GridSearchCV(model, grid, cv=kfold, verbose = 1,n_jobs = -1,return_train_score=True)\n",
    "log_easy_cv.fit(X_tr_easy, y_tr_easy)\n",
    "log_easy = LogisticRegression(**log_easy_cv.best_params_, random_state=0)\n",
    "\n",
    "start_time = time.time()\n",
    "log_easy.fit(X_tr_easy, y_tr_easy)\n",
    "logistic_2nd_train_time = time.time() - start_time\n",
    "\n",
    "# \"Middle model\"\n",
    "model = LogisticRegression()\n",
    "grid = {'C': np.logspace(-3, 4, 8),}\n",
    "log_middle_cv = GridSearchCV(model, grid, cv=kfold, verbose = 1,n_jobs = -1,return_train_score=True)\n",
    "log_middle_cv.fit(X_tr_middle, y_tr_middle)\n",
    "log_middle = LogisticRegression(**log_middle_cv.best_params_, random_state=0)\n",
    "\n",
    "start_time = time.time()\n",
    "log_middle.fit(X_tr_middle, y_tr_middle)\n",
    "logistic_2nd_train_time = logistic_2nd_train_time + time.time() - start_time\n",
    "\n",
    "# \"Hard model\"\n",
    "model = LogisticRegression()\n",
    "grid = {'C': np.logspace(-3, 4, 8),}\n",
    "log_hard_cv = GridSearchCV(model, grid, cv=kfold, verbose = 1,n_jobs = -1,return_train_score=True)\n",
    "log_hard_cv.fit(X_tr_hard, y_tr_hard)\n",
    "log_hard = LogisticRegression(**log_hard_cv.best_params_, random_state=0)\n",
    "\n",
    "start_time = time.time()\n",
    "log_hard.fit(X_tr_hard, y_tr_hard)\n",
    "logistic_2nd_train_time = logistic_2nd_train_time + time.time() - start_time\n"
   ]
  },
  {
   "cell_type": "code",
   "execution_count": 104,
   "metadata": {},
   "outputs": [],
   "source": [
    "y_pred = np.concatenate([log_easy.predict(X_te_easy), log_middle.predict(X_te_middle), log_hard.predict(X_te_hard)])\n",
    "true_y = np.concatenate([y_te_easy, y_te_middle, y_te_hard])"
   ]
  },
  {
   "cell_type": "code",
   "execution_count": 105,
   "metadata": {},
   "outputs": [
    {
     "data": {
      "text/plain": [
       "0.7655555555555555"
      ]
     },
     "execution_count": 105,
     "metadata": {},
     "output_type": "execute_result"
    }
   ],
   "source": [
    "logistic_nested_accuracy = accuracy_score(y_pred, true_y)\n",
    "logistic_nested_accuracy"
   ]
  },
  {
   "cell_type": "code",
   "execution_count": 106,
   "metadata": {},
   "outputs": [],
   "source": [
    "logistic_nested_metrics=pd.DataFrame(classification_report(y_pred, true_y, output_dict=True)).T.round(3)"
   ]
  },
  {
   "cell_type": "markdown",
   "metadata": {},
   "source": [
    "## SVM"
   ]
  },
  {
   "cell_type": "code",
   "execution_count": 107,
   "metadata": {},
   "outputs": [
    {
     "name": "stdout",
     "output_type": "stream",
     "text": [
      "Fitting 5 folds for each of 50 candidates, totalling 250 fits\n"
     ]
    },
    {
     "name": "stderr",
     "output_type": "stream",
     "text": [
      "[Parallel(n_jobs=-1)]: Using backend LokyBackend with 8 concurrent workers.\n",
      "[Parallel(n_jobs=-1)]: Done  34 tasks      | elapsed:    2.0s\n",
      "[Parallel(n_jobs=-1)]: Done 184 tasks      | elapsed:    9.2s\n",
      "[Parallel(n_jobs=-1)]: Done 250 out of 250 | elapsed:   13.7s finished\n"
     ]
    },
    {
     "name": "stdout",
     "output_type": "stream",
     "text": [
      "Fitting 5 folds for each of 50 candidates, totalling 250 fits\n"
     ]
    },
    {
     "name": "stderr",
     "output_type": "stream",
     "text": [
      "[Parallel(n_jobs=-1)]: Using backend LokyBackend with 8 concurrent workers.\n",
      "[Parallel(n_jobs=-1)]: Done  34 tasks      | elapsed:    1.3s\n",
      "[Parallel(n_jobs=-1)]: Done 250 out of 250 | elapsed:    6.3s finished\n",
      "[Parallel(n_jobs=-1)]: Using backend LokyBackend with 8 concurrent workers.\n"
     ]
    },
    {
     "name": "stdout",
     "output_type": "stream",
     "text": [
      "Fitting 5 folds for each of 50 candidates, totalling 250 fits\n"
     ]
    },
    {
     "name": "stderr",
     "output_type": "stream",
     "text": [
      "[Parallel(n_jobs=-1)]: Done  34 tasks      | elapsed:    7.2s\n",
      "[Parallel(n_jobs=-1)]: Done 184 tasks      | elapsed:   39.3s\n",
      "[Parallel(n_jobs=-1)]: Done 250 out of 250 | elapsed:  2.3min finished\n"
     ]
    }
   ],
   "source": [
    "# \"Easy model\"\n",
    "model = SVC()\n",
    "grid = {'C': np.logspace(-0,5,5), 'kernel': ['sigmoid', 'rbf'], 'gamma': np.logspace(-5,0,5)} \n",
    "svm_easy_cv = GridSearchCV(model, grid, cv=kfold, verbose = 1,n_jobs = -1,return_train_score=True)\n",
    "svm_easy_cv.fit(X_tr_easy, y_tr_easy)\n",
    "svm_easy = SVC(**svm_easy_cv.best_params_, random_state=0)\n",
    "\n",
    "start_time = time.time()\n",
    "svm_easy.fit(X_tr_easy, y_tr_easy)\n",
    "svm_2nd_train_time = time.time() - start_time\n",
    "\n",
    "# \"Middle model\"\n",
    "model = SVC()\n",
    "grid = {'C': np.logspace(-0,5,5), 'kernel': ['sigmoid', 'rbf'], 'gamma': np.logspace(-5,0,5)} \n",
    "svm_middle_cv = GridSearchCV(model, grid, cv=kfold, verbose = 1,n_jobs = -1,return_train_score=True)\n",
    "svm_middle_cv.fit(X_tr_middle, y_tr_middle)\n",
    "svm_middle = SVC(**svm_middle_cv.best_params_, random_state=0)\n",
    "\n",
    "start_time = time.time()\n",
    "svm_middle.fit(X_tr_middle, y_tr_middle)\n",
    "svm_2nd_train_time = svm_2nd_train_time + time.time() - start_time\n",
    "\n",
    "# \"Hard model\"\n",
    "model = SVC()\n",
    "grid = {'C': np.logspace(-0,5,5), 'kernel': ['sigmoid', 'rbf'], 'gamma': np.logspace(-5,0,5)} \n",
    "svm_hard_cv = GridSearchCV(model, grid, cv=kfold, verbose = 1,n_jobs = -1,return_train_score=True)\n",
    "svm_hard_cv.fit(X_tr_hard, y_tr_hard)\n",
    "svm_hard = SVC(**svm_hard_cv.best_params_, random_state=0)\n",
    "\n",
    "start_time = time.time()\n",
    "svm_hard.fit(X_tr_hard, y_tr_hard)\n",
    "svm_2nd_train_time = svm_2nd_train_time + time.time() - start_time"
   ]
  },
  {
   "cell_type": "code",
   "execution_count": 108,
   "metadata": {},
   "outputs": [],
   "source": [
    "y_pred = np.concatenate([svm_easy.predict(X_te_easy), svm_middle.predict(X_te_middle), svm_hard.predict(X_te_hard)])\n",
    "true_y = np.concatenate([y_te_easy, y_te_middle, y_te_hard])"
   ]
  },
  {
   "cell_type": "code",
   "execution_count": 109,
   "metadata": {},
   "outputs": [
    {
     "data": {
      "text/plain": [
       "0.7722222222222223"
      ]
     },
     "execution_count": 109,
     "metadata": {},
     "output_type": "execute_result"
    }
   ],
   "source": [
    "svm_nested_accuracy = accuracy_score(y_pred, true_y)\n",
    "svm_nested_accuracy"
   ]
  },
  {
   "cell_type": "code",
   "execution_count": 110,
   "metadata": {},
   "outputs": [],
   "source": [
    "svm_nested_metrics=pd.DataFrame(classification_report(y_pred, true_y, output_dict=True)).T.round(3)"
   ]
  },
  {
   "cell_type": "markdown",
   "metadata": {},
   "source": [
    "## Random Forest"
   ]
  },
  {
   "cell_type": "code",
   "execution_count": 111,
   "metadata": {},
   "outputs": [
    {
     "name": "stdout",
     "output_type": "stream",
     "text": [
      "Fitting 5 folds for each of 30 candidates, totalling 150 fits\n"
     ]
    },
    {
     "name": "stderr",
     "output_type": "stream",
     "text": [
      "[Parallel(n_jobs=-1)]: Using backend LokyBackend with 8 concurrent workers.\n",
      "[Parallel(n_jobs=-1)]: Done  76 tasks      | elapsed:   23.8s\n",
      "[Parallel(n_jobs=-1)]: Done 150 out of 150 | elapsed:   50.3s finished\n",
      "[Parallel(n_jobs=-1)]: Using backend LokyBackend with 8 concurrent workers.\n"
     ]
    },
    {
     "name": "stdout",
     "output_type": "stream",
     "text": [
      "Fitting 5 folds for each of 30 candidates, totalling 150 fits\n"
     ]
    },
    {
     "name": "stderr",
     "output_type": "stream",
     "text": [
      "[Parallel(n_jobs=-1)]: Done  76 tasks      | elapsed:   20.4s\n",
      "[Parallel(n_jobs=-1)]: Done 150 out of 150 | elapsed:   39.0s finished\n"
     ]
    },
    {
     "name": "stdout",
     "output_type": "stream",
     "text": [
      "Fitting 5 folds for each of 30 candidates, totalling 150 fits\n"
     ]
    },
    {
     "name": "stderr",
     "output_type": "stream",
     "text": [
      "[Parallel(n_jobs=-1)]: Using backend LokyBackend with 8 concurrent workers.\n",
      "[Parallel(n_jobs=-1)]: Done  78 tasks      | elapsed:   38.6s\n",
      "[Parallel(n_jobs=-1)]: Done 150 out of 150 | elapsed:  1.2min finished\n"
     ]
    }
   ],
   "source": [
    "# \"Easy model\"\n",
    "model = RandomForestClassifier()\n",
    "grid = {'n_estimators': [20,100,500,750,1000], 'max_depth': [5,10,20,50,75,100]} \n",
    "rf_easy_cv = GridSearchCV(model, grid, cv=kfold, verbose = 1,n_jobs = -1,return_train_score=True)\n",
    "rf_easy_cv.fit(X_tr_easy, y_tr_easy)\n",
    "rf_easy = RandomForestClassifier(**rf_easy_cv.best_params_, random_state=0)\n",
    "\n",
    "start_time = time.time()\n",
    "rf_easy.fit(X_tr_easy, y_tr_easy)\n",
    "rf_2nd_train_time = time.time() - start_time\n",
    "\n",
    "# \"Middle model\"\n",
    "model = RandomForestClassifier()\n",
    "grid = {'n_estimators': [20,100,500,750,1000], 'max_depth': [5,10,20,50,75,100]} \n",
    "rf_middle_cv = GridSearchCV(model, grid, cv=kfold, verbose = 1,n_jobs = -1,return_train_score=True)\n",
    "rf_middle_cv.fit(X_tr_middle, y_tr_middle)\n",
    "rf_middle = RandomForestClassifier(**rf_middle_cv.best_params_, random_state=0)\n",
    "\n",
    "start_time = time.time()\n",
    "rf_middle.fit(X_tr_middle, y_tr_middle)\n",
    "rf_2nd_train_time = rf_2nd_train_time + time.time() - start_time\n",
    "\n",
    "# \"Hard model\"\n",
    "model = RandomForestClassifier()\n",
    "grid = {'n_estimators': [20,100,500,750,1000], 'max_depth': [5,10,20,50,75,100]} \n",
    "rf_hard_cv = GridSearchCV(model, grid, cv=kfold, verbose = 1,n_jobs = -1,return_train_score=True)\n",
    "rf_hard_cv.fit(X_tr_hard, y_tr_hard)\n",
    "rf_hard = RandomForestClassifier(**rf_hard_cv.best_params_, random_state=0)\n",
    "\n",
    "start_time = time.time()\n",
    "rf_hard.fit(X_tr_hard, y_tr_hard)\n",
    "rf_2nd_train_time = rf_2nd_train_time + time.time() - start_time"
   ]
  },
  {
   "cell_type": "code",
   "execution_count": 112,
   "metadata": {},
   "outputs": [],
   "source": [
    "y_pred = np.concatenate([rf_easy.predict(X_te_easy), rf_middle.predict(X_te_middle), rf_hard.predict(X_te_hard)])\n",
    "true_y = np.concatenate([y_te_easy, y_te_middle, y_te_hard])"
   ]
  },
  {
   "cell_type": "code",
   "execution_count": 113,
   "metadata": {},
   "outputs": [
    {
     "data": {
      "text/plain": [
       "0.7733333333333333"
      ]
     },
     "execution_count": 113,
     "metadata": {},
     "output_type": "execute_result"
    }
   ],
   "source": [
    "rf_nested_accuracy = accuracy_score(y_pred, true_y)\n",
    "rf_nested_accuracy "
   ]
  },
  {
   "cell_type": "code",
   "execution_count": 114,
   "metadata": {},
   "outputs": [],
   "source": [
    "rf_nested_metrics=pd.DataFrame(classification_report(y_pred, true_y, output_dict=True)).T.round(3)"
   ]
  },
  {
   "cell_type": "markdown",
   "metadata": {},
   "source": [
    "## Neural network"
   ]
  },
  {
   "cell_type": "code",
   "execution_count": 115,
   "metadata": {},
   "outputs": [
    {
     "name": "stdout",
     "output_type": "stream",
     "text": [
      "Fitting 5 folds for each of 120 candidates, totalling 600 fits\n"
     ]
    },
    {
     "name": "stderr",
     "output_type": "stream",
     "text": [
      "[Parallel(n_jobs=-1)]: Using backend LokyBackend with 8 concurrent workers.\n",
      "[Parallel(n_jobs=-1)]: Done  52 tasks      | elapsed:    8.6s\n",
      "[Parallel(n_jobs=-1)]: Done 212 tasks      | elapsed:   24.9s\n",
      "[Parallel(n_jobs=-1)]: Done 462 tasks      | elapsed:   51.9s\n",
      "[Parallel(n_jobs=-1)]: Done 600 out of 600 | elapsed:  1.4min finished\n"
     ]
    },
    {
     "name": "stdout",
     "output_type": "stream",
     "text": [
      "Fitting 5 folds for each of 120 candidates, totalling 600 fits\n"
     ]
    },
    {
     "name": "stderr",
     "output_type": "stream",
     "text": [
      "[Parallel(n_jobs=-1)]: Using backend LokyBackend with 8 concurrent workers.\n",
      "[Parallel(n_jobs=-1)]: Done  52 tasks      | elapsed:   12.8s\n",
      "[Parallel(n_jobs=-1)]: Done 212 tasks      | elapsed:   25.7s\n",
      "[Parallel(n_jobs=-1)]: Done 462 tasks      | elapsed:   35.5s\n",
      "[Parallel(n_jobs=-1)]: Done 600 out of 600 | elapsed:   45.4s finished\n"
     ]
    },
    {
     "name": "stdout",
     "output_type": "stream",
     "text": [
      "Fitting 5 folds for each of 120 candidates, totalling 600 fits\n"
     ]
    },
    {
     "name": "stderr",
     "output_type": "stream",
     "text": [
      "[Parallel(n_jobs=-1)]: Using backend LokyBackend with 8 concurrent workers.\n",
      "[Parallel(n_jobs=-1)]: Done  34 tasks      | elapsed:    3.7s\n",
      "[Parallel(n_jobs=-1)]: Done 184 tasks      | elapsed:   41.9s\n",
      "[Parallel(n_jobs=-1)]: Done 434 tasks      | elapsed:  1.3min\n",
      "[Parallel(n_jobs=-1)]: Done 600 out of 600 | elapsed:  1.6min finished\n"
     ]
    }
   ],
   "source": [
    "# \"Easy model\"\n",
    "model = MLPClassifier()\n",
    "grid = {'hidden_layer_sizes': [5,10,15,20,50,100],\n",
    "        'alpha': np.logspace(-5,5,5),\n",
    "        'solver': ['adam', 'sgd'],\n",
    "        'activation': ['logistic', 'relu'],\n",
    "        'early_stopping': [True]\n",
    "       } \n",
    "nnet_easy_cv = GridSearchCV(model, grid, cv=kfold, verbose = 1,n_jobs = -1,return_train_score=True)\n",
    "nnet_easy_cv.fit(X_tr_easy, y_tr_easy)\n",
    "nnet_easy = MLPClassifier(**nnet_easy_cv.best_params_, random_state=0)\n",
    "\n",
    "start_time = time.time()\n",
    "nnet_easy.fit(X_tr_easy, y_tr_easy)\n",
    "nnet_2nd_train_time = time.time() - start_time\n",
    "\n",
    "# \"Middle model\"\n",
    "model = MLPClassifier()\n",
    "grid = {'hidden_layer_sizes': [5,10,15,20,50,100],\n",
    "        'alpha': np.logspace(-5,5,5),\n",
    "        'solver': ['adam', 'sgd'],\n",
    "        'activation': ['logistic', 'relu'],\n",
    "        'early_stopping': [True]\n",
    "       } \n",
    "nnet_middle_cv = GridSearchCV(model, grid, cv=kfold, verbose = 1,n_jobs = -1,return_train_score=True)\n",
    "nnet_middle_cv.fit(X_tr_middle, y_tr_middle)\n",
    "nnet_middle = MLPClassifier(**nnet_middle_cv.best_params_, random_state=0)\n",
    "\n",
    "start_time = time.time()\n",
    "nnet_middle.fit(X_tr_middle, y_tr_middle)\n",
    "nnet_2nd_train_time = nnet_2nd_train_time + time.time() - start_time\n",
    "\n",
    "# \"Hard model\"\n",
    "model = MLPClassifier()\n",
    "grid = {'hidden_layer_sizes': [5,10,15,20,50,100],\n",
    "        'alpha': np.logspace(-5,5,5),\n",
    "        'solver': ['adam', 'sgd'],\n",
    "        'activation': ['logistic', 'relu'],\n",
    "        'early_stopping': [True]\n",
    "       } \n",
    "nnet_hard_cv = GridSearchCV(model, grid, cv=kfold, verbose = 1,n_jobs = -1,return_train_score=True)\n",
    "nnet_hard_cv.fit(X_tr_hard, y_tr_hard)\n",
    "nnet_hard = MLPClassifier(**nnet_hard_cv.best_params_, random_state=0)\n",
    "\n",
    "start_time = time.time()\n",
    "nnet_hard.fit(X_tr_hard, y_tr_hard)\n",
    "nnet_2nd_train_time = nnet_2nd_train_time + time.time() - start_time\n",
    "\n"
   ]
  },
  {
   "cell_type": "code",
   "execution_count": 116,
   "metadata": {},
   "outputs": [],
   "source": [
    "y_pred = np.concatenate([nnet_easy.predict(X_te_easy), nnet_middle.predict(X_te_middle), nnet_hard.predict(X_te_hard)])\n",
    "true_y = np.concatenate([y_te_easy, y_te_middle, y_te_hard])"
   ]
  },
  {
   "cell_type": "code",
   "execution_count": 117,
   "metadata": {},
   "outputs": [
    {
     "data": {
      "text/plain": [
       "0.7488888888888889"
      ]
     },
     "execution_count": 117,
     "metadata": {},
     "output_type": "execute_result"
    }
   ],
   "source": [
    "nnet_nested_accuracy=accuracy_score(y_pred, true_y)\n",
    "nnet_nested_accuracy"
   ]
  },
  {
   "cell_type": "code",
   "execution_count": 118,
   "metadata": {},
   "outputs": [],
   "source": [
    "nnet_nested_metrics=pd.DataFrame(classification_report(y_pred, true_y, output_dict=True)).T.round(3)"
   ]
  },
  {
   "cell_type": "markdown",
   "metadata": {},
   "source": [
    "# Results"
   ]
  },
  {
   "cell_type": "code",
   "execution_count": 119,
   "metadata": {},
   "outputs": [],
   "source": [
    "logistic_nested_scores_avg=list(logistic_nested_metrics.loc['weighted avg',:])[:3]\n",
    "logistic_nested_scores_blitz=list(logistic_nested_metrics.loc['blitz',:])\n",
    "rf_nested_scores_avg=list(rf_nested_metrics.loc['weighted avg',:])[:3]\n",
    "rf_nested_scores_blitz=list(rf_nested_metrics.loc['blitz',:])\n",
    "svm_nested_scores_avg=list(svm_nested_metrics.loc['weighted avg',:])[:3]\n",
    "svm_nested_scores_blitz=list(svm_nested_metrics.loc['blitz',:])\n",
    "nnet_nested_scores_avg=list(logistic_nested_metrics.loc['weighted avg',:])[:3]\n",
    "nnet_nested_scores_blitz=list(logistic_nested_metrics.loc['blitz',:])"
   ]
  },
  {
   "cell_type": "code",
   "execution_count": 120,
   "metadata": {},
   "outputs": [],
   "source": [
    "# total train time = train time in the first iteration + sum of all training time for all 3 subsets in the 2nd iteration\n",
    "logistic_nested_train_time = svm_train_time + logistic_2nd_train_time\n",
    "rf_nested_train_time = svm_train_time + rf_2nd_train_time\n",
    "svm_nested_train_time = svm_train_time + svm_2nd_train_time\n",
    "nnet_nested_train_time = svm_train_time + nnet_2nd_train_time"
   ]
  },
  {
   "cell_type": "code",
   "execution_count": 121,
   "metadata": {},
   "outputs": [
    {
     "data": {
      "text/html": [
       "<div>\n",
       "<style scoped>\n",
       "    .dataframe tbody tr th:only-of-type {\n",
       "        vertical-align: middle;\n",
       "    }\n",
       "\n",
       "    .dataframe tbody tr th {\n",
       "        vertical-align: top;\n",
       "    }\n",
       "\n",
       "    .dataframe thead th {\n",
       "        text-align: right;\n",
       "    }\n",
       "</style>\n",
       "<table border=\"1\" class=\"dataframe\">\n",
       "  <thead>\n",
       "    <tr style=\"text-align: right;\">\n",
       "      <th></th>\n",
       "      <th>Accuracy</th>\n",
       "      <th>Training time</th>\n",
       "      <th>f1_avg</th>\n",
       "      <th>precision_avg</th>\n",
       "      <th>recall_avg</th>\n",
       "      <th>f1_blitz</th>\n",
       "      <th>precision_blitz</th>\n",
       "      <th>recall_blitz</th>\n",
       "      <th>support_blitz</th>\n",
       "    </tr>\n",
       "  </thead>\n",
       "  <tbody>\n",
       "    <tr>\n",
       "      <th>random forest</th>\n",
       "      <td>0.773</td>\n",
       "      <td>28.365</td>\n",
       "      <td>0.773</td>\n",
       "      <td>0.786</td>\n",
       "      <td>0.773</td>\n",
       "      <td>0.773</td>\n",
       "      <td>0.70</td>\n",
       "      <td>0.470</td>\n",
       "      <td>149.0</td>\n",
       "    </tr>\n",
       "    <tr>\n",
       "      <th>SVM</th>\n",
       "      <td>0.772</td>\n",
       "      <td>37.948</td>\n",
       "      <td>0.772</td>\n",
       "      <td>0.788</td>\n",
       "      <td>0.772</td>\n",
       "      <td>0.568</td>\n",
       "      <td>0.69</td>\n",
       "      <td>0.483</td>\n",
       "      <td>143.0</td>\n",
       "    </tr>\n",
       "    <tr>\n",
       "      <th>logistic</th>\n",
       "      <td>0.766</td>\n",
       "      <td>20.664</td>\n",
       "      <td>0.765</td>\n",
       "      <td>0.778</td>\n",
       "      <td>0.766</td>\n",
       "      <td>0.577</td>\n",
       "      <td>0.64</td>\n",
       "      <td>0.525</td>\n",
       "      <td>122.0</td>\n",
       "    </tr>\n",
       "    <tr>\n",
       "      <th>NN</th>\n",
       "      <td>0.749</td>\n",
       "      <td>26.272</td>\n",
       "      <td>0.765</td>\n",
       "      <td>0.778</td>\n",
       "      <td>0.766</td>\n",
       "      <td>0.577</td>\n",
       "      <td>0.64</td>\n",
       "      <td>0.525</td>\n",
       "      <td>122.0</td>\n",
       "    </tr>\n",
       "  </tbody>\n",
       "</table>\n",
       "</div>"
      ],
      "text/plain": [
       "               Accuracy  Training time  f1_avg  precision_avg  recall_avg  \\\n",
       "random forest     0.773         28.365   0.773          0.786       0.773   \n",
       "SVM               0.772         37.948   0.772          0.788       0.772   \n",
       "logistic          0.766         20.664   0.765          0.778       0.766   \n",
       "NN                0.749         26.272   0.765          0.778       0.766   \n",
       "\n",
       "               f1_blitz  precision_blitz  recall_blitz  support_blitz  \n",
       "random forest     0.773             0.70         0.470          149.0  \n",
       "SVM               0.568             0.69         0.483          143.0  \n",
       "logistic          0.577             0.64         0.525          122.0  \n",
       "NN                0.577             0.64         0.525          122.0  "
      ]
     },
     "execution_count": 121,
     "metadata": {},
     "output_type": "execute_result"
    }
   ],
   "source": [
    "results_nested_2=pd.DataFrame({\n",
    "              'logistic': [logistic_nested_accuracy, logistic_nested_train_time, logistic_nested_scores_avg[0], logistic_nested_scores_avg[1], logistic_nested_scores_avg[2], logistic_nested_scores_blitz[0], logistic_nested_scores_blitz[1], logistic_nested_scores_blitz[2], logistic_nested_scores_blitz[3]],\n",
    "              'random forest': [rf_nested_accuracy, rf_nested_train_time, rf_nested_scores_avg[0], rf_nested_scores_avg[1], rf_nested_scores_avg[2], rf_nested_scores_avg[0], rf_nested_scores_blitz[1], rf_nested_scores_blitz[2], rf_nested_scores_blitz[3]],\n",
    "              'SVM': [svm_nested_accuracy, svm_nested_train_time, svm_nested_scores_avg[0], svm_nested_scores_avg[1], svm_nested_scores_avg[2], svm_nested_scores_blitz[0], svm_nested_scores_blitz[1], svm_nested_scores_blitz[2], svm_nested_scores_blitz[3]],\n",
    "              'NN': [nnet_nested_accuracy, nnet_nested_train_time, nnet_nested_scores_avg[0], nnet_nested_scores_avg[1], nnet_nested_scores_avg[2], nnet_nested_scores_blitz[0], nnet_nested_scores_blitz[1], nnet_nested_scores_blitz[2], nnet_nested_scores_blitz[3]],\n",
    "}, index = ['Accuracy', 'Training time', 'f1_avg', 'precision_avg', 'recall_avg', 'f1_blitz', 'precision_blitz', 'recall_blitz', 'support_blitz']).round(3).T.sort_values('Accuracy', ascending=False)\n",
    "results_nested_2"
   ]
  },
  {
   "cell_type": "code",
   "execution_count": 122,
   "metadata": {},
   "outputs": [],
   "source": [
    "results_nested_2.to_pickle('datasets/results_nested_2')"
   ]
  },
  {
   "cell_type": "markdown",
   "metadata": {},
   "source": [
    "In this iteration, the results could unfortunatelly not be improved."
   ]
  },
  {
   "cell_type": "code",
   "execution_count": null,
   "metadata": {},
   "outputs": [],
   "source": []
  }
 ],
 "metadata": {
  "kernelspec": {
   "display_name": "Python 3",
   "language": "python",
   "name": "python3"
  },
  "language_info": {
   "codemirror_mode": {
    "name": "ipython",
    "version": 3
   },
   "file_extension": ".py",
   "mimetype": "text/x-python",
   "name": "python",
   "nbconvert_exporter": "python",
   "pygments_lexer": "ipython3",
   "version": "3.6.9"
  }
 },
 "nbformat": 4,
 "nbformat_minor": 4
}
