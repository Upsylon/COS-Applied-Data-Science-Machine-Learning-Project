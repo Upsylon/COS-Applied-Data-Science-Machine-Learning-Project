{
 "cells": [
  {
   "cell_type": "markdown",
   "metadata": {},
   "source": [
    "# Neural Network with 5000 games per variant"
   ]
  },
  {
   "cell_type": "markdown",
   "metadata": {},
   "source": [
    "We will here fit a neural network based on a bigger sample of 5000 games per variant. The methodology to get these games is the same as for the sample that has been used until here and can be found in the notebook \"Big sample extraction.ipynb\"."
   ]
  },
  {
   "cell_type": "code",
   "execution_count": 1,
   "metadata": {},
   "outputs": [],
   "source": [
    "import pandas as pd\n",
    "import numpy as np\n",
    "import time\n",
    "import matplotlib.pyplot as plt\n",
    "import graphviz\n",
    "from sklearn.model_selection import train_test_split\n",
    "from sklearn.decomposition import PCA\n",
    "from sklearn.cluster import KMeans\n",
    "from sklearn.neighbors import NearestNeighbors\n",
    "from sklearn.neighbors import KNeighborsClassifier\n",
    "from sklearn.preprocessing import StandardScaler\n",
    "from sklearn.pipeline import Pipeline\n",
    "from sklearn.tree import DecisionTreeClassifier\n",
    "from sklearn.tree import export_graphviz\n",
    "from sklearn.linear_model import LogisticRegression\n",
    "from sklearn.ensemble import RandomForestClassifier\n",
    "from sklearn.svm import SVC\n",
    "from sklearn.neural_network import MLPClassifier\n",
    "from sklearn.model_selection import GridSearchCV\n",
    "from sklearn.model_selection import KFold\n",
    "from sklearn.model_selection import cross_validate\n",
    "from sklearn.metrics import classification_report\n",
    "from sklearn.metrics import confusion_matrix\n",
    "from tensorflow.keras.wrappers.scikit_learn import KerasClassifier\n",
    "import tensorflow.keras as keras\n",
    "from tensorflow.keras import Sequential\n",
    "from tensorflow.keras.layers import Dense\n",
    "from tensorflow.keras import optimizers\n",
    "from tensorflow.keras import activations\n",
    "from tensorflow.keras import initializers\n",
    "from PIL import Image"
   ]
  },
  {
   "cell_type": "code",
   "execution_count": 2,
   "metadata": {},
   "outputs": [],
   "source": [
    "full_df_5000 = pd.read_pickle('datasets/full_df_5000')"
   ]
  },
  {
   "cell_type": "code",
   "execution_count": 3,
   "metadata": {},
   "outputs": [],
   "source": [
    "variants = ['antichess', 'atomic', 'blitz', 'chess960', 'crazyhouse', 'horde', 'kingOfTheHill', 'racingKings', 'threeCheck']"
   ]
  },
  {
   "cell_type": "markdown",
   "metadata": {},
   "source": [
    "# Creating Train/Validation/Test set"
   ]
  },
  {
   "cell_type": "markdown",
   "metadata": {},
   "source": [
    "As we work now with a different set of data that has 5000 samples per variant, we have to recreate the training, validation and testing sets.  \n",
    "However, for comparison reasons, we have to keep the same testing set as we used for all other models (i.e. the testing set with 100 sample of each feature).  \n",
    "We therefore load the testing set that is used in the other units: "
   ]
  },
  {
   "cell_type": "code",
   "execution_count": 4,
   "metadata": {},
   "outputs": [],
   "source": [
    "X_te = pd.read_pickle('datasets/X_te')\n",
    "y_te = pd.read_pickle('datasets/y_te')\n",
    "testing_set = X_te.join(y_te)"
   ]
  },
  {
   "cell_type": "markdown",
   "metadata": {},
   "source": [
    "However, these sets were constituted by picking random games from the \"yearly arenas\" for each variants.  \n",
    "Therefore, to avoid overfitting, we have to be sure that the games in the testing sets are not present in the \"new\" training set.  \n",
    "We therefore select all the games that are in both sets and remove them from the training set. "
   ]
  },
  {
   "cell_type": "code",
   "execution_count": 5,
   "metadata": {},
   "outputs": [],
   "source": [
    "# inspired from https://stackoverflow.com/questions/62519791/finding-duplicates-in-two-dataframes-and-removing-the-duplicates-from-one-datafr\n",
    "df_merge = pd.merge(full_df_5000, testing_set, on=list(full_df_5000.columns), how='inner') # finds games that are in both sets\n",
    "full_df_5000 = full_df_5000.append(df_merge) # appends the duplicated games to the training set\n",
    "full_df_5000['Duplicated'] = full_df_5000.duplicated(keep=False) # finds duplicates\n",
    "full_training = full_df_5000[~full_df_5000['Duplicated']] # selects only rows which are not duplicated.\n",
    "full_training = full_training.drop('Duplicated', axis=1)"
   ]
  },
  {
   "cell_type": "code",
   "execution_count": 6,
   "metadata": {},
   "outputs": [
    {
     "data": {
      "text/plain": [
       "(43296, 478)"
      ]
     },
     "execution_count": 6,
     "metadata": {},
     "output_type": "execute_result"
    }
   ],
   "source": [
    "full_training.shape"
   ]
  },
  {
   "cell_type": "markdown",
   "metadata": {},
   "source": [
    "We see that more than 1700 games were removed, which is more than the total number of games in the testing set.  \n",
    "This is due to the fact that different games have the same positions after 10 moves and all were removed.  \n",
    "Now, the testing is exactly the same as previously and none of the games in the testing set are present in the training data.  "
   ]
  },
  {
   "cell_type": "markdown",
   "metadata": {},
   "source": [
    "# Methodlogy"
   ]
  },
  {
   "cell_type": "markdown",
   "metadata": {},
   "source": [
    "We will tune the Neural Network using keras with grid-search as we did previously for the other models. We do not need to further split the training data into training/validation sets as this is handled internally by the KerasClassifier() with grid-search that we are going to use.  \n",
    "However, the data has to be prepared."
   ]
  },
  {
   "cell_type": "code",
   "execution_count": 7,
   "metadata": {},
   "outputs": [],
   "source": [
    "X_tr = full_training.drop('variant', axis=1)\n",
    "y_tr = full_training['variant']"
   ]
  },
  {
   "cell_type": "code",
   "execution_count": 8,
   "metadata": {},
   "outputs": [],
   "source": [
    "X_tr=X_tr.values\n",
    "X_te=X_te.values\n",
    "X_tr = X_tr.reshape(X_tr.shape[0], -1)\n",
    "X_te = X_te.reshape(X_te.shape[0], -1)"
   ]
  },
  {
   "cell_type": "code",
   "execution_count": 9,
   "metadata": {},
   "outputs": [],
   "source": [
    "y_tr=y_tr.astype('category').cat.codes # converting into integers\n",
    "y_te=y_te.astype('category').cat.codes"
   ]
  },
  {
   "cell_type": "markdown",
   "metadata": {},
   "source": [
    "Then, we can create our neural network with Keras and use a grid search of the top of Scikit learn. The following code is highly inspired from my project 4.  "
   ]
  },
  {
   "cell_type": "code",
   "execution_count": 10,
   "metadata": {},
   "outputs": [],
   "source": [
    "def generate_model(nb_neurons = 64, \n",
    "                   activ_fn = 'relu', \n",
    "                   optimizer = 'adam', \n",
    "                   loss = 'sparse_categorical_crossentropy', \n",
    "                   metrics = ['acc']):\n",
    "    \n",
    "    # building the model\n",
    "    model = Sequential()\n",
    "    model.add(Dense(nb_neurons, # grid search over the nb of neurons in the hidden layer\n",
    "                    activation = activ_fn,  # test of multiple activating functions\n",
    "                    input_dim = 477, \n",
    "                    kernel_initializer=initializers.VarianceScaling(scale=1.0, seed=0)\n",
    "                   )\n",
    "             )\n",
    "    model.add(Dense(9, activation='softmax', kernel_initializer=initializers.VarianceScaling(scale=1.0, seed=0)))\n",
    "    \n",
    "    # compiling the model\n",
    "    model.compile(\n",
    "    optimizer='adam', \n",
    "    loss='sparse_categorical_crossentropy', \n",
    "    metrics=['acc'])\n",
    "    return model\n",
    "\n",
    "model = KerasClassifier(build_fn=generate_model, verbose=0)\n",
    "\n",
    "nb_neurons = [6,8,12,16,32,64,128,256] \n",
    "activ_fn = ['relu', 'softmax']    \n",
    "batch_size = [50]"
   ]
  },
  {
   "cell_type": "code",
   "execution_count": 11,
   "metadata": {},
   "outputs": [],
   "source": [
    "cv = KFold(n_splits=3, shuffle=True, random_state=0)\n",
    "param_grid = dict(nb_neurons=nb_neurons, \n",
    "                  activ_fn=activ_fn, \n",
    "                  epochs=[200], # large number combined with early stopper \n",
    "                  batch_size=batch_size)\n",
    "grid_cv = GridSearchCV(estimator=model, \n",
    "                    param_grid=param_grid, \n",
    "                    verbose=1, \n",
    "                    n_jobs=-1,\n",
    "                    cv=cv)"
   ]
  },
  {
   "cell_type": "markdown",
   "metadata": {},
   "source": [
    "As the tuning time is high, we will directly use the best ouputs that are given below:\n",
    "\n",
    "We can expect an accuracy close to 85.9% on the testing set with the following parameters: \n",
    "{'activ_fn': 'relu', 'batch_size': 50, 'epochs': 200, 'nb_neurons': 16}. \n",
    "The tuning time is 3214.1 sec."
   ]
  },
  {
   "cell_type": "code",
   "execution_count": 12,
   "metadata": {},
   "outputs": [],
   "source": [
    "best_params= {'activ_fn': 'relu', 'batch_size': 50, 'epochs': 200, 'nb_neurons': 16} \n",
    "NN_tune_time = 3214.1"
   ]
  },
  {
   "cell_type": "raw",
   "metadata": {},
   "source": [
    "start_time = time.time()\n",
    "grid_cv.fit(X_tr, y_tr, callbacks = [keras.callbacks.EarlyStopping(monitor='acc', patience = 6)])\n",
    "NN_tune_time = time.time() - start_time"
   ]
  },
  {
   "cell_type": "raw",
   "metadata": {},
   "source": [
    "# Collect results in a DataFrame\n",
    "cv_results = pd.DataFrame(grid_cv.cv_results_)\n",
    "\n",
    "# printing the results\n",
    "display(cv_results[['param_activ_fn','param_nb_neurons', 'mean_test_score', 'std_test_score']].sort_values('mean_test_score', ascending=False).head(10))\n",
    "print(\"We can expect an accuracy close to {:.1f}% on the testing set with the following parameters: \\n{}. \\nThe tuning time is {} sec.\".format(max(cv_results['mean_test_score']*100), grid_cv.best_params_, round(NN_tune_time, 1)))"
   ]
  },
  {
   "cell_type": "code",
   "execution_count": 13,
   "metadata": {},
   "outputs": [
    {
     "data": {
      "image/png": "[encoded data removed]",
      "text/plain": [
       "<PIL.PngImagePlugin.PngImageFile image mode=RGBA size=628x392 at 0x1A33D534E0>"
      ]
     },
     "execution_count": 13,
     "metadata": {},
     "output_type": "execute_result"
    }
   ],
   "source": [
    "Image.open('Images/Output_tuning_NN.png')"
   ]
  },
  {
   "cell_type": "markdown",
   "metadata": {},
   "source": [
    "Then, we use the best model that we found: "
   ]
  },
  {
   "cell_type": "code",
   "execution_count": 14,
   "metadata": {},
   "outputs": [
    {
     "name": "stdout",
     "output_type": "stream",
     "text": [
      "_________________________________________________________________\n",
      "Layer (type)                 Output Shape              Param #   \n",
      "=================================================================\n",
      "dense (Dense)                (None, 16)                7648      \n",
      "_________________________________________________________________\n",
      "dense_1 (Dense)              (None, 9)                 153       \n",
      "=================================================================\n",
      "Total params: 7,801\n",
      "Trainable params: 7,801\n",
      "Non-trainable params: 0\n",
      "_________________________________________________________________\n"
     ]
    }
   ],
   "source": [
    "nb_neurons = best_params['nb_neurons']\n",
    "activ_fn = best_params['activ_fn']\n",
    "epochs = 200\n",
    "batch_size = 50\n",
    "\n",
    "final_model = generate_model(nb_neurons=nb_neurons, activ_fn=activ_fn)\n",
    "final_model.summary()"
   ]
  },
  {
   "cell_type": "markdown",
   "metadata": {},
   "source": [
    "Using the best model:"
   ]
  },
  {
   "cell_type": "code",
   "execution_count": 15,
   "metadata": {},
   "outputs": [],
   "source": [
    "X_tr, X_va, y_tr, y_va = train_test_split(\n",
    "    X_tr, y_tr, test_size=1/5, random_state=1, stratify = y_tr)"
   ]
  },
  {
   "cell_type": "code",
   "execution_count": 16,
   "metadata": {},
   "outputs": [
    {
     "name": "stdout",
     "output_type": "stream",
     "text": [
      "Train on 34636 samples, validate on 8660 samples\n",
      "Epoch 1/200\n",
      "34636/34636 [==============================] - 2s 62us/step - loss: 0.8715 - acc: 0.7035 - val_loss: 0.5843 - val_acc: 0.7843\n",
      "Epoch 2/200\n",
      "34636/34636 [==============================] - 2s 44us/step - loss: 0.5131 - acc: 0.8089 - val_loss: 0.4905 - val_acc: 0.8145\n",
      "Epoch 3/200\n",
      "34636/34636 [==============================] - 2s 44us/step - loss: 0.4633 - acc: 0.8242 - val_loss: 0.4617 - val_acc: 0.8221\n",
      "Epoch 4/200\n",
      "34636/34636 [==============================] - 2s 44us/step - loss: 0.4378 - acc: 0.8324 - val_loss: 0.4458 - val_acc: 0.8286\n",
      "Epoch 5/200\n",
      "34636/34636 [==============================] - 2s 44us/step - loss: 0.4240 - acc: 0.8368 - val_loss: 0.4365 - val_acc: 0.8337\n",
      "Epoch 6/200\n",
      "34636/34636 [==============================] - 2s 44us/step - loss: 0.4115 - acc: 0.8422 - val_loss: 0.4310 - val_acc: 0.8334\n",
      "Epoch 7/200\n",
      "34636/34636 [==============================] - 2s 44us/step - loss: 0.4045 - acc: 0.8446 - val_loss: 0.4272 - val_acc: 0.8349\n",
      "Epoch 8/200\n",
      "34636/34636 [==============================] - 2s 44us/step - loss: 0.3984 - acc: 0.8466 - val_loss: 0.4214 - val_acc: 0.8415\n",
      "Epoch 9/200\n",
      "34636/34636 [==============================] - 2s 44us/step - loss: 0.3925 - acc: 0.8480 - val_loss: 0.4157 - val_acc: 0.8421\n",
      "Epoch 10/200\n",
      "34636/34636 [==============================] - 1s 43us/step - loss: 0.3876 - acc: 0.8515 - val_loss: 0.4154 - val_acc: 0.8382\n",
      "Epoch 11/200\n",
      "34636/34636 [==============================] - 2s 44us/step - loss: 0.3853 - acc: 0.8500 - val_loss: 0.4107 - val_acc: 0.8386\n",
      "Epoch 12/200\n",
      "34636/34636 [==============================] - 1s 43us/step - loss: 0.3801 - acc: 0.8544 - val_loss: 0.4175 - val_acc: 0.8418\n",
      "Epoch 13/200\n",
      "34636/34636 [==============================] - 1s 43us/step - loss: 0.3774 - acc: 0.8550 - val_loss: 0.4154 - val_acc: 0.8419\n",
      "Epoch 14/200\n",
      "34636/34636 [==============================] - 2s 44us/step - loss: 0.3748 - acc: 0.8548 - val_loss: 0.4076 - val_acc: 0.8453\n",
      "Epoch 15/200\n",
      "34636/34636 [==============================] - 2s 43us/step - loss: 0.3727 - acc: 0.8569 - val_loss: 0.4080 - val_acc: 0.8453\n",
      "Epoch 16/200\n",
      "34636/34636 [==============================] - 1s 43us/step - loss: 0.3704 - acc: 0.8570 - val_loss: 0.4090 - val_acc: 0.8454\n",
      "Epoch 17/200\n",
      "34636/34636 [==============================] - 2s 44us/step - loss: 0.3682 - acc: 0.8587 - val_loss: 0.4012 - val_acc: 0.8469\n",
      "Epoch 18/200\n",
      "34636/34636 [==============================] - 2s 44us/step - loss: 0.3656 - acc: 0.8593 - val_loss: 0.4052 - val_acc: 0.8467\n",
      "Epoch 19/200\n",
      "34636/34636 [==============================] - 2s 44us/step - loss: 0.3638 - acc: 0.8594 - val_loss: 0.4001 - val_acc: 0.8482\n",
      "Epoch 20/200\n",
      "34636/34636 [==============================] - 1s 43us/step - loss: 0.3620 - acc: 0.8606 - val_loss: 0.4008 - val_acc: 0.8458\n",
      "Epoch 21/200\n",
      "34636/34636 [==============================] - 1s 43us/step - loss: 0.3614 - acc: 0.8606 - val_loss: 0.3972 - val_acc: 0.8477\n",
      "Epoch 22/200\n",
      "34636/34636 [==============================] - 2s 43us/step - loss: 0.3584 - acc: 0.8624 - val_loss: 0.4024 - val_acc: 0.8482\n",
      "Epoch 23/200\n",
      "34636/34636 [==============================] - 2s 44us/step - loss: 0.3573 - acc: 0.8636 - val_loss: 0.3988 - val_acc: 0.8503\n",
      "Epoch 24/200\n",
      "34636/34636 [==============================] - 2s 44us/step - loss: 0.3568 - acc: 0.8632 - val_loss: 0.3948 - val_acc: 0.8485\n",
      "Epoch 25/200\n",
      "34636/34636 [==============================] - 1s 43us/step - loss: 0.3540 - acc: 0.8644 - val_loss: 0.3932 - val_acc: 0.8513\n",
      "Epoch 26/200\n",
      "34636/34636 [==============================] - 1s 43us/step - loss: 0.3521 - acc: 0.8642 - val_loss: 0.3995 - val_acc: 0.8464\n",
      "Epoch 27/200\n",
      "34636/34636 [==============================] - 1s 43us/step - loss: 0.3507 - acc: 0.8651 - val_loss: 0.3955 - val_acc: 0.8495\n",
      "Epoch 28/200\n",
      "34636/34636 [==============================] - 2s 44us/step - loss: 0.3501 - acc: 0.8661 - val_loss: 0.3942 - val_acc: 0.8508\n",
      "Epoch 29/200\n",
      "34636/34636 [==============================] - 2s 44us/step - loss: 0.3501 - acc: 0.8658 - val_loss: 0.3887 - val_acc: 0.8527\n",
      "Epoch 30/200\n",
      "34636/34636 [==============================] - 1s 43us/step - loss: 0.3474 - acc: 0.8663 - val_loss: 0.3947 - val_acc: 0.8515\n",
      "Epoch 31/200\n",
      "34636/34636 [==============================] - 2s 43us/step - loss: 0.3452 - acc: 0.8670 - val_loss: 0.3935 - val_acc: 0.8495\n",
      "Epoch 32/200\n",
      "34636/34636 [==============================] - 2s 44us/step - loss: 0.3452 - acc: 0.8679 - val_loss: 0.3900 - val_acc: 0.8521\n",
      "Epoch 33/200\n",
      "34636/34636 [==============================] - 2s 44us/step - loss: 0.3446 - acc: 0.8676 - val_loss: 0.3927 - val_acc: 0.8523\n",
      "Epoch 34/200\n",
      "34636/34636 [==============================] - 1s 43us/step - loss: 0.3414 - acc: 0.8692 - val_loss: 0.3863 - val_acc: 0.8514\n",
      "Epoch 35/200\n",
      "34636/34636 [==============================] - 2s 43us/step - loss: 0.3413 - acc: 0.8693 - val_loss: 0.3918 - val_acc: 0.8502\n",
      "Epoch 36/200\n",
      "34636/34636 [==============================] - 1s 43us/step - loss: 0.3412 - acc: 0.8687 - val_loss: 0.3917 - val_acc: 0.8522\n",
      "Epoch 37/200\n",
      "34636/34636 [==============================] - 2s 44us/step - loss: 0.3397 - acc: 0.8684 - val_loss: 0.3908 - val_acc: 0.8513\n",
      "Epoch 38/200\n",
      "34636/34636 [==============================] - 2s 43us/step - loss: 0.3389 - acc: 0.8699 - val_loss: 0.3908 - val_acc: 0.8514\n",
      "Epoch 39/200\n",
      "34636/34636 [==============================] - 2s 45us/step - loss: 0.3368 - acc: 0.8708 - val_loss: 0.3963 - val_acc: 0.8491\n",
      "Epoch 40/200\n",
      "34636/34636 [==============================] - 2s 44us/step - loss: 0.3350 - acc: 0.8713 - val_loss: 0.3913 - val_acc: 0.8505\n",
      "Epoch 41/200\n",
      "34636/34636 [==============================] - 1s 43us/step - loss: 0.3344 - acc: 0.8714 - val_loss: 0.3882 - val_acc: 0.8517\n",
      "Epoch 42/200\n",
      "34636/34636 [==============================] - 2s 44us/step - loss: 0.3318 - acc: 0.8728 - val_loss: 0.3906 - val_acc: 0.8508\n",
      "Epoch 43/200\n",
      "34636/34636 [==============================] - 2s 44us/step - loss: 0.3314 - acc: 0.8722 - val_loss: 0.3817 - val_acc: 0.8521\n",
      "Epoch 44/200\n",
      "34636/34636 [==============================] - 2s 45us/step - loss: 0.3304 - acc: 0.8735 - val_loss: 0.3875 - val_acc: 0.8528\n",
      "Epoch 45/200\n",
      "34636/34636 [==============================] - 2s 49us/step - loss: 0.3301 - acc: 0.8733 - val_loss: 0.3848 - val_acc: 0.8524\n",
      "Epoch 46/200\n",
      "34636/34636 [==============================] - 2s 53us/step - loss: 0.3277 - acc: 0.8738 - val_loss: 0.3864 - val_acc: 0.8521\n",
      "Epoch 47/200\n",
      "34636/34636 [==============================] - 2s 57us/step - loss: 0.3270 - acc: 0.8737 - val_loss: 0.3859 - val_acc: 0.8516\n",
      "Epoch 48/200\n",
      "34636/34636 [==============================] - 2s 60us/step - loss: 0.3271 - acc: 0.8740 - val_loss: 0.3858 - val_acc: 0.8525\n",
      "Epoch 49/200\n",
      "34636/34636 [==============================] - 2s 61us/step - loss: 0.3258 - acc: 0.8756 - val_loss: 0.3816 - val_acc: 0.8539\n",
      "Epoch 50/200\n",
      "34636/34636 [==============================] - 2s 60us/step - loss: 0.3252 - acc: 0.8752 - val_loss: 0.3869 - val_acc: 0.8536\n",
      "Epoch 51/200\n",
      "34636/34636 [==============================] - 2s 57us/step - loss: 0.3231 - acc: 0.8758 - val_loss: 0.3811 - val_acc: 0.8559\n",
      "Epoch 52/200\n",
      "34636/34636 [==============================] - 2s 53us/step - loss: 0.3209 - acc: 0.8773 - val_loss: 0.3918 - val_acc: 0.8503\n",
      "Epoch 53/200\n",
      "34636/34636 [==============================] - 2s 50us/step - loss: 0.3214 - acc: 0.8764 - val_loss: 0.3834 - val_acc: 0.8513\n",
      "Epoch 54/200\n",
      "34636/34636 [==============================] - 2s 48us/step - loss: 0.3195 - acc: 0.8779 - val_loss: 0.3785 - val_acc: 0.8555\n",
      "Epoch 55/200\n",
      "34636/34636 [==============================] - 2s 47us/step - loss: 0.3186 - acc: 0.8778 - val_loss: 0.3844 - val_acc: 0.8536\n",
      "Epoch 56/200\n",
      "34636/34636 [==============================] - 2s 45us/step - loss: 0.3194 - acc: 0.8773 - val_loss: 0.3762 - val_acc: 0.8600\n",
      "Epoch 57/200\n",
      "34636/34636 [==============================] - 2s 45us/step - loss: 0.3176 - acc: 0.8782 - val_loss: 0.3907 - val_acc: 0.8516\n",
      "Epoch 58/200\n",
      "34636/34636 [==============================] - 2s 45us/step - loss: 0.3158 - acc: 0.8782 - val_loss: 0.3862 - val_acc: 0.8546\n",
      "Epoch 59/200\n",
      "34636/34636 [==============================] - 2s 45us/step - loss: 0.3156 - acc: 0.8786 - val_loss: 0.3806 - val_acc: 0.8547\n",
      "Epoch 60/200\n",
      "34636/34636 [==============================] - 2s 46us/step - loss: 0.3148 - acc: 0.8806 - val_loss: 0.3857 - val_acc: 0.8527\n",
      "Epoch 61/200\n",
      "34636/34636 [==============================] - 2s 47us/step - loss: 0.3129 - acc: 0.8818 - val_loss: 0.3827 - val_acc: 0.8550\n",
      "Epoch 62/200\n",
      "34636/34636 [==============================] - 2s 48us/step - loss: 0.3127 - acc: 0.8803 - val_loss: 0.3758 - val_acc: 0.8579\n",
      "Epoch 63/200\n",
      "34636/34636 [==============================] - 2s 48us/step - loss: 0.3114 - acc: 0.8792 - val_loss: 0.3836 - val_acc: 0.8547\n",
      "Epoch 64/200\n",
      "34636/34636 [==============================] - 2s 48us/step - loss: 0.3111 - acc: 0.8806 - val_loss: 0.3791 - val_acc: 0.8574\n",
      "Epoch 65/200\n",
      "34636/34636 [==============================] - 2s 50us/step - loss: 0.3097 - acc: 0.8802 - val_loss: 0.4011 - val_acc: 0.8485\n",
      "Epoch 66/200\n",
      "34636/34636 [==============================] - 2s 49us/step - loss: 0.3115 - acc: 0.8808 - val_loss: 0.3773 - val_acc: 0.8574\n",
      "Epoch 67/200\n",
      "34636/34636 [==============================] - 2s 49us/step - loss: 0.3083 - acc: 0.8809 - val_loss: 0.3908 - val_acc: 0.8512\n"
     ]
    }
   ],
   "source": [
    "early_stopping = keras.callbacks.EarlyStopping(monitor='acc', patience = 6)\n",
    "\n",
    "start_time = time.time()\n",
    "history = final_model.fit(\n",
    "    x=X_tr, y=y_tr,\n",
    "    validation_data=(X_va, y_va),\n",
    "    batch_size=batch_size, epochs=epochs,\n",
    "    shuffle=True,\n",
    "    callbacks=[early_stopping]\n",
    ")\n",
    "NN_train_time = time.time() - start_time"
   ]
  },
  {
   "cell_type": "markdown",
   "metadata": {},
   "source": [
    "Let's visualize how our model did:"
   ]
  },
  {
   "cell_type": "code",
   "execution_count": 17,
   "metadata": {},
   "outputs": [
    {
     "data": {
      "image/png": "[encoded data removed]",
      "text/plain": [
       "<Figure size 864x288 with 2 Axes>"
      ]
     },
     "metadata": {
      "needs_background": "light"
     },
     "output_type": "display_data"
    }
   ],
   "source": [
    "# code from the course\n",
    "\n",
    "%matplotlib inline\n",
    "import matplotlib.pyplot as plt\n",
    "import numpy as np\n",
    "\n",
    "# Create two plots: one for the loss value, one for the accuracy\n",
    "fig, (ax1, ax2) = plt.subplots(nrows=1, ncols=2, figsize=(12, 4))\n",
    "\n",
    "# Plot accuracy values\n",
    "ax1.plot(history.history['loss'], label='train loss')\n",
    "ax1.plot(history.history['val_loss'], label='val loss')\n",
    "ax1.set_title('Validation loss {:.3f} (mean last 3)'.format(\n",
    "    np.mean(history.history['val_loss'][-3:]) # last three values\n",
    "))\n",
    "ax1.set_xlabel('epoch')\n",
    "ax1.set_ylabel('loss value')\n",
    "ax1.legend()\n",
    "\n",
    "# Plot accuracy values\n",
    "ax2.plot(history.history['acc'], label='train acc')\n",
    "ax2.plot(history.history['val_acc'], label='val acc')\n",
    "ax2.set_title('Validation accuracy {:.3f} (mean last 3)'.format(\n",
    "    np.mean(history.history['val_acc'][-3:]) # last three values\n",
    "))\n",
    "ax2.set_xlabel('epoch')\n",
    "ax2.set_ylabel('accuracy')\n",
    "ax2.legend()\n",
    "plt.show()"
   ]
  },
  {
   "cell_type": "markdown",
   "metadata": {},
   "source": [
    "The validation accuracy isn't very impressive compared to our previous models. Let's see what we get on the testing set."
   ]
  },
  {
   "cell_type": "markdown",
   "metadata": {},
   "source": [
    "# Prediction of test set"
   ]
  },
  {
   "cell_type": "code",
   "execution_count": 18,
   "metadata": {},
   "outputs": [
    {
     "name": "stdout",
     "output_type": "stream",
     "text": [
      "900/900 [==============================] - 0s 36us/step\n",
      "Test accuracy: 85.44%\n"
     ]
    }
   ],
   "source": [
    "(NN_loss, NN_accuracy) = final_model.evaluate(X_te, y_te)\n",
    "print('Test accuracy: {:.2f}%'.format(100*NN_accuracy))"
   ]
  },
  {
   "cell_type": "code",
   "execution_count": 19,
   "metadata": {},
   "outputs": [],
   "source": [
    "y_te_pred = [variants[i] for i in final_model.predict_classes(X_te)] # getting the names of the predicted variants"
   ]
  },
  {
   "cell_type": "markdown",
   "metadata": {},
   "source": [
    "# Results"
   ]
  },
  {
   "cell_type": "code",
   "execution_count": 20,
   "metadata": {},
   "outputs": [
    {
     "data": {
      "text/html": [
       "<div>\n",
       "<style scoped>\n",
       "    .dataframe tbody tr th:only-of-type {\n",
       "        vertical-align: middle;\n",
       "    }\n",
       "\n",
       "    .dataframe tbody tr th {\n",
       "        vertical-align: top;\n",
       "    }\n",
       "\n",
       "    .dataframe thead th {\n",
       "        text-align: right;\n",
       "    }\n",
       "</style>\n",
       "<table border=\"1\" class=\"dataframe\">\n",
       "  <thead>\n",
       "    <tr style=\"text-align: right;\">\n",
       "      <th></th>\n",
       "      <th>antichess</th>\n",
       "      <th>atomic</th>\n",
       "      <th>blitz</th>\n",
       "      <th>chess960</th>\n",
       "      <th>crazyhouse</th>\n",
       "      <th>horde</th>\n",
       "      <th>kingOfTheHill</th>\n",
       "      <th>racingKings</th>\n",
       "      <th>threeCheck</th>\n",
       "    </tr>\n",
       "  </thead>\n",
       "  <tbody>\n",
       "    <tr>\n",
       "      <th>antichess</th>\n",
       "      <td>0.95</td>\n",
       "      <td>0.00</td>\n",
       "      <td>0.01</td>\n",
       "      <td>0.0</td>\n",
       "      <td>0.03</td>\n",
       "      <td>0.0</td>\n",
       "      <td>0.00</td>\n",
       "      <td>0.0</td>\n",
       "      <td>0.00</td>\n",
       "    </tr>\n",
       "    <tr>\n",
       "      <th>atomic</th>\n",
       "      <td>0.04</td>\n",
       "      <td>0.99</td>\n",
       "      <td>0.01</td>\n",
       "      <td>0.0</td>\n",
       "      <td>0.00</td>\n",
       "      <td>0.0</td>\n",
       "      <td>0.01</td>\n",
       "      <td>0.0</td>\n",
       "      <td>0.02</td>\n",
       "    </tr>\n",
       "    <tr>\n",
       "      <th>blitz</th>\n",
       "      <td>0.00</td>\n",
       "      <td>0.00</td>\n",
       "      <td>0.78</td>\n",
       "      <td>0.0</td>\n",
       "      <td>0.18</td>\n",
       "      <td>0.0</td>\n",
       "      <td>0.35</td>\n",
       "      <td>0.0</td>\n",
       "      <td>0.15</td>\n",
       "    </tr>\n",
       "    <tr>\n",
       "      <th>chess960</th>\n",
       "      <td>0.00</td>\n",
       "      <td>0.00</td>\n",
       "      <td>0.00</td>\n",
       "      <td>1.0</td>\n",
       "      <td>0.00</td>\n",
       "      <td>0.0</td>\n",
       "      <td>0.00</td>\n",
       "      <td>0.0</td>\n",
       "      <td>0.00</td>\n",
       "    </tr>\n",
       "    <tr>\n",
       "      <th>crazyhouse</th>\n",
       "      <td>0.00</td>\n",
       "      <td>0.01</td>\n",
       "      <td>0.00</td>\n",
       "      <td>0.0</td>\n",
       "      <td>0.62</td>\n",
       "      <td>0.0</td>\n",
       "      <td>0.01</td>\n",
       "      <td>0.0</td>\n",
       "      <td>0.01</td>\n",
       "    </tr>\n",
       "    <tr>\n",
       "      <th>horde</th>\n",
       "      <td>0.00</td>\n",
       "      <td>0.00</td>\n",
       "      <td>0.00</td>\n",
       "      <td>0.0</td>\n",
       "      <td>0.00</td>\n",
       "      <td>1.0</td>\n",
       "      <td>0.00</td>\n",
       "      <td>0.0</td>\n",
       "      <td>0.00</td>\n",
       "    </tr>\n",
       "    <tr>\n",
       "      <th>kingOfTheHill</th>\n",
       "      <td>0.01</td>\n",
       "      <td>0.00</td>\n",
       "      <td>0.12</td>\n",
       "      <td>0.0</td>\n",
       "      <td>0.06</td>\n",
       "      <td>0.0</td>\n",
       "      <td>0.57</td>\n",
       "      <td>0.0</td>\n",
       "      <td>0.04</td>\n",
       "    </tr>\n",
       "    <tr>\n",
       "      <th>racingKings</th>\n",
       "      <td>0.00</td>\n",
       "      <td>0.00</td>\n",
       "      <td>0.00</td>\n",
       "      <td>0.0</td>\n",
       "      <td>0.00</td>\n",
       "      <td>0.0</td>\n",
       "      <td>0.00</td>\n",
       "      <td>1.0</td>\n",
       "      <td>0.00</td>\n",
       "    </tr>\n",
       "    <tr>\n",
       "      <th>threeCheck</th>\n",
       "      <td>0.00</td>\n",
       "      <td>0.00</td>\n",
       "      <td>0.08</td>\n",
       "      <td>0.0</td>\n",
       "      <td>0.11</td>\n",
       "      <td>0.0</td>\n",
       "      <td>0.06</td>\n",
       "      <td>0.0</td>\n",
       "      <td>0.78</td>\n",
       "    </tr>\n",
       "  </tbody>\n",
       "</table>\n",
       "</div>"
      ],
      "text/plain": [
       "               antichess  atomic  blitz  chess960  crazyhouse  horde  \\\n",
       "antichess           0.95    0.00   0.01       0.0        0.03    0.0   \n",
       "atomic              0.04    0.99   0.01       0.0        0.00    0.0   \n",
       "blitz               0.00    0.00   0.78       0.0        0.18    0.0   \n",
       "chess960            0.00    0.00   0.00       1.0        0.00    0.0   \n",
       "crazyhouse          0.00    0.01   0.00       0.0        0.62    0.0   \n",
       "horde               0.00    0.00   0.00       0.0        0.00    1.0   \n",
       "kingOfTheHill       0.01    0.00   0.12       0.0        0.06    0.0   \n",
       "racingKings         0.00    0.00   0.00       0.0        0.00    0.0   \n",
       "threeCheck          0.00    0.00   0.08       0.0        0.11    0.0   \n",
       "\n",
       "               kingOfTheHill  racingKings  threeCheck  \n",
       "antichess               0.00          0.0        0.00  \n",
       "atomic                  0.01          0.0        0.02  \n",
       "blitz                   0.35          0.0        0.15  \n",
       "chess960                0.00          0.0        0.00  \n",
       "crazyhouse              0.01          0.0        0.01  \n",
       "horde                   0.00          0.0        0.00  \n",
       "kingOfTheHill           0.57          0.0        0.04  \n",
       "racingKings             0.00          1.0        0.00  \n",
       "threeCheck              0.06          0.0        0.78  "
      ]
     },
     "execution_count": 20,
     "metadata": {},
     "output_type": "execute_result"
    }
   ],
   "source": [
    "NN_conf=pd.DataFrame(confusion_matrix(y_te_pred, pd.read_pickle('datasets/y_te')), index=variants, columns=variants)/100\n",
    "NN_conf"
   ]
  },
  {
   "cell_type": "code",
   "execution_count": 21,
   "metadata": {},
   "outputs": [
    {
     "data": {
      "text/html": [
       "<div>\n",
       "<style scoped>\n",
       "    .dataframe tbody tr th:only-of-type {\n",
       "        vertical-align: middle;\n",
       "    }\n",
       "\n",
       "    .dataframe tbody tr th {\n",
       "        vertical-align: top;\n",
       "    }\n",
       "\n",
       "    .dataframe thead th {\n",
       "        text-align: right;\n",
       "    }\n",
       "</style>\n",
       "<table border=\"1\" class=\"dataframe\">\n",
       "  <thead>\n",
       "    <tr style=\"text-align: right;\">\n",
       "      <th></th>\n",
       "      <th>f1-score</th>\n",
       "      <th>precision</th>\n",
       "      <th>recall</th>\n",
       "      <th>support</th>\n",
       "    </tr>\n",
       "  </thead>\n",
       "  <tbody>\n",
       "    <tr>\n",
       "      <th>antichess</th>\n",
       "      <td>0.955</td>\n",
       "      <td>0.950</td>\n",
       "      <td>0.960</td>\n",
       "      <td>99.0</td>\n",
       "    </tr>\n",
       "    <tr>\n",
       "      <th>atomic</th>\n",
       "      <td>0.957</td>\n",
       "      <td>0.990</td>\n",
       "      <td>0.925</td>\n",
       "      <td>107.0</td>\n",
       "    </tr>\n",
       "    <tr>\n",
       "      <th>blitz</th>\n",
       "      <td>0.634</td>\n",
       "      <td>0.780</td>\n",
       "      <td>0.534</td>\n",
       "      <td>146.0</td>\n",
       "    </tr>\n",
       "    <tr>\n",
       "      <th>chess960</th>\n",
       "      <td>1.000</td>\n",
       "      <td>1.000</td>\n",
       "      <td>1.000</td>\n",
       "      <td>100.0</td>\n",
       "    </tr>\n",
       "    <tr>\n",
       "      <th>crazyhouse</th>\n",
       "      <td>0.752</td>\n",
       "      <td>0.620</td>\n",
       "      <td>0.954</td>\n",
       "      <td>65.0</td>\n",
       "    </tr>\n",
       "    <tr>\n",
       "      <th>horde</th>\n",
       "      <td>1.000</td>\n",
       "      <td>1.000</td>\n",
       "      <td>1.000</td>\n",
       "      <td>100.0</td>\n",
       "    </tr>\n",
       "    <tr>\n",
       "      <th>kingOfTheHill</th>\n",
       "      <td>0.633</td>\n",
       "      <td>0.570</td>\n",
       "      <td>0.712</td>\n",
       "      <td>80.0</td>\n",
       "    </tr>\n",
       "    <tr>\n",
       "      <th>racingKings</th>\n",
       "      <td>1.000</td>\n",
       "      <td>1.000</td>\n",
       "      <td>1.000</td>\n",
       "      <td>100.0</td>\n",
       "    </tr>\n",
       "    <tr>\n",
       "      <th>threeCheck</th>\n",
       "      <td>0.768</td>\n",
       "      <td>0.780</td>\n",
       "      <td>0.757</td>\n",
       "      <td>103.0</td>\n",
       "    </tr>\n",
       "    <tr>\n",
       "      <th>micro avg</th>\n",
       "      <td>0.854</td>\n",
       "      <td>0.854</td>\n",
       "      <td>0.854</td>\n",
       "      <td>900.0</td>\n",
       "    </tr>\n",
       "    <tr>\n",
       "      <th>macro avg</th>\n",
       "      <td>0.855</td>\n",
       "      <td>0.854</td>\n",
       "      <td>0.871</td>\n",
       "      <td>900.0</td>\n",
       "    </tr>\n",
       "    <tr>\n",
       "      <th>weighted avg</th>\n",
       "      <td>0.853</td>\n",
       "      <td>0.867</td>\n",
       "      <td>0.854</td>\n",
       "      <td>900.0</td>\n",
       "    </tr>\n",
       "  </tbody>\n",
       "</table>\n",
       "</div>"
      ],
      "text/plain": [
       "               f1-score  precision  recall  support\n",
       "antichess         0.955      0.950   0.960     99.0\n",
       "atomic            0.957      0.990   0.925    107.0\n",
       "blitz             0.634      0.780   0.534    146.0\n",
       "chess960          1.000      1.000   1.000    100.0\n",
       "crazyhouse        0.752      0.620   0.954     65.0\n",
       "horde             1.000      1.000   1.000    100.0\n",
       "kingOfTheHill     0.633      0.570   0.712     80.0\n",
       "racingKings       1.000      1.000   1.000    100.0\n",
       "threeCheck        0.768      0.780   0.757    103.0\n",
       "micro avg         0.854      0.854   0.854    900.0\n",
       "macro avg         0.855      0.854   0.871    900.0\n",
       "weighted avg      0.853      0.867   0.854    900.0"
      ]
     },
     "execution_count": 21,
     "metadata": {},
     "output_type": "execute_result"
    }
   ],
   "source": [
    "NN_metrics=pd.DataFrame(classification_report(y_te_pred, pd.read_pickle('datasets/y_te'), output_dict=True)).T.round(3)\n",
    "NN_metrics"
   ]
  },
  {
   "cell_type": "code",
   "execution_count": 22,
   "metadata": {},
   "outputs": [],
   "source": [
    "NN_scores_avg=list(NN_metrics.loc['weighted avg',:])[:3]\n",
    "NN_scores_blitz=list(NN_metrics.loc['blitz',:])"
   ]
  },
  {
   "cell_type": "code",
   "execution_count": 25,
   "metadata": {},
   "outputs": [
    {
     "data": {
      "text/html": [
       "<div>\n",
       "<style scoped>\n",
       "    .dataframe tbody tr th:only-of-type {\n",
       "        vertical-align: middle;\n",
       "    }\n",
       "\n",
       "    .dataframe tbody tr th {\n",
       "        vertical-align: top;\n",
       "    }\n",
       "\n",
       "    .dataframe thead th {\n",
       "        text-align: right;\n",
       "    }\n",
       "</style>\n",
       "<table border=\"1\" class=\"dataframe\">\n",
       "  <thead>\n",
       "    <tr style=\"text-align: right;\">\n",
       "      <th></th>\n",
       "      <th>Accuracy</th>\n",
       "      <th>Tuning time</th>\n",
       "      <th>Training time</th>\n",
       "      <th>f1_avg</th>\n",
       "      <th>precision_avg</th>\n",
       "      <th>recall_avg</th>\n",
       "      <th>f1_blitz</th>\n",
       "      <th>precision_blitz</th>\n",
       "      <th>recall_blitz</th>\n",
       "      <th>support_blitz</th>\n",
       "    </tr>\n",
       "  </thead>\n",
       "  <tbody>\n",
       "    <tr>\n",
       "      <th>NN_5000</th>\n",
       "      <td>0.854</td>\n",
       "      <td>3214.1</td>\n",
       "      <td>107.456</td>\n",
       "      <td>0.853</td>\n",
       "      <td>0.867</td>\n",
       "      <td>0.854</td>\n",
       "      <td>0.634</td>\n",
       "      <td>0.78</td>\n",
       "      <td>0.534</td>\n",
       "      <td>146.0</td>\n",
       "    </tr>\n",
       "  </tbody>\n",
       "</table>\n",
       "</div>"
      ],
      "text/plain": [
       "         Accuracy  Tuning time  Training time  f1_avg  precision_avg  \\\n",
       "NN_5000     0.854       3214.1        107.456   0.853          0.867   \n",
       "\n",
       "         recall_avg  f1_blitz  precision_blitz  recall_blitz  support_blitz  \n",
       "NN_5000       0.854     0.634             0.78         0.534          146.0  "
      ]
     },
     "execution_count": 25,
     "metadata": {},
     "output_type": "execute_result"
    }
   ],
   "source": [
    "results_NN_5000=pd.DataFrame({\n",
    "    'NN_5000': [NN_accuracy, NN_tune_time, NN_train_time, NN_scores_avg[0], NN_scores_avg[1], NN_scores_avg[2], NN_scores_blitz[0], NN_scores_blitz[1], NN_scores_blitz[2], NN_scores_blitz[3]],\n",
    "}, index = ['Accuracy', 'Tuning time', 'Training time', 'f1_avg', 'precision_avg', 'recall_avg', 'f1_blitz', 'precision_blitz', 'recall_blitz', 'support_blitz']).round(3).T.sort_values('Accuracy', ascending=False)\n",
    "results_full"
   ]
  },
  {
   "cell_type": "code",
   "execution_count": 26,
   "metadata": {},
   "outputs": [],
   "source": [
    "results_NN_5000.to_pickle('datasets/results_NN_5000')"
   ]
  },
  {
   "cell_type": "markdown",
   "metadata": {},
   "source": [
    "Unfortunatelly, we did not achieve to get a better performance than our previous \"more simple\" models that we fit in the other sections."
   ]
  },
  {
   "cell_type": "code",
   "execution_count": null,
   "metadata": {},
   "outputs": [],
   "source": []
  }
 ],
 "metadata": {
  "kernelspec": {
   "display_name": "Python 3",
   "language": "python",
   "name": "python3"
  },
  "language_info": {
   "codemirror_mode": {
    "name": "ipython",
    "version": 3
   },
   "file_extension": ".py",
   "mimetype": "text/x-python",
   "name": "python",
   "nbconvert_exporter": "python",
   "pygments_lexer": "ipython3",
   "version": "3.6.9"
  }
 },
 "nbformat": 4,
 "nbformat_minor": 4
}
