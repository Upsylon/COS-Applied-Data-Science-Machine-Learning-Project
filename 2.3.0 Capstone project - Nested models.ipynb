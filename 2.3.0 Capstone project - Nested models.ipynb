{
 "cells": [
  {
   "cell_type": "markdown",
   "metadata": {},
   "source": [
    "# Summary of the methodology and outcomes:"
   ]
  },
  {
   "cell_type": "markdown",
   "metadata": {},
   "source": [
    "### Methodology\n",
    "\n",
    "The idea here is to tune models using a nested strategy described as follows:  \n",
    "1. Creating \"groups of variants\", tuning the models and predicting the group of variant of the testing set (+ iteratively \"tuning\" the groups of variants, testing different combinations)    \n",
    "2. Splitting the testing set into subsets based on the previous prediction  \n",
    "3. Predicting the variant for each of the subsets and evaluating the accuracy  \n",
    "\n",
    "The rational behind this idea is to try to reduce the computational complexity by first using only the engineered features. As we group the variants together, we can expect the engineered features to already do a good job in predicting these groups and therefore to reduce the complexity.  \n",
    "In a second step we use all the features to predict the variant. As we are working with subsets of data (1 subset for each group of data), we can also expect the complexity of the models to be lower than when using all the variants at once.  \n",
    "\n",
    "As we do not know which variants should be grouped together to maximise the likelihood of accurate predictions, we consider the groups of variants in the same way as we consider hyperparameters.  \n",
    "More precisely, we test groups of variants and change them iteratively according to the accuracy obtained.  \n",
    "In this notebook, we present and comment one option. Other iterations based on other groups are presented in the notebooks \"2.3.X Capstone project - Nested models - Copy.X\".  \n",
    "\n",
    "### Outcomes\n",
    "\n",
    "The accuracy is of more than 90% for predicting the groups of variants (baseline = 44.4%) that have been created in the first step of the process. However, the models struggle to predict the variants within these different groups and the overall accuracy for predicting the final variant (our objective) is clearly less than when predicting directly the variant without a nested strategy.  "
   ]
  },
  {
   "cell_type": "markdown",
   "metadata": {},
   "source": [
    "---\n",
    "# Nested Models"
   ]
  },
  {
   "cell_type": "code",
   "execution_count": 1,
   "metadata": {},
   "outputs": [],
   "source": [
    "import pandas as pd\n",
    "import numpy as np\n",
    "import time\n",
    "import matplotlib.pyplot as plt\n",
    "import graphviz\n",
    "from sklearn.model_selection import train_test_split\n",
    "from sklearn.decomposition import PCA\n",
    "from sklearn.cluster import KMeans\n",
    "from sklearn.neighbors import NearestNeighbors\n",
    "from sklearn.neighbors import KNeighborsClassifier\n",
    "from sklearn.preprocessing import StandardScaler\n",
    "from sklearn.pipeline import Pipeline\n",
    "from sklearn.tree import DecisionTreeClassifier\n",
    "from sklearn.tree import export_graphviz\n",
    "from sklearn.linear_model import LogisticRegression\n",
    "from sklearn.ensemble import RandomForestClassifier\n",
    "from sklearn.svm import SVC\n",
    "from sklearn.neural_network import MLPClassifier\n",
    "from sklearn.model_selection import GridSearchCV\n",
    "from sklearn.model_selection import KFold\n",
    "from sklearn.model_selection import cross_validate\n",
    "from sklearn.metrics import classification_report\n",
    "from sklearn.metrics import confusion_matrix\n",
    "from sklearn.metrics import accuracy_score"
   ]
  },
  {
   "cell_type": "code",
   "execution_count": 2,
   "metadata": {},
   "outputs": [],
   "source": [
    "# loading both sets\n",
    "full_df = pd.read_pickle('datasets/full_df')\n",
    "df_feat_eng = pd.read_pickle('datasets/df_feat_eng')"
   ]
  },
  {
   "cell_type": "markdown",
   "metadata": {},
   "source": [
    "We can create our groups of variants for this first iteration. The idea is to split the data first in terms of difficulty: "
   ]
  },
  {
   "cell_type": "code",
   "execution_count": 3,
   "metadata": {},
   "outputs": [],
   "source": [
    "variants = ['antichess', 'atomic', 'blitz', 'chess960', 'crazyhouse', 'horde', 'kingOfTheHill', 'racingKings', 'threeCheck']\n",
    "var_grps = ['easy_grp', 'middle_grp', 'hard_grp']\n",
    "\n",
    "# creating the groups of variants\n",
    "easy_grp = ['horde', 'racingKings']\n",
    "middle_grp = ['chess960', 'antichess', 'atomic', 'crazyhouse']\n",
    "hard_grp = [e for e in variants if e not in [item for sublist in [easy_grp, middle_grp] for item in sublist]] # the remaining variants"
   ]
  },
  {
   "cell_type": "markdown",
   "metadata": {},
   "source": [
    "As we have a group with 4 variants, the baseline for this first step would be to predict always \"middle_group\", and the accuracy would be of 4/9 = 44.4%. "
   ]
  },
  {
   "cell_type": "code",
   "execution_count": 4,
   "metadata": {},
   "outputs": [],
   "source": [
    "df_feat_eng.loc[df_feat_eng['variant'].isin(easy_grp), 'var_grp'] = 'easy_grp'\n",
    "df_feat_eng.loc[df_feat_eng['variant'].isin(middle_grp), 'var_grp'] = 'middle_grp'\n",
    "df_feat_eng.loc[df_feat_eng['variant'].isin(hard_grp), 'var_grp'] = 'hard_grp'"
   ]
  },
  {
   "cell_type": "code",
   "execution_count": 5,
   "metadata": {},
   "outputs": [
    {
     "data": {
      "text/plain": [
       "middle_grp    4000\n",
       "hard_grp      3000\n",
       "easy_grp      2000\n",
       "Name: var_grp, dtype: int64"
      ]
     },
     "execution_count": 5,
     "metadata": {},
     "output_type": "execute_result"
    }
   ],
   "source": [
    "df_feat_eng['var_grp'].value_counts()"
   ]
  },
  {
   "cell_type": "markdown",
   "metadata": {},
   "source": [
    "# Creating Train/Validation/Test set"
   ]
  },
  {
   "cell_type": "code",
   "execution_count": 6,
   "metadata": {},
   "outputs": [],
   "source": [
    "X_tr, X_te, y_tr, y_te = train_test_split(\n",
    "     df_feat_eng.drop(['var_grp'], axis=1), df_feat_eng['var_grp'], test_size=1/10, random_state=0, stratify =  df_feat_eng['variant'])\n",
    "\n",
    "# X_tr, X_va, y_tr, y_va = train_test_split(\n",
    "#    X_tr, y_tr, test_size=1/4, random_state=1, stratify = y_tr)\n",
    "\n",
    "# cross validation strategy\n",
    "kfold = KFold(\n",
    "    n_splits=5, \n",
    "    random_state=0) "
   ]
  },
  {
   "cell_type": "code",
   "execution_count": 7,
   "metadata": {},
   "outputs": [
    {
     "name": "stdout",
     "output_type": "stream",
     "text": [
      "Shape X_tr: (8100, 30) \n",
      "Shape X_te: (900, 30) \n",
      "Shape y_tr: (8100,) \n",
      "Shape y_te: (900,)\n"
     ]
    }
   ],
   "source": [
    "print(\"Shape X_tr:\" , X_tr.shape, \n",
    "      \"\\nShape X_te:\", X_te.shape,      \n",
    "      \"\\nShape y_tr:\" , y_tr.shape, \n",
    "      \"\\nShape y_te:\" , y_te.shape)"
   ]
  },
  {
   "cell_type": "code",
   "execution_count": 8,
   "metadata": {},
   "outputs": [
    {
     "data": {
      "text/plain": [
       "middle_grp    3600\n",
       "hard_grp      2700\n",
       "easy_grp      1800\n",
       "Name: var_grp, dtype: int64"
      ]
     },
     "execution_count": 8,
     "metadata": {},
     "output_type": "execute_result"
    }
   ],
   "source": [
    "y_tr.value_counts()"
   ]
  },
  {
   "cell_type": "code",
   "execution_count": 9,
   "metadata": {},
   "outputs": [
    {
     "data": {
      "text/plain": [
       "middle_grp    400\n",
       "hard_grp      300\n",
       "easy_grp      200\n",
       "Name: var_grp, dtype: int64"
      ]
     },
     "execution_count": 9,
     "metadata": {},
     "output_type": "execute_result"
    }
   ],
   "source": [
    "y_te.value_counts()"
   ]
  },
  {
   "cell_type": "markdown",
   "metadata": {},
   "source": [
    "We do not use the variant as dependent variable, but the group of variant. We therefore drop the variant for the moment, but save it as we will have to use it later."
   ]
  },
  {
   "cell_type": "code",
   "execution_count": 10,
   "metadata": {},
   "outputs": [],
   "source": [
    "tr_variant = X_tr['variant']\n",
    "X_tr = X_tr.drop(['variant'],axis=1)"
   ]
  },
  {
   "cell_type": "code",
   "execution_count": 11,
   "metadata": {},
   "outputs": [],
   "source": [
    "te_variant = X_te['variant']\n",
    "X_te = X_te.drop(['variant'],axis=1)"
   ]
  },
  {
   "cell_type": "code",
   "execution_count": 12,
   "metadata": {},
   "outputs": [
    {
     "data": {
      "text/html": [
       "<div>\n",
       "<style scoped>\n",
       "    .dataframe tbody tr th:only-of-type {\n",
       "        vertical-align: middle;\n",
       "    }\n",
       "\n",
       "    .dataframe tbody tr th {\n",
       "        vertical-align: top;\n",
       "    }\n",
       "\n",
       "    .dataframe thead th {\n",
       "        text-align: right;\n",
       "    }\n",
       "</style>\n",
       "<table border=\"1\" class=\"dataframe\">\n",
       "  <thead>\n",
       "    <tr style=\"text-align: right;\">\n",
       "      <th></th>\n",
       "      <th>nb_moves</th>\n",
       "      <th>nb_K</th>\n",
       "      <th>nb_Q</th>\n",
       "      <th>nb_R</th>\n",
       "      <th>nb_B</th>\n",
       "      <th>nb_N</th>\n",
       "      <th>nb_P</th>\n",
       "      <th>nb_k</th>\n",
       "      <th>nb_q</th>\n",
       "      <th>nb_r</th>\n",
       "      <th>...</th>\n",
       "      <th>nb_pawns_ext_center</th>\n",
       "      <th>nb_pawns_third_row_c_f</th>\n",
       "      <th>nb_pawns_b_g_col</th>\n",
       "      <th>nb_pieces_center</th>\n",
       "      <th>nb_pieces_ext_center</th>\n",
       "      <th>nb_pieces_third_row_c_f</th>\n",
       "      <th>nb_pieces_b_g_col</th>\n",
       "      <th>knight_squares</th>\n",
       "      <th>king_castle_squares</th>\n",
       "      <th>nb_checks</th>\n",
       "    </tr>\n",
       "  </thead>\n",
       "  <tbody>\n",
       "    <tr>\n",
       "      <th>1743</th>\n",
       "      <td>10</td>\n",
       "      <td>1</td>\n",
       "      <td>1</td>\n",
       "      <td>2</td>\n",
       "      <td>2</td>\n",
       "      <td>1</td>\n",
       "      <td>7</td>\n",
       "      <td>1</td>\n",
       "      <td>1</td>\n",
       "      <td>2</td>\n",
       "      <td>...</td>\n",
       "      <td>0</td>\n",
       "      <td>2</td>\n",
       "      <td>0</td>\n",
       "      <td>1</td>\n",
       "      <td>0</td>\n",
       "      <td>2</td>\n",
       "      <td>1</td>\n",
       "      <td>1</td>\n",
       "      <td>0</td>\n",
       "      <td>1</td>\n",
       "    </tr>\n",
       "    <tr>\n",
       "      <th>7772</th>\n",
       "      <td>10</td>\n",
       "      <td>0</td>\n",
       "      <td>0</td>\n",
       "      <td>0</td>\n",
       "      <td>0</td>\n",
       "      <td>0</td>\n",
       "      <td>32</td>\n",
       "      <td>1</td>\n",
       "      <td>1</td>\n",
       "      <td>2</td>\n",
       "      <td>...</td>\n",
       "      <td>4</td>\n",
       "      <td>3</td>\n",
       "      <td>6</td>\n",
       "      <td>0</td>\n",
       "      <td>0</td>\n",
       "      <td>0</td>\n",
       "      <td>0</td>\n",
       "      <td>1</td>\n",
       "      <td>0</td>\n",
       "      <td>0</td>\n",
       "    </tr>\n",
       "    <tr>\n",
       "      <th>8400</th>\n",
       "      <td>10</td>\n",
       "      <td>1</td>\n",
       "      <td>1</td>\n",
       "      <td>1</td>\n",
       "      <td>0</td>\n",
       "      <td>2</td>\n",
       "      <td>0</td>\n",
       "      <td>1</td>\n",
       "      <td>0</td>\n",
       "      <td>1</td>\n",
       "      <td>...</td>\n",
       "      <td>0</td>\n",
       "      <td>0</td>\n",
       "      <td>0</td>\n",
       "      <td>0</td>\n",
       "      <td>0</td>\n",
       "      <td>0</td>\n",
       "      <td>1</td>\n",
       "      <td>1</td>\n",
       "      <td>0</td>\n",
       "      <td>0</td>\n",
       "    </tr>\n",
       "    <tr>\n",
       "      <th>2760</th>\n",
       "      <td>10</td>\n",
       "      <td>1</td>\n",
       "      <td>1</td>\n",
       "      <td>2</td>\n",
       "      <td>1</td>\n",
       "      <td>2</td>\n",
       "      <td>7</td>\n",
       "      <td>1</td>\n",
       "      <td>1</td>\n",
       "      <td>2</td>\n",
       "      <td>...</td>\n",
       "      <td>0</td>\n",
       "      <td>3</td>\n",
       "      <td>2</td>\n",
       "      <td>0</td>\n",
       "      <td>2</td>\n",
       "      <td>1</td>\n",
       "      <td>0</td>\n",
       "      <td>1</td>\n",
       "      <td>0</td>\n",
       "      <td>0</td>\n",
       "    </tr>\n",
       "    <tr>\n",
       "      <th>7741</th>\n",
       "      <td>10</td>\n",
       "      <td>0</td>\n",
       "      <td>0</td>\n",
       "      <td>0</td>\n",
       "      <td>0</td>\n",
       "      <td>0</td>\n",
       "      <td>32</td>\n",
       "      <td>1</td>\n",
       "      <td>1</td>\n",
       "      <td>2</td>\n",
       "      <td>...</td>\n",
       "      <td>3</td>\n",
       "      <td>2</td>\n",
       "      <td>6</td>\n",
       "      <td>0</td>\n",
       "      <td>0</td>\n",
       "      <td>1</td>\n",
       "      <td>0</td>\n",
       "      <td>0</td>\n",
       "      <td>0</td>\n",
       "      <td>0</td>\n",
       "    </tr>\n",
       "  </tbody>\n",
       "</table>\n",
       "<p>5 rows × 29 columns</p>\n",
       "</div>"
      ],
      "text/plain": [
       "      nb_moves  nb_K  nb_Q  nb_R  nb_B  nb_N  nb_P  nb_k  nb_q  nb_r  ...  \\\n",
       "1743        10     1     1     2     2     1     7     1     1     2  ...   \n",
       "7772        10     0     0     0     0     0    32     1     1     2  ...   \n",
       "8400        10     1     1     1     0     2     0     1     0     1  ...   \n",
       "2760        10     1     1     2     1     2     7     1     1     2  ...   \n",
       "7741        10     0     0     0     0     0    32     1     1     2  ...   \n",
       "\n",
       "      nb_pawns_ext_center  nb_pawns_third_row_c_f  nb_pawns_b_g_col  \\\n",
       "1743                    0                       2                 0   \n",
       "7772                    4                       3                 6   \n",
       "8400                    0                       0                 0   \n",
       "2760                    0                       3                 2   \n",
       "7741                    3                       2                 6   \n",
       "\n",
       "      nb_pieces_center  nb_pieces_ext_center  nb_pieces_third_row_c_f  \\\n",
       "1743                 1                     0                        2   \n",
       "7772                 0                     0                        0   \n",
       "8400                 0                     0                        0   \n",
       "2760                 0                     2                        1   \n",
       "7741                 0                     0                        1   \n",
       "\n",
       "      nb_pieces_b_g_col  knight_squares  king_castle_squares  nb_checks  \n",
       "1743                  1               1                    0          1  \n",
       "7772                  0               1                    0          0  \n",
       "8400                  1               1                    0          0  \n",
       "2760                  0               1                    0          0  \n",
       "7741                  0               0                    0          0  \n",
       "\n",
       "[5 rows x 29 columns]"
      ]
     },
     "execution_count": 12,
     "metadata": {},
     "output_type": "execute_result"
    }
   ],
   "source": [
    "X_tr.head()"
   ]
  },
  {
   "cell_type": "markdown",
   "metadata": {},
   "source": [
    "# Modelling"
   ]
  },
  {
   "cell_type": "markdown",
   "metadata": {},
   "source": [
    "# Simple Decision Tree"
   ]
  },
  {
   "cell_type": "code",
   "execution_count": 13,
   "metadata": {},
   "outputs": [],
   "source": [
    "# model \n",
    "model = DecisionTreeClassifier()\n",
    "\n",
    "# grid search\n",
    "grid = {\n",
    "    'criterion': ['gini','entropy'], \n",
    "    'max_depth': [2,5,8,10,12,15,20,50,100,150]\n",
    "}\n",
    "\n",
    "# grid-search + CV\n",
    "dt_cv = GridSearchCV(\n",
    "    model, \n",
    "    grid, \n",
    "    cv=kfold,    \n",
    "    verbose = 1,\n",
    "    n_jobs = -1,\n",
    "    return_train_score=True)"
   ]
  },
  {
   "cell_type": "code",
   "execution_count": 14,
   "metadata": {},
   "outputs": [
    {
     "name": "stdout",
     "output_type": "stream",
     "text": [
      "Fitting 5 folds for each of 20 candidates, totalling 100 fits\n"
     ]
    },
    {
     "name": "stderr",
     "output_type": "stream",
     "text": [
      "[Parallel(n_jobs=-1)]: Using backend LokyBackend with 8 concurrent workers.\n",
      "[Parallel(n_jobs=-1)]: Done  34 tasks      | elapsed:    2.0s\n",
      "[Parallel(n_jobs=-1)]: Done 100 out of 100 | elapsed:    2.9s finished\n"
     ]
    }
   ],
   "source": [
    "start_time = time.time()\n",
    "dt_cv.fit(X_tr, y_tr)\n",
    "dt_tune_time = time.time() - start_time"
   ]
  },
  {
   "cell_type": "markdown",
   "metadata": {},
   "source": [
    "Next, we look at the best parameters that lead to the best accuracy."
   ]
  },
  {
   "cell_type": "code",
   "execution_count": 15,
   "metadata": {},
   "outputs": [
    {
     "data": {
      "text/html": [
       "<div>\n",
       "<style scoped>\n",
       "    .dataframe tbody tr th:only-of-type {\n",
       "        vertical-align: middle;\n",
       "    }\n",
       "\n",
       "    .dataframe tbody tr th {\n",
       "        vertical-align: top;\n",
       "    }\n",
       "\n",
       "    .dataframe thead th {\n",
       "        text-align: right;\n",
       "    }\n",
       "</style>\n",
       "<table border=\"1\" class=\"dataframe\">\n",
       "  <thead>\n",
       "    <tr style=\"text-align: right;\">\n",
       "      <th></th>\n",
       "      <th>param_criterion</th>\n",
       "      <th>param_max_depth</th>\n",
       "      <th>mean_test_score</th>\n",
       "      <th>std_test_score</th>\n",
       "    </tr>\n",
       "  </thead>\n",
       "  <tbody>\n",
       "    <tr>\n",
       "      <th>13</th>\n",
       "      <td>entropy</td>\n",
       "      <td>10</td>\n",
       "      <td>0.807531</td>\n",
       "      <td>0.001532</td>\n",
       "    </tr>\n",
       "    <tr>\n",
       "      <th>12</th>\n",
       "      <td>entropy</td>\n",
       "      <td>8</td>\n",
       "      <td>0.805679</td>\n",
       "      <td>0.002388</td>\n",
       "    </tr>\n",
       "    <tr>\n",
       "      <th>3</th>\n",
       "      <td>gini</td>\n",
       "      <td>10</td>\n",
       "      <td>0.805309</td>\n",
       "      <td>0.004427</td>\n",
       "    </tr>\n",
       "    <tr>\n",
       "      <th>14</th>\n",
       "      <td>entropy</td>\n",
       "      <td>12</td>\n",
       "      <td>0.804815</td>\n",
       "      <td>0.005156</td>\n",
       "    </tr>\n",
       "    <tr>\n",
       "      <th>15</th>\n",
       "      <td>entropy</td>\n",
       "      <td>15</td>\n",
       "      <td>0.804198</td>\n",
       "      <td>0.008249</td>\n",
       "    </tr>\n",
       "    <tr>\n",
       "      <th>4</th>\n",
       "      <td>gini</td>\n",
       "      <td>12</td>\n",
       "      <td>0.803827</td>\n",
       "      <td>0.006360</td>\n",
       "    </tr>\n",
       "    <tr>\n",
       "      <th>2</th>\n",
       "      <td>gini</td>\n",
       "      <td>8</td>\n",
       "      <td>0.803333</td>\n",
       "      <td>0.003064</td>\n",
       "    </tr>\n",
       "    <tr>\n",
       "      <th>5</th>\n",
       "      <td>gini</td>\n",
       "      <td>15</td>\n",
       "      <td>0.800000</td>\n",
       "      <td>0.011275</td>\n",
       "    </tr>\n",
       "    <tr>\n",
       "      <th>19</th>\n",
       "      <td>entropy</td>\n",
       "      <td>150</td>\n",
       "      <td>0.797160</td>\n",
       "      <td>0.005557</td>\n",
       "    </tr>\n",
       "    <tr>\n",
       "      <th>16</th>\n",
       "      <td>entropy</td>\n",
       "      <td>20</td>\n",
       "      <td>0.795309</td>\n",
       "      <td>0.007516</td>\n",
       "    </tr>\n",
       "  </tbody>\n",
       "</table>\n",
       "</div>"
      ],
      "text/plain": [
       "   param_criterion param_max_depth  mean_test_score  std_test_score\n",
       "13         entropy              10         0.807531        0.001532\n",
       "12         entropy               8         0.805679        0.002388\n",
       "3             gini              10         0.805309        0.004427\n",
       "14         entropy              12         0.804815        0.005156\n",
       "15         entropy              15         0.804198        0.008249\n",
       "4             gini              12         0.803827        0.006360\n",
       "2             gini               8         0.803333        0.003064\n",
       "5             gini              15         0.800000        0.011275\n",
       "19         entropy             150         0.797160        0.005557\n",
       "16         entropy              20         0.795309        0.007516"
      ]
     },
     "metadata": {},
     "output_type": "display_data"
    },
    {
     "name": "stdout",
     "output_type": "stream",
     "text": [
      "We can expect an accuracy close to 80.8% on the testing set with the following parameters: \n",
      "{'criterion': 'entropy', 'max_depth': 10}. \n",
      "The tuning time is 3.0 sec.\n"
     ]
    }
   ],
   "source": [
    "# Collect results in a DataFrame\n",
    "cv_results = pd.DataFrame(dt_cv.cv_results_)\n",
    "\n",
    "# getting the columns of interest:\n",
    "cols = []\n",
    "for i in range(len(grid.keys())):\n",
    "    cols.append('param_'+list(grid.keys())[i]) \n",
    "cols.append('mean_test_score')\n",
    "cols.append('std_test_score')\n",
    "\n",
    "# printing the results\n",
    "display(cv_results[cols].sort_values('mean_test_score', ascending=False).head(10))\n",
    "print(\"We can expect an accuracy close to {:.1f}% on the testing set with the following parameters: \\n{}. \\nThe tuning time is {} sec.\".format(max(cv_results['mean_test_score']*100), dt_cv.best_params_, round(dt_tune_time, 1)))"
   ]
  },
  {
   "cell_type": "code",
   "execution_count": 16,
   "metadata": {},
   "outputs": [],
   "source": [
    "dt = DecisionTreeClassifier(\n",
    "    **dt_cv.best_params_, random_state=0)"
   ]
  },
  {
   "cell_type": "code",
   "execution_count": 17,
   "metadata": {},
   "outputs": [],
   "source": [
    "start_time = time.time()\n",
    "dt.fit(X_tr, y_tr)\n",
    "dt_train_time = time.time() - start_time"
   ]
  },
  {
   "cell_type": "code",
   "execution_count": 18,
   "metadata": {},
   "outputs": [
    {
     "name": "stdout",
     "output_type": "stream",
     "text": [
      "Accuracy on Testing Set: accuracy: 84.9%.\n"
     ]
    }
   ],
   "source": [
    "dt_accuracy = dt.score(X_te, y_te)\n",
    "print('Accuracy on Testing Set: accuracy: {:.1f}%.'.format(dt_accuracy*100))"
   ]
  },
  {
   "cell_type": "code",
   "execution_count": 19,
   "metadata": {},
   "outputs": [
    {
     "data": {
      "text/html": [
       "<div>\n",
       "<style scoped>\n",
       "    .dataframe tbody tr th:only-of-type {\n",
       "        vertical-align: middle;\n",
       "    }\n",
       "\n",
       "    .dataframe tbody tr th {\n",
       "        vertical-align: top;\n",
       "    }\n",
       "\n",
       "    .dataframe thead th {\n",
       "        text-align: right;\n",
       "    }\n",
       "</style>\n",
       "<table border=\"1\" class=\"dataframe\">\n",
       "  <thead>\n",
       "    <tr style=\"text-align: right;\">\n",
       "      <th></th>\n",
       "      <th>easy_grp</th>\n",
       "      <th>middle_grp</th>\n",
       "      <th>hard_grp</th>\n",
       "    </tr>\n",
       "  </thead>\n",
       "  <tbody>\n",
       "    <tr>\n",
       "      <th>easy_grp</th>\n",
       "      <td>0.995</td>\n",
       "      <td>0.000</td>\n",
       "      <td>0.003</td>\n",
       "    </tr>\n",
       "    <tr>\n",
       "      <th>middle_grp</th>\n",
       "      <td>0.000</td>\n",
       "      <td>0.731</td>\n",
       "      <td>0.281</td>\n",
       "    </tr>\n",
       "    <tr>\n",
       "      <th>hard_grp</th>\n",
       "      <td>0.000</td>\n",
       "      <td>0.109</td>\n",
       "      <td>0.886</td>\n",
       "    </tr>\n",
       "  </tbody>\n",
       "</table>\n",
       "</div>"
      ],
      "text/plain": [
       "            easy_grp  middle_grp  hard_grp\n",
       "easy_grp       0.995       0.000     0.003\n",
       "middle_grp     0.000       0.731     0.281\n",
       "hard_grp       0.000       0.109     0.886"
      ]
     },
     "execution_count": 19,
     "metadata": {},
     "output_type": "execute_result"
    }
   ],
   "source": [
    "dt_conf=pd.DataFrame(confusion_matrix(dt.predict(X_te), y_te), index= var_grps, columns=var_grps)\n",
    "round(dt_conf / dt_conf.astype(np.float).sum(axis=1),3)"
   ]
  },
  {
   "cell_type": "code",
   "execution_count": 20,
   "metadata": {},
   "outputs": [
    {
     "data": {
      "text/html": [
       "<div>\n",
       "<style scoped>\n",
       "    .dataframe tbody tr th:only-of-type {\n",
       "        vertical-align: middle;\n",
       "    }\n",
       "\n",
       "    .dataframe tbody tr th {\n",
       "        vertical-align: top;\n",
       "    }\n",
       "\n",
       "    .dataframe thead th {\n",
       "        text-align: right;\n",
       "    }\n",
       "</style>\n",
       "<table border=\"1\" class=\"dataframe\">\n",
       "  <thead>\n",
       "    <tr style=\"text-align: right;\">\n",
       "      <th></th>\n",
       "      <th>f1-score</th>\n",
       "      <th>precision</th>\n",
       "      <th>recall</th>\n",
       "      <th>support</th>\n",
       "    </tr>\n",
       "  </thead>\n",
       "  <tbody>\n",
       "    <tr>\n",
       "      <th>easy_grp</th>\n",
       "      <td>0.998</td>\n",
       "      <td>1.000</td>\n",
       "      <td>0.995</td>\n",
       "      <td>201.0</td>\n",
       "    </tr>\n",
       "    <tr>\n",
       "      <th>hard_grp</th>\n",
       "      <td>0.795</td>\n",
       "      <td>0.870</td>\n",
       "      <td>0.731</td>\n",
       "      <td>357.0</td>\n",
       "    </tr>\n",
       "    <tr>\n",
       "      <th>middle_grp</th>\n",
       "      <td>0.817</td>\n",
       "      <td>0.758</td>\n",
       "      <td>0.886</td>\n",
       "      <td>342.0</td>\n",
       "    </tr>\n",
       "    <tr>\n",
       "      <th>micro avg</th>\n",
       "      <td>0.849</td>\n",
       "      <td>0.849</td>\n",
       "      <td>0.849</td>\n",
       "      <td>900.0</td>\n",
       "    </tr>\n",
       "    <tr>\n",
       "      <th>macro avg</th>\n",
       "      <td>0.870</td>\n",
       "      <td>0.876</td>\n",
       "      <td>0.871</td>\n",
       "      <td>900.0</td>\n",
       "    </tr>\n",
       "    <tr>\n",
       "      <th>weighted avg</th>\n",
       "      <td>0.848</td>\n",
       "      <td>0.856</td>\n",
       "      <td>0.849</td>\n",
       "      <td>900.0</td>\n",
       "    </tr>\n",
       "  </tbody>\n",
       "</table>\n",
       "</div>"
      ],
      "text/plain": [
       "              f1-score  precision  recall  support\n",
       "easy_grp         0.998      1.000   0.995    201.0\n",
       "hard_grp         0.795      0.870   0.731    357.0\n",
       "middle_grp       0.817      0.758   0.886    342.0\n",
       "micro avg        0.849      0.849   0.849    900.0\n",
       "macro avg        0.870      0.876   0.871    900.0\n",
       "weighted avg     0.848      0.856   0.849    900.0"
      ]
     },
     "execution_count": 20,
     "metadata": {},
     "output_type": "execute_result"
    }
   ],
   "source": [
    "dt_metrics=pd.DataFrame(classification_report(dt.predict(X_te), y_te, output_dict=True)).T.round(3)\n",
    "dt_metrics"
   ]
  },
  {
   "cell_type": "markdown",
   "metadata": {},
   "source": [
    "# Logistic Regression"
   ]
  },
  {
   "cell_type": "code",
   "execution_count": 21,
   "metadata": {},
   "outputs": [],
   "source": [
    "# Define our steps\n",
    "model = LogisticRegression()\n",
    "\n",
    "# grid \n",
    "grid = {\n",
    "    'C': np.logspace(-3, 4, 8),\n",
    "}\n",
    "\n",
    "# Grid search\n",
    "log_cv = GridSearchCV(\n",
    "    model, \n",
    "    grid, \n",
    "    cv=kfold,    \n",
    "    verbose = 1,\n",
    "    n_jobs = -1,\n",
    "    return_train_score=True)"
   ]
  },
  {
   "cell_type": "code",
   "execution_count": 22,
   "metadata": {},
   "outputs": [
    {
     "name": "stdout",
     "output_type": "stream",
     "text": [
      "Fitting 5 folds for each of 8 candidates, totalling 40 fits\n"
     ]
    },
    {
     "name": "stderr",
     "output_type": "stream",
     "text": [
      "[Parallel(n_jobs=-1)]: Using backend LokyBackend with 8 concurrent workers.\n",
      "[Parallel(n_jobs=-1)]: Done  40 out of  40 | elapsed:    3.1s finished\n",
      "/opt/anaconda3/envs/exts-ml/lib/python3.6/site-packages/sklearn/linear_model/logistic.py:433: FutureWarning: Default solver will be changed to 'lbfgs' in 0.22. Specify a solver to silence this warning.\n",
      "  FutureWarning)\n",
      "/opt/anaconda3/envs/exts-ml/lib/python3.6/site-packages/sklearn/linear_model/logistic.py:460: FutureWarning: Default multi_class will be changed to 'auto' in 0.22. Specify the multi_class option to silence this warning.\n",
      "  \"this warning.\", FutureWarning)\n"
     ]
    }
   ],
   "source": [
    "start_time = time.time()\n",
    "log_cv.fit(X_tr, y_tr)\n",
    "logistic_tune_time = time.time() - start_time"
   ]
  },
  {
   "cell_type": "code",
   "execution_count": 23,
   "metadata": {},
   "outputs": [
    {
     "data": {
      "text/html": [
       "<div>\n",
       "<style scoped>\n",
       "    .dataframe tbody tr th:only-of-type {\n",
       "        vertical-align: middle;\n",
       "    }\n",
       "\n",
       "    .dataframe tbody tr th {\n",
       "        vertical-align: top;\n",
       "    }\n",
       "\n",
       "    .dataframe thead th {\n",
       "        text-align: right;\n",
       "    }\n",
       "</style>\n",
       "<table border=\"1\" class=\"dataframe\">\n",
       "  <thead>\n",
       "    <tr style=\"text-align: right;\">\n",
       "      <th></th>\n",
       "      <th>param_C</th>\n",
       "      <th>mean_test_score</th>\n",
       "      <th>std_test_score</th>\n",
       "    </tr>\n",
       "  </thead>\n",
       "  <tbody>\n",
       "    <tr>\n",
       "      <th>6</th>\n",
       "      <td>1000</td>\n",
       "      <td>0.807284</td>\n",
       "      <td>0.006432</td>\n",
       "    </tr>\n",
       "    <tr>\n",
       "      <th>7</th>\n",
       "      <td>10000</td>\n",
       "      <td>0.807284</td>\n",
       "      <td>0.006432</td>\n",
       "    </tr>\n",
       "    <tr>\n",
       "      <th>4</th>\n",
       "      <td>10</td>\n",
       "      <td>0.807160</td>\n",
       "      <td>0.006118</td>\n",
       "    </tr>\n",
       "    <tr>\n",
       "      <th>5</th>\n",
       "      <td>100</td>\n",
       "      <td>0.807037</td>\n",
       "      <td>0.006217</td>\n",
       "    </tr>\n",
       "    <tr>\n",
       "      <th>3</th>\n",
       "      <td>1</td>\n",
       "      <td>0.805185</td>\n",
       "      <td>0.006847</td>\n",
       "    </tr>\n",
       "    <tr>\n",
       "      <th>2</th>\n",
       "      <td>0.1</td>\n",
       "      <td>0.801605</td>\n",
       "      <td>0.007310</td>\n",
       "    </tr>\n",
       "    <tr>\n",
       "      <th>1</th>\n",
       "      <td>0.01</td>\n",
       "      <td>0.795062</td>\n",
       "      <td>0.006660</td>\n",
       "    </tr>\n",
       "    <tr>\n",
       "      <th>0</th>\n",
       "      <td>0.001</td>\n",
       "      <td>0.777654</td>\n",
       "      <td>0.006141</td>\n",
       "    </tr>\n",
       "  </tbody>\n",
       "</table>\n",
       "</div>"
      ],
      "text/plain": [
       "  param_C  mean_test_score  std_test_score\n",
       "6    1000         0.807284        0.006432\n",
       "7   10000         0.807284        0.006432\n",
       "4      10         0.807160        0.006118\n",
       "5     100         0.807037        0.006217\n",
       "3       1         0.805185        0.006847\n",
       "2     0.1         0.801605        0.007310\n",
       "1    0.01         0.795062        0.006660\n",
       "0   0.001         0.777654        0.006141"
      ]
     },
     "metadata": {},
     "output_type": "display_data"
    },
    {
     "name": "stdout",
     "output_type": "stream",
     "text": [
      "We can expect an accuracy close to 80.7% on the testing set with the following parameters: \n",
      "{'C': 1000.0}. \n",
      "The tuning time is 3.5 sec.\n"
     ]
    }
   ],
   "source": [
    "# Collect results in a DataFrame\n",
    "cv_results = pd.DataFrame(log_cv.cv_results_)\n",
    "\n",
    "# getting the columns of interest:\n",
    "cols = []\n",
    "for i in range(len(grid.keys())):\n",
    "    cols.append('param_'+list(grid.keys())[i]) \n",
    "cols.append('mean_test_score')\n",
    "cols.append('std_test_score')\n",
    "\n",
    "# printing the results\n",
    "display(cv_results[cols].sort_values('mean_test_score', ascending=False).head(10))\n",
    "print(\"We can expect an accuracy close to {:.1f}% on the testing set with the following parameters: \\n{}. \\nThe tuning time is {} sec.\".format(max(cv_results['mean_test_score']*100), log_cv.best_params_, round(logistic_tune_time, 1)))"
   ]
  },
  {
   "cell_type": "code",
   "execution_count": 24,
   "metadata": {},
   "outputs": [],
   "source": [
    "logistic = LogisticRegression(\n",
    "    **log_cv.best_params_, random_state=0)"
   ]
  },
  {
   "cell_type": "code",
   "execution_count": 25,
   "metadata": {},
   "outputs": [
    {
     "name": "stderr",
     "output_type": "stream",
     "text": [
      "/opt/anaconda3/envs/exts-ml/lib/python3.6/site-packages/sklearn/linear_model/logistic.py:433: FutureWarning: Default solver will be changed to 'lbfgs' in 0.22. Specify a solver to silence this warning.\n",
      "  FutureWarning)\n",
      "/opt/anaconda3/envs/exts-ml/lib/python3.6/site-packages/sklearn/linear_model/logistic.py:460: FutureWarning: Default multi_class will be changed to 'auto' in 0.22. Specify the multi_class option to silence this warning.\n",
      "  \"this warning.\", FutureWarning)\n"
     ]
    }
   ],
   "source": [
    "start_time = time.time()\n",
    "logistic.fit(X_tr, y_tr)\n",
    "logistic_train_time = time.time() - start_time"
   ]
  },
  {
   "cell_type": "code",
   "execution_count": 26,
   "metadata": {},
   "outputs": [
    {
     "name": "stdout",
     "output_type": "stream",
     "text": [
      "Accuracy on Testing Set: accuracy: 80.6%.\n"
     ]
    }
   ],
   "source": [
    "logistic_accuracy = logistic.score(X_te, y_te)\n",
    "print('Accuracy on Testing Set: accuracy: {:.1f}%.'.format(logistic_accuracy*100))"
   ]
  },
  {
   "cell_type": "code",
   "execution_count": 27,
   "metadata": {},
   "outputs": [
    {
     "data": {
      "text/html": [
       "<div>\n",
       "<style scoped>\n",
       "    .dataframe tbody tr th:only-of-type {\n",
       "        vertical-align: middle;\n",
       "    }\n",
       "\n",
       "    .dataframe tbody tr th {\n",
       "        vertical-align: top;\n",
       "    }\n",
       "\n",
       "    .dataframe thead th {\n",
       "        text-align: right;\n",
       "    }\n",
       "</style>\n",
       "<table border=\"1\" class=\"dataframe\">\n",
       "  <thead>\n",
       "    <tr style=\"text-align: right;\">\n",
       "      <th></th>\n",
       "      <th>easy_grp</th>\n",
       "      <th>middle_grp</th>\n",
       "      <th>hard_grp</th>\n",
       "    </tr>\n",
       "  </thead>\n",
       "  <tbody>\n",
       "    <tr>\n",
       "      <th>easy_grp</th>\n",
       "      <td>1.0</td>\n",
       "      <td>0.000</td>\n",
       "      <td>0.000</td>\n",
       "    </tr>\n",
       "    <tr>\n",
       "      <th>middle_grp</th>\n",
       "      <td>0.0</td>\n",
       "      <td>0.713</td>\n",
       "      <td>0.206</td>\n",
       "    </tr>\n",
       "    <tr>\n",
       "      <th>hard_grp</th>\n",
       "      <td>0.0</td>\n",
       "      <td>0.311</td>\n",
       "      <td>0.776</td>\n",
       "    </tr>\n",
       "  </tbody>\n",
       "</table>\n",
       "</div>"
      ],
      "text/plain": [
       "            easy_grp  middle_grp  hard_grp\n",
       "easy_grp         1.0       0.000     0.000\n",
       "middle_grp       0.0       0.713     0.206\n",
       "hard_grp         0.0       0.311     0.776"
      ]
     },
     "execution_count": 27,
     "metadata": {},
     "output_type": "execute_result"
    }
   ],
   "source": [
    "logistic_conf=pd.DataFrame(confusion_matrix(logistic.predict(X_te), y_te), index=var_grps, columns=var_grps)/100\n",
    "round(logistic_conf / logistic_conf.astype(np.float).sum(axis=1),3)"
   ]
  },
  {
   "cell_type": "code",
   "execution_count": 28,
   "metadata": {},
   "outputs": [
    {
     "data": {
      "text/html": [
       "<div>\n",
       "<style scoped>\n",
       "    .dataframe tbody tr th:only-of-type {\n",
       "        vertical-align: middle;\n",
       "    }\n",
       "\n",
       "    .dataframe tbody tr th {\n",
       "        vertical-align: top;\n",
       "    }\n",
       "\n",
       "    .dataframe thead th {\n",
       "        text-align: right;\n",
       "    }\n",
       "</style>\n",
       "<table border=\"1\" class=\"dataframe\">\n",
       "  <thead>\n",
       "    <tr style=\"text-align: right;\">\n",
       "      <th></th>\n",
       "      <th>f1-score</th>\n",
       "      <th>precision</th>\n",
       "      <th>recall</th>\n",
       "      <th>support</th>\n",
       "    </tr>\n",
       "  </thead>\n",
       "  <tbody>\n",
       "    <tr>\n",
       "      <th>easy_grp</th>\n",
       "      <td>1.000</td>\n",
       "      <td>1.000</td>\n",
       "      <td>1.000</td>\n",
       "      <td>200.0</td>\n",
       "    </tr>\n",
       "    <tr>\n",
       "      <th>hard_grp</th>\n",
       "      <td>0.705</td>\n",
       "      <td>0.697</td>\n",
       "      <td>0.713</td>\n",
       "      <td>293.0</td>\n",
       "    </tr>\n",
       "    <tr>\n",
       "      <th>middle_grp</th>\n",
       "      <td>0.783</td>\n",
       "      <td>0.790</td>\n",
       "      <td>0.776</td>\n",
       "      <td>407.0</td>\n",
       "    </tr>\n",
       "    <tr>\n",
       "      <th>micro avg</th>\n",
       "      <td>0.806</td>\n",
       "      <td>0.806</td>\n",
       "      <td>0.806</td>\n",
       "      <td>900.0</td>\n",
       "    </tr>\n",
       "    <tr>\n",
       "      <th>macro avg</th>\n",
       "      <td>0.829</td>\n",
       "      <td>0.829</td>\n",
       "      <td>0.830</td>\n",
       "      <td>900.0</td>\n",
       "    </tr>\n",
       "    <tr>\n",
       "      <th>weighted avg</th>\n",
       "      <td>0.806</td>\n",
       "      <td>0.806</td>\n",
       "      <td>0.806</td>\n",
       "      <td>900.0</td>\n",
       "    </tr>\n",
       "  </tbody>\n",
       "</table>\n",
       "</div>"
      ],
      "text/plain": [
       "              f1-score  precision  recall  support\n",
       "easy_grp         1.000      1.000   1.000    200.0\n",
       "hard_grp         0.705      0.697   0.713    293.0\n",
       "middle_grp       0.783      0.790   0.776    407.0\n",
       "micro avg        0.806      0.806   0.806    900.0\n",
       "macro avg        0.829      0.829   0.830    900.0\n",
       "weighted avg     0.806      0.806   0.806    900.0"
      ]
     },
     "execution_count": 28,
     "metadata": {},
     "output_type": "execute_result"
    }
   ],
   "source": [
    "logistic_metrics=pd.DataFrame(classification_report(logistic.predict(X_te), y_te, output_dict=True)).T.round(3)\n",
    "logistic_metrics"
   ]
  },
  {
   "cell_type": "markdown",
   "metadata": {},
   "source": [
    "# Random Forest"
   ]
  },
  {
   "cell_type": "code",
   "execution_count": 29,
   "metadata": {},
   "outputs": [],
   "source": [
    "# Define our steps\n",
    "model = RandomForestClassifier()\n",
    "\n",
    "# grid \n",
    "grid = {'n_estimators': [20,100,500,750,1000],\n",
    "               'max_depth': [5,10,20,50,75,100]\n",
    "       } \n",
    "\n",
    "# Grid search\n",
    "rf_cv = GridSearchCV(\n",
    "    model, \n",
    "    grid, \n",
    "    cv=kfold,    \n",
    "    verbose = 1,\n",
    "    n_jobs = -1)"
   ]
  },
  {
   "cell_type": "code",
   "execution_count": 30,
   "metadata": {},
   "outputs": [
    {
     "name": "stdout",
     "output_type": "stream",
     "text": [
      "Fitting 5 folds for each of 30 candidates, totalling 150 fits\n"
     ]
    },
    {
     "name": "stderr",
     "output_type": "stream",
     "text": [
      "[Parallel(n_jobs=-1)]: Using backend LokyBackend with 8 concurrent workers.\n",
      "[Parallel(n_jobs=-1)]: Done  46 tasks      | elapsed:   18.2s\n",
      "[Parallel(n_jobs=-1)]: Done 150 out of 150 | elapsed:  1.4min finished\n"
     ]
    }
   ],
   "source": [
    "start_time = time.time()\n",
    "rf_cv.fit(X_tr, y_tr)\n",
    "rf_tune_time = time.time() - start_time"
   ]
  },
  {
   "cell_type": "code",
   "execution_count": 31,
   "metadata": {},
   "outputs": [
    {
     "name": "stderr",
     "output_type": "stream",
     "text": [
      "/opt/anaconda3/envs/exts-ml/lib/python3.6/site-packages/sklearn/utils/deprecation.py:125: FutureWarning: You are accessing a training score ('split0_train_score'), which will not be available by default any more in 0.21. If you need training scores, please set return_train_score=True\n",
      "  warnings.warn(*warn_args, **warn_kwargs)\n",
      "/opt/anaconda3/envs/exts-ml/lib/python3.6/site-packages/sklearn/utils/deprecation.py:125: FutureWarning: You are accessing a training score ('split1_train_score'), which will not be available by default any more in 0.21. If you need training scores, please set return_train_score=True\n",
      "  warnings.warn(*warn_args, **warn_kwargs)\n",
      "/opt/anaconda3/envs/exts-ml/lib/python3.6/site-packages/sklearn/utils/deprecation.py:125: FutureWarning: You are accessing a training score ('split2_train_score'), which will not be available by default any more in 0.21. If you need training scores, please set return_train_score=True\n",
      "  warnings.warn(*warn_args, **warn_kwargs)\n",
      "/opt/anaconda3/envs/exts-ml/lib/python3.6/site-packages/sklearn/utils/deprecation.py:125: FutureWarning: You are accessing a training score ('split3_train_score'), which will not be available by default any more in 0.21. If you need training scores, please set return_train_score=True\n",
      "  warnings.warn(*warn_args, **warn_kwargs)\n",
      "/opt/anaconda3/envs/exts-ml/lib/python3.6/site-packages/sklearn/utils/deprecation.py:125: FutureWarning: You are accessing a training score ('split4_train_score'), which will not be available by default any more in 0.21. If you need training scores, please set return_train_score=True\n",
      "  warnings.warn(*warn_args, **warn_kwargs)\n",
      "/opt/anaconda3/envs/exts-ml/lib/python3.6/site-packages/sklearn/utils/deprecation.py:125: FutureWarning: You are accessing a training score ('mean_train_score'), which will not be available by default any more in 0.21. If you need training scores, please set return_train_score=True\n",
      "  warnings.warn(*warn_args, **warn_kwargs)\n",
      "/opt/anaconda3/envs/exts-ml/lib/python3.6/site-packages/sklearn/utils/deprecation.py:125: FutureWarning: You are accessing a training score ('std_train_score'), which will not be available by default any more in 0.21. If you need training scores, please set return_train_score=True\n",
      "  warnings.warn(*warn_args, **warn_kwargs)\n"
     ]
    },
    {
     "data": {
      "text/html": [
       "<div>\n",
       "<style scoped>\n",
       "    .dataframe tbody tr th:only-of-type {\n",
       "        vertical-align: middle;\n",
       "    }\n",
       "\n",
       "    .dataframe tbody tr th {\n",
       "        vertical-align: top;\n",
       "    }\n",
       "\n",
       "    .dataframe thead th {\n",
       "        text-align: right;\n",
       "    }\n",
       "</style>\n",
       "<table border=\"1\" class=\"dataframe\">\n",
       "  <thead>\n",
       "    <tr style=\"text-align: right;\">\n",
       "      <th></th>\n",
       "      <th>param_n_estimators</th>\n",
       "      <th>param_max_depth</th>\n",
       "      <th>mean_test_score</th>\n",
       "      <th>std_test_score</th>\n",
       "    </tr>\n",
       "  </thead>\n",
       "  <tbody>\n",
       "    <tr>\n",
       "      <th>14</th>\n",
       "      <td>1000</td>\n",
       "      <td>20</td>\n",
       "      <td>0.862593</td>\n",
       "      <td>0.005247</td>\n",
       "    </tr>\n",
       "    <tr>\n",
       "      <th>17</th>\n",
       "      <td>500</td>\n",
       "      <td>50</td>\n",
       "      <td>0.862346</td>\n",
       "      <td>0.004451</td>\n",
       "    </tr>\n",
       "    <tr>\n",
       "      <th>13</th>\n",
       "      <td>750</td>\n",
       "      <td>20</td>\n",
       "      <td>0.862222</td>\n",
       "      <td>0.002853</td>\n",
       "    </tr>\n",
       "    <tr>\n",
       "      <th>12</th>\n",
       "      <td>500</td>\n",
       "      <td>20</td>\n",
       "      <td>0.862099</td>\n",
       "      <td>0.002124</td>\n",
       "    </tr>\n",
       "    <tr>\n",
       "      <th>19</th>\n",
       "      <td>1000</td>\n",
       "      <td>50</td>\n",
       "      <td>0.861975</td>\n",
       "      <td>0.005679</td>\n",
       "    </tr>\n",
       "    <tr>\n",
       "      <th>29</th>\n",
       "      <td>1000</td>\n",
       "      <td>100</td>\n",
       "      <td>0.861852</td>\n",
       "      <td>0.005081</td>\n",
       "    </tr>\n",
       "    <tr>\n",
       "      <th>27</th>\n",
       "      <td>500</td>\n",
       "      <td>100</td>\n",
       "      <td>0.861481</td>\n",
       "      <td>0.003089</td>\n",
       "    </tr>\n",
       "    <tr>\n",
       "      <th>24</th>\n",
       "      <td>1000</td>\n",
       "      <td>75</td>\n",
       "      <td>0.861481</td>\n",
       "      <td>0.004031</td>\n",
       "    </tr>\n",
       "    <tr>\n",
       "      <th>28</th>\n",
       "      <td>750</td>\n",
       "      <td>100</td>\n",
       "      <td>0.861235</td>\n",
       "      <td>0.005096</td>\n",
       "    </tr>\n",
       "    <tr>\n",
       "      <th>22</th>\n",
       "      <td>500</td>\n",
       "      <td>75</td>\n",
       "      <td>0.860864</td>\n",
       "      <td>0.005361</td>\n",
       "    </tr>\n",
       "  </tbody>\n",
       "</table>\n",
       "</div>"
      ],
      "text/plain": [
       "   param_n_estimators param_max_depth  mean_test_score  std_test_score\n",
       "14               1000              20         0.862593        0.005247\n",
       "17                500              50         0.862346        0.004451\n",
       "13                750              20         0.862222        0.002853\n",
       "12                500              20         0.862099        0.002124\n",
       "19               1000              50         0.861975        0.005679\n",
       "29               1000             100         0.861852        0.005081\n",
       "27                500             100         0.861481        0.003089\n",
       "24               1000              75         0.861481        0.004031\n",
       "28                750             100         0.861235        0.005096\n",
       "22                500              75         0.860864        0.005361"
      ]
     },
     "metadata": {},
     "output_type": "display_data"
    },
    {
     "name": "stdout",
     "output_type": "stream",
     "text": [
      "We can expect an accuracy close to 86.3% on the testing set with the following parameters: \n",
      "{'max_depth': 20, 'n_estimators': 1000}. \n",
      "The tuning time is 87.6 sec.\n"
     ]
    }
   ],
   "source": [
    "# Collect results in a DataFrame\n",
    "cv_results = pd.DataFrame(rf_cv.cv_results_)\n",
    "\n",
    "# getting the columns of interest:\n",
    "cols = []\n",
    "for i in range(len(grid.keys())):\n",
    "    cols.append('param_'+list(grid.keys())[i]) \n",
    "cols.append('mean_test_score')\n",
    "cols.append('std_test_score')\n",
    "\n",
    "# printing the results\n",
    "display(cv_results[cols].sort_values('mean_test_score', ascending=False).head(10))\n",
    "print(\"We can expect an accuracy close to {:.1f}% on the testing set with the following parameters: \\n{}. \\nThe tuning time is {} sec.\".format(max(cv_results['mean_test_score']*100), rf_cv.best_params_, round(rf_tune_time, 1)))"
   ]
  },
  {
   "cell_type": "code",
   "execution_count": 32,
   "metadata": {},
   "outputs": [],
   "source": [
    "rf = RandomForestClassifier(\n",
    "    **rf_cv.best_params_, random_state=0)"
   ]
  },
  {
   "cell_type": "code",
   "execution_count": 33,
   "metadata": {},
   "outputs": [],
   "source": [
    "start_time = time.time()\n",
    "rf.fit(X_tr, y_tr)\n",
    "rf_train_time = time.time() - start_time"
   ]
  },
  {
   "cell_type": "code",
   "execution_count": 34,
   "metadata": {},
   "outputs": [
    {
     "name": "stdout",
     "output_type": "stream",
     "text": [
      "Accuracy on Testing Set: accuracy: 88.0%.\n"
     ]
    }
   ],
   "source": [
    "rf_accuracy = rf.score(X_te, y_te)\n",
    "print('Accuracy on Testing Set: accuracy: {:.1f}%.'.format(rf_accuracy*100))"
   ]
  },
  {
   "cell_type": "code",
   "execution_count": 35,
   "metadata": {},
   "outputs": [
    {
     "data": {
      "text/html": [
       "<div>\n",
       "<style scoped>\n",
       "    .dataframe tbody tr th:only-of-type {\n",
       "        vertical-align: middle;\n",
       "    }\n",
       "\n",
       "    .dataframe tbody tr th {\n",
       "        vertical-align: top;\n",
       "    }\n",
       "\n",
       "    .dataframe thead th {\n",
       "        text-align: right;\n",
       "    }\n",
       "</style>\n",
       "<table border=\"1\" class=\"dataframe\">\n",
       "  <thead>\n",
       "    <tr style=\"text-align: right;\">\n",
       "      <th></th>\n",
       "      <th>easy_grp</th>\n",
       "      <th>middle_grp</th>\n",
       "      <th>hard_grp</th>\n",
       "    </tr>\n",
       "  </thead>\n",
       "  <tbody>\n",
       "    <tr>\n",
       "      <th>easy_grp</th>\n",
       "      <td>1.0</td>\n",
       "      <td>0.000</td>\n",
       "      <td>0.000</td>\n",
       "    </tr>\n",
       "    <tr>\n",
       "      <th>middle_grp</th>\n",
       "      <td>0.0</td>\n",
       "      <td>0.789</td>\n",
       "      <td>0.190</td>\n",
       "    </tr>\n",
       "    <tr>\n",
       "      <th>hard_grp</th>\n",
       "      <td>0.0</td>\n",
       "      <td>0.114</td>\n",
       "      <td>0.897</td>\n",
       "    </tr>\n",
       "  </tbody>\n",
       "</table>\n",
       "</div>"
      ],
      "text/plain": [
       "            easy_grp  middle_grp  hard_grp\n",
       "easy_grp         1.0       0.000     0.000\n",
       "middle_grp       0.0       0.789     0.190\n",
       "hard_grp         0.0       0.114     0.897"
      ]
     },
     "execution_count": 35,
     "metadata": {},
     "output_type": "execute_result"
    }
   ],
   "source": [
    "rf_conf=pd.DataFrame(confusion_matrix(rf.predict(X_te), y_te), index=var_grps, columns=var_grps)/100\n",
    "round(rf_conf / rf_conf.astype(np.float).sum(axis=1),3)"
   ]
  },
  {
   "cell_type": "code",
   "execution_count": 36,
   "metadata": {},
   "outputs": [
    {
     "data": {
      "text/html": [
       "<div>\n",
       "<style scoped>\n",
       "    .dataframe tbody tr th:only-of-type {\n",
       "        vertical-align: middle;\n",
       "    }\n",
       "\n",
       "    .dataframe tbody tr th {\n",
       "        vertical-align: top;\n",
       "    }\n",
       "\n",
       "    .dataframe thead th {\n",
       "        text-align: right;\n",
       "    }\n",
       "</style>\n",
       "<table border=\"1\" class=\"dataframe\">\n",
       "  <thead>\n",
       "    <tr style=\"text-align: right;\">\n",
       "      <th></th>\n",
       "      <th>f1-score</th>\n",
       "      <th>precision</th>\n",
       "      <th>recall</th>\n",
       "      <th>support</th>\n",
       "    </tr>\n",
       "  </thead>\n",
       "  <tbody>\n",
       "    <tr>\n",
       "      <th>easy_grp</th>\n",
       "      <td>1.000</td>\n",
       "      <td>1.000</td>\n",
       "      <td>1.000</td>\n",
       "      <td>200.0</td>\n",
       "    </tr>\n",
       "    <tr>\n",
       "      <th>hard_grp</th>\n",
       "      <td>0.829</td>\n",
       "      <td>0.873</td>\n",
       "      <td>0.789</td>\n",
       "      <td>332.0</td>\n",
       "    </tr>\n",
       "    <tr>\n",
       "      <th>middle_grp</th>\n",
       "      <td>0.859</td>\n",
       "      <td>0.825</td>\n",
       "      <td>0.897</td>\n",
       "      <td>368.0</td>\n",
       "    </tr>\n",
       "    <tr>\n",
       "      <th>micro avg</th>\n",
       "      <td>0.880</td>\n",
       "      <td>0.880</td>\n",
       "      <td>0.880</td>\n",
       "      <td>900.0</td>\n",
       "    </tr>\n",
       "    <tr>\n",
       "      <th>macro avg</th>\n",
       "      <td>0.896</td>\n",
       "      <td>0.899</td>\n",
       "      <td>0.895</td>\n",
       "      <td>900.0</td>\n",
       "    </tr>\n",
       "    <tr>\n",
       "      <th>weighted avg</th>\n",
       "      <td>0.879</td>\n",
       "      <td>0.882</td>\n",
       "      <td>0.880</td>\n",
       "      <td>900.0</td>\n",
       "    </tr>\n",
       "  </tbody>\n",
       "</table>\n",
       "</div>"
      ],
      "text/plain": [
       "              f1-score  precision  recall  support\n",
       "easy_grp         1.000      1.000   1.000    200.0\n",
       "hard_grp         0.829      0.873   0.789    332.0\n",
       "middle_grp       0.859      0.825   0.897    368.0\n",
       "micro avg        0.880      0.880   0.880    900.0\n",
       "macro avg        0.896      0.899   0.895    900.0\n",
       "weighted avg     0.879      0.882   0.880    900.0"
      ]
     },
     "execution_count": 36,
     "metadata": {},
     "output_type": "execute_result"
    }
   ],
   "source": [
    "rf_metrics=pd.DataFrame(classification_report(rf.predict(X_te), y_te, output_dict=True)).T.round(3)\n",
    "rf_metrics"
   ]
  },
  {
   "cell_type": "markdown",
   "metadata": {},
   "source": [
    "# SVM"
   ]
  },
  {
   "cell_type": "code",
   "execution_count": 37,
   "metadata": {},
   "outputs": [],
   "source": [
    "# Define our steps\n",
    "model = SVC()\n",
    "\n",
    "# grid \n",
    "grid = {'C': np.logspace(-0,5,5), # others sets of param were tested, higher C generally performed better\n",
    "               'kernel': ['sigmoid', 'rbf'], # computational performance of linear kernel too bad to be considered as a good candidate\n",
    "              'gamma': np.logspace(-5,0,5) # others sets of parameters were tested, lower gammas generally performed better\n",
    "       }  \n",
    "\n",
    "# Grid search\n",
    "svm_cv = GridSearchCV(\n",
    "    model, \n",
    "    grid, \n",
    "    cv=kfold,    \n",
    "    verbose = 1,\n",
    "    n_jobs = -1)"
   ]
  },
  {
   "cell_type": "code",
   "execution_count": 38,
   "metadata": {},
   "outputs": [
    {
     "name": "stdout",
     "output_type": "stream",
     "text": [
      "Fitting 5 folds for each of 50 candidates, totalling 250 fits\n"
     ]
    },
    {
     "name": "stderr",
     "output_type": "stream",
     "text": [
      "[Parallel(n_jobs=-1)]: Using backend LokyBackend with 8 concurrent workers.\n",
      "[Parallel(n_jobs=-1)]: Done  34 tasks      | elapsed:   26.9s\n",
      "[Parallel(n_jobs=-1)]: Done 184 tasks      | elapsed:  2.2min\n",
      "[Parallel(n_jobs=-1)]: Done 250 out of 250 | elapsed:  5.1min finished\n"
     ]
    }
   ],
   "source": [
    "start_time = time.time()\n",
    "svm_cv.fit(X_tr, y_tr)\n",
    "svm_tune_time = time.time() - start_time"
   ]
  },
  {
   "cell_type": "code",
   "execution_count": 39,
   "metadata": {},
   "outputs": [
    {
     "name": "stderr",
     "output_type": "stream",
     "text": [
      "/opt/anaconda3/envs/exts-ml/lib/python3.6/site-packages/sklearn/utils/deprecation.py:125: FutureWarning: You are accessing a training score ('split0_train_score'), which will not be available by default any more in 0.21. If you need training scores, please set return_train_score=True\n",
      "  warnings.warn(*warn_args, **warn_kwargs)\n",
      "/opt/anaconda3/envs/exts-ml/lib/python3.6/site-packages/sklearn/utils/deprecation.py:125: FutureWarning: You are accessing a training score ('split1_train_score'), which will not be available by default any more in 0.21. If you need training scores, please set return_train_score=True\n",
      "  warnings.warn(*warn_args, **warn_kwargs)\n",
      "/opt/anaconda3/envs/exts-ml/lib/python3.6/site-packages/sklearn/utils/deprecation.py:125: FutureWarning: You are accessing a training score ('split2_train_score'), which will not be available by default any more in 0.21. If you need training scores, please set return_train_score=True\n",
      "  warnings.warn(*warn_args, **warn_kwargs)\n",
      "/opt/anaconda3/envs/exts-ml/lib/python3.6/site-packages/sklearn/utils/deprecation.py:125: FutureWarning: You are accessing a training score ('split3_train_score'), which will not be available by default any more in 0.21. If you need training scores, please set return_train_score=True\n",
      "  warnings.warn(*warn_args, **warn_kwargs)\n",
      "/opt/anaconda3/envs/exts-ml/lib/python3.6/site-packages/sklearn/utils/deprecation.py:125: FutureWarning: You are accessing a training score ('split4_train_score'), which will not be available by default any more in 0.21. If you need training scores, please set return_train_score=True\n",
      "  warnings.warn(*warn_args, **warn_kwargs)\n",
      "/opt/anaconda3/envs/exts-ml/lib/python3.6/site-packages/sklearn/utils/deprecation.py:125: FutureWarning: You are accessing a training score ('mean_train_score'), which will not be available by default any more in 0.21. If you need training scores, please set return_train_score=True\n",
      "  warnings.warn(*warn_args, **warn_kwargs)\n",
      "/opt/anaconda3/envs/exts-ml/lib/python3.6/site-packages/sklearn/utils/deprecation.py:125: FutureWarning: You are accessing a training score ('std_train_score'), which will not be available by default any more in 0.21. If you need training scores, please set return_train_score=True\n",
      "  warnings.warn(*warn_args, **warn_kwargs)\n"
     ]
    },
    {
     "data": {
      "text/html": [
       "<div>\n",
       "<style scoped>\n",
       "    .dataframe tbody tr th:only-of-type {\n",
       "        vertical-align: middle;\n",
       "    }\n",
       "\n",
       "    .dataframe tbody tr th {\n",
       "        vertical-align: top;\n",
       "    }\n",
       "\n",
       "    .dataframe thead th {\n",
       "        text-align: right;\n",
       "    }\n",
       "</style>\n",
       "<table border=\"1\" class=\"dataframe\">\n",
       "  <thead>\n",
       "    <tr style=\"text-align: right;\">\n",
       "      <th></th>\n",
       "      <th>param_C</th>\n",
       "      <th>param_kernel</th>\n",
       "      <th>param_gamma</th>\n",
       "      <th>mean_test_score</th>\n",
       "      <th>std_test_score</th>\n",
       "    </tr>\n",
       "  </thead>\n",
       "  <tbody>\n",
       "    <tr>\n",
       "      <th>35</th>\n",
       "      <td>5623.41</td>\n",
       "      <td>rbf</td>\n",
       "      <td>0.00316228</td>\n",
       "      <td>0.904691</td>\n",
       "      <td>0.004358</td>\n",
       "    </tr>\n",
       "    <tr>\n",
       "      <th>25</th>\n",
       "      <td>316.228</td>\n",
       "      <td>rbf</td>\n",
       "      <td>0.00316228</td>\n",
       "      <td>0.895062</td>\n",
       "      <td>0.005339</td>\n",
       "    </tr>\n",
       "    <tr>\n",
       "      <th>43</th>\n",
       "      <td>100000</td>\n",
       "      <td>rbf</td>\n",
       "      <td>0.000177828</td>\n",
       "      <td>0.893333</td>\n",
       "      <td>0.003813</td>\n",
       "    </tr>\n",
       "    <tr>\n",
       "      <th>17</th>\n",
       "      <td>17.7828</td>\n",
       "      <td>rbf</td>\n",
       "      <td>0.0562341</td>\n",
       "      <td>0.883210</td>\n",
       "      <td>0.003059</td>\n",
       "    </tr>\n",
       "    <tr>\n",
       "      <th>45</th>\n",
       "      <td>100000</td>\n",
       "      <td>rbf</td>\n",
       "      <td>0.00316228</td>\n",
       "      <td>0.882593</td>\n",
       "      <td>0.002983</td>\n",
       "    </tr>\n",
       "    <tr>\n",
       "      <th>7</th>\n",
       "      <td>1</td>\n",
       "      <td>rbf</td>\n",
       "      <td>0.0562341</td>\n",
       "      <td>0.879630</td>\n",
       "      <td>0.003219</td>\n",
       "    </tr>\n",
       "    <tr>\n",
       "      <th>27</th>\n",
       "      <td>316.228</td>\n",
       "      <td>rbf</td>\n",
       "      <td>0.0562341</td>\n",
       "      <td>0.862593</td>\n",
       "      <td>0.004563</td>\n",
       "    </tr>\n",
       "    <tr>\n",
       "      <th>37</th>\n",
       "      <td>5623.41</td>\n",
       "      <td>rbf</td>\n",
       "      <td>0.0562341</td>\n",
       "      <td>0.861728</td>\n",
       "      <td>0.004468</td>\n",
       "    </tr>\n",
       "    <tr>\n",
       "      <th>47</th>\n",
       "      <td>100000</td>\n",
       "      <td>rbf</td>\n",
       "      <td>0.0562341</td>\n",
       "      <td>0.861728</td>\n",
       "      <td>0.004468</td>\n",
       "    </tr>\n",
       "    <tr>\n",
       "      <th>33</th>\n",
       "      <td>5623.41</td>\n",
       "      <td>rbf</td>\n",
       "      <td>0.000177828</td>\n",
       "      <td>0.860000</td>\n",
       "      <td>0.003322</td>\n",
       "    </tr>\n",
       "  </tbody>\n",
       "</table>\n",
       "</div>"
      ],
      "text/plain": [
       "    param_C param_kernel  param_gamma  mean_test_score  std_test_score\n",
       "35  5623.41          rbf   0.00316228         0.904691        0.004358\n",
       "25  316.228          rbf   0.00316228         0.895062        0.005339\n",
       "43   100000          rbf  0.000177828         0.893333        0.003813\n",
       "17  17.7828          rbf    0.0562341         0.883210        0.003059\n",
       "45   100000          rbf   0.00316228         0.882593        0.002983\n",
       "7         1          rbf    0.0562341         0.879630        0.003219\n",
       "27  316.228          rbf    0.0562341         0.862593        0.004563\n",
       "37  5623.41          rbf    0.0562341         0.861728        0.004468\n",
       "47   100000          rbf    0.0562341         0.861728        0.004468\n",
       "33  5623.41          rbf  0.000177828         0.860000        0.003322"
      ]
     },
     "metadata": {},
     "output_type": "display_data"
    },
    {
     "name": "stdout",
     "output_type": "stream",
     "text": [
      "We can expect an accuracy close to 90.5% on the testing set with the following parameters: \n",
      "{'C': 5623.413251903491, 'gamma': 0.0031622776601683794, 'kernel': 'rbf'}. \n",
      "The tuning time is 317.5 sec.\n"
     ]
    }
   ],
   "source": [
    "# Collect results in a DataFrame\n",
    "cv_results = pd.DataFrame(svm_cv.cv_results_)\n",
    "\n",
    "# getting the columns of interest:\n",
    "cols = []\n",
    "for i in range(len(grid.keys())):\n",
    "    cols.append('param_'+list(grid.keys())[i]) \n",
    "cols.append('mean_test_score')\n",
    "cols.append('std_test_score')\n",
    "\n",
    "# printing the results\n",
    "display(cv_results[cols].sort_values('mean_test_score', ascending=False).head(10))\n",
    "print(\"We can expect an accuracy close to {:.1f}% on the testing set with the following parameters: \\n{}. \\nThe tuning time is {} sec.\".format(max(cv_results['mean_test_score']*100), svm_cv.best_params_, round(svm_tune_time, 1)))"
   ]
  },
  {
   "cell_type": "code",
   "execution_count": 40,
   "metadata": {},
   "outputs": [],
   "source": [
    "svm = SVC(\n",
    "    **svm_cv.best_params_, random_state=0, probability=True\n",
    ")"
   ]
  },
  {
   "cell_type": "code",
   "execution_count": 41,
   "metadata": {},
   "outputs": [],
   "source": [
    "start_time = time.time()\n",
    "svm.fit(X_tr, y_tr)\n",
    "svm_train_time = time.time() - start_time"
   ]
  },
  {
   "cell_type": "code",
   "execution_count": 42,
   "metadata": {},
   "outputs": [
    {
     "name": "stdout",
     "output_type": "stream",
     "text": [
      "Accuracy on Testing Set: accuracy: 92.0%.\n"
     ]
    }
   ],
   "source": [
    "svm_accuracy = svm.score(X_te, y_te)\n",
    "print('Accuracy on Testing Set: accuracy: {:.1f}%.'.format(svm_accuracy*100))"
   ]
  },
  {
   "cell_type": "code",
   "execution_count": 43,
   "metadata": {},
   "outputs": [
    {
     "data": {
      "text/html": [
       "<div>\n",
       "<style scoped>\n",
       "    .dataframe tbody tr th:only-of-type {\n",
       "        vertical-align: middle;\n",
       "    }\n",
       "\n",
       "    .dataframe tbody tr th {\n",
       "        vertical-align: top;\n",
       "    }\n",
       "\n",
       "    .dataframe thead th {\n",
       "        text-align: right;\n",
       "    }\n",
       "</style>\n",
       "<table border=\"1\" class=\"dataframe\">\n",
       "  <thead>\n",
       "    <tr style=\"text-align: right;\">\n",
       "      <th></th>\n",
       "      <th>easy_grp</th>\n",
       "      <th>middle_grp</th>\n",
       "      <th>hard_grp</th>\n",
       "    </tr>\n",
       "  </thead>\n",
       "  <tbody>\n",
       "    <tr>\n",
       "      <th>easy_grp</th>\n",
       "      <td>1.0</td>\n",
       "      <td>0.000</td>\n",
       "      <td>0.000</td>\n",
       "    </tr>\n",
       "    <tr>\n",
       "      <th>middle_grp</th>\n",
       "      <td>0.0</td>\n",
       "      <td>0.841</td>\n",
       "      <td>0.145</td>\n",
       "    </tr>\n",
       "    <tr>\n",
       "      <th>hard_grp</th>\n",
       "      <td>0.0</td>\n",
       "      <td>0.057</td>\n",
       "      <td>0.948</td>\n",
       "    </tr>\n",
       "  </tbody>\n",
       "</table>\n",
       "</div>"
      ],
      "text/plain": [
       "            easy_grp  middle_grp  hard_grp\n",
       "easy_grp         1.0       0.000     0.000\n",
       "middle_grp       0.0       0.841     0.145\n",
       "hard_grp         0.0       0.057     0.948"
      ]
     },
     "execution_count": 43,
     "metadata": {},
     "output_type": "execute_result"
    }
   ],
   "source": [
    "svm_conf=pd.DataFrame(confusion_matrix(svm.predict(X_te), y_te), index=var_grps, columns=var_grps)/100\n",
    "round(svm_conf / svm_conf.astype(np.float).sum(axis=1),3)"
   ]
  },
  {
   "cell_type": "code",
   "execution_count": 44,
   "metadata": {},
   "outputs": [
    {
     "data": {
      "text/html": [
       "<div>\n",
       "<style scoped>\n",
       "    .dataframe tbody tr th:only-of-type {\n",
       "        vertical-align: middle;\n",
       "    }\n",
       "\n",
       "    .dataframe tbody tr th {\n",
       "        vertical-align: top;\n",
       "    }\n",
       "\n",
       "    .dataframe thead th {\n",
       "        text-align: right;\n",
       "    }\n",
       "</style>\n",
       "<table border=\"1\" class=\"dataframe\">\n",
       "  <thead>\n",
       "    <tr style=\"text-align: right;\">\n",
       "      <th></th>\n",
       "      <th>f1-score</th>\n",
       "      <th>precision</th>\n",
       "      <th>recall</th>\n",
       "      <th>support</th>\n",
       "    </tr>\n",
       "  </thead>\n",
       "  <tbody>\n",
       "    <tr>\n",
       "      <th>easy_grp</th>\n",
       "      <td>1.000</td>\n",
       "      <td>1.000</td>\n",
       "      <td>1.000</td>\n",
       "      <td>200.0</td>\n",
       "    </tr>\n",
       "    <tr>\n",
       "      <th>hard_grp</th>\n",
       "      <td>0.886</td>\n",
       "      <td>0.937</td>\n",
       "      <td>0.841</td>\n",
       "      <td>334.0</td>\n",
       "    </tr>\n",
       "    <tr>\n",
       "      <th>middle_grp</th>\n",
       "      <td>0.906</td>\n",
       "      <td>0.868</td>\n",
       "      <td>0.948</td>\n",
       "      <td>366.0</td>\n",
       "    </tr>\n",
       "    <tr>\n",
       "      <th>micro avg</th>\n",
       "      <td>0.920</td>\n",
       "      <td>0.920</td>\n",
       "      <td>0.920</td>\n",
       "      <td>900.0</td>\n",
       "    </tr>\n",
       "    <tr>\n",
       "      <th>macro avg</th>\n",
       "      <td>0.931</td>\n",
       "      <td>0.935</td>\n",
       "      <td>0.930</td>\n",
       "      <td>900.0</td>\n",
       "    </tr>\n",
       "    <tr>\n",
       "      <th>weighted avg</th>\n",
       "      <td>0.920</td>\n",
       "      <td>0.923</td>\n",
       "      <td>0.920</td>\n",
       "      <td>900.0</td>\n",
       "    </tr>\n",
       "  </tbody>\n",
       "</table>\n",
       "</div>"
      ],
      "text/plain": [
       "              f1-score  precision  recall  support\n",
       "easy_grp         1.000      1.000   1.000    200.0\n",
       "hard_grp         0.886      0.937   0.841    334.0\n",
       "middle_grp       0.906      0.868   0.948    366.0\n",
       "micro avg        0.920      0.920   0.920    900.0\n",
       "macro avg        0.931      0.935   0.930    900.0\n",
       "weighted avg     0.920      0.923   0.920    900.0"
      ]
     },
     "execution_count": 44,
     "metadata": {},
     "output_type": "execute_result"
    }
   ],
   "source": [
    "svm_metrics=pd.DataFrame(classification_report(svm.predict(X_te), y_te, output_dict=True)).T.round(3)\n",
    "svm_metrics"
   ]
  },
  {
   "cell_type": "markdown",
   "metadata": {},
   "source": [
    "# Neural Network with Sklearn"
   ]
  },
  {
   "cell_type": "code",
   "execution_count": 45,
   "metadata": {},
   "outputs": [],
   "source": [
    "# Define our steps\n",
    "model = MLPClassifier()\n",
    "\n",
    "# grid \n",
    "grid = {'hidden_layer_sizes': [5,10,15,20,50,100],\n",
    "        'alpha': np.logspace(-5,5,5),\n",
    "        'solver': ['adam', 'sgd'],\n",
    "        'activation': ['logistic', 'relu'],\n",
    "        'early_stopping': [True]\n",
    "       }  \n",
    "\n",
    "# Grid search\n",
    "nnet_cv = GridSearchCV(\n",
    "    model, \n",
    "    grid, \n",
    "    cv=kfold,    \n",
    "    verbose = 1,\n",
    "    n_jobs = -1)"
   ]
  },
  {
   "cell_type": "code",
   "execution_count": 46,
   "metadata": {},
   "outputs": [
    {
     "name": "stdout",
     "output_type": "stream",
     "text": [
      "Fitting 5 folds for each of 120 candidates, totalling 600 fits\n"
     ]
    },
    {
     "name": "stderr",
     "output_type": "stream",
     "text": [
      "[Parallel(n_jobs=-1)]: Using backend LokyBackend with 8 concurrent workers.\n",
      "[Parallel(n_jobs=-1)]: Done  34 tasks      | elapsed:    6.6s\n",
      "[Parallel(n_jobs=-1)]: Done 184 tasks      | elapsed:   47.0s\n",
      "[Parallel(n_jobs=-1)]: Done 434 tasks      | elapsed:  1.4min\n",
      "[Parallel(n_jobs=-1)]: Done 600 out of 600 | elapsed:  1.7min finished\n"
     ]
    }
   ],
   "source": [
    "start_time = time.time()\n",
    "nnet_cv.fit(X_tr, y_tr)\n",
    "nnet_tune_time = time.time() - start_time"
   ]
  },
  {
   "cell_type": "code",
   "execution_count": 47,
   "metadata": {},
   "outputs": [
    {
     "name": "stderr",
     "output_type": "stream",
     "text": [
      "/opt/anaconda3/envs/exts-ml/lib/python3.6/site-packages/sklearn/utils/deprecation.py:125: FutureWarning: You are accessing a training score ('split0_train_score'), which will not be available by default any more in 0.21. If you need training scores, please set return_train_score=True\n",
      "  warnings.warn(*warn_args, **warn_kwargs)\n",
      "/opt/anaconda3/envs/exts-ml/lib/python3.6/site-packages/sklearn/utils/deprecation.py:125: FutureWarning: You are accessing a training score ('split1_train_score'), which will not be available by default any more in 0.21. If you need training scores, please set return_train_score=True\n",
      "  warnings.warn(*warn_args, **warn_kwargs)\n",
      "/opt/anaconda3/envs/exts-ml/lib/python3.6/site-packages/sklearn/utils/deprecation.py:125: FutureWarning: You are accessing a training score ('split2_train_score'), which will not be available by default any more in 0.21. If you need training scores, please set return_train_score=True\n",
      "  warnings.warn(*warn_args, **warn_kwargs)\n",
      "/opt/anaconda3/envs/exts-ml/lib/python3.6/site-packages/sklearn/utils/deprecation.py:125: FutureWarning: You are accessing a training score ('split3_train_score'), which will not be available by default any more in 0.21. If you need training scores, please set return_train_score=True\n",
      "  warnings.warn(*warn_args, **warn_kwargs)\n",
      "/opt/anaconda3/envs/exts-ml/lib/python3.6/site-packages/sklearn/utils/deprecation.py:125: FutureWarning: You are accessing a training score ('split4_train_score'), which will not be available by default any more in 0.21. If you need training scores, please set return_train_score=True\n",
      "  warnings.warn(*warn_args, **warn_kwargs)\n",
      "/opt/anaconda3/envs/exts-ml/lib/python3.6/site-packages/sklearn/utils/deprecation.py:125: FutureWarning: You are accessing a training score ('mean_train_score'), which will not be available by default any more in 0.21. If you need training scores, please set return_train_score=True\n",
      "  warnings.warn(*warn_args, **warn_kwargs)\n",
      "/opt/anaconda3/envs/exts-ml/lib/python3.6/site-packages/sklearn/utils/deprecation.py:125: FutureWarning: You are accessing a training score ('std_train_score'), which will not be available by default any more in 0.21. If you need training scores, please set return_train_score=True\n",
      "  warnings.warn(*warn_args, **warn_kwargs)\n"
     ]
    },
    {
     "data": {
      "text/html": [
       "<div>\n",
       "<style scoped>\n",
       "    .dataframe tbody tr th:only-of-type {\n",
       "        vertical-align: middle;\n",
       "    }\n",
       "\n",
       "    .dataframe tbody tr th {\n",
       "        vertical-align: top;\n",
       "    }\n",
       "\n",
       "    .dataframe thead th {\n",
       "        text-align: right;\n",
       "    }\n",
       "</style>\n",
       "<table border=\"1\" class=\"dataframe\">\n",
       "  <thead>\n",
       "    <tr style=\"text-align: right;\">\n",
       "      <th></th>\n",
       "      <th>param_hidden_layer_sizes</th>\n",
       "      <th>param_alpha</th>\n",
       "      <th>param_solver</th>\n",
       "      <th>param_activation</th>\n",
       "      <th>param_early_stopping</th>\n",
       "      <th>mean_test_score</th>\n",
       "      <th>std_test_score</th>\n",
       "    </tr>\n",
       "  </thead>\n",
       "  <tbody>\n",
       "    <tr>\n",
       "      <th>70</th>\n",
       "      <td>100</td>\n",
       "      <td>1e-05</td>\n",
       "      <td>adam</td>\n",
       "      <td>relu</td>\n",
       "      <td>True</td>\n",
       "      <td>0.846173</td>\n",
       "      <td>0.011669</td>\n",
       "    </tr>\n",
       "    <tr>\n",
       "      <th>82</th>\n",
       "      <td>100</td>\n",
       "      <td>0.00316228</td>\n",
       "      <td>adam</td>\n",
       "      <td>relu</td>\n",
       "      <td>True</td>\n",
       "      <td>0.831235</td>\n",
       "      <td>0.011664</td>\n",
       "    </tr>\n",
       "    <tr>\n",
       "      <th>94</th>\n",
       "      <td>100</td>\n",
       "      <td>1</td>\n",
       "      <td>adam</td>\n",
       "      <td>relu</td>\n",
       "      <td>True</td>\n",
       "      <td>0.824691</td>\n",
       "      <td>0.015518</td>\n",
       "    </tr>\n",
       "    <tr>\n",
       "      <th>92</th>\n",
       "      <td>50</td>\n",
       "      <td>1</td>\n",
       "      <td>adam</td>\n",
       "      <td>relu</td>\n",
       "      <td>True</td>\n",
       "      <td>0.819506</td>\n",
       "      <td>0.005084</td>\n",
       "    </tr>\n",
       "    <tr>\n",
       "      <th>80</th>\n",
       "      <td>50</td>\n",
       "      <td>0.00316228</td>\n",
       "      <td>adam</td>\n",
       "      <td>relu</td>\n",
       "      <td>True</td>\n",
       "      <td>0.818395</td>\n",
       "      <td>0.018417</td>\n",
       "    </tr>\n",
       "    <tr>\n",
       "      <th>64</th>\n",
       "      <td>15</td>\n",
       "      <td>1e-05</td>\n",
       "      <td>adam</td>\n",
       "      <td>relu</td>\n",
       "      <td>True</td>\n",
       "      <td>0.812346</td>\n",
       "      <td>0.005045</td>\n",
       "    </tr>\n",
       "    <tr>\n",
       "      <th>68</th>\n",
       "      <td>50</td>\n",
       "      <td>1e-05</td>\n",
       "      <td>adam</td>\n",
       "      <td>relu</td>\n",
       "      <td>True</td>\n",
       "      <td>0.811728</td>\n",
       "      <td>0.008868</td>\n",
       "    </tr>\n",
       "    <tr>\n",
       "      <th>74</th>\n",
       "      <td>10</td>\n",
       "      <td>0.00316228</td>\n",
       "      <td>adam</td>\n",
       "      <td>relu</td>\n",
       "      <td>True</td>\n",
       "      <td>0.810247</td>\n",
       "      <td>0.009060</td>\n",
       "    </tr>\n",
       "    <tr>\n",
       "      <th>90</th>\n",
       "      <td>20</td>\n",
       "      <td>1</td>\n",
       "      <td>adam</td>\n",
       "      <td>relu</td>\n",
       "      <td>True</td>\n",
       "      <td>0.809506</td>\n",
       "      <td>0.009873</td>\n",
       "    </tr>\n",
       "    <tr>\n",
       "      <th>22</th>\n",
       "      <td>100</td>\n",
       "      <td>0.00316228</td>\n",
       "      <td>adam</td>\n",
       "      <td>logistic</td>\n",
       "      <td>True</td>\n",
       "      <td>0.809136</td>\n",
       "      <td>0.011531</td>\n",
       "    </tr>\n",
       "  </tbody>\n",
       "</table>\n",
       "</div>"
      ],
      "text/plain": [
       "   param_hidden_layer_sizes param_alpha param_solver param_activation  \\\n",
       "70                      100       1e-05         adam             relu   \n",
       "82                      100  0.00316228         adam             relu   \n",
       "94                      100           1         adam             relu   \n",
       "92                       50           1         adam             relu   \n",
       "80                       50  0.00316228         adam             relu   \n",
       "64                       15       1e-05         adam             relu   \n",
       "68                       50       1e-05         adam             relu   \n",
       "74                       10  0.00316228         adam             relu   \n",
       "90                       20           1         adam             relu   \n",
       "22                      100  0.00316228         adam         logistic   \n",
       "\n",
       "   param_early_stopping  mean_test_score  std_test_score  \n",
       "70                 True         0.846173        0.011669  \n",
       "82                 True         0.831235        0.011664  \n",
       "94                 True         0.824691        0.015518  \n",
       "92                 True         0.819506        0.005084  \n",
       "80                 True         0.818395        0.018417  \n",
       "64                 True         0.812346        0.005045  \n",
       "68                 True         0.811728        0.008868  \n",
       "74                 True         0.810247        0.009060  \n",
       "90                 True         0.809506        0.009873  \n",
       "22                 True         0.809136        0.011531  "
      ]
     },
     "metadata": {},
     "output_type": "display_data"
    },
    {
     "name": "stdout",
     "output_type": "stream",
     "text": [
      "We can expect an accuracy close to 84.6% on the testing set with the following parameters: \n",
      "{'activation': 'relu', 'alpha': 1e-05, 'early_stopping': True, 'hidden_layer_sizes': 100, 'solver': 'adam'}. \n",
      "The tuning time is 104.8 sec.\n"
     ]
    }
   ],
   "source": [
    "# Collect results in a DataFrame\n",
    "cv_results = pd.DataFrame(nnet_cv.cv_results_)\n",
    "\n",
    "# getting the columns of interest:\n",
    "cols = []\n",
    "for i in range(len(grid.keys())):\n",
    "    cols.append('param_'+list(grid.keys())[i]) \n",
    "cols.append('mean_test_score')\n",
    "cols.append('std_test_score')\n",
    "\n",
    "# printing the results\n",
    "display(cv_results[cols].sort_values('mean_test_score', ascending=False).head(10))\n",
    "print(\"We can expect an accuracy close to {:.1f}% on the testing set with the following parameters: \\n{}. \\nThe tuning time is {} sec.\".format(max(cv_results['mean_test_score']*100), nnet_cv.best_params_, round(nnet_tune_time, 1)))"
   ]
  },
  {
   "cell_type": "code",
   "execution_count": 48,
   "metadata": {},
   "outputs": [],
   "source": [
    "nnet = MLPClassifier(\n",
    "    **nnet_cv.best_params_, random_state=0)"
   ]
  },
  {
   "cell_type": "code",
   "execution_count": 49,
   "metadata": {},
   "outputs": [],
   "source": [
    "start_time = time.time()\n",
    "nnet.fit(X_tr, y_tr)\n",
    "nnet_train_time = time.time() - start_time"
   ]
  },
  {
   "cell_type": "code",
   "execution_count": 50,
   "metadata": {},
   "outputs": [
    {
     "name": "stdout",
     "output_type": "stream",
     "text": [
      "Accuracy on Testing Set: accuracy: 87.1%.\n"
     ]
    }
   ],
   "source": [
    "nnet_accuracy = nnet.score(X_te, y_te)\n",
    "print('Accuracy on Testing Set: accuracy: {:.1f}%.'.format(nnet_accuracy*100))"
   ]
  },
  {
   "cell_type": "code",
   "execution_count": 51,
   "metadata": {},
   "outputs": [
    {
     "data": {
      "text/html": [
       "<div>\n",
       "<style scoped>\n",
       "    .dataframe tbody tr th:only-of-type {\n",
       "        vertical-align: middle;\n",
       "    }\n",
       "\n",
       "    .dataframe tbody tr th {\n",
       "        vertical-align: top;\n",
       "    }\n",
       "\n",
       "    .dataframe thead th {\n",
       "        text-align: right;\n",
       "    }\n",
       "</style>\n",
       "<table border=\"1\" class=\"dataframe\">\n",
       "  <thead>\n",
       "    <tr style=\"text-align: right;\">\n",
       "      <th></th>\n",
       "      <th>easy_grp</th>\n",
       "      <th>middle_grp</th>\n",
       "      <th>hard_grp</th>\n",
       "    </tr>\n",
       "  </thead>\n",
       "  <tbody>\n",
       "    <tr>\n",
       "      <th>easy_grp</th>\n",
       "      <td>1.0</td>\n",
       "      <td>0.000</td>\n",
       "      <td>0.000</td>\n",
       "    </tr>\n",
       "    <tr>\n",
       "      <th>middle_grp</th>\n",
       "      <td>0.0</td>\n",
       "      <td>0.777</td>\n",
       "      <td>0.201</td>\n",
       "    </tr>\n",
       "    <tr>\n",
       "      <th>hard_grp</th>\n",
       "      <td>0.0</td>\n",
       "      <td>0.127</td>\n",
       "      <td>0.886</td>\n",
       "    </tr>\n",
       "  </tbody>\n",
       "</table>\n",
       "</div>"
      ],
      "text/plain": [
       "            easy_grp  middle_grp  hard_grp\n",
       "easy_grp         1.0       0.000     0.000\n",
       "middle_grp       0.0       0.777     0.201\n",
       "hard_grp         0.0       0.127     0.886"
      ]
     },
     "execution_count": 51,
     "metadata": {},
     "output_type": "execute_result"
    }
   ],
   "source": [
    "nnet_conf=pd.DataFrame(confusion_matrix(nnet.predict(X_te), y_te), index=var_grps, columns=var_grps)/100\n",
    "round(nnet_conf / nnet_conf.astype(np.float).sum(axis=1),3)"
   ]
  },
  {
   "cell_type": "code",
   "execution_count": 52,
   "metadata": {},
   "outputs": [
    {
     "data": {
      "text/html": [
       "<div>\n",
       "<style scoped>\n",
       "    .dataframe tbody tr th:only-of-type {\n",
       "        vertical-align: middle;\n",
       "    }\n",
       "\n",
       "    .dataframe tbody tr th {\n",
       "        vertical-align: top;\n",
       "    }\n",
       "\n",
       "    .dataframe thead th {\n",
       "        text-align: right;\n",
       "    }\n",
       "</style>\n",
       "<table border=\"1\" class=\"dataframe\">\n",
       "  <thead>\n",
       "    <tr style=\"text-align: right;\">\n",
       "      <th></th>\n",
       "      <th>f1-score</th>\n",
       "      <th>precision</th>\n",
       "      <th>recall</th>\n",
       "      <th>support</th>\n",
       "    </tr>\n",
       "  </thead>\n",
       "  <tbody>\n",
       "    <tr>\n",
       "      <th>easy_grp</th>\n",
       "      <td>1.000</td>\n",
       "      <td>1.000</td>\n",
       "      <td>1.000</td>\n",
       "      <td>200.0</td>\n",
       "    </tr>\n",
       "    <tr>\n",
       "      <th>hard_grp</th>\n",
       "      <td>0.816</td>\n",
       "      <td>0.860</td>\n",
       "      <td>0.777</td>\n",
       "      <td>332.0</td>\n",
       "    </tr>\n",
       "    <tr>\n",
       "      <th>middle_grp</th>\n",
       "      <td>0.849</td>\n",
       "      <td>0.815</td>\n",
       "      <td>0.886</td>\n",
       "      <td>368.0</td>\n",
       "    </tr>\n",
       "    <tr>\n",
       "      <th>micro avg</th>\n",
       "      <td>0.871</td>\n",
       "      <td>0.871</td>\n",
       "      <td>0.871</td>\n",
       "      <td>900.0</td>\n",
       "    </tr>\n",
       "    <tr>\n",
       "      <th>macro avg</th>\n",
       "      <td>0.888</td>\n",
       "      <td>0.892</td>\n",
       "      <td>0.888</td>\n",
       "      <td>900.0</td>\n",
       "    </tr>\n",
       "    <tr>\n",
       "      <th>weighted avg</th>\n",
       "      <td>0.871</td>\n",
       "      <td>0.873</td>\n",
       "      <td>0.871</td>\n",
       "      <td>900.0</td>\n",
       "    </tr>\n",
       "  </tbody>\n",
       "</table>\n",
       "</div>"
      ],
      "text/plain": [
       "              f1-score  precision  recall  support\n",
       "easy_grp         1.000      1.000   1.000    200.0\n",
       "hard_grp         0.816      0.860   0.777    332.0\n",
       "middle_grp       0.849      0.815   0.886    368.0\n",
       "micro avg        0.871      0.871   0.871    900.0\n",
       "macro avg        0.888      0.892   0.888    900.0\n",
       "weighted avg     0.871      0.873   0.871    900.0"
      ]
     },
     "execution_count": 52,
     "metadata": {},
     "output_type": "execute_result"
    }
   ],
   "source": [
    "nnet_metrics=pd.DataFrame(classification_report(nnet.predict(X_te), y_te, output_dict=True)).T.round(3)\n",
    "nnet_metrics"
   ]
  },
  {
   "cell_type": "markdown",
   "metadata": {},
   "source": [
    "# Intermediary results"
   ]
  },
  {
   "cell_type": "code",
   "execution_count": 53,
   "metadata": {},
   "outputs": [],
   "source": [
    "dt_scores_avg=list(dt_metrics.loc['weighted avg',:])[:3]\n",
    "#dt_scores_blitz=list(dt_metrics.loc['blitz',:])\n",
    "logistic_scores_avg=list(logistic_metrics.loc['weighted avg',:])[:3]\n",
    "#logistic_scores_blitz=list(logistic_metrics.loc['blitz',:])\n",
    "rf_scores_avg=list(rf_metrics.loc['weighted avg',:])[:3]\n",
    "#rf_scores_blitz=list(rf_metrics.loc['blitz',:])\n",
    "svm_scores_avg=list(svm_metrics.loc['weighted avg',:])[:3]\n",
    "#svm_scores_blitz=list(svm_metrics.loc['blitz',:])\n",
    "nnet_scores_avg=list(nnet_metrics.loc['weighted avg',:])[:3]\n",
    "#nnet_scores_blitz=list(nnet_metrics.loc['blitz',:])"
   ]
  },
  {
   "cell_type": "code",
   "execution_count": 54,
   "metadata": {},
   "outputs": [
    {
     "data": {
      "text/html": [
       "<div>\n",
       "<style scoped>\n",
       "    .dataframe tbody tr th:only-of-type {\n",
       "        vertical-align: middle;\n",
       "    }\n",
       "\n",
       "    .dataframe tbody tr th {\n",
       "        vertical-align: top;\n",
       "    }\n",
       "\n",
       "    .dataframe thead th {\n",
       "        text-align: right;\n",
       "    }\n",
       "</style>\n",
       "<table border=\"1\" class=\"dataframe\">\n",
       "  <thead>\n",
       "    <tr style=\"text-align: right;\">\n",
       "      <th></th>\n",
       "      <th>Accuracy</th>\n",
       "      <th>Tuning time</th>\n",
       "      <th>Training time</th>\n",
       "      <th>f1_avg</th>\n",
       "      <th>precision_avg</th>\n",
       "      <th>recall_avg</th>\n",
       "    </tr>\n",
       "  </thead>\n",
       "  <tbody>\n",
       "    <tr>\n",
       "      <th>SVM</th>\n",
       "      <td>0.920</td>\n",
       "      <td>317.461</td>\n",
       "      <td>58.084</td>\n",
       "      <td>0.920</td>\n",
       "      <td>0.923</td>\n",
       "      <td>0.920</td>\n",
       "    </tr>\n",
       "    <tr>\n",
       "      <th>random forest</th>\n",
       "      <td>0.880</td>\n",
       "      <td>87.609</td>\n",
       "      <td>5.164</td>\n",
       "      <td>0.879</td>\n",
       "      <td>0.882</td>\n",
       "      <td>0.880</td>\n",
       "    </tr>\n",
       "    <tr>\n",
       "      <th>NN</th>\n",
       "      <td>0.871</td>\n",
       "      <td>104.819</td>\n",
       "      <td>1.079</td>\n",
       "      <td>0.871</td>\n",
       "      <td>0.873</td>\n",
       "      <td>0.871</td>\n",
       "    </tr>\n",
       "    <tr>\n",
       "      <th>decision tree</th>\n",
       "      <td>0.849</td>\n",
       "      <td>2.954</td>\n",
       "      <td>0.030</td>\n",
       "      <td>0.848</td>\n",
       "      <td>0.856</td>\n",
       "      <td>0.849</td>\n",
       "    </tr>\n",
       "    <tr>\n",
       "      <th>logistic</th>\n",
       "      <td>0.806</td>\n",
       "      <td>3.472</td>\n",
       "      <td>0.317</td>\n",
       "      <td>0.806</td>\n",
       "      <td>0.806</td>\n",
       "      <td>0.806</td>\n",
       "    </tr>\n",
       "  </tbody>\n",
       "</table>\n",
       "</div>"
      ],
      "text/plain": [
       "               Accuracy  Tuning time  Training time  f1_avg  precision_avg  \\\n",
       "SVM               0.920      317.461         58.084   0.920          0.923   \n",
       "random forest     0.880       87.609          5.164   0.879          0.882   \n",
       "NN                0.871      104.819          1.079   0.871          0.873   \n",
       "decision tree     0.849        2.954          0.030   0.848          0.856   \n",
       "logistic          0.806        3.472          0.317   0.806          0.806   \n",
       "\n",
       "               recall_avg  \n",
       "SVM                 0.920  \n",
       "random forest       0.880  \n",
       "NN                  0.871  \n",
       "decision tree       0.849  \n",
       "logistic            0.806  "
      ]
     },
     "execution_count": 54,
     "metadata": {},
     "output_type": "execute_result"
    }
   ],
   "source": [
    "results_full=pd.DataFrame({\n",
    "              'decision tree': [dt_accuracy, dt_tune_time, dt_train_time, dt_scores_avg[0], dt_scores_avg[1], dt_scores_avg[2]],\n",
    "              'logistic': [logistic_accuracy, logistic_tune_time, logistic_train_time, logistic_scores_avg[0], logistic_scores_avg[1], logistic_scores_avg[2]],\n",
    "              'random forest': [rf_accuracy, rf_tune_time, rf_train_time, rf_scores_avg[0], rf_scores_avg[1], rf_scores_avg[2]],\n",
    "              'SVM': [svm_accuracy, svm_tune_time, svm_train_time, svm_scores_avg[0], svm_scores_avg[1], svm_scores_avg[2]],\n",
    "              'NN': [nnet_accuracy, nnet_tune_time, nnet_train_time, nnet_scores_avg[0], nnet_scores_avg[1], nnet_scores_avg[2]],\n",
    "}, index = ['Accuracy', 'Tuning time', 'Training time', 'f1_avg', 'precision_avg', 'recall_avg']).round(3).T.sort_values('Accuracy', ascending=False)\n",
    "results_full"
   ]
  },
  {
   "cell_type": "markdown",
   "metadata": {},
   "source": [
    "We have made our first iteration and have come up with predictions of the groups of variants.  \n",
    "Obviously, as we are predicting groups of variants, the accuracy of the different models is clearly higher than the one that we have observed previously when working on the individual variants.   \n",
    "SVM seems to perform much better than the other models, but has a much bigger training time, which is problematic. As the accuracy is clearly bigger than the second best model, we still go for an svm in this first step. \n",
    "\n",
    "Now, for these different groups, we are going to predict the variant that has been played.   \n",
    "\n",
    "We therefore split the original dataframe into three different subsets according to the group of variant that the observation belongs (for the training set). For the testing set, the split will be done according to the prediction of the group of variant that we got in the first step.  \n",
    "As we are working on subset of data and therefore on less samples, we can use more complex models in this second step. The independent features that are now used are the ones derived from the \"full dataframe\".  \n",
    "The data split can be summarized in the following ways:  \n",
    "- X_tr --> all the features split into 3 sets  \n",
    "    - \"simple\" set containing all variants that have been described as \"simple\"  \n",
    "    - \"middle\" set containing all variants that have been described as \"middle\"  \n",
    "    - \"hard\" set containing all variants that have been described as \"hard\"   \n",
    "- y_tr --> the variant  \n",
    "- X_te --> all the features split into 3 sets\n",
    "    - \"simple\" set containing all variants that have been **predicted** as \"simple\"  \n",
    "    - \"middle\" set containing all variants that have been **predicted** as \"middle\"  \n",
    "    - \"hard\" set containing all variants that have been **predicted** as \"hard\"  \n",
    "- y_te --> the variant that we want to predict and that will help to evaluate the accuracy of the models  "
   ]
  },
  {
   "cell_type": "markdown",
   "metadata": {},
   "source": [
    "# 2nd step"
   ]
  },
  {
   "cell_type": "markdown",
   "metadata": {},
   "source": [
    "We first have to select a first model to predict the different variants. Here, we select simply the one that maximised the accuracy, as the training time has been quite low previously.  \n",
    "We train this model with the best params found previously.  "
   ]
  },
  {
   "cell_type": "code",
   "execution_count": 55,
   "metadata": {},
   "outputs": [],
   "source": [
    "model_step1 = SVC(\n",
    "    **svm_cv.best_params_, random_state=0)"
   ]
  },
  {
   "cell_type": "code",
   "execution_count": 56,
   "metadata": {},
   "outputs": [
    {
     "data": {
      "text/plain": [
       "SVC(C=5623.413251903491, cache_size=200, class_weight=None, coef0=0.0,\n",
       "  decision_function_shape='ovr', degree=3, gamma=0.0031622776601683794,\n",
       "  kernel='rbf', max_iter=-1, probability=False, random_state=0,\n",
       "  shrinking=True, tol=0.001, verbose=False)"
      ]
     },
     "execution_count": 56,
     "metadata": {},
     "output_type": "execute_result"
    }
   ],
   "source": [
    "model_step1.fit(X_tr, y_tr)"
   ]
  },
  {
   "cell_type": "markdown",
   "metadata": {},
   "source": [
    "As explained above, we create our new dataset of interest by splitting the data accordingly.  "
   ]
  },
  {
   "cell_type": "code",
   "execution_count": 57,
   "metadata": {},
   "outputs": [
    {
     "data": {
      "text/html": [
       "<div>\n",
       "<style scoped>\n",
       "    .dataframe tbody tr th:only-of-type {\n",
       "        vertical-align: middle;\n",
       "    }\n",
       "\n",
       "    .dataframe tbody tr th {\n",
       "        vertical-align: top;\n",
       "    }\n",
       "\n",
       "    .dataframe thead th {\n",
       "        text-align: right;\n",
       "    }\n",
       "</style>\n",
       "<table border=\"1\" class=\"dataframe\">\n",
       "  <thead>\n",
       "    <tr style=\"text-align: right;\">\n",
       "      <th></th>\n",
       "      <th>nb_moves</th>\n",
       "      <th>nb_K</th>\n",
       "      <th>nb_Q</th>\n",
       "      <th>nb_R</th>\n",
       "      <th>nb_B</th>\n",
       "      <th>nb_N</th>\n",
       "      <th>nb_P</th>\n",
       "      <th>nb_k</th>\n",
       "      <th>nb_q</th>\n",
       "      <th>nb_r</th>\n",
       "      <th>...</th>\n",
       "      <th>nb_pawns_third_row_c_f</th>\n",
       "      <th>nb_pawns_b_g_col</th>\n",
       "      <th>nb_pieces_center</th>\n",
       "      <th>nb_pieces_ext_center</th>\n",
       "      <th>nb_pieces_third_row_c_f</th>\n",
       "      <th>nb_pieces_b_g_col</th>\n",
       "      <th>knight_squares</th>\n",
       "      <th>king_castle_squares</th>\n",
       "      <th>nb_checks</th>\n",
       "      <th>var_grp</th>\n",
       "    </tr>\n",
       "  </thead>\n",
       "  <tbody>\n",
       "    <tr>\n",
       "      <th>1743</th>\n",
       "      <td>10</td>\n",
       "      <td>1</td>\n",
       "      <td>1</td>\n",
       "      <td>2</td>\n",
       "      <td>2</td>\n",
       "      <td>1</td>\n",
       "      <td>7</td>\n",
       "      <td>1</td>\n",
       "      <td>1</td>\n",
       "      <td>2</td>\n",
       "      <td>...</td>\n",
       "      <td>2</td>\n",
       "      <td>0</td>\n",
       "      <td>1</td>\n",
       "      <td>0</td>\n",
       "      <td>2</td>\n",
       "      <td>1</td>\n",
       "      <td>1</td>\n",
       "      <td>0</td>\n",
       "      <td>1</td>\n",
       "      <td>middle_grp</td>\n",
       "    </tr>\n",
       "    <tr>\n",
       "      <th>7772</th>\n",
       "      <td>10</td>\n",
       "      <td>0</td>\n",
       "      <td>0</td>\n",
       "      <td>0</td>\n",
       "      <td>0</td>\n",
       "      <td>0</td>\n",
       "      <td>32</td>\n",
       "      <td>1</td>\n",
       "      <td>1</td>\n",
       "      <td>2</td>\n",
       "      <td>...</td>\n",
       "      <td>3</td>\n",
       "      <td>6</td>\n",
       "      <td>0</td>\n",
       "      <td>0</td>\n",
       "      <td>0</td>\n",
       "      <td>0</td>\n",
       "      <td>1</td>\n",
       "      <td>0</td>\n",
       "      <td>0</td>\n",
       "      <td>easy_grp</td>\n",
       "    </tr>\n",
       "    <tr>\n",
       "      <th>8400</th>\n",
       "      <td>10</td>\n",
       "      <td>1</td>\n",
       "      <td>1</td>\n",
       "      <td>1</td>\n",
       "      <td>0</td>\n",
       "      <td>2</td>\n",
       "      <td>0</td>\n",
       "      <td>1</td>\n",
       "      <td>0</td>\n",
       "      <td>1</td>\n",
       "      <td>...</td>\n",
       "      <td>0</td>\n",
       "      <td>0</td>\n",
       "      <td>0</td>\n",
       "      <td>0</td>\n",
       "      <td>0</td>\n",
       "      <td>1</td>\n",
       "      <td>1</td>\n",
       "      <td>0</td>\n",
       "      <td>0</td>\n",
       "      <td>easy_grp</td>\n",
       "    </tr>\n",
       "    <tr>\n",
       "      <th>2760</th>\n",
       "      <td>10</td>\n",
       "      <td>1</td>\n",
       "      <td>1</td>\n",
       "      <td>2</td>\n",
       "      <td>1</td>\n",
       "      <td>2</td>\n",
       "      <td>7</td>\n",
       "      <td>1</td>\n",
       "      <td>1</td>\n",
       "      <td>2</td>\n",
       "      <td>...</td>\n",
       "      <td>3</td>\n",
       "      <td>2</td>\n",
       "      <td>0</td>\n",
       "      <td>2</td>\n",
       "      <td>1</td>\n",
       "      <td>0</td>\n",
       "      <td>1</td>\n",
       "      <td>0</td>\n",
       "      <td>0</td>\n",
       "      <td>middle_grp</td>\n",
       "    </tr>\n",
       "    <tr>\n",
       "      <th>7741</th>\n",
       "      <td>10</td>\n",
       "      <td>0</td>\n",
       "      <td>0</td>\n",
       "      <td>0</td>\n",
       "      <td>0</td>\n",
       "      <td>0</td>\n",
       "      <td>32</td>\n",
       "      <td>1</td>\n",
       "      <td>1</td>\n",
       "      <td>2</td>\n",
       "      <td>...</td>\n",
       "      <td>2</td>\n",
       "      <td>6</td>\n",
       "      <td>0</td>\n",
       "      <td>0</td>\n",
       "      <td>1</td>\n",
       "      <td>0</td>\n",
       "      <td>0</td>\n",
       "      <td>0</td>\n",
       "      <td>0</td>\n",
       "      <td>easy_grp</td>\n",
       "    </tr>\n",
       "  </tbody>\n",
       "</table>\n",
       "<p>5 rows × 30 columns</p>\n",
       "</div>"
      ],
      "text/plain": [
       "      nb_moves  nb_K  nb_Q  nb_R  nb_B  nb_N  nb_P  nb_k  nb_q  nb_r  ...  \\\n",
       "1743        10     1     1     2     2     1     7     1     1     2  ...   \n",
       "7772        10     0     0     0     0     0    32     1     1     2  ...   \n",
       "8400        10     1     1     1     0     2     0     1     0     1  ...   \n",
       "2760        10     1     1     2     1     2     7     1     1     2  ...   \n",
       "7741        10     0     0     0     0     0    32     1     1     2  ...   \n",
       "\n",
       "      nb_pawns_third_row_c_f  nb_pawns_b_g_col  nb_pieces_center  \\\n",
       "1743                       2                 0                 1   \n",
       "7772                       3                 6                 0   \n",
       "8400                       0                 0                 0   \n",
       "2760                       3                 2                 0   \n",
       "7741                       2                 6                 0   \n",
       "\n",
       "      nb_pieces_ext_center  nb_pieces_third_row_c_f  nb_pieces_b_g_col  \\\n",
       "1743                     0                        2                  1   \n",
       "7772                     0                        0                  0   \n",
       "8400                     0                        0                  1   \n",
       "2760                     2                        1                  0   \n",
       "7741                     0                        1                  0   \n",
       "\n",
       "      knight_squares  king_castle_squares  nb_checks     var_grp  \n",
       "1743               1                    0          1  middle_grp  \n",
       "7772               1                    0          0    easy_grp  \n",
       "8400               1                    0          0    easy_grp  \n",
       "2760               1                    0          0  middle_grp  \n",
       "7741               0                    0          0    easy_grp  \n",
       "\n",
       "[5 rows x 30 columns]"
      ]
     },
     "execution_count": 57,
     "metadata": {},
     "output_type": "execute_result"
    }
   ],
   "source": [
    "X_tr['var_grp'] = y_tr # adding the \"variant group\" to the training set\n",
    "X_tr.head()"
   ]
  },
  {
   "cell_type": "code",
   "execution_count": 58,
   "metadata": {},
   "outputs": [
    {
     "data": {
      "text/plain": [
       "1743     crazyhouse\n",
       "7772          horde\n",
       "8400    racingKings\n",
       "2760       chess960\n",
       "7741          horde\n",
       "Name: variant, dtype: object"
      ]
     },
     "execution_count": 58,
     "metadata": {},
     "output_type": "execute_result"
    }
   ],
   "source": [
    "y_tr = tr_variant # the new dependent variable is the variant that we want to predict\n",
    "y_tr.head()"
   ]
  },
  {
   "cell_type": "code",
   "execution_count": 59,
   "metadata": {},
   "outputs": [
    {
     "data": {
      "text/html": [
       "<div>\n",
       "<style scoped>\n",
       "    .dataframe tbody tr th:only-of-type {\n",
       "        vertical-align: middle;\n",
       "    }\n",
       "\n",
       "    .dataframe tbody tr th {\n",
       "        vertical-align: top;\n",
       "    }\n",
       "\n",
       "    .dataframe thead th {\n",
       "        text-align: right;\n",
       "    }\n",
       "</style>\n",
       "<table border=\"1\" class=\"dataframe\">\n",
       "  <thead>\n",
       "    <tr style=\"text-align: right;\">\n",
       "      <th></th>\n",
       "      <th>nb_moves</th>\n",
       "      <th>nb_K</th>\n",
       "      <th>nb_Q</th>\n",
       "      <th>nb_R</th>\n",
       "      <th>nb_B</th>\n",
       "      <th>nb_N</th>\n",
       "      <th>nb_P</th>\n",
       "      <th>nb_k</th>\n",
       "      <th>nb_q</th>\n",
       "      <th>nb_r</th>\n",
       "      <th>...</th>\n",
       "      <th>nb_pawns_third_row_c_f</th>\n",
       "      <th>nb_pawns_b_g_col</th>\n",
       "      <th>nb_pieces_center</th>\n",
       "      <th>nb_pieces_ext_center</th>\n",
       "      <th>nb_pieces_third_row_c_f</th>\n",
       "      <th>nb_pieces_b_g_col</th>\n",
       "      <th>knight_squares</th>\n",
       "      <th>king_castle_squares</th>\n",
       "      <th>nb_checks</th>\n",
       "      <th>var_grp</th>\n",
       "    </tr>\n",
       "  </thead>\n",
       "  <tbody>\n",
       "    <tr>\n",
       "      <th>3035</th>\n",
       "      <td>10</td>\n",
       "      <td>1</td>\n",
       "      <td>1</td>\n",
       "      <td>2</td>\n",
       "      <td>1</td>\n",
       "      <td>1</td>\n",
       "      <td>8</td>\n",
       "      <td>1</td>\n",
       "      <td>1</td>\n",
       "      <td>2</td>\n",
       "      <td>...</td>\n",
       "      <td>2</td>\n",
       "      <td>0</td>\n",
       "      <td>0</td>\n",
       "      <td>0</td>\n",
       "      <td>1</td>\n",
       "      <td>1</td>\n",
       "      <td>1</td>\n",
       "      <td>0</td>\n",
       "      <td>0</td>\n",
       "      <td>middle_grp</td>\n",
       "    </tr>\n",
       "    <tr>\n",
       "      <th>8710</th>\n",
       "      <td>10</td>\n",
       "      <td>1</td>\n",
       "      <td>1</td>\n",
       "      <td>1</td>\n",
       "      <td>1</td>\n",
       "      <td>1</td>\n",
       "      <td>0</td>\n",
       "      <td>1</td>\n",
       "      <td>0</td>\n",
       "      <td>2</td>\n",
       "      <td>...</td>\n",
       "      <td>0</td>\n",
       "      <td>0</td>\n",
       "      <td>0</td>\n",
       "      <td>0</td>\n",
       "      <td>1</td>\n",
       "      <td>1</td>\n",
       "      <td>2</td>\n",
       "      <td>0</td>\n",
       "      <td>0</td>\n",
       "      <td>easy_grp</td>\n",
       "    </tr>\n",
       "    <tr>\n",
       "      <th>3382</th>\n",
       "      <td>10</td>\n",
       "      <td>1</td>\n",
       "      <td>1</td>\n",
       "      <td>2</td>\n",
       "      <td>2</td>\n",
       "      <td>2</td>\n",
       "      <td>7</td>\n",
       "      <td>1</td>\n",
       "      <td>1</td>\n",
       "      <td>2</td>\n",
       "      <td>...</td>\n",
       "      <td>2</td>\n",
       "      <td>0</td>\n",
       "      <td>0</td>\n",
       "      <td>1</td>\n",
       "      <td>2</td>\n",
       "      <td>2</td>\n",
       "      <td>2</td>\n",
       "      <td>0</td>\n",
       "      <td>0</td>\n",
       "      <td>hard_grp</td>\n",
       "    </tr>\n",
       "    <tr>\n",
       "      <th>236</th>\n",
       "      <td>10</td>\n",
       "      <td>1</td>\n",
       "      <td>0</td>\n",
       "      <td>2</td>\n",
       "      <td>2</td>\n",
       "      <td>2</td>\n",
       "      <td>5</td>\n",
       "      <td>1</td>\n",
       "      <td>0</td>\n",
       "      <td>2</td>\n",
       "      <td>...</td>\n",
       "      <td>1</td>\n",
       "      <td>0</td>\n",
       "      <td>0</td>\n",
       "      <td>1</td>\n",
       "      <td>4</td>\n",
       "      <td>1</td>\n",
       "      <td>4</td>\n",
       "      <td>1</td>\n",
       "      <td>1</td>\n",
       "      <td>hard_grp</td>\n",
       "    </tr>\n",
       "    <tr>\n",
       "      <th>620</th>\n",
       "      <td>10</td>\n",
       "      <td>1</td>\n",
       "      <td>1</td>\n",
       "      <td>2</td>\n",
       "      <td>2</td>\n",
       "      <td>2</td>\n",
       "      <td>8</td>\n",
       "      <td>1</td>\n",
       "      <td>1</td>\n",
       "      <td>2</td>\n",
       "      <td>...</td>\n",
       "      <td>3</td>\n",
       "      <td>2</td>\n",
       "      <td>0</td>\n",
       "      <td>0</td>\n",
       "      <td>2</td>\n",
       "      <td>2</td>\n",
       "      <td>3</td>\n",
       "      <td>0</td>\n",
       "      <td>0</td>\n",
       "      <td>middle_grp</td>\n",
       "    </tr>\n",
       "  </tbody>\n",
       "</table>\n",
       "<p>5 rows × 30 columns</p>\n",
       "</div>"
      ],
      "text/plain": [
       "      nb_moves  nb_K  nb_Q  nb_R  nb_B  nb_N  nb_P  nb_k  nb_q  nb_r  ...  \\\n",
       "3035        10     1     1     2     1     1     8     1     1     2  ...   \n",
       "8710        10     1     1     1     1     1     0     1     0     2  ...   \n",
       "3382        10     1     1     2     2     2     7     1     1     2  ...   \n",
       "236         10     1     0     2     2     2     5     1     0     2  ...   \n",
       "620         10     1     1     2     2     2     8     1     1     2  ...   \n",
       "\n",
       "      nb_pawns_third_row_c_f  nb_pawns_b_g_col  nb_pieces_center  \\\n",
       "3035                       2                 0                 0   \n",
       "8710                       0                 0                 0   \n",
       "3382                       2                 0                 0   \n",
       "236                        1                 0                 0   \n",
       "620                        3                 2                 0   \n",
       "\n",
       "      nb_pieces_ext_center  nb_pieces_third_row_c_f  nb_pieces_b_g_col  \\\n",
       "3035                     0                        1                  1   \n",
       "8710                     0                        1                  1   \n",
       "3382                     1                        2                  2   \n",
       "236                      1                        4                  1   \n",
       "620                      0                        2                  2   \n",
       "\n",
       "      knight_squares  king_castle_squares  nb_checks     var_grp  \n",
       "3035               1                    0          0  middle_grp  \n",
       "8710               2                    0          0    easy_grp  \n",
       "3382               2                    0          0    hard_grp  \n",
       "236                4                    1          1    hard_grp  \n",
       "620                3                    0          0  middle_grp  \n",
       "\n",
       "[5 rows x 30 columns]"
      ]
     },
     "execution_count": 59,
     "metadata": {},
     "output_type": "execute_result"
    }
   ],
   "source": [
    "X_te['var_grp'] = logistic.predict(X_te) # adding the predicted variant group to the testing set\n",
    "X_te.head()"
   ]
  },
  {
   "cell_type": "code",
   "execution_count": 60,
   "metadata": {},
   "outputs": [
    {
     "data": {
      "text/plain": [
       "3035    kingOfTheHill\n",
       "8710      racingKings\n",
       "3382    kingOfTheHill\n",
       "236             blitz\n",
       "620             blitz\n",
       "Name: variant, dtype: object"
      ]
     },
     "execution_count": 60,
     "metadata": {},
     "output_type": "execute_result"
    }
   ],
   "source": [
    "y_te = te_variant # the new dependent variable is the variant that we want to predict\n",
    "y_te.head()"
   ]
  },
  {
   "cell_type": "markdown",
   "metadata": {},
   "source": [
    "Splitting the original dataset into three subsets: "
   ]
  },
  {
   "cell_type": "code",
   "execution_count": 61,
   "metadata": {},
   "outputs": [],
   "source": [
    "X_tr_easy = X_tr[X_tr['var_grp'] == 'easy_grp']\n",
    "X_tr_middle = X_tr[X_tr['var_grp'] == 'middle_grp']\n",
    "X_tr_hard = X_tr[X_tr['var_grp'] == 'hard_grp']"
   ]
  },
  {
   "cell_type": "code",
   "execution_count": 62,
   "metadata": {},
   "outputs": [
    {
     "data": {
      "text/html": [
       "<div>\n",
       "<style scoped>\n",
       "    .dataframe tbody tr th:only-of-type {\n",
       "        vertical-align: middle;\n",
       "    }\n",
       "\n",
       "    .dataframe tbody tr th {\n",
       "        vertical-align: top;\n",
       "    }\n",
       "\n",
       "    .dataframe thead th {\n",
       "        text-align: right;\n",
       "    }\n",
       "</style>\n",
       "<table border=\"1\" class=\"dataframe\">\n",
       "  <thead>\n",
       "    <tr style=\"text-align: right;\">\n",
       "      <th></th>\n",
       "      <th>nb_moves</th>\n",
       "      <th>nb_K</th>\n",
       "      <th>nb_Q</th>\n",
       "      <th>nb_R</th>\n",
       "      <th>nb_B</th>\n",
       "      <th>nb_N</th>\n",
       "      <th>nb_P</th>\n",
       "      <th>nb_k</th>\n",
       "      <th>nb_q</th>\n",
       "      <th>nb_r</th>\n",
       "      <th>...</th>\n",
       "      <th>nb_pawns_third_row_c_f</th>\n",
       "      <th>nb_pawns_b_g_col</th>\n",
       "      <th>nb_pieces_center</th>\n",
       "      <th>nb_pieces_ext_center</th>\n",
       "      <th>nb_pieces_third_row_c_f</th>\n",
       "      <th>nb_pieces_b_g_col</th>\n",
       "      <th>knight_squares</th>\n",
       "      <th>king_castle_squares</th>\n",
       "      <th>nb_checks</th>\n",
       "      <th>var_grp</th>\n",
       "    </tr>\n",
       "  </thead>\n",
       "  <tbody>\n",
       "    <tr>\n",
       "      <th>7772</th>\n",
       "      <td>10</td>\n",
       "      <td>0</td>\n",
       "      <td>0</td>\n",
       "      <td>0</td>\n",
       "      <td>0</td>\n",
       "      <td>0</td>\n",
       "      <td>32</td>\n",
       "      <td>1</td>\n",
       "      <td>1</td>\n",
       "      <td>2</td>\n",
       "      <td>...</td>\n",
       "      <td>3</td>\n",
       "      <td>6</td>\n",
       "      <td>0</td>\n",
       "      <td>0</td>\n",
       "      <td>0</td>\n",
       "      <td>0</td>\n",
       "      <td>1</td>\n",
       "      <td>0</td>\n",
       "      <td>0</td>\n",
       "      <td>easy_grp</td>\n",
       "    </tr>\n",
       "    <tr>\n",
       "      <th>8400</th>\n",
       "      <td>10</td>\n",
       "      <td>1</td>\n",
       "      <td>1</td>\n",
       "      <td>1</td>\n",
       "      <td>0</td>\n",
       "      <td>2</td>\n",
       "      <td>0</td>\n",
       "      <td>1</td>\n",
       "      <td>0</td>\n",
       "      <td>1</td>\n",
       "      <td>...</td>\n",
       "      <td>0</td>\n",
       "      <td>0</td>\n",
       "      <td>0</td>\n",
       "      <td>0</td>\n",
       "      <td>0</td>\n",
       "      <td>1</td>\n",
       "      <td>1</td>\n",
       "      <td>0</td>\n",
       "      <td>0</td>\n",
       "      <td>easy_grp</td>\n",
       "    </tr>\n",
       "    <tr>\n",
       "      <th>7741</th>\n",
       "      <td>10</td>\n",
       "      <td>0</td>\n",
       "      <td>0</td>\n",
       "      <td>0</td>\n",
       "      <td>0</td>\n",
       "      <td>0</td>\n",
       "      <td>32</td>\n",
       "      <td>1</td>\n",
       "      <td>1</td>\n",
       "      <td>2</td>\n",
       "      <td>...</td>\n",
       "      <td>2</td>\n",
       "      <td>6</td>\n",
       "      <td>0</td>\n",
       "      <td>0</td>\n",
       "      <td>1</td>\n",
       "      <td>0</td>\n",
       "      <td>0</td>\n",
       "      <td>0</td>\n",
       "      <td>0</td>\n",
       "      <td>easy_grp</td>\n",
       "    </tr>\n",
       "    <tr>\n",
       "      <th>7470</th>\n",
       "      <td>10</td>\n",
       "      <td>0</td>\n",
       "      <td>0</td>\n",
       "      <td>0</td>\n",
       "      <td>0</td>\n",
       "      <td>0</td>\n",
       "      <td>30</td>\n",
       "      <td>1</td>\n",
       "      <td>1</td>\n",
       "      <td>2</td>\n",
       "      <td>...</td>\n",
       "      <td>5</td>\n",
       "      <td>7</td>\n",
       "      <td>0</td>\n",
       "      <td>0</td>\n",
       "      <td>0</td>\n",
       "      <td>0</td>\n",
       "      <td>1</td>\n",
       "      <td>0</td>\n",
       "      <td>0</td>\n",
       "      <td>easy_grp</td>\n",
       "    </tr>\n",
       "    <tr>\n",
       "      <th>8448</th>\n",
       "      <td>5</td>\n",
       "      <td>1</td>\n",
       "      <td>0</td>\n",
       "      <td>1</td>\n",
       "      <td>0</td>\n",
       "      <td>2</td>\n",
       "      <td>0</td>\n",
       "      <td>1</td>\n",
       "      <td>1</td>\n",
       "      <td>2</td>\n",
       "      <td>...</td>\n",
       "      <td>0</td>\n",
       "      <td>0</td>\n",
       "      <td>0</td>\n",
       "      <td>0</td>\n",
       "      <td>0</td>\n",
       "      <td>0</td>\n",
       "      <td>2</td>\n",
       "      <td>1</td>\n",
       "      <td>0</td>\n",
       "      <td>easy_grp</td>\n",
       "    </tr>\n",
       "  </tbody>\n",
       "</table>\n",
       "<p>5 rows × 30 columns</p>\n",
       "</div>"
      ],
      "text/plain": [
       "      nb_moves  nb_K  nb_Q  nb_R  nb_B  nb_N  nb_P  nb_k  nb_q  nb_r  ...  \\\n",
       "7772        10     0     0     0     0     0    32     1     1     2  ...   \n",
       "8400        10     1     1     1     0     2     0     1     0     1  ...   \n",
       "7741        10     0     0     0     0     0    32     1     1     2  ...   \n",
       "7470        10     0     0     0     0     0    30     1     1     2  ...   \n",
       "8448         5     1     0     1     0     2     0     1     1     2  ...   \n",
       "\n",
       "      nb_pawns_third_row_c_f  nb_pawns_b_g_col  nb_pieces_center  \\\n",
       "7772                       3                 6                 0   \n",
       "8400                       0                 0                 0   \n",
       "7741                       2                 6                 0   \n",
       "7470                       5                 7                 0   \n",
       "8448                       0                 0                 0   \n",
       "\n",
       "      nb_pieces_ext_center  nb_pieces_third_row_c_f  nb_pieces_b_g_col  \\\n",
       "7772                     0                        0                  0   \n",
       "8400                     0                        0                  1   \n",
       "7741                     0                        1                  0   \n",
       "7470                     0                        0                  0   \n",
       "8448                     0                        0                  0   \n",
       "\n",
       "      knight_squares  king_castle_squares  nb_checks   var_grp  \n",
       "7772               1                    0          0  easy_grp  \n",
       "8400               1                    0          0  easy_grp  \n",
       "7741               0                    0          0  easy_grp  \n",
       "7470               1                    0          0  easy_grp  \n",
       "8448               2                    1          0  easy_grp  \n",
       "\n",
       "[5 rows x 30 columns]"
      ]
     },
     "execution_count": 62,
     "metadata": {},
     "output_type": "execute_result"
    }
   ],
   "source": [
    "X_tr_easy.head()"
   ]
  },
  {
   "cell_type": "code",
   "execution_count": 63,
   "metadata": {},
   "outputs": [],
   "source": [
    "y_tr_easy = y_tr.loc[y_tr.index.isin(X_tr_easy.index)] \n",
    "y_tr_middle = y_tr.loc[y_tr.index.isin(X_tr_middle.index)] \n",
    "y_tr_hard = y_tr.loc[y_tr.index.isin(X_tr_hard.index)] "
   ]
  },
  {
   "cell_type": "code",
   "execution_count": 64,
   "metadata": {},
   "outputs": [],
   "source": [
    "X_tr_easy = X_tr_easy.drop(['var_grp'], axis=1)\n",
    "X_tr_middle = X_tr_middle.drop(['var_grp'], axis=1)\n",
    "X_tr_hard = X_tr_hard.drop(['var_grp'], axis=1)"
   ]
  },
  {
   "cell_type": "code",
   "execution_count": 65,
   "metadata": {},
   "outputs": [
    {
     "data": {
      "text/plain": [
       "racingKings    900\n",
       "horde          900\n",
       "Name: variant, dtype: int64"
      ]
     },
     "execution_count": 65,
     "metadata": {},
     "output_type": "execute_result"
    }
   ],
   "source": [
    "y_tr_easy.value_counts()"
   ]
  },
  {
   "cell_type": "code",
   "execution_count": 66,
   "metadata": {},
   "outputs": [
    {
     "data": {
      "text/plain": [
       "crazyhouse    900\n",
       "chess960      900\n",
       "atomic        900\n",
       "antichess     900\n",
       "Name: variant, dtype: int64"
      ]
     },
     "execution_count": 66,
     "metadata": {},
     "output_type": "execute_result"
    }
   ],
   "source": [
    "y_tr_middle.value_counts()"
   ]
  },
  {
   "cell_type": "code",
   "execution_count": 67,
   "metadata": {},
   "outputs": [
    {
     "data": {
      "text/plain": [
       "kingOfTheHill    900\n",
       "blitz            900\n",
       "threeCheck       900\n",
       "Name: variant, dtype: int64"
      ]
     },
     "execution_count": 67,
     "metadata": {},
     "output_type": "execute_result"
    }
   ],
   "source": [
    "y_tr_hard.value_counts()"
   ]
  },
  {
   "cell_type": "markdown",
   "metadata": {},
   "source": [
    "Doing the same splits for the testing set:"
   ]
  },
  {
   "cell_type": "code",
   "execution_count": 68,
   "metadata": {},
   "outputs": [],
   "source": [
    "X_te_easy = X_te[X_te['var_grp'] == 'easy_grp']\n",
    "X_te_middle = X_te[X_te['var_grp'] == 'middle_grp']\n",
    "X_te_hard = X_te[X_te['var_grp'] == 'hard_grp']"
   ]
  },
  {
   "cell_type": "code",
   "execution_count": 69,
   "metadata": {},
   "outputs": [],
   "source": [
    "y_te_easy = y_te.loc[y_te.index.isin(X_te_easy.index)] \n",
    "y_te_middle = y_te.loc[y_te.index.isin(X_te_middle.index)] \n",
    "y_te_hard = y_te.loc[y_te.index.isin(X_te_hard.index)] "
   ]
  },
  {
   "cell_type": "code",
   "execution_count": 70,
   "metadata": {},
   "outputs": [],
   "source": [
    "X_te_easy = X_te_easy.drop(['var_grp'], axis=1)\n",
    "X_te_middle = X_te_middle.drop(['var_grp'], axis=1)\n",
    "X_te_hard = X_te_hard.drop(['var_grp'], axis=1)"
   ]
  },
  {
   "cell_type": "code",
   "execution_count": 71,
   "metadata": {},
   "outputs": [
    {
     "data": {
      "text/plain": [
       "racingKings    100\n",
       "horde          100\n",
       "Name: variant, dtype: int64"
      ]
     },
     "execution_count": 71,
     "metadata": {},
     "output_type": "execute_result"
    }
   ],
   "source": [
    "y_te_easy.value_counts()"
   ]
  },
  {
   "cell_type": "code",
   "execution_count": 72,
   "metadata": {},
   "outputs": [
    {
     "data": {
      "text/plain": [
       "antichess        98\n",
       "atomic           88\n",
       "chess960         85\n",
       "crazyhouse       45\n",
       "threeCheck       36\n",
       "blitz            36\n",
       "kingOfTheHill    19\n",
       "Name: variant, dtype: int64"
      ]
     },
     "execution_count": 72,
     "metadata": {},
     "output_type": "execute_result"
    }
   ],
   "source": [
    "y_te_middle.value_counts()"
   ]
  },
  {
   "cell_type": "code",
   "execution_count": 73,
   "metadata": {},
   "outputs": [
    {
     "data": {
      "text/plain": [
       "kingOfTheHill    81\n",
       "blitz            64\n",
       "threeCheck       64\n",
       "crazyhouse       55\n",
       "chess960         15\n",
       "atomic           12\n",
       "antichess         2\n",
       "Name: variant, dtype: int64"
      ]
     },
     "execution_count": 73,
     "metadata": {},
     "output_type": "execute_result"
    }
   ],
   "source": [
    "y_te_hard.value_counts()"
   ]
  },
  {
   "cell_type": "markdown",
   "metadata": {},
   "source": [
    "We now have our different sets. In the training set, we know to which groups of variants an observation belongs, so we have \"clean\" sets with only the relevant variants. However, we see that for the testing set, we already have some missclassified units. For instance, about half of the crazyhouse games have already been missclassified in the first step."
   ]
  },
  {
   "cell_type": "code",
   "execution_count": 74,
   "metadata": {},
   "outputs": [
    {
     "name": "stdout",
     "output_type": "stream",
     "text": [
      " easy_grp: ['horde', 'racingKings'] \n",
      " middle_grp: ['chess960', 'antichess', 'atomic', 'crazyhouse'] \n",
      " hard_grp: ['blitz', 'kingOfTheHill', 'threeCheck']\n"
     ]
    }
   ],
   "source": [
    "# reminder\n",
    "print(' easy_grp:', easy_grp , '\\n', \n",
    "      'middle_grp:', middle_grp , '\\n',\n",
    "      'hard_grp:' , hard_grp)"
   ]
  },
  {
   "cell_type": "markdown",
   "metadata": {},
   "source": [
    "The next steps consists of fitting the different models on the three subsets."
   ]
  },
  {
   "cell_type": "markdown",
   "metadata": {},
   "source": [
    "# Logistic Regression"
   ]
  },
  {
   "cell_type": "markdown",
   "metadata": {},
   "source": [
    "## Hard set"
   ]
  },
  {
   "cell_type": "code",
   "execution_count": 75,
   "metadata": {},
   "outputs": [],
   "source": [
    "# Define our steps\n",
    "model = LogisticRegression()\n",
    "\n",
    "# grid \n",
    "grid = {\n",
    "    'C': np.logspace(-3, 4, 8),\n",
    "}\n",
    "\n",
    "# Grid search\n",
    "grid_cv = GridSearchCV(\n",
    "    model, \n",
    "    grid, \n",
    "    cv=kfold,    \n",
    "    verbose = 1,\n",
    "    n_jobs = -1,\n",
    "    return_train_score=True)"
   ]
  },
  {
   "cell_type": "code",
   "execution_count": 76,
   "metadata": {},
   "outputs": [
    {
     "name": "stdout",
     "output_type": "stream",
     "text": [
      "Fitting 5 folds for each of 8 candidates, totalling 40 fits\n"
     ]
    },
    {
     "name": "stderr",
     "output_type": "stream",
     "text": [
      "[Parallel(n_jobs=-1)]: Using backend LokyBackend with 8 concurrent workers.\n",
      "[Parallel(n_jobs=-1)]: Done  40 out of  40 | elapsed:    0.6s finished\n",
      "/opt/anaconda3/envs/exts-ml/lib/python3.6/site-packages/sklearn/linear_model/logistic.py:433: FutureWarning: Default solver will be changed to 'lbfgs' in 0.22. Specify a solver to silence this warning.\n",
      "  FutureWarning)\n",
      "/opt/anaconda3/envs/exts-ml/lib/python3.6/site-packages/sklearn/linear_model/logistic.py:460: FutureWarning: Default multi_class will be changed to 'auto' in 0.22. Specify the multi_class option to silence this warning.\n",
      "  \"this warning.\", FutureWarning)\n"
     ]
    }
   ],
   "source": [
    "start_time = time.time()\n",
    "grid_cv.fit(X_tr_hard, y_tr_hard)\n",
    "logistic_hard_tune_time = time.time() - start_time"
   ]
  },
  {
   "cell_type": "code",
   "execution_count": 77,
   "metadata": {},
   "outputs": [
    {
     "data": {
      "text/html": [
       "<div>\n",
       "<style scoped>\n",
       "    .dataframe tbody tr th:only-of-type {\n",
       "        vertical-align: middle;\n",
       "    }\n",
       "\n",
       "    .dataframe tbody tr th {\n",
       "        vertical-align: top;\n",
       "    }\n",
       "\n",
       "    .dataframe thead th {\n",
       "        text-align: right;\n",
       "    }\n",
       "</style>\n",
       "<table border=\"1\" class=\"dataframe\">\n",
       "  <thead>\n",
       "    <tr style=\"text-align: right;\">\n",
       "      <th></th>\n",
       "      <th>param_C</th>\n",
       "      <th>mean_test_score</th>\n",
       "      <th>std_test_score</th>\n",
       "    </tr>\n",
       "  </thead>\n",
       "  <tbody>\n",
       "    <tr>\n",
       "      <th>2</th>\n",
       "      <td>0.1</td>\n",
       "      <td>0.691852</td>\n",
       "      <td>0.031959</td>\n",
       "    </tr>\n",
       "    <tr>\n",
       "      <th>5</th>\n",
       "      <td>100</td>\n",
       "      <td>0.690370</td>\n",
       "      <td>0.031458</td>\n",
       "    </tr>\n",
       "    <tr>\n",
       "      <th>6</th>\n",
       "      <td>1000</td>\n",
       "      <td>0.690370</td>\n",
       "      <td>0.031458</td>\n",
       "    </tr>\n",
       "    <tr>\n",
       "      <th>7</th>\n",
       "      <td>10000</td>\n",
       "      <td>0.690370</td>\n",
       "      <td>0.031458</td>\n",
       "    </tr>\n",
       "    <tr>\n",
       "      <th>3</th>\n",
       "      <td>1</td>\n",
       "      <td>0.690000</td>\n",
       "      <td>0.031657</td>\n",
       "    </tr>\n",
       "    <tr>\n",
       "      <th>4</th>\n",
       "      <td>10</td>\n",
       "      <td>0.690000</td>\n",
       "      <td>0.031440</td>\n",
       "    </tr>\n",
       "    <tr>\n",
       "      <th>1</th>\n",
       "      <td>0.01</td>\n",
       "      <td>0.673333</td>\n",
       "      <td>0.029504</td>\n",
       "    </tr>\n",
       "    <tr>\n",
       "      <th>0</th>\n",
       "      <td>0.001</td>\n",
       "      <td>0.609259</td>\n",
       "      <td>0.032898</td>\n",
       "    </tr>\n",
       "  </tbody>\n",
       "</table>\n",
       "</div>"
      ],
      "text/plain": [
       "  param_C  mean_test_score  std_test_score\n",
       "2     0.1         0.691852        0.031959\n",
       "5     100         0.690370        0.031458\n",
       "6    1000         0.690370        0.031458\n",
       "7   10000         0.690370        0.031458\n",
       "3       1         0.690000        0.031657\n",
       "4      10         0.690000        0.031440\n",
       "1    0.01         0.673333        0.029504\n",
       "0   0.001         0.609259        0.032898"
      ]
     },
     "metadata": {},
     "output_type": "display_data"
    },
    {
     "name": "stdout",
     "output_type": "stream",
     "text": [
      "We can expect an accuracy close to 69.2% on the testing set with the following parameters: \n",
      "{'C': 0.1}. \n",
      "The tuning time is 0.7 sec.\n"
     ]
    }
   ],
   "source": [
    "# Collect results in a DataFrame\n",
    "cv_results = pd.DataFrame(grid_cv.cv_results_)\n",
    "\n",
    "# getting the columns of interest:\n",
    "cols = []\n",
    "for i in range(len(grid.keys())):\n",
    "    cols.append('param_'+list(grid.keys())[i]) \n",
    "cols.append('mean_test_score')\n",
    "cols.append('std_test_score')\n",
    "\n",
    "# printing the results\n",
    "display(cv_results[cols].sort_values('mean_test_score', ascending=False).head(10))\n",
    "print(\"We can expect an accuracy close to {:.1f}% on the testing set with the following parameters: \\n{}. \\nThe tuning time is {} sec.\".format(max(cv_results['mean_test_score']*100), grid_cv.best_params_, round(logistic_hard_tune_time, 1)))"
   ]
  },
  {
   "cell_type": "code",
   "execution_count": 78,
   "metadata": {},
   "outputs": [],
   "source": [
    "logistic_hard = LogisticRegression(\n",
    "    **grid_cv.best_params_, random_state=0)"
   ]
  },
  {
   "cell_type": "code",
   "execution_count": 79,
   "metadata": {},
   "outputs": [
    {
     "name": "stderr",
     "output_type": "stream",
     "text": [
      "/opt/anaconda3/envs/exts-ml/lib/python3.6/site-packages/sklearn/linear_model/logistic.py:433: FutureWarning: Default solver will be changed to 'lbfgs' in 0.22. Specify a solver to silence this warning.\n",
      "  FutureWarning)\n",
      "/opt/anaconda3/envs/exts-ml/lib/python3.6/site-packages/sklearn/linear_model/logistic.py:460: FutureWarning: Default multi_class will be changed to 'auto' in 0.22. Specify the multi_class option to silence this warning.\n",
      "  \"this warning.\", FutureWarning)\n"
     ]
    }
   ],
   "source": [
    "start_time = time.time()\n",
    "logistic_hard.fit(X_tr_hard, y_tr_hard)\n",
    "logistic_hard_train_time = time.time() - start_time"
   ]
  },
  {
   "cell_type": "code",
   "execution_count": 80,
   "metadata": {},
   "outputs": [
    {
     "name": "stdout",
     "output_type": "stream",
     "text": [
      "Accuracy on Testing Set: accuracy: 52.6%.\n"
     ]
    }
   ],
   "source": [
    "logistic_hard_accuracy = logistic_hard.score(X_te_hard, y_te_hard)\n",
    "print('Accuracy on Testing Set: accuracy: {:.1f}%.'.format(logistic_hard_accuracy*100))"
   ]
  },
  {
   "cell_type": "code",
   "execution_count": 81,
   "metadata": {},
   "outputs": [
    {
     "data": {
      "text/html": [
       "<div>\n",
       "<style scoped>\n",
       "    .dataframe tbody tr th:only-of-type {\n",
       "        vertical-align: middle;\n",
       "    }\n",
       "\n",
       "    .dataframe tbody tr th {\n",
       "        vertical-align: top;\n",
       "    }\n",
       "\n",
       "    .dataframe thead th {\n",
       "        text-align: right;\n",
       "    }\n",
       "</style>\n",
       "<table border=\"1\" class=\"dataframe\">\n",
       "  <thead>\n",
       "    <tr style=\"text-align: right;\">\n",
       "      <th></th>\n",
       "      <th>antichess</th>\n",
       "      <th>atomic</th>\n",
       "      <th>blitz</th>\n",
       "      <th>chess960</th>\n",
       "      <th>crazyhouse</th>\n",
       "      <th>kingOfTheHill</th>\n",
       "      <th>threeCheck</th>\n",
       "    </tr>\n",
       "  </thead>\n",
       "  <tbody>\n",
       "    <tr>\n",
       "      <th>antichess</th>\n",
       "      <td>0.00</td>\n",
       "      <td>0.00</td>\n",
       "      <td>0.00</td>\n",
       "      <td>0.00</td>\n",
       "      <td>0.00</td>\n",
       "      <td>0.00</td>\n",
       "      <td>0.00</td>\n",
       "    </tr>\n",
       "    <tr>\n",
       "      <th>atomic</th>\n",
       "      <td>0.00</td>\n",
       "      <td>0.00</td>\n",
       "      <td>0.00</td>\n",
       "      <td>0.00</td>\n",
       "      <td>0.00</td>\n",
       "      <td>0.00</td>\n",
       "      <td>0.00</td>\n",
       "    </tr>\n",
       "    <tr>\n",
       "      <th>blitz</th>\n",
       "      <td>0.00</td>\n",
       "      <td>0.01</td>\n",
       "      <td>0.50</td>\n",
       "      <td>0.09</td>\n",
       "      <td>0.30</td>\n",
       "      <td>0.17</td>\n",
       "      <td>0.11</td>\n",
       "    </tr>\n",
       "    <tr>\n",
       "      <th>chess960</th>\n",
       "      <td>0.00</td>\n",
       "      <td>0.00</td>\n",
       "      <td>0.00</td>\n",
       "      <td>0.00</td>\n",
       "      <td>0.00</td>\n",
       "      <td>0.00</td>\n",
       "      <td>0.00</td>\n",
       "    </tr>\n",
       "    <tr>\n",
       "      <th>crazyhouse</th>\n",
       "      <td>0.00</td>\n",
       "      <td>0.00</td>\n",
       "      <td>0.00</td>\n",
       "      <td>0.00</td>\n",
       "      <td>0.00</td>\n",
       "      <td>0.00</td>\n",
       "      <td>0.00</td>\n",
       "    </tr>\n",
       "    <tr>\n",
       "      <th>kingOfTheHill</th>\n",
       "      <td>0.00</td>\n",
       "      <td>0.03</td>\n",
       "      <td>0.12</td>\n",
       "      <td>0.04</td>\n",
       "      <td>0.11</td>\n",
       "      <td>0.57</td>\n",
       "      <td>0.06</td>\n",
       "    </tr>\n",
       "    <tr>\n",
       "      <th>threeCheck</th>\n",
       "      <td>0.02</td>\n",
       "      <td>0.08</td>\n",
       "      <td>0.02</td>\n",
       "      <td>0.02</td>\n",
       "      <td>0.14</td>\n",
       "      <td>0.07</td>\n",
       "      <td>0.47</td>\n",
       "    </tr>\n",
       "  </tbody>\n",
       "</table>\n",
       "</div>"
      ],
      "text/plain": [
       "               antichess  atomic  blitz  chess960  crazyhouse  kingOfTheHill  \\\n",
       "antichess           0.00    0.00   0.00      0.00        0.00           0.00   \n",
       "atomic              0.00    0.00   0.00      0.00        0.00           0.00   \n",
       "blitz               0.00    0.01   0.50      0.09        0.30           0.17   \n",
       "chess960            0.00    0.00   0.00      0.00        0.00           0.00   \n",
       "crazyhouse          0.00    0.00   0.00      0.00        0.00           0.00   \n",
       "kingOfTheHill       0.00    0.03   0.12      0.04        0.11           0.57   \n",
       "threeCheck          0.02    0.08   0.02      0.02        0.14           0.07   \n",
       "\n",
       "               threeCheck  \n",
       "antichess            0.00  \n",
       "atomic               0.00  \n",
       "blitz                0.11  \n",
       "chess960             0.00  \n",
       "crazyhouse           0.00  \n",
       "kingOfTheHill        0.06  \n",
       "threeCheck           0.47  "
      ]
     },
     "execution_count": 81,
     "metadata": {},
     "output_type": "execute_result"
    }
   ],
   "source": [
    "logistic_hard_conf=pd.DataFrame(confusion_matrix(logistic_hard.predict(X_te_hard), y_te_hard), index=sorted(list(set(y_te_hard))), columns=sorted(list(set(y_te_hard))))/100\n",
    "logistic_hard_conf"
   ]
  },
  {
   "cell_type": "code",
   "execution_count": 82,
   "metadata": {},
   "outputs": [
    {
     "name": "stderr",
     "output_type": "stream",
     "text": [
      "/opt/anaconda3/envs/exts-ml/lib/python3.6/site-packages/sklearn/metrics/classification.py:1145: UndefinedMetricWarning: Recall and F-score are ill-defined and being set to 0.0 in labels with no true samples.\n",
      "  'recall', 'true', average, warn_for)\n"
     ]
    },
    {
     "data": {
      "text/html": [
       "<div>\n",
       "<style scoped>\n",
       "    .dataframe tbody tr th:only-of-type {\n",
       "        vertical-align: middle;\n",
       "    }\n",
       "\n",
       "    .dataframe tbody tr th {\n",
       "        vertical-align: top;\n",
       "    }\n",
       "\n",
       "    .dataframe thead th {\n",
       "        text-align: right;\n",
       "    }\n",
       "</style>\n",
       "<table border=\"1\" class=\"dataframe\">\n",
       "  <thead>\n",
       "    <tr style=\"text-align: right;\">\n",
       "      <th></th>\n",
       "      <th>f1-score</th>\n",
       "      <th>precision</th>\n",
       "      <th>recall</th>\n",
       "      <th>support</th>\n",
       "    </tr>\n",
       "  </thead>\n",
       "  <tbody>\n",
       "    <tr>\n",
       "      <th>blitz</th>\n",
       "      <td>0.549</td>\n",
       "      <td>0.781</td>\n",
       "      <td>0.424</td>\n",
       "      <td>118.0</td>\n",
       "    </tr>\n",
       "    <tr>\n",
       "      <th>kingOfTheHill</th>\n",
       "      <td>0.655</td>\n",
       "      <td>0.704</td>\n",
       "      <td>0.613</td>\n",
       "      <td>93.0</td>\n",
       "    </tr>\n",
       "    <tr>\n",
       "      <th>threeCheck</th>\n",
       "      <td>0.644</td>\n",
       "      <td>0.734</td>\n",
       "      <td>0.573</td>\n",
       "      <td>82.0</td>\n",
       "    </tr>\n",
       "    <tr>\n",
       "      <th>weighted avg</th>\n",
       "      <td>0.609</td>\n",
       "      <td>0.744</td>\n",
       "      <td>0.526</td>\n",
       "      <td>293.0</td>\n",
       "    </tr>\n",
       "  </tbody>\n",
       "</table>\n",
       "</div>"
      ],
      "text/plain": [
       "               f1-score  precision  recall  support\n",
       "blitz             0.549      0.781   0.424    118.0\n",
       "kingOfTheHill     0.655      0.704   0.613     93.0\n",
       "threeCheck        0.644      0.734   0.573     82.0\n",
       "weighted avg      0.609      0.744   0.526    293.0"
      ]
     },
     "execution_count": 82,
     "metadata": {},
     "output_type": "execute_result"
    }
   ],
   "source": [
    "logistic_hard_metrics=pd.DataFrame(classification_report(logistic_hard.predict(X_te_hard), y_te_hard, output_dict=True)).T.round(3)\n",
    "logistic_hard_metrics[(logistic_hard_metrics.index.isin(hard_grp)) | (logistic_hard_metrics.index == 'weighted avg')]"
   ]
  },
  {
   "cell_type": "markdown",
   "metadata": {},
   "source": [
    "## Middle set"
   ]
  },
  {
   "cell_type": "code",
   "execution_count": 83,
   "metadata": {},
   "outputs": [],
   "source": [
    "# Define our steps\n",
    "model = LogisticRegression()\n",
    "\n",
    "# grid \n",
    "grid = {\n",
    "    'C': np.logspace(-3, 4, 8),\n",
    "}\n",
    "\n",
    "# Grid search\n",
    "grid_cv = GridSearchCV(\n",
    "    model, \n",
    "    grid, \n",
    "    cv=kfold,    \n",
    "    verbose = 1,\n",
    "    n_jobs = -1,\n",
    "    return_train_score=True)"
   ]
  },
  {
   "cell_type": "code",
   "execution_count": 84,
   "metadata": {},
   "outputs": [
    {
     "name": "stderr",
     "output_type": "stream",
     "text": [
      "[Parallel(n_jobs=-1)]: Using backend LokyBackend with 8 concurrent workers.\n"
     ]
    },
    {
     "name": "stdout",
     "output_type": "stream",
     "text": [
      "Fitting 5 folds for each of 8 candidates, totalling 40 fits\n"
     ]
    },
    {
     "name": "stderr",
     "output_type": "stream",
     "text": [
      "[Parallel(n_jobs=-1)]: Done  40 out of  40 | elapsed:    1.9s finished\n",
      "/opt/anaconda3/envs/exts-ml/lib/python3.6/site-packages/sklearn/linear_model/logistic.py:433: FutureWarning: Default solver will be changed to 'lbfgs' in 0.22. Specify a solver to silence this warning.\n",
      "  FutureWarning)\n",
      "/opt/anaconda3/envs/exts-ml/lib/python3.6/site-packages/sklearn/linear_model/logistic.py:460: FutureWarning: Default multi_class will be changed to 'auto' in 0.22. Specify the multi_class option to silence this warning.\n",
      "  \"this warning.\", FutureWarning)\n"
     ]
    }
   ],
   "source": [
    "start_time = time.time()\n",
    "grid_cv.fit(X_tr_middle, y_tr_middle)\n",
    "logistic_middle_tune_time = time.time() - start_time"
   ]
  },
  {
   "cell_type": "code",
   "execution_count": 85,
   "metadata": {},
   "outputs": [
    {
     "data": {
      "text/html": [
       "<div>\n",
       "<style scoped>\n",
       "    .dataframe tbody tr th:only-of-type {\n",
       "        vertical-align: middle;\n",
       "    }\n",
       "\n",
       "    .dataframe tbody tr th {\n",
       "        vertical-align: top;\n",
       "    }\n",
       "\n",
       "    .dataframe thead th {\n",
       "        text-align: right;\n",
       "    }\n",
       "</style>\n",
       "<table border=\"1\" class=\"dataframe\">\n",
       "  <thead>\n",
       "    <tr style=\"text-align: right;\">\n",
       "      <th></th>\n",
       "      <th>param_C</th>\n",
       "      <th>mean_test_score</th>\n",
       "      <th>std_test_score</th>\n",
       "    </tr>\n",
       "  </thead>\n",
       "  <tbody>\n",
       "    <tr>\n",
       "      <th>7</th>\n",
       "      <td>10000</td>\n",
       "      <td>0.915278</td>\n",
       "      <td>0.010244</td>\n",
       "    </tr>\n",
       "    <tr>\n",
       "      <th>6</th>\n",
       "      <td>1000</td>\n",
       "      <td>0.912778</td>\n",
       "      <td>0.010408</td>\n",
       "    </tr>\n",
       "    <tr>\n",
       "      <th>5</th>\n",
       "      <td>100</td>\n",
       "      <td>0.909722</td>\n",
       "      <td>0.010936</td>\n",
       "    </tr>\n",
       "    <tr>\n",
       "      <th>4</th>\n",
       "      <td>10</td>\n",
       "      <td>0.904167</td>\n",
       "      <td>0.011146</td>\n",
       "    </tr>\n",
       "    <tr>\n",
       "      <th>3</th>\n",
       "      <td>1</td>\n",
       "      <td>0.888333</td>\n",
       "      <td>0.012317</td>\n",
       "    </tr>\n",
       "    <tr>\n",
       "      <th>2</th>\n",
       "      <td>0.1</td>\n",
       "      <td>0.876389</td>\n",
       "      <td>0.014245</td>\n",
       "    </tr>\n",
       "    <tr>\n",
       "      <th>1</th>\n",
       "      <td>0.01</td>\n",
       "      <td>0.852222</td>\n",
       "      <td>0.012868</td>\n",
       "    </tr>\n",
       "    <tr>\n",
       "      <th>0</th>\n",
       "      <td>0.001</td>\n",
       "      <td>0.806389</td>\n",
       "      <td>0.013076</td>\n",
       "    </tr>\n",
       "  </tbody>\n",
       "</table>\n",
       "</div>"
      ],
      "text/plain": [
       "  param_C  mean_test_score  std_test_score\n",
       "7   10000         0.915278        0.010244\n",
       "6    1000         0.912778        0.010408\n",
       "5     100         0.909722        0.010936\n",
       "4      10         0.904167        0.011146\n",
       "3       1         0.888333        0.012317\n",
       "2     0.1         0.876389        0.014245\n",
       "1    0.01         0.852222        0.012868\n",
       "0   0.001         0.806389        0.013076"
      ]
     },
     "metadata": {},
     "output_type": "display_data"
    },
    {
     "name": "stdout",
     "output_type": "stream",
     "text": [
      "We can expect an accuracy close to 91.5% on the testing set with the following parameters: \n",
      "{'C': 10000.0}. \n",
      "The tuning time is 2.2 sec.\n"
     ]
    }
   ],
   "source": [
    "# Collect results in a DataFrame\n",
    "cv_results = pd.DataFrame(grid_cv.cv_results_)\n",
    "\n",
    "# getting the columns of interest:\n",
    "cols = []\n",
    "for i in range(len(grid.keys())):\n",
    "    cols.append('param_'+list(grid.keys())[i]) \n",
    "cols.append('mean_test_score')\n",
    "cols.append('std_test_score')\n",
    "\n",
    "# printing the results\n",
    "display(cv_results[cols].sort_values('mean_test_score', ascending=False).head(10))\n",
    "print(\"We can expect an accuracy close to {:.1f}% on the testing set with the following parameters: \\n{}. \\nThe tuning time is {} sec.\".format(max(cv_results['mean_test_score']*100), grid_cv.best_params_, round(logistic_middle_tune_time, 1)))"
   ]
  },
  {
   "cell_type": "code",
   "execution_count": 86,
   "metadata": {},
   "outputs": [],
   "source": [
    "logistic_middle = LogisticRegression(\n",
    "    **grid_cv.best_params_, random_state=0)"
   ]
  },
  {
   "cell_type": "code",
   "execution_count": 87,
   "metadata": {},
   "outputs": [
    {
     "name": "stderr",
     "output_type": "stream",
     "text": [
      "/opt/anaconda3/envs/exts-ml/lib/python3.6/site-packages/sklearn/linear_model/logistic.py:433: FutureWarning: Default solver will be changed to 'lbfgs' in 0.22. Specify a solver to silence this warning.\n",
      "  FutureWarning)\n",
      "/opt/anaconda3/envs/exts-ml/lib/python3.6/site-packages/sklearn/linear_model/logistic.py:460: FutureWarning: Default multi_class will be changed to 'auto' in 0.22. Specify the multi_class option to silence this warning.\n",
      "  \"this warning.\", FutureWarning)\n"
     ]
    }
   ],
   "source": [
    "start_time = time.time()\n",
    "logistic_middle.fit(X_tr_middle, y_tr_middle)\n",
    "logistic_middle_train_time = time.time() - start_time"
   ]
  },
  {
   "cell_type": "code",
   "execution_count": 88,
   "metadata": {},
   "outputs": [
    {
     "name": "stdout",
     "output_type": "stream",
     "text": [
      "Accuracy on Testing Set: accuracy: 74.0%.\n"
     ]
    }
   ],
   "source": [
    "logistic_middle_accuracy = logistic_middle.score(X_te_middle, y_te_middle)\n",
    "print('Accuracy on Testing Set: accuracy: {:.1f}%.'.format(logistic_middle_accuracy*100))"
   ]
  },
  {
   "cell_type": "code",
   "execution_count": 89,
   "metadata": {},
   "outputs": [
    {
     "data": {
      "text/html": [
       "<div>\n",
       "<style scoped>\n",
       "    .dataframe tbody tr th:only-of-type {\n",
       "        vertical-align: middle;\n",
       "    }\n",
       "\n",
       "    .dataframe tbody tr th {\n",
       "        vertical-align: top;\n",
       "    }\n",
       "\n",
       "    .dataframe thead th {\n",
       "        text-align: right;\n",
       "    }\n",
       "</style>\n",
       "<table border=\"1\" class=\"dataframe\">\n",
       "  <thead>\n",
       "    <tr style=\"text-align: right;\">\n",
       "      <th></th>\n",
       "      <th>antichess</th>\n",
       "      <th>atomic</th>\n",
       "      <th>blitz</th>\n",
       "      <th>chess960</th>\n",
       "      <th>crazyhouse</th>\n",
       "      <th>kingOfTheHill</th>\n",
       "      <th>threeCheck</th>\n",
       "    </tr>\n",
       "  </thead>\n",
       "  <tbody>\n",
       "    <tr>\n",
       "      <th>antichess</th>\n",
       "      <td>0.98</td>\n",
       "      <td>0.01</td>\n",
       "      <td>0.01</td>\n",
       "      <td>0.00</td>\n",
       "      <td>0.00</td>\n",
       "      <td>0.00</td>\n",
       "      <td>0.00</td>\n",
       "    </tr>\n",
       "    <tr>\n",
       "      <th>atomic</th>\n",
       "      <td>0.00</td>\n",
       "      <td>0.85</td>\n",
       "      <td>0.00</td>\n",
       "      <td>0.00</td>\n",
       "      <td>0.00</td>\n",
       "      <td>0.00</td>\n",
       "      <td>0.00</td>\n",
       "    </tr>\n",
       "    <tr>\n",
       "      <th>blitz</th>\n",
       "      <td>0.00</td>\n",
       "      <td>0.00</td>\n",
       "      <td>0.00</td>\n",
       "      <td>0.00</td>\n",
       "      <td>0.00</td>\n",
       "      <td>0.00</td>\n",
       "      <td>0.00</td>\n",
       "    </tr>\n",
       "    <tr>\n",
       "      <th>chess960</th>\n",
       "      <td>0.00</td>\n",
       "      <td>0.02</td>\n",
       "      <td>0.16</td>\n",
       "      <td>0.77</td>\n",
       "      <td>0.04</td>\n",
       "      <td>0.10</td>\n",
       "      <td>0.12</td>\n",
       "    </tr>\n",
       "    <tr>\n",
       "      <th>crazyhouse</th>\n",
       "      <td>0.00</td>\n",
       "      <td>0.00</td>\n",
       "      <td>0.19</td>\n",
       "      <td>0.08</td>\n",
       "      <td>0.41</td>\n",
       "      <td>0.09</td>\n",
       "      <td>0.24</td>\n",
       "    </tr>\n",
       "    <tr>\n",
       "      <th>kingOfTheHill</th>\n",
       "      <td>0.00</td>\n",
       "      <td>0.00</td>\n",
       "      <td>0.00</td>\n",
       "      <td>0.00</td>\n",
       "      <td>0.00</td>\n",
       "      <td>0.00</td>\n",
       "      <td>0.00</td>\n",
       "    </tr>\n",
       "    <tr>\n",
       "      <th>threeCheck</th>\n",
       "      <td>0.00</td>\n",
       "      <td>0.00</td>\n",
       "      <td>0.00</td>\n",
       "      <td>0.00</td>\n",
       "      <td>0.00</td>\n",
       "      <td>0.00</td>\n",
       "      <td>0.00</td>\n",
       "    </tr>\n",
       "  </tbody>\n",
       "</table>\n",
       "</div>"
      ],
      "text/plain": [
       "               antichess  atomic  blitz  chess960  crazyhouse  kingOfTheHill  \\\n",
       "antichess           0.98    0.01   0.01      0.00        0.00           0.00   \n",
       "atomic              0.00    0.85   0.00      0.00        0.00           0.00   \n",
       "blitz               0.00    0.00   0.00      0.00        0.00           0.00   \n",
       "chess960            0.00    0.02   0.16      0.77        0.04           0.10   \n",
       "crazyhouse          0.00    0.00   0.19      0.08        0.41           0.09   \n",
       "kingOfTheHill       0.00    0.00   0.00      0.00        0.00           0.00   \n",
       "threeCheck          0.00    0.00   0.00      0.00        0.00           0.00   \n",
       "\n",
       "               threeCheck  \n",
       "antichess            0.00  \n",
       "atomic               0.00  \n",
       "blitz                0.00  \n",
       "chess960             0.12  \n",
       "crazyhouse           0.24  \n",
       "kingOfTheHill        0.00  \n",
       "threeCheck           0.00  "
      ]
     },
     "execution_count": 89,
     "metadata": {},
     "output_type": "execute_result"
    }
   ],
   "source": [
    "logistic_middle_conf=pd.DataFrame(confusion_matrix(logistic_middle.predict(X_te_middle), y_te_middle), index=sorted(list(set(y_te_middle))), columns=sorted(list(set(y_te_middle))))/100\n",
    "logistic_middle_conf"
   ]
  },
  {
   "cell_type": "code",
   "execution_count": 90,
   "metadata": {},
   "outputs": [
    {
     "name": "stderr",
     "output_type": "stream",
     "text": [
      "/opt/anaconda3/envs/exts-ml/lib/python3.6/site-packages/sklearn/metrics/classification.py:1145: UndefinedMetricWarning: Recall and F-score are ill-defined and being set to 0.0 in labels with no true samples.\n",
      "  'recall', 'true', average, warn_for)\n"
     ]
    },
    {
     "data": {
      "text/html": [
       "<div>\n",
       "<style scoped>\n",
       "    .dataframe tbody tr th:only-of-type {\n",
       "        vertical-align: middle;\n",
       "    }\n",
       "\n",
       "    .dataframe tbody tr th {\n",
       "        vertical-align: top;\n",
       "    }\n",
       "\n",
       "    .dataframe thead th {\n",
       "        text-align: right;\n",
       "    }\n",
       "</style>\n",
       "<table border=\"1\" class=\"dataframe\">\n",
       "  <thead>\n",
       "    <tr style=\"text-align: right;\">\n",
       "      <th></th>\n",
       "      <th>f1-score</th>\n",
       "      <th>precision</th>\n",
       "      <th>recall</th>\n",
       "      <th>support</th>\n",
       "    </tr>\n",
       "  </thead>\n",
       "  <tbody>\n",
       "    <tr>\n",
       "      <th>antichess</th>\n",
       "      <td>0.990</td>\n",
       "      <td>1.000</td>\n",
       "      <td>0.980</td>\n",
       "      <td>100.0</td>\n",
       "    </tr>\n",
       "    <tr>\n",
       "      <th>atomic</th>\n",
       "      <td>0.983</td>\n",
       "      <td>0.966</td>\n",
       "      <td>1.000</td>\n",
       "      <td>85.0</td>\n",
       "    </tr>\n",
       "    <tr>\n",
       "      <th>chess960</th>\n",
       "      <td>0.748</td>\n",
       "      <td>0.906</td>\n",
       "      <td>0.636</td>\n",
       "      <td>121.0</td>\n",
       "    </tr>\n",
       "    <tr>\n",
       "      <th>crazyhouse</th>\n",
       "      <td>0.562</td>\n",
       "      <td>0.911</td>\n",
       "      <td>0.406</td>\n",
       "      <td>101.0</td>\n",
       "    </tr>\n",
       "    <tr>\n",
       "      <th>weighted avg</th>\n",
       "      <td>0.810</td>\n",
       "      <td>0.943</td>\n",
       "      <td>0.740</td>\n",
       "      <td>407.0</td>\n",
       "    </tr>\n",
       "  </tbody>\n",
       "</table>\n",
       "</div>"
      ],
      "text/plain": [
       "              f1-score  precision  recall  support\n",
       "antichess        0.990      1.000   0.980    100.0\n",
       "atomic           0.983      0.966   1.000     85.0\n",
       "chess960         0.748      0.906   0.636    121.0\n",
       "crazyhouse       0.562      0.911   0.406    101.0\n",
       "weighted avg     0.810      0.943   0.740    407.0"
      ]
     },
     "execution_count": 90,
     "metadata": {},
     "output_type": "execute_result"
    }
   ],
   "source": [
    "logistic_middle_metrics=pd.DataFrame(classification_report(logistic_middle.predict(X_te_middle), y_te_middle, output_dict=True)).T.round(3)\n",
    "logistic_middle_metrics[(logistic_middle_metrics.index.isin(middle_grp)) | (logistic_middle_metrics.index == 'weighted avg')]"
   ]
  },
  {
   "cell_type": "markdown",
   "metadata": {},
   "source": [
    "## Easy set"
   ]
  },
  {
   "cell_type": "code",
   "execution_count": 91,
   "metadata": {},
   "outputs": [],
   "source": [
    "# Define our steps\n",
    "model = LogisticRegression()\n",
    "\n",
    "# grid \n",
    "grid = {\n",
    "    'C': np.logspace(-3, 4, 8),\n",
    "}\n",
    "\n",
    "# Grid search\n",
    "grid_cv = GridSearchCV(\n",
    "    model, \n",
    "    grid, \n",
    "    cv=kfold,    \n",
    "    verbose = 1,\n",
    "    n_jobs = -1,\n",
    "    return_train_score=True)"
   ]
  },
  {
   "cell_type": "code",
   "execution_count": 92,
   "metadata": {},
   "outputs": [
    {
     "name": "stdout",
     "output_type": "stream",
     "text": [
      "Fitting 5 folds for each of 8 candidates, totalling 40 fits\n"
     ]
    },
    {
     "name": "stderr",
     "output_type": "stream",
     "text": [
      "[Parallel(n_jobs=-1)]: Using backend LokyBackend with 8 concurrent workers.\n",
      "[Parallel(n_jobs=-1)]: Done  40 out of  40 | elapsed:    0.4s finished\n",
      "/opt/anaconda3/envs/exts-ml/lib/python3.6/site-packages/sklearn/linear_model/logistic.py:433: FutureWarning: Default solver will be changed to 'lbfgs' in 0.22. Specify a solver to silence this warning.\n",
      "  FutureWarning)\n"
     ]
    }
   ],
   "source": [
    "start_time = time.time()\n",
    "grid_cv.fit(X_tr_easy, y_tr_easy)\n",
    "logistic_easy_tune_time = time.time() - start_time"
   ]
  },
  {
   "cell_type": "code",
   "execution_count": 93,
   "metadata": {},
   "outputs": [
    {
     "data": {
      "text/html": [
       "<div>\n",
       "<style scoped>\n",
       "    .dataframe tbody tr th:only-of-type {\n",
       "        vertical-align: middle;\n",
       "    }\n",
       "\n",
       "    .dataframe tbody tr th {\n",
       "        vertical-align: top;\n",
       "    }\n",
       "\n",
       "    .dataframe thead th {\n",
       "        text-align: right;\n",
       "    }\n",
       "</style>\n",
       "<table border=\"1\" class=\"dataframe\">\n",
       "  <thead>\n",
       "    <tr style=\"text-align: right;\">\n",
       "      <th></th>\n",
       "      <th>param_C</th>\n",
       "      <th>mean_test_score</th>\n",
       "      <th>std_test_score</th>\n",
       "    </tr>\n",
       "  </thead>\n",
       "  <tbody>\n",
       "    <tr>\n",
       "      <th>0</th>\n",
       "      <td>0.001</td>\n",
       "      <td>1.0</td>\n",
       "      <td>0.0</td>\n",
       "    </tr>\n",
       "    <tr>\n",
       "      <th>1</th>\n",
       "      <td>0.01</td>\n",
       "      <td>1.0</td>\n",
       "      <td>0.0</td>\n",
       "    </tr>\n",
       "    <tr>\n",
       "      <th>2</th>\n",
       "      <td>0.1</td>\n",
       "      <td>1.0</td>\n",
       "      <td>0.0</td>\n",
       "    </tr>\n",
       "    <tr>\n",
       "      <th>3</th>\n",
       "      <td>1</td>\n",
       "      <td>1.0</td>\n",
       "      <td>0.0</td>\n",
       "    </tr>\n",
       "    <tr>\n",
       "      <th>4</th>\n",
       "      <td>10</td>\n",
       "      <td>1.0</td>\n",
       "      <td>0.0</td>\n",
       "    </tr>\n",
       "    <tr>\n",
       "      <th>5</th>\n",
       "      <td>100</td>\n",
       "      <td>1.0</td>\n",
       "      <td>0.0</td>\n",
       "    </tr>\n",
       "    <tr>\n",
       "      <th>6</th>\n",
       "      <td>1000</td>\n",
       "      <td>1.0</td>\n",
       "      <td>0.0</td>\n",
       "    </tr>\n",
       "    <tr>\n",
       "      <th>7</th>\n",
       "      <td>10000</td>\n",
       "      <td>1.0</td>\n",
       "      <td>0.0</td>\n",
       "    </tr>\n",
       "  </tbody>\n",
       "</table>\n",
       "</div>"
      ],
      "text/plain": [
       "  param_C  mean_test_score  std_test_score\n",
       "0   0.001              1.0             0.0\n",
       "1    0.01              1.0             0.0\n",
       "2     0.1              1.0             0.0\n",
       "3       1              1.0             0.0\n",
       "4      10              1.0             0.0\n",
       "5     100              1.0             0.0\n",
       "6    1000              1.0             0.0\n",
       "7   10000              1.0             0.0"
      ]
     },
     "metadata": {},
     "output_type": "display_data"
    },
    {
     "name": "stdout",
     "output_type": "stream",
     "text": [
      "We can expect an accuracy close to 100.0% on the testing set with the following parameters: \n",
      "{'C': 0.001}. \n",
      "The tuning time is 0.4 sec.\n"
     ]
    }
   ],
   "source": [
    "# Collect results in a DataFrame\n",
    "cv_results = pd.DataFrame(grid_cv.cv_results_)\n",
    "\n",
    "# getting the columns of interest:\n",
    "cols = []\n",
    "for i in range(len(grid.keys())):\n",
    "    cols.append('param_'+list(grid.keys())[i]) \n",
    "cols.append('mean_test_score')\n",
    "cols.append('std_test_score')\n",
    "\n",
    "# printing the results\n",
    "display(cv_results[cols].sort_values('mean_test_score', ascending=False).head(10))\n",
    "print(\"We can expect an accuracy close to {:.1f}% on the testing set with the following parameters: \\n{}. \\nThe tuning time is {} sec.\".format(max(cv_results['mean_test_score']*100), grid_cv.best_params_, round(logistic_easy_tune_time, 1)))"
   ]
  },
  {
   "cell_type": "code",
   "execution_count": 94,
   "metadata": {},
   "outputs": [],
   "source": [
    "logistic_easy = LogisticRegression(\n",
    "    **grid_cv.best_params_, random_state=0)"
   ]
  },
  {
   "cell_type": "code",
   "execution_count": 95,
   "metadata": {},
   "outputs": [
    {
     "name": "stderr",
     "output_type": "stream",
     "text": [
      "/opt/anaconda3/envs/exts-ml/lib/python3.6/site-packages/sklearn/linear_model/logistic.py:433: FutureWarning: Default solver will be changed to 'lbfgs' in 0.22. Specify a solver to silence this warning.\n",
      "  FutureWarning)\n"
     ]
    }
   ],
   "source": [
    "start_time = time.time()\n",
    "logistic_easy.fit(X_tr_easy, y_tr_easy)\n",
    "logistic_easy_train_time = time.time() - start_time"
   ]
  },
  {
   "cell_type": "code",
   "execution_count": 96,
   "metadata": {},
   "outputs": [
    {
     "name": "stdout",
     "output_type": "stream",
     "text": [
      "Accuracy on Testing Set: accuracy: 100.0%.\n"
     ]
    }
   ],
   "source": [
    "logistic_easy_accuracy = logistic_easy.score(X_te_easy, y_te_easy)\n",
    "print('Accuracy on Testing Set: accuracy: {:.1f}%.'.format(logistic_easy_accuracy*100))"
   ]
  },
  {
   "cell_type": "code",
   "execution_count": 97,
   "metadata": {},
   "outputs": [
    {
     "data": {
      "text/html": [
       "<div>\n",
       "<style scoped>\n",
       "    .dataframe tbody tr th:only-of-type {\n",
       "        vertical-align: middle;\n",
       "    }\n",
       "\n",
       "    .dataframe tbody tr th {\n",
       "        vertical-align: top;\n",
       "    }\n",
       "\n",
       "    .dataframe thead th {\n",
       "        text-align: right;\n",
       "    }\n",
       "</style>\n",
       "<table border=\"1\" class=\"dataframe\">\n",
       "  <thead>\n",
       "    <tr style=\"text-align: right;\">\n",
       "      <th></th>\n",
       "      <th>horde</th>\n",
       "      <th>racingKings</th>\n",
       "    </tr>\n",
       "  </thead>\n",
       "  <tbody>\n",
       "    <tr>\n",
       "      <th>horde</th>\n",
       "      <td>1.0</td>\n",
       "      <td>0.0</td>\n",
       "    </tr>\n",
       "    <tr>\n",
       "      <th>racingKings</th>\n",
       "      <td>0.0</td>\n",
       "      <td>1.0</td>\n",
       "    </tr>\n",
       "  </tbody>\n",
       "</table>\n",
       "</div>"
      ],
      "text/plain": [
       "             horde  racingKings\n",
       "horde          1.0          0.0\n",
       "racingKings    0.0          1.0"
      ]
     },
     "execution_count": 97,
     "metadata": {},
     "output_type": "execute_result"
    }
   ],
   "source": [
    "logistic_easy_conf=pd.DataFrame(confusion_matrix(logistic_easy.predict(X_te_easy), y_te_easy), index=sorted(list(set(y_te_easy))), columns=sorted(list(set(y_te_easy))))/100\n",
    "logistic_easy_conf"
   ]
  },
  {
   "cell_type": "code",
   "execution_count": 98,
   "metadata": {},
   "outputs": [
    {
     "data": {
      "text/html": [
       "<div>\n",
       "<style scoped>\n",
       "    .dataframe tbody tr th:only-of-type {\n",
       "        vertical-align: middle;\n",
       "    }\n",
       "\n",
       "    .dataframe tbody tr th {\n",
       "        vertical-align: top;\n",
       "    }\n",
       "\n",
       "    .dataframe thead th {\n",
       "        text-align: right;\n",
       "    }\n",
       "</style>\n",
       "<table border=\"1\" class=\"dataframe\">\n",
       "  <thead>\n",
       "    <tr style=\"text-align: right;\">\n",
       "      <th></th>\n",
       "      <th>f1-score</th>\n",
       "      <th>precision</th>\n",
       "      <th>recall</th>\n",
       "      <th>support</th>\n",
       "    </tr>\n",
       "  </thead>\n",
       "  <tbody>\n",
       "    <tr>\n",
       "      <th>horde</th>\n",
       "      <td>1.0</td>\n",
       "      <td>1.0</td>\n",
       "      <td>1.0</td>\n",
       "      <td>100.0</td>\n",
       "    </tr>\n",
       "    <tr>\n",
       "      <th>racingKings</th>\n",
       "      <td>1.0</td>\n",
       "      <td>1.0</td>\n",
       "      <td>1.0</td>\n",
       "      <td>100.0</td>\n",
       "    </tr>\n",
       "    <tr>\n",
       "      <th>weighted avg</th>\n",
       "      <td>1.0</td>\n",
       "      <td>1.0</td>\n",
       "      <td>1.0</td>\n",
       "      <td>200.0</td>\n",
       "    </tr>\n",
       "  </tbody>\n",
       "</table>\n",
       "</div>"
      ],
      "text/plain": [
       "              f1-score  precision  recall  support\n",
       "horde              1.0        1.0     1.0    100.0\n",
       "racingKings        1.0        1.0     1.0    100.0\n",
       "weighted avg       1.0        1.0     1.0    200.0"
      ]
     },
     "execution_count": 98,
     "metadata": {},
     "output_type": "execute_result"
    }
   ],
   "source": [
    "logistic_easy_metrics=pd.DataFrame(classification_report(logistic_easy.predict(X_te_easy), y_te_easy, output_dict=True)).T.round(3)\n",
    "logistic_easy_metrics[(logistic_easy_metrics.index.isin(easy_grp)) | (logistic_easy_metrics.index == 'weighted avg')]"
   ]
  },
  {
   "cell_type": "markdown",
   "metadata": {},
   "source": [
    "# Accuracy logistic"
   ]
  },
  {
   "cell_type": "markdown",
   "metadata": {},
   "source": [
    "Obviously, the global accuracy of our nested models will be lower than the weighted average of the accuracies of the 3 differents sets. Indeed, some datapoints have already been missclassified in the first step of the analysis (i.e. some observations were classified as \"hard_grp\" while they were for instance \"middle_grp\").  \n",
    "So let's calculate the \"real accuracy\".  \n",
    "We start by merging all the predictions into two uniques arrays."
   ]
  },
  {
   "cell_type": "code",
   "execution_count": 99,
   "metadata": {},
   "outputs": [],
   "source": [
    "y_pred = np.concatenate([logistic_easy.predict(X_te_easy), logistic_middle.predict(X_te_middle), logistic_hard.predict(X_te_hard)])\n",
    "true_y = np.concatenate([y_te_easy, y_te_middle, y_te_hard])"
   ]
  },
  {
   "cell_type": "markdown",
   "metadata": {},
   "source": [
    "We are then ready to calculate our relevant metrics."
   ]
  },
  {
   "cell_type": "code",
   "execution_count": 100,
   "metadata": {},
   "outputs": [
    {
     "data": {
      "text/html": [
       "<div>\n",
       "<style scoped>\n",
       "    .dataframe tbody tr th:only-of-type {\n",
       "        vertical-align: middle;\n",
       "    }\n",
       "\n",
       "    .dataframe tbody tr th {\n",
       "        vertical-align: top;\n",
       "    }\n",
       "\n",
       "    .dataframe thead th {\n",
       "        text-align: right;\n",
       "    }\n",
       "</style>\n",
       "<table border=\"1\" class=\"dataframe\">\n",
       "  <thead>\n",
       "    <tr style=\"text-align: right;\">\n",
       "      <th></th>\n",
       "      <th>antichess</th>\n",
       "      <th>atomic</th>\n",
       "      <th>blitz</th>\n",
       "      <th>chess960</th>\n",
       "      <th>crazyhouse</th>\n",
       "      <th>horde</th>\n",
       "      <th>kingOfTheHill</th>\n",
       "      <th>racingKings</th>\n",
       "      <th>threeCheck</th>\n",
       "    </tr>\n",
       "  </thead>\n",
       "  <tbody>\n",
       "    <tr>\n",
       "      <th>antichess</th>\n",
       "      <td>0.98</td>\n",
       "      <td>0.01</td>\n",
       "      <td>0.01</td>\n",
       "      <td>0.00</td>\n",
       "      <td>0.00</td>\n",
       "      <td>0.0</td>\n",
       "      <td>0.00</td>\n",
       "      <td>0.0</td>\n",
       "      <td>0.00</td>\n",
       "    </tr>\n",
       "    <tr>\n",
       "      <th>atomic</th>\n",
       "      <td>0.00</td>\n",
       "      <td>0.85</td>\n",
       "      <td>0.00</td>\n",
       "      <td>0.00</td>\n",
       "      <td>0.00</td>\n",
       "      <td>0.0</td>\n",
       "      <td>0.00</td>\n",
       "      <td>0.0</td>\n",
       "      <td>0.00</td>\n",
       "    </tr>\n",
       "    <tr>\n",
       "      <th>blitz</th>\n",
       "      <td>0.00</td>\n",
       "      <td>0.01</td>\n",
       "      <td>0.50</td>\n",
       "      <td>0.09</td>\n",
       "      <td>0.30</td>\n",
       "      <td>0.0</td>\n",
       "      <td>0.17</td>\n",
       "      <td>0.0</td>\n",
       "      <td>0.11</td>\n",
       "    </tr>\n",
       "    <tr>\n",
       "      <th>chess960</th>\n",
       "      <td>0.00</td>\n",
       "      <td>0.02</td>\n",
       "      <td>0.16</td>\n",
       "      <td>0.77</td>\n",
       "      <td>0.04</td>\n",
       "      <td>0.0</td>\n",
       "      <td>0.10</td>\n",
       "      <td>0.0</td>\n",
       "      <td>0.12</td>\n",
       "    </tr>\n",
       "    <tr>\n",
       "      <th>crazyhouse</th>\n",
       "      <td>0.00</td>\n",
       "      <td>0.00</td>\n",
       "      <td>0.19</td>\n",
       "      <td>0.08</td>\n",
       "      <td>0.41</td>\n",
       "      <td>0.0</td>\n",
       "      <td>0.09</td>\n",
       "      <td>0.0</td>\n",
       "      <td>0.24</td>\n",
       "    </tr>\n",
       "    <tr>\n",
       "      <th>horde</th>\n",
       "      <td>0.00</td>\n",
       "      <td>0.00</td>\n",
       "      <td>0.00</td>\n",
       "      <td>0.00</td>\n",
       "      <td>0.00</td>\n",
       "      <td>1.0</td>\n",
       "      <td>0.00</td>\n",
       "      <td>0.0</td>\n",
       "      <td>0.00</td>\n",
       "    </tr>\n",
       "    <tr>\n",
       "      <th>kingOfTheHill</th>\n",
       "      <td>0.00</td>\n",
       "      <td>0.03</td>\n",
       "      <td>0.12</td>\n",
       "      <td>0.04</td>\n",
       "      <td>0.11</td>\n",
       "      <td>0.0</td>\n",
       "      <td>0.57</td>\n",
       "      <td>0.0</td>\n",
       "      <td>0.06</td>\n",
       "    </tr>\n",
       "    <tr>\n",
       "      <th>racingKings</th>\n",
       "      <td>0.00</td>\n",
       "      <td>0.00</td>\n",
       "      <td>0.00</td>\n",
       "      <td>0.00</td>\n",
       "      <td>0.00</td>\n",
       "      <td>0.0</td>\n",
       "      <td>0.00</td>\n",
       "      <td>1.0</td>\n",
       "      <td>0.00</td>\n",
       "    </tr>\n",
       "    <tr>\n",
       "      <th>threeCheck</th>\n",
       "      <td>0.02</td>\n",
       "      <td>0.08</td>\n",
       "      <td>0.02</td>\n",
       "      <td>0.02</td>\n",
       "      <td>0.14</td>\n",
       "      <td>0.0</td>\n",
       "      <td>0.07</td>\n",
       "      <td>0.0</td>\n",
       "      <td>0.47</td>\n",
       "    </tr>\n",
       "  </tbody>\n",
       "</table>\n",
       "</div>"
      ],
      "text/plain": [
       "               antichess  atomic  blitz  chess960  crazyhouse  horde  \\\n",
       "antichess           0.98    0.01   0.01      0.00        0.00    0.0   \n",
       "atomic              0.00    0.85   0.00      0.00        0.00    0.0   \n",
       "blitz               0.00    0.01   0.50      0.09        0.30    0.0   \n",
       "chess960            0.00    0.02   0.16      0.77        0.04    0.0   \n",
       "crazyhouse          0.00    0.00   0.19      0.08        0.41    0.0   \n",
       "horde               0.00    0.00   0.00      0.00        0.00    1.0   \n",
       "kingOfTheHill       0.00    0.03   0.12      0.04        0.11    0.0   \n",
       "racingKings         0.00    0.00   0.00      0.00        0.00    0.0   \n",
       "threeCheck          0.02    0.08   0.02      0.02        0.14    0.0   \n",
       "\n",
       "               kingOfTheHill  racingKings  threeCheck  \n",
       "antichess               0.00          0.0        0.00  \n",
       "atomic                  0.00          0.0        0.00  \n",
       "blitz                   0.17          0.0        0.11  \n",
       "chess960                0.10          0.0        0.12  \n",
       "crazyhouse              0.09          0.0        0.24  \n",
       "horde                   0.00          0.0        0.00  \n",
       "kingOfTheHill           0.57          0.0        0.06  \n",
       "racingKings             0.00          1.0        0.00  \n",
       "threeCheck              0.07          0.0        0.47  "
      ]
     },
     "execution_count": 100,
     "metadata": {},
     "output_type": "execute_result"
    }
   ],
   "source": [
    "logistic_nested_conf=pd.DataFrame(confusion_matrix(y_pred, true_y), index=sorted(list(set(variants))), columns=sorted(list(set(variants))))/100\n",
    "logistic_nested_conf"
   ]
  },
  {
   "cell_type": "code",
   "execution_count": 101,
   "metadata": {},
   "outputs": [
    {
     "data": {
      "text/plain": [
       "0.7277777777777777"
      ]
     },
     "execution_count": 101,
     "metadata": {},
     "output_type": "execute_result"
    }
   ],
   "source": [
    "accuracy_score(y_pred, true_y)"
   ]
  },
  {
   "cell_type": "code",
   "execution_count": 102,
   "metadata": {},
   "outputs": [
    {
     "data": {
      "text/html": [
       "<div>\n",
       "<style scoped>\n",
       "    .dataframe tbody tr th:only-of-type {\n",
       "        vertical-align: middle;\n",
       "    }\n",
       "\n",
       "    .dataframe tbody tr th {\n",
       "        vertical-align: top;\n",
       "    }\n",
       "\n",
       "    .dataframe thead th {\n",
       "        text-align: right;\n",
       "    }\n",
       "</style>\n",
       "<table border=\"1\" class=\"dataframe\">\n",
       "  <thead>\n",
       "    <tr style=\"text-align: right;\">\n",
       "      <th></th>\n",
       "      <th>f1-score</th>\n",
       "      <th>precision</th>\n",
       "      <th>recall</th>\n",
       "      <th>support</th>\n",
       "    </tr>\n",
       "  </thead>\n",
       "  <tbody>\n",
       "    <tr>\n",
       "      <th>antichess</th>\n",
       "      <td>0.980</td>\n",
       "      <td>0.980</td>\n",
       "      <td>0.980</td>\n",
       "      <td>100.0</td>\n",
       "    </tr>\n",
       "    <tr>\n",
       "      <th>atomic</th>\n",
       "      <td>0.919</td>\n",
       "      <td>0.850</td>\n",
       "      <td>1.000</td>\n",
       "      <td>85.0</td>\n",
       "    </tr>\n",
       "    <tr>\n",
       "      <th>blitz</th>\n",
       "      <td>0.459</td>\n",
       "      <td>0.500</td>\n",
       "      <td>0.424</td>\n",
       "      <td>118.0</td>\n",
       "    </tr>\n",
       "    <tr>\n",
       "      <th>chess960</th>\n",
       "      <td>0.697</td>\n",
       "      <td>0.770</td>\n",
       "      <td>0.636</td>\n",
       "      <td>121.0</td>\n",
       "    </tr>\n",
       "    <tr>\n",
       "      <th>crazyhouse</th>\n",
       "      <td>0.408</td>\n",
       "      <td>0.410</td>\n",
       "      <td>0.406</td>\n",
       "      <td>101.0</td>\n",
       "    </tr>\n",
       "    <tr>\n",
       "      <th>horde</th>\n",
       "      <td>1.000</td>\n",
       "      <td>1.000</td>\n",
       "      <td>1.000</td>\n",
       "      <td>100.0</td>\n",
       "    </tr>\n",
       "    <tr>\n",
       "      <th>kingOfTheHill</th>\n",
       "      <td>0.591</td>\n",
       "      <td>0.570</td>\n",
       "      <td>0.613</td>\n",
       "      <td>93.0</td>\n",
       "    </tr>\n",
       "    <tr>\n",
       "      <th>racingKings</th>\n",
       "      <td>1.000</td>\n",
       "      <td>1.000</td>\n",
       "      <td>1.000</td>\n",
       "      <td>100.0</td>\n",
       "    </tr>\n",
       "    <tr>\n",
       "      <th>threeCheck</th>\n",
       "      <td>0.516</td>\n",
       "      <td>0.470</td>\n",
       "      <td>0.573</td>\n",
       "      <td>82.0</td>\n",
       "    </tr>\n",
       "    <tr>\n",
       "      <th>micro avg</th>\n",
       "      <td>0.728</td>\n",
       "      <td>0.728</td>\n",
       "      <td>0.728</td>\n",
       "      <td>900.0</td>\n",
       "    </tr>\n",
       "    <tr>\n",
       "      <th>macro avg</th>\n",
       "      <td>0.730</td>\n",
       "      <td>0.728</td>\n",
       "      <td>0.737</td>\n",
       "      <td>900.0</td>\n",
       "    </tr>\n",
       "    <tr>\n",
       "      <th>weighted avg</th>\n",
       "      <td>0.726</td>\n",
       "      <td>0.728</td>\n",
       "      <td>0.728</td>\n",
       "      <td>900.0</td>\n",
       "    </tr>\n",
       "  </tbody>\n",
       "</table>\n",
       "</div>"
      ],
      "text/plain": [
       "               f1-score  precision  recall  support\n",
       "antichess         0.980      0.980   0.980    100.0\n",
       "atomic            0.919      0.850   1.000     85.0\n",
       "blitz             0.459      0.500   0.424    118.0\n",
       "chess960          0.697      0.770   0.636    121.0\n",
       "crazyhouse        0.408      0.410   0.406    101.0\n",
       "horde             1.000      1.000   1.000    100.0\n",
       "kingOfTheHill     0.591      0.570   0.613     93.0\n",
       "racingKings       1.000      1.000   1.000    100.0\n",
       "threeCheck        0.516      0.470   0.573     82.0\n",
       "micro avg         0.728      0.728   0.728    900.0\n",
       "macro avg         0.730      0.728   0.737    900.0\n",
       "weighted avg      0.726      0.728   0.728    900.0"
      ]
     },
     "execution_count": 102,
     "metadata": {},
     "output_type": "execute_result"
    }
   ],
   "source": [
    "logistic_nested_metrics=pd.DataFrame(classification_report(y_pred, true_y, output_dict=True)).T.round(3)\n",
    "logistic_nested_metrics"
   ]
  },
  {
   "cell_type": "markdown",
   "metadata": {},
   "source": [
    "# Going to the point"
   ]
  },
  {
   "cell_type": "markdown",
   "metadata": {},
   "source": [
    "Now, let's clean the code to be able to run this procedure quickly and with the only goal of maximising the accuracy and retrieving the different metrics for a given model."
   ]
  },
  {
   "cell_type": "markdown",
   "metadata": {},
   "source": [
    "## Logistic"
   ]
  },
  {
   "cell_type": "code",
   "execution_count": 103,
   "metadata": {},
   "outputs": [
    {
     "name": "stderr",
     "output_type": "stream",
     "text": [
      "[Parallel(n_jobs=-1)]: Using backend LokyBackend with 8 concurrent workers.\n"
     ]
    },
    {
     "name": "stdout",
     "output_type": "stream",
     "text": [
      "Fitting 5 folds for each of 8 candidates, totalling 40 fits\n"
     ]
    },
    {
     "name": "stderr",
     "output_type": "stream",
     "text": [
      "[Parallel(n_jobs=-1)]: Done  40 out of  40 | elapsed:    0.3s finished\n",
      "/opt/anaconda3/envs/exts-ml/lib/python3.6/site-packages/sklearn/linear_model/logistic.py:433: FutureWarning: Default solver will be changed to 'lbfgs' in 0.22. Specify a solver to silence this warning.\n",
      "  FutureWarning)\n",
      "/opt/anaconda3/envs/exts-ml/lib/python3.6/site-packages/sklearn/linear_model/logistic.py:433: FutureWarning: Default solver will be changed to 'lbfgs' in 0.22. Specify a solver to silence this warning.\n",
      "  FutureWarning)\n",
      "[Parallel(n_jobs=-1)]: Using backend LokyBackend with 8 concurrent workers.\n"
     ]
    },
    {
     "name": "stdout",
     "output_type": "stream",
     "text": [
      "Fitting 5 folds for each of 8 candidates, totalling 40 fits\n"
     ]
    },
    {
     "name": "stderr",
     "output_type": "stream",
     "text": [
      "[Parallel(n_jobs=-1)]: Done  40 out of  40 | elapsed:    2.0s finished\n",
      "/opt/anaconda3/envs/exts-ml/lib/python3.6/site-packages/sklearn/linear_model/logistic.py:433: FutureWarning: Default solver will be changed to 'lbfgs' in 0.22. Specify a solver to silence this warning.\n",
      "  FutureWarning)\n",
      "/opt/anaconda3/envs/exts-ml/lib/python3.6/site-packages/sklearn/linear_model/logistic.py:460: FutureWarning: Default multi_class will be changed to 'auto' in 0.22. Specify the multi_class option to silence this warning.\n",
      "  \"this warning.\", FutureWarning)\n",
      "/opt/anaconda3/envs/exts-ml/lib/python3.6/site-packages/sklearn/linear_model/logistic.py:433: FutureWarning: Default solver will be changed to 'lbfgs' in 0.22. Specify a solver to silence this warning.\n",
      "  FutureWarning)\n",
      "/opt/anaconda3/envs/exts-ml/lib/python3.6/site-packages/sklearn/linear_model/logistic.py:460: FutureWarning: Default multi_class will be changed to 'auto' in 0.22. Specify the multi_class option to silence this warning.\n",
      "  \"this warning.\", FutureWarning)\n"
     ]
    },
    {
     "name": "stdout",
     "output_type": "stream",
     "text": [
      "Fitting 5 folds for each of 8 candidates, totalling 40 fits\n"
     ]
    },
    {
     "name": "stderr",
     "output_type": "stream",
     "text": [
      "[Parallel(n_jobs=-1)]: Using backend LokyBackend with 8 concurrent workers.\n",
      "[Parallel(n_jobs=-1)]: Done  40 out of  40 | elapsed:    0.7s finished\n",
      "/opt/anaconda3/envs/exts-ml/lib/python3.6/site-packages/sklearn/linear_model/logistic.py:433: FutureWarning: Default solver will be changed to 'lbfgs' in 0.22. Specify a solver to silence this warning.\n",
      "  FutureWarning)\n",
      "/opt/anaconda3/envs/exts-ml/lib/python3.6/site-packages/sklearn/linear_model/logistic.py:460: FutureWarning: Default multi_class will be changed to 'auto' in 0.22. Specify the multi_class option to silence this warning.\n",
      "  \"this warning.\", FutureWarning)\n",
      "/opt/anaconda3/envs/exts-ml/lib/python3.6/site-packages/sklearn/linear_model/logistic.py:433: FutureWarning: Default solver will be changed to 'lbfgs' in 0.22. Specify a solver to silence this warning.\n",
      "  FutureWarning)\n",
      "/opt/anaconda3/envs/exts-ml/lib/python3.6/site-packages/sklearn/linear_model/logistic.py:460: FutureWarning: Default multi_class will be changed to 'auto' in 0.22. Specify the multi_class option to silence this warning.\n",
      "  \"this warning.\", FutureWarning)\n"
     ]
    }
   ],
   "source": [
    "# \"Easy model\"\n",
    "model = LogisticRegression()\n",
    "grid = {'C': np.logspace(-3, 4, 8),}\n",
    "log_easy_cv = GridSearchCV(model, grid, cv=kfold, verbose = 1,n_jobs = -1,return_train_score=True)\n",
    "log_easy_cv.fit(X_tr_easy, y_tr_easy)\n",
    "log_easy = LogisticRegression(**log_easy_cv.best_params_, random_state=0)\n",
    "\n",
    "start_time = time.time()\n",
    "log_easy.fit(X_tr_easy, y_tr_easy)\n",
    "logistic_2nd_train_time = time.time() - start_time\n",
    "\n",
    "# \"Middle model\"\n",
    "model = LogisticRegression()\n",
    "grid = {'C': np.logspace(-3, 4, 8),}\n",
    "log_middle_cv = GridSearchCV(model, grid, cv=kfold, verbose = 1,n_jobs = -1,return_train_score=True)\n",
    "log_middle_cv.fit(X_tr_middle, y_tr_middle)\n",
    "log_middle = LogisticRegression(**log_middle_cv.best_params_, random_state=0)\n",
    "\n",
    "start_time = time.time()\n",
    "log_middle.fit(X_tr_middle, y_tr_middle)\n",
    "logistic_2nd_train_time = logistic_2nd_train_time + time.time() - start_time\n",
    "\n",
    "# \"Hard model\"\n",
    "model = LogisticRegression()\n",
    "grid = {'C': np.logspace(-3, 4, 8),}\n",
    "log_hard_cv = GridSearchCV(model, grid, cv=kfold, verbose = 1,n_jobs = -1,return_train_score=True)\n",
    "log_hard_cv.fit(X_tr_hard, y_tr_hard)\n",
    "log_hard = LogisticRegression(**log_hard_cv.best_params_, random_state=0)\n",
    "\n",
    "start_time = time.time()\n",
    "log_hard.fit(X_tr_hard, y_tr_hard)\n",
    "logistic_2nd_train_time = logistic_2nd_train_time + time.time() - start_time\n"
   ]
  },
  {
   "cell_type": "code",
   "execution_count": 104,
   "metadata": {},
   "outputs": [],
   "source": [
    "y_pred = np.concatenate([log_easy.predict(X_te_easy), log_middle.predict(X_te_middle), log_hard.predict(X_te_hard)])\n",
    "true_y = np.concatenate([y_te_easy, y_te_middle, y_te_hard])"
   ]
  },
  {
   "cell_type": "code",
   "execution_count": 105,
   "metadata": {},
   "outputs": [
    {
     "data": {
      "text/plain": [
       "0.7277777777777777"
      ]
     },
     "execution_count": 105,
     "metadata": {},
     "output_type": "execute_result"
    }
   ],
   "source": [
    "logistic_nested_accuracy = accuracy_score(y_pred, true_y)\n",
    "logistic_nested_accuracy"
   ]
  },
  {
   "cell_type": "code",
   "execution_count": 106,
   "metadata": {},
   "outputs": [],
   "source": [
    "logistic_nested_metrics=pd.DataFrame(classification_report(y_pred, true_y, output_dict=True)).T.round(3)"
   ]
  },
  {
   "cell_type": "markdown",
   "metadata": {},
   "source": [
    "## SVM"
   ]
  },
  {
   "cell_type": "code",
   "execution_count": 107,
   "metadata": {},
   "outputs": [
    {
     "name": "stderr",
     "output_type": "stream",
     "text": [
      "[Parallel(n_jobs=-1)]: Using backend LokyBackend with 8 concurrent workers.\n"
     ]
    },
    {
     "name": "stdout",
     "output_type": "stream",
     "text": [
      "Fitting 5 folds for each of 50 candidates, totalling 250 fits\n"
     ]
    },
    {
     "name": "stderr",
     "output_type": "stream",
     "text": [
      "[Parallel(n_jobs=-1)]: Done 250 out of 250 | elapsed:    3.9s finished\n",
      "[Parallel(n_jobs=-1)]: Using backend LokyBackend with 8 concurrent workers.\n"
     ]
    },
    {
     "name": "stdout",
     "output_type": "stream",
     "text": [
      "Fitting 5 folds for each of 50 candidates, totalling 250 fits\n"
     ]
    },
    {
     "name": "stderr",
     "output_type": "stream",
     "text": [
      "[Parallel(n_jobs=-1)]: Done  34 tasks      | elapsed:    6.1s\n",
      "[Parallel(n_jobs=-1)]: Done 184 tasks      | elapsed:   25.7s\n",
      "[Parallel(n_jobs=-1)]: Done 250 out of 250 | elapsed:   37.7s finished\n"
     ]
    },
    {
     "name": "stdout",
     "output_type": "stream",
     "text": [
      "Fitting 5 folds for each of 50 candidates, totalling 250 fits\n"
     ]
    },
    {
     "name": "stderr",
     "output_type": "stream",
     "text": [
      "[Parallel(n_jobs=-1)]: Using backend LokyBackend with 8 concurrent workers.\n",
      "[Parallel(n_jobs=-1)]: Done  34 tasks      | elapsed:    3.7s\n",
      "[Parallel(n_jobs=-1)]: Done 184 tasks      | elapsed:   20.7s\n",
      "[Parallel(n_jobs=-1)]: Done 250 out of 250 | elapsed:  1.0min finished\n"
     ]
    }
   ],
   "source": [
    "# \"Easy model\"\n",
    "model = SVC()\n",
    "grid = {'C': np.logspace(-0,5,5), 'kernel': ['sigmoid', 'rbf'], 'gamma': np.logspace(-5,0,5)} \n",
    "svm_easy_cv = GridSearchCV(model, grid, cv=kfold, verbose = 1,n_jobs = -1,return_train_score=True)\n",
    "svm_easy_cv.fit(X_tr_easy, y_tr_easy)\n",
    "svm_easy = SVC(**svm_easy_cv.best_params_, random_state=0)\n",
    "\n",
    "start_time = time.time()\n",
    "svm_easy.fit(X_tr_easy, y_tr_easy)\n",
    "svm_2nd_train_time = time.time() - start_time\n",
    "\n",
    "# \"Middle model\"\n",
    "model = SVC()\n",
    "grid = {'C': np.logspace(-0,5,5), 'kernel': ['sigmoid', 'rbf'], 'gamma': np.logspace(-5,0,5)} \n",
    "svm_middle_cv = GridSearchCV(model, grid, cv=kfold, verbose = 1,n_jobs = -1,return_train_score=True)\n",
    "svm_middle_cv.fit(X_tr_middle, y_tr_middle)\n",
    "svm_middle = SVC(**svm_middle_cv.best_params_, random_state=0)\n",
    "\n",
    "start_time = time.time()\n",
    "svm_middle.fit(X_tr_middle, y_tr_middle)\n",
    "svm_2nd_train_time = svm_2nd_train_time + time.time() - start_time\n",
    "\n",
    "# \"Hard model\"\n",
    "model = SVC()\n",
    "grid = {'C': np.logspace(-0,5,5), 'kernel': ['sigmoid', 'rbf'], 'gamma': np.logspace(-5,0,5)} \n",
    "svm_hard_cv = GridSearchCV(model, grid, cv=kfold, verbose = 1,n_jobs = -1,return_train_score=True)\n",
    "svm_hard_cv.fit(X_tr_hard, y_tr_hard)\n",
    "svm_hard = SVC(**svm_hard_cv.best_params_, random_state=0)\n",
    "\n",
    "start_time = time.time()\n",
    "svm_hard.fit(X_tr_hard, y_tr_hard)\n",
    "svm_2nd_train_time = svm_2nd_train_time + time.time() - start_time"
   ]
  },
  {
   "cell_type": "code",
   "execution_count": 108,
   "metadata": {},
   "outputs": [],
   "source": [
    "y_pred = np.concatenate([svm_easy.predict(X_te_easy), svm_middle.predict(X_te_middle), svm_hard.predict(X_te_hard)])\n",
    "true_y = np.concatenate([y_te_easy, y_te_middle, y_te_hard])"
   ]
  },
  {
   "cell_type": "code",
   "execution_count": 109,
   "metadata": {},
   "outputs": [
    {
     "data": {
      "text/plain": [
       "0.7333333333333333"
      ]
     },
     "execution_count": 109,
     "metadata": {},
     "output_type": "execute_result"
    }
   ],
   "source": [
    "svm_nested_accuracy = accuracy_score(y_pred, true_y)\n",
    "svm_nested_accuracy"
   ]
  },
  {
   "cell_type": "code",
   "execution_count": 110,
   "metadata": {},
   "outputs": [],
   "source": [
    "svm_nested_metrics=pd.DataFrame(classification_report(y_pred, true_y, output_dict=True)).T.round(3)"
   ]
  },
  {
   "cell_type": "markdown",
   "metadata": {},
   "source": [
    "## Random Forest"
   ]
  },
  {
   "cell_type": "code",
   "execution_count": 111,
   "metadata": {},
   "outputs": [
    {
     "name": "stdout",
     "output_type": "stream",
     "text": [
      "Fitting 5 folds for each of 30 candidates, totalling 150 fits\n"
     ]
    },
    {
     "name": "stderr",
     "output_type": "stream",
     "text": [
      "[Parallel(n_jobs=-1)]: Using backend LokyBackend with 8 concurrent workers.\n",
      "[Parallel(n_jobs=-1)]: Done 150 out of 150 | elapsed:   19.1s finished\n",
      "[Parallel(n_jobs=-1)]: Using backend LokyBackend with 8 concurrent workers.\n"
     ]
    },
    {
     "name": "stdout",
     "output_type": "stream",
     "text": [
      "Fitting 5 folds for each of 30 candidates, totalling 150 fits\n"
     ]
    },
    {
     "name": "stderr",
     "output_type": "stream",
     "text": [
      "[Parallel(n_jobs=-1)]: Done  78 tasks      | elapsed:   22.5s\n",
      "[Parallel(n_jobs=-1)]: Done 150 out of 150 | elapsed:   47.4s finished\n"
     ]
    },
    {
     "name": "stdout",
     "output_type": "stream",
     "text": [
      "Fitting 5 folds for each of 30 candidates, totalling 150 fits\n"
     ]
    },
    {
     "name": "stderr",
     "output_type": "stream",
     "text": [
      "[Parallel(n_jobs=-1)]: Using backend LokyBackend with 8 concurrent workers.\n",
      "[Parallel(n_jobs=-1)]: Done 150 out of 150 | elapsed:   44.6s finished\n"
     ]
    }
   ],
   "source": [
    "# \"Easy model\"\n",
    "model = RandomForestClassifier()\n",
    "grid = {'n_estimators': [20,100,500,750,1000], 'max_depth': [5,10,20,50,75,100]} \n",
    "rf_easy_cv = GridSearchCV(model, grid, cv=kfold, verbose = 1,n_jobs = -1,return_train_score=True)\n",
    "rf_easy_cv.fit(X_tr_easy, y_tr_easy)\n",
    "rf_easy = RandomForestClassifier(**rf_easy_cv.best_params_, random_state=0)\n",
    "\n",
    "start_time = time.time()\n",
    "rf_easy.fit(X_tr_easy, y_tr_easy)\n",
    "rf_2nd_train_time = time.time() - start_time\n",
    "\n",
    "# \"Middle model\"\n",
    "model = RandomForestClassifier()\n",
    "grid = {'n_estimators': [20,100,500,750,1000], 'max_depth': [5,10,20,50,75,100]} \n",
    "rf_middle_cv = GridSearchCV(model, grid, cv=kfold, verbose = 1,n_jobs = -1,return_train_score=True)\n",
    "rf_middle_cv.fit(X_tr_middle, y_tr_middle)\n",
    "rf_middle = RandomForestClassifier(**rf_middle_cv.best_params_, random_state=0)\n",
    "\n",
    "start_time = time.time()\n",
    "rf_middle.fit(X_tr_middle, y_tr_middle)\n",
    "rf_2nd_train_time = rf_2nd_train_time + time.time() - start_time\n",
    "\n",
    "# \"Hard model\"\n",
    "model = RandomForestClassifier()\n",
    "grid = {'n_estimators': [20,100,500,750,1000], 'max_depth': [5,10,20,50,75,100]} \n",
    "rf_hard_cv = GridSearchCV(model, grid, cv=kfold, verbose = 1,n_jobs = -1,return_train_score=True)\n",
    "rf_hard_cv.fit(X_tr_hard, y_tr_hard)\n",
    "rf_hard = RandomForestClassifier(**rf_hard_cv.best_params_, random_state=0)\n",
    "\n",
    "start_time = time.time()\n",
    "rf_hard.fit(X_tr_hard, y_tr_hard)\n",
    "rf_2nd_train_time = rf_2nd_train_time + time.time() - start_time"
   ]
  },
  {
   "cell_type": "code",
   "execution_count": 112,
   "metadata": {},
   "outputs": [],
   "source": [
    "y_pred = np.concatenate([rf_easy.predict(X_te_easy), rf_middle.predict(X_te_middle), rf_hard.predict(X_te_hard)])\n",
    "true_y = np.concatenate([y_te_easy, y_te_middle, y_te_hard])"
   ]
  },
  {
   "cell_type": "code",
   "execution_count": 113,
   "metadata": {},
   "outputs": [
    {
     "data": {
      "text/plain": [
       "0.7188888888888889"
      ]
     },
     "execution_count": 113,
     "metadata": {},
     "output_type": "execute_result"
    }
   ],
   "source": [
    "rf_nested_accuracy = accuracy_score(y_pred, true_y)\n",
    "rf_nested_accuracy "
   ]
  },
  {
   "cell_type": "code",
   "execution_count": 114,
   "metadata": {},
   "outputs": [],
   "source": [
    "rf_nested_metrics=pd.DataFrame(classification_report(y_pred, true_y, output_dict=True)).T.round(3)"
   ]
  },
  {
   "cell_type": "markdown",
   "metadata": {},
   "source": [
    "## Neural network"
   ]
  },
  {
   "cell_type": "code",
   "execution_count": 115,
   "metadata": {},
   "outputs": [
    {
     "name": "stdout",
     "output_type": "stream",
     "text": [
      "Fitting 5 folds for each of 120 candidates, totalling 600 fits\n"
     ]
    },
    {
     "name": "stderr",
     "output_type": "stream",
     "text": [
      "[Parallel(n_jobs=-1)]: Using backend LokyBackend with 8 concurrent workers.\n",
      "[Parallel(n_jobs=-1)]: Done  52 tasks      | elapsed:    1.0s\n",
      "[Parallel(n_jobs=-1)]: Done 352 tasks      | elapsed:    5.9s\n",
      "[Parallel(n_jobs=-1)]: Done 600 out of 600 | elapsed:   11.6s finished\n",
      "[Parallel(n_jobs=-1)]: Using backend LokyBackend with 8 concurrent workers.\n"
     ]
    },
    {
     "name": "stdout",
     "output_type": "stream",
     "text": [
      "Fitting 5 folds for each of 120 candidates, totalling 600 fits\n"
     ]
    },
    {
     "name": "stderr",
     "output_type": "stream",
     "text": [
      "[Parallel(n_jobs=-1)]: Done  34 tasks      | elapsed:    3.8s\n",
      "[Parallel(n_jobs=-1)]: Done 184 tasks      | elapsed:   24.3s\n",
      "[Parallel(n_jobs=-1)]: Done 434 tasks      | elapsed:   45.2s\n",
      "[Parallel(n_jobs=-1)]: Done 600 out of 600 | elapsed:   55.5s finished\n"
     ]
    },
    {
     "name": "stdout",
     "output_type": "stream",
     "text": [
      "Fitting 5 folds for each of 120 candidates, totalling 600 fits\n"
     ]
    },
    {
     "name": "stderr",
     "output_type": "stream",
     "text": [
      "[Parallel(n_jobs=-1)]: Using backend LokyBackend with 8 concurrent workers.\n",
      "[Parallel(n_jobs=-1)]: Done  52 tasks      | elapsed:    3.7s\n",
      "[Parallel(n_jobs=-1)]: Done 214 tasks      | elapsed:   14.8s\n",
      "[Parallel(n_jobs=-1)]: Done 464 tasks      | elapsed:   29.1s\n",
      "[Parallel(n_jobs=-1)]: Done 600 out of 600 | elapsed:   35.5s finished\n"
     ]
    }
   ],
   "source": [
    "# \"Easy model\"\n",
    "model = MLPClassifier()\n",
    "grid = {'hidden_layer_sizes': [5,10,15,20,50,100],\n",
    "        'alpha': np.logspace(-5,5,5),\n",
    "        'solver': ['adam', 'sgd'],\n",
    "        'activation': ['logistic', 'relu'],\n",
    "        'early_stopping': [True]\n",
    "       } \n",
    "nnet_easy_cv = GridSearchCV(model, grid, cv=kfold, verbose = 1,n_jobs = -1,return_train_score=True)\n",
    "nnet_easy_cv.fit(X_tr_easy, y_tr_easy)\n",
    "nnet_easy = MLPClassifier(**nnet_easy_cv.best_params_, random_state=0)\n",
    "\n",
    "start_time = time.time()\n",
    "nnet_easy.fit(X_tr_easy, y_tr_easy)\n",
    "nnet_2nd_train_time = time.time() - start_time\n",
    "\n",
    "# \"Middle model\"\n",
    "model = MLPClassifier()\n",
    "grid = {'hidden_layer_sizes': [5,10,15,20,50,100],\n",
    "        'alpha': np.logspace(-5,5,5),\n",
    "        'solver': ['adam', 'sgd'],\n",
    "        'activation': ['logistic', 'relu'],\n",
    "        'early_stopping': [True]\n",
    "       } \n",
    "nnet_middle_cv = GridSearchCV(model, grid, cv=kfold, verbose = 1,n_jobs = -1,return_train_score=True)\n",
    "nnet_middle_cv.fit(X_tr_middle, y_tr_middle)\n",
    "nnet_middle = MLPClassifier(**nnet_middle_cv.best_params_, random_state=0)\n",
    "\n",
    "start_time = time.time()\n",
    "nnet_middle.fit(X_tr_middle, y_tr_middle)\n",
    "nnet_2nd_train_time = nnet_2nd_train_time + time.time() - start_time\n",
    "\n",
    "# \"Hard model\"\n",
    "model = MLPClassifier()\n",
    "grid = {'hidden_layer_sizes': [5,10,15,20,50,100],\n",
    "        'alpha': np.logspace(-5,5,5),\n",
    "        'solver': ['adam', 'sgd'],\n",
    "        'activation': ['logistic', 'relu'],\n",
    "        'early_stopping': [True]\n",
    "       } \n",
    "nnet_hard_cv = GridSearchCV(model, grid, cv=kfold, verbose = 1,n_jobs = -1,return_train_score=True)\n",
    "nnet_hard_cv.fit(X_tr_hard, y_tr_hard)\n",
    "nnet_hard = MLPClassifier(**nnet_hard_cv.best_params_, random_state=0)\n",
    "\n",
    "start_time = time.time()\n",
    "nnet_hard.fit(X_tr_hard, y_tr_hard)\n",
    "nnet_2nd_train_time = nnet_2nd_train_time + time.time() - start_time\n",
    "\n"
   ]
  },
  {
   "cell_type": "code",
   "execution_count": 116,
   "metadata": {},
   "outputs": [],
   "source": [
    "y_pred = np.concatenate([nnet_easy.predict(X_te_easy), nnet_middle.predict(X_te_middle), nnet_hard.predict(X_te_hard)])\n",
    "true_y = np.concatenate([y_te_easy, y_te_middle, y_te_hard])"
   ]
  },
  {
   "cell_type": "code",
   "execution_count": 117,
   "metadata": {},
   "outputs": [
    {
     "data": {
      "text/plain": [
       "0.71"
      ]
     },
     "execution_count": 117,
     "metadata": {},
     "output_type": "execute_result"
    }
   ],
   "source": [
    "nnet_nested_accuracy=accuracy_score(y_pred, true_y)\n",
    "nnet_nested_accuracy"
   ]
  },
  {
   "cell_type": "code",
   "execution_count": 118,
   "metadata": {},
   "outputs": [],
   "source": [
    "nnet_nested_metrics=pd.DataFrame(classification_report(y_pred, true_y, output_dict=True)).T.round(3)"
   ]
  },
  {
   "cell_type": "markdown",
   "metadata": {},
   "source": [
    "# Results"
   ]
  },
  {
   "cell_type": "code",
   "execution_count": 119,
   "metadata": {},
   "outputs": [],
   "source": [
    "logistic_nested_scores_avg=list(logistic_nested_metrics.loc['weighted avg',:])[:3]\n",
    "logistic_nested_scores_blitz=list(logistic_nested_metrics.loc['blitz',:])\n",
    "rf_nested_scores_avg=list(rf_nested_metrics.loc['weighted avg',:])[:3]\n",
    "rf_nested_scores_blitz=list(rf_nested_metrics.loc['blitz',:])\n",
    "svm_nested_scores_avg=list(svm_nested_metrics.loc['weighted avg',:])[:3]\n",
    "svm_nested_scores_blitz=list(svm_nested_metrics.loc['blitz',:])\n",
    "nnet_nested_scores_avg=list(logistic_nested_metrics.loc['weighted avg',:])[:3]\n",
    "nnet_nested_scores_blitz=list(logistic_nested_metrics.loc['blitz',:])"
   ]
  },
  {
   "cell_type": "code",
   "execution_count": 120,
   "metadata": {},
   "outputs": [],
   "source": [
    "# total train time = train time in the first iteration + sum of all training time for all 3 subsets in the 2nd iteration\n",
    "logistic_nested_train_time = svm_train_time + logistic_2nd_train_time\n",
    "rf_nested_train_time = svm_train_time + rf_2nd_train_time\n",
    "svm_nested_train_time = svm_train_time + svm_2nd_train_time\n",
    "nnet_nested_train_time = svm_train_time + nnet_2nd_train_time"
   ]
  },
  {
   "cell_type": "code",
   "execution_count": 123,
   "metadata": {},
   "outputs": [
    {
     "data": {
      "text/html": [
       "<div>\n",
       "<style scoped>\n",
       "    .dataframe tbody tr th:only-of-type {\n",
       "        vertical-align: middle;\n",
       "    }\n",
       "\n",
       "    .dataframe tbody tr th {\n",
       "        vertical-align: top;\n",
       "    }\n",
       "\n",
       "    .dataframe thead th {\n",
       "        text-align: right;\n",
       "    }\n",
       "</style>\n",
       "<table border=\"1\" class=\"dataframe\">\n",
       "  <thead>\n",
       "    <tr style=\"text-align: right;\">\n",
       "      <th></th>\n",
       "      <th>Accuracy</th>\n",
       "      <th>Training time</th>\n",
       "      <th>f1_avg</th>\n",
       "      <th>precision_avg</th>\n",
       "      <th>recall_avg</th>\n",
       "      <th>f1_blitz</th>\n",
       "      <th>precision_blitz</th>\n",
       "      <th>recall_blitz</th>\n",
       "      <th>support_blitz</th>\n",
       "    </tr>\n",
       "  </thead>\n",
       "  <tbody>\n",
       "    <tr>\n",
       "      <th>SVM</th>\n",
       "      <td>0.733</td>\n",
       "      <td>58.900</td>\n",
       "      <td>0.734</td>\n",
       "      <td>0.743</td>\n",
       "      <td>0.733</td>\n",
       "      <td>0.468</td>\n",
       "      <td>0.52</td>\n",
       "      <td>0.426</td>\n",
       "      <td>122.0</td>\n",
       "    </tr>\n",
       "    <tr>\n",
       "      <th>logistic</th>\n",
       "      <td>0.728</td>\n",
       "      <td>58.402</td>\n",
       "      <td>0.726</td>\n",
       "      <td>0.728</td>\n",
       "      <td>0.728</td>\n",
       "      <td>0.459</td>\n",
       "      <td>0.50</td>\n",
       "      <td>0.424</td>\n",
       "      <td>118.0</td>\n",
       "    </tr>\n",
       "    <tr>\n",
       "      <th>random forest</th>\n",
       "      <td>0.719</td>\n",
       "      <td>62.176</td>\n",
       "      <td>0.719</td>\n",
       "      <td>0.723</td>\n",
       "      <td>0.719</td>\n",
       "      <td>0.719</td>\n",
       "      <td>0.54</td>\n",
       "      <td>0.422</td>\n",
       "      <td>128.0</td>\n",
       "    </tr>\n",
       "    <tr>\n",
       "      <th>NN</th>\n",
       "      <td>0.710</td>\n",
       "      <td>58.930</td>\n",
       "      <td>0.726</td>\n",
       "      <td>0.728</td>\n",
       "      <td>0.728</td>\n",
       "      <td>0.459</td>\n",
       "      <td>0.50</td>\n",
       "      <td>0.424</td>\n",
       "      <td>118.0</td>\n",
       "    </tr>\n",
       "  </tbody>\n",
       "</table>\n",
       "</div>"
      ],
      "text/plain": [
       "               Accuracy  Training time  f1_avg  precision_avg  recall_avg  \\\n",
       "SVM               0.733         58.900   0.734          0.743       0.733   \n",
       "logistic          0.728         58.402   0.726          0.728       0.728   \n",
       "random forest     0.719         62.176   0.719          0.723       0.719   \n",
       "NN                0.710         58.930   0.726          0.728       0.728   \n",
       "\n",
       "               f1_blitz  precision_blitz  recall_blitz  support_blitz  \n",
       "SVM               0.468             0.52         0.426          122.0  \n",
       "logistic          0.459             0.50         0.424          118.0  \n",
       "random forest     0.719             0.54         0.422          128.0  \n",
       "NN                0.459             0.50         0.424          118.0  "
      ]
     },
     "execution_count": 123,
     "metadata": {},
     "output_type": "execute_result"
    }
   ],
   "source": [
    "results_nested_0=pd.DataFrame({\n",
    "              'logistic': [logistic_nested_accuracy, logistic_nested_train_time, logistic_nested_scores_avg[0], logistic_nested_scores_avg[1], logistic_nested_scores_avg[2], logistic_nested_scores_blitz[0], logistic_nested_scores_blitz[1], logistic_nested_scores_blitz[2], logistic_nested_scores_blitz[3]],\n",
    "              'random forest': [rf_nested_accuracy, rf_nested_train_time, rf_nested_scores_avg[0], rf_nested_scores_avg[1], rf_nested_scores_avg[2], rf_nested_scores_avg[0], rf_nested_scores_blitz[1], rf_nested_scores_blitz[2], rf_nested_scores_blitz[3]],\n",
    "              'SVM': [svm_nested_accuracy, svm_nested_train_time, svm_nested_scores_avg[0], svm_nested_scores_avg[1], svm_nested_scores_avg[2], svm_nested_scores_blitz[0], svm_nested_scores_blitz[1], svm_nested_scores_blitz[2], svm_nested_scores_blitz[3]],\n",
    "              'NN': [nnet_nested_accuracy, nnet_nested_train_time, nnet_nested_scores_avg[0], nnet_nested_scores_avg[1], nnet_nested_scores_avg[2], nnet_nested_scores_blitz[0], nnet_nested_scores_blitz[1], nnet_nested_scores_blitz[2], nnet_nested_scores_blitz[3]],\n",
    "}, index = ['Accuracy', 'Training time', 'f1_avg', 'precision_avg', 'recall_avg', 'f1_blitz', 'precision_blitz', 'recall_blitz', 'support_blitz']).round(3).T.sort_values('Accuracy', ascending=False)\n",
    "results_nested_0"
   ]
  },
  {
   "cell_type": "code",
   "execution_count": 124,
   "metadata": {},
   "outputs": [],
   "source": [
    "results_nested_0.to_pickle('datasets/results_nested_0')"
   ]
  },
  {
   "cell_type": "markdown",
   "metadata": {},
   "source": [
    "Unfortunatelly, in this first iteration, the results are far from being good compared to what we had before.  \n",
    "The training time looks very similar for all of the models. This comes from the first iteration where the SVM models has a quite high computation time. This could be reduced by using another model for the first iteration, but would not solve the accuracy problems that we observe. This idea will not be further explored.  \n",
    "\n",
    "However, these results are obtain after a \"random\" split of the variants into the 3 groups easy/middle/hard.  \n",
    "In the jupyter notebooks \"2.3.X Capsone project - Nested (Copy ...).ipynb\", we test other groups of variants to create the 3 subsets."
   ]
  },
  {
   "cell_type": "code",
   "execution_count": null,
   "metadata": {},
   "outputs": [],
   "source": []
  }
 ],
 "metadata": {
  "kernelspec": {
   "display_name": "Python 3",
   "language": "python",
   "name": "python3"
  },
  "language_info": {
   "codemirror_mode": {
    "name": "ipython",
    "version": 3
   },
   "file_extension": ".py",
   "mimetype": "text/x-python",
   "name": "python",
   "nbconvert_exporter": "python",
   "pygments_lexer": "ipython3",
   "version": "3.6.9"
  }
 },
 "nbformat": 4,
 "nbformat_minor": 4
}
